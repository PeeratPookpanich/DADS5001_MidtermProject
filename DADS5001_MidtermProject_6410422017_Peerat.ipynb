{
  "nbformat": 4,
  "nbformat_minor": 0,
  "metadata": {
    "colab": {
      "name": "DADS5001_MidtermProject_6410422017_Peerat.ipynb",
      "provenance": [],
      "collapsed_sections": [],
      "include_colab_link": true
    },
    "kernelspec": {
      "name": "python3",
      "display_name": "Python 3"
    },
    "language_info": {
      "name": "python"
    }
  },
  "cells": [
    {
      "cell_type": "markdown",
      "metadata": {
        "id": "view-in-github",
        "colab_type": "text"
      },
      "source": [
        "<a href=\"https://colab.research.google.com/github/PeeratPookpanich/DADS5001_MidtermProject/blob/main/DADS5001_MidtermProject_6410422017_Peerat.ipynb\" target=\"_parent\"><img src=\"https://colab.research.google.com/assets/colab-badge.svg\" alt=\"Open In Colab\"/></a>"
      ]
    },
    {
      "cell_type": "markdown",
      "source": [
        "# Covid-19 Analysis : DADS5001 6410422017 Peerat Pookpanich"
      ],
      "metadata": {
        "id": "MjTKVm7OG1Sx"
      }
    },
    {
      "cell_type": "markdown",
      "source": [
        "Content (Data Science Pipeline)\n",
        "- Import Data\n",
        "- Clean Data\n",
        "- Exploratory Data Analysis (EDA)\n",
        "- Insight From Data"
      ],
      "metadata": {
        "id": "A2LacQGHYfwV"
      }
    },
    {
      "cell_type": "markdown",
      "source": [
        "# Import Data"
      ],
      "metadata": {
        "id": "yUamx3IYG98y"
      }
    },
    {
      "cell_type": "markdown",
      "source": [
        "## Mount Google Drive for Import Data"
      ],
      "metadata": {
        "id": "NwFEqxPPGsAB"
      }
    },
    {
      "cell_type": "code",
      "source": [
        "from google.colab import drive\n",
        "drive.mount('/content/drive')"
      ],
      "metadata": {
        "id": "mi2GlIyIZ9MT",
        "colab": {
          "base_uri": "https://localhost:8080/"
        },
        "outputId": "56cc254c-87f1-4d70-c008-8bcdc51edf1a"
      },
      "execution_count": null,
      "outputs": [
        {
          "output_type": "stream",
          "name": "stdout",
          "text": [
            "Drive already mounted at /content/drive; to attempt to forcibly remount, call drive.mount(\"/content/drive\", force_remount=True).\n"
          ]
        }
      ]
    },
    {
      "cell_type": "markdown",
      "source": [
        "## Import pandas library for import and manipulate data"
      ],
      "metadata": {
        "id": "k7e2nrueHF6y"
      }
    },
    {
      "cell_type": "code",
      "execution_count": null,
      "metadata": {
        "id": "BBWGBiCkMxLe"
      },
      "outputs": [],
      "source": [
        "import pandas as pd\n",
        "import numpy as np"
      ]
    },
    {
      "cell_type": "markdown",
      "source": [
        "## Import Covid-19 datasets ( Jan 2020 - March 2022 )\n",
        "\n",
        "https://data.go.th/dataset/covid-19-daily"
      ],
      "metadata": {
        "id": "zCPa0oo8HXeq"
      }
    },
    {
      "cell_type": "code",
      "source": [
        "covid1 = pd.read_csv(\"/content/drive/MyDrive/DADS5001_MidtermProject/confirmed-cases.csv\")"
      ],
      "metadata": {
        "id": "YrtSA_GEEnFE"
      },
      "execution_count": null,
      "outputs": []
    },
    {
      "cell_type": "code",
      "source": [
        "covid2 = pd.read_csv(\"/content/drive/MyDrive/DADS5001_MidtermProject/confirmed-cases-since-120864.csv\")"
      ],
      "metadata": {
        "id": "TBPKQm-DH6Q1"
      },
      "execution_count": null,
      "outputs": []
    },
    {
      "cell_type": "code",
      "source": [
        "covid3 = pd.read_csv(\"/content/drive/MyDrive/DADS5001_MidtermProject/confirmed-cases-since-271064.csv\")"
      ],
      "metadata": {
        "id": "5zRl1FBrhDQ3",
        "colab": {
          "base_uri": "https://localhost:8080/"
        },
        "outputId": "eaf283b4-214b-4da1-c99e-d0b9fdc9f3f2"
      },
      "execution_count": null,
      "outputs": [
        {
          "output_type": "stream",
          "name": "stderr",
          "text": [
            "/usr/local/lib/python3.7/dist-packages/IPython/core/interactiveshell.py:2882: DtypeWarning: Columns (4) have mixed types.Specify dtype option on import or set low_memory=False.\n",
            "  exec(code_obj, self.user_global_ns, self.user_ns)\n"
          ]
        }
      ]
    },
    {
      "cell_type": "code",
      "source": [
        "covid4 = pd.read_csv(\"/content/drive/MyDrive/DADS5001_MidtermProject/confirmed-cases-since-280265.csv\")"
      ],
      "metadata": {
        "id": "SmQeYhOZhDwU"
      },
      "execution_count": null,
      "outputs": []
    },
    {
      "cell_type": "markdown",
      "source": [
        "## Explore Datasets"
      ],
      "metadata": {
        "id": "XepYUC6hO2qW"
      }
    },
    {
      "cell_type": "code",
      "source": [
        "covid1.head()"
      ],
      "metadata": {
        "colab": {
          "base_uri": "https://localhost:8080/",
          "height": 206
        },
        "id": "_4Uq_URkE9NJ",
        "outputId": "61a6e9b7-7b22-4856-8563-09244bcc5c3d"
      },
      "execution_count": null,
      "outputs": [
        {
          "output_type": "execute_result",
          "data": {
            "text/plain": [
              "   No. announce_date Notified date   sex   age Unit nationality  \\\n",
              "0    1    2020-01-12           NaN  หญิง  61.0   ปี       China   \n",
              "1    2    2020-01-17           NaN  หญิง  74.0   ปี       China   \n",
              "2    3    2020-01-22           NaN  หญิง  73.0   ปี    Thailand   \n",
              "3    4    2020-01-22           NaN   ชาย  68.0   ปี       China   \n",
              "4    5    2020-01-24           NaN  หญิง  66.0   ปี       China   \n",
              "\n",
              "  province_of_isolation                              risk province_of_onset  \\\n",
              "0         กรุงเทพมหานคร  คนต่างชาติเดินทางมาจากต่างประเทศ     กรุงเทพมหานคร   \n",
              "1         กรุงเทพมหานคร  คนต่างชาติเดินทางมาจากต่างประเทศ     กรุงเทพมหานคร   \n",
              "2                นครปฐม  คนต่างชาติเดินทางมาจากต่างประเทศ            นครปฐม   \n",
              "3         กรุงเทพมหานคร  คนต่างชาติเดินทางมาจากต่างประเทศ     กรุงเทพมหานคร   \n",
              "4               นนทบุรี  คนต่างชาติเดินทางมาจากต่างประเทศ     กรุงเทพมหานคร   \n",
              "\n",
              "  district_of_onset  \n",
              "0               NaN  \n",
              "1               NaN  \n",
              "2             เมือง  \n",
              "3               NaN  \n",
              "4               NaN  "
            ],
            "text/html": [
              "\n",
              "  <div id=\"df-a70ab1ba-bc61-4bc6-a609-23c1bc01bb77\">\n",
              "    <div class=\"colab-df-container\">\n",
              "      <div>\n",
              "<style scoped>\n",
              "    .dataframe tbody tr th:only-of-type {\n",
              "        vertical-align: middle;\n",
              "    }\n",
              "\n",
              "    .dataframe tbody tr th {\n",
              "        vertical-align: top;\n",
              "    }\n",
              "\n",
              "    .dataframe thead th {\n",
              "        text-align: right;\n",
              "    }\n",
              "</style>\n",
              "<table border=\"1\" class=\"dataframe\">\n",
              "  <thead>\n",
              "    <tr style=\"text-align: right;\">\n",
              "      <th></th>\n",
              "      <th>No.</th>\n",
              "      <th>announce_date</th>\n",
              "      <th>Notified date</th>\n",
              "      <th>sex</th>\n",
              "      <th>age</th>\n",
              "      <th>Unit</th>\n",
              "      <th>nationality</th>\n",
              "      <th>province_of_isolation</th>\n",
              "      <th>risk</th>\n",
              "      <th>province_of_onset</th>\n",
              "      <th>district_of_onset</th>\n",
              "    </tr>\n",
              "  </thead>\n",
              "  <tbody>\n",
              "    <tr>\n",
              "      <th>0</th>\n",
              "      <td>1</td>\n",
              "      <td>2020-01-12</td>\n",
              "      <td>NaN</td>\n",
              "      <td>หญิง</td>\n",
              "      <td>61.0</td>\n",
              "      <td>ปี</td>\n",
              "      <td>China</td>\n",
              "      <td>กรุงเทพมหานคร</td>\n",
              "      <td>คนต่างชาติเดินทางมาจากต่างประเทศ</td>\n",
              "      <td>กรุงเทพมหานคร</td>\n",
              "      <td>NaN</td>\n",
              "    </tr>\n",
              "    <tr>\n",
              "      <th>1</th>\n",
              "      <td>2</td>\n",
              "      <td>2020-01-17</td>\n",
              "      <td>NaN</td>\n",
              "      <td>หญิง</td>\n",
              "      <td>74.0</td>\n",
              "      <td>ปี</td>\n",
              "      <td>China</td>\n",
              "      <td>กรุงเทพมหานคร</td>\n",
              "      <td>คนต่างชาติเดินทางมาจากต่างประเทศ</td>\n",
              "      <td>กรุงเทพมหานคร</td>\n",
              "      <td>NaN</td>\n",
              "    </tr>\n",
              "    <tr>\n",
              "      <th>2</th>\n",
              "      <td>3</td>\n",
              "      <td>2020-01-22</td>\n",
              "      <td>NaN</td>\n",
              "      <td>หญิง</td>\n",
              "      <td>73.0</td>\n",
              "      <td>ปี</td>\n",
              "      <td>Thailand</td>\n",
              "      <td>นครปฐม</td>\n",
              "      <td>คนต่างชาติเดินทางมาจากต่างประเทศ</td>\n",
              "      <td>นครปฐม</td>\n",
              "      <td>เมือง</td>\n",
              "    </tr>\n",
              "    <tr>\n",
              "      <th>3</th>\n",
              "      <td>4</td>\n",
              "      <td>2020-01-22</td>\n",
              "      <td>NaN</td>\n",
              "      <td>ชาย</td>\n",
              "      <td>68.0</td>\n",
              "      <td>ปี</td>\n",
              "      <td>China</td>\n",
              "      <td>กรุงเทพมหานคร</td>\n",
              "      <td>คนต่างชาติเดินทางมาจากต่างประเทศ</td>\n",
              "      <td>กรุงเทพมหานคร</td>\n",
              "      <td>NaN</td>\n",
              "    </tr>\n",
              "    <tr>\n",
              "      <th>4</th>\n",
              "      <td>5</td>\n",
              "      <td>2020-01-24</td>\n",
              "      <td>NaN</td>\n",
              "      <td>หญิง</td>\n",
              "      <td>66.0</td>\n",
              "      <td>ปี</td>\n",
              "      <td>China</td>\n",
              "      <td>นนทบุรี</td>\n",
              "      <td>คนต่างชาติเดินทางมาจากต่างประเทศ</td>\n",
              "      <td>กรุงเทพมหานคร</td>\n",
              "      <td>NaN</td>\n",
              "    </tr>\n",
              "  </tbody>\n",
              "</table>\n",
              "</div>\n",
              "      <button class=\"colab-df-convert\" onclick=\"convertToInteractive('df-a70ab1ba-bc61-4bc6-a609-23c1bc01bb77')\"\n",
              "              title=\"Convert this dataframe to an interactive table.\"\n",
              "              style=\"display:none;\">\n",
              "        \n",
              "  <svg xmlns=\"http://www.w3.org/2000/svg\" height=\"24px\"viewBox=\"0 0 24 24\"\n",
              "       width=\"24px\">\n",
              "    <path d=\"M0 0h24v24H0V0z\" fill=\"none\"/>\n",
              "    <path d=\"M18.56 5.44l.94 2.06.94-2.06 2.06-.94-2.06-.94-.94-2.06-.94 2.06-2.06.94zm-11 1L8.5 8.5l.94-2.06 2.06-.94-2.06-.94L8.5 2.5l-.94 2.06-2.06.94zm10 10l.94 2.06.94-2.06 2.06-.94-2.06-.94-.94-2.06-.94 2.06-2.06.94z\"/><path d=\"M17.41 7.96l-1.37-1.37c-.4-.4-.92-.59-1.43-.59-.52 0-1.04.2-1.43.59L10.3 9.45l-7.72 7.72c-.78.78-.78 2.05 0 2.83L4 21.41c.39.39.9.59 1.41.59.51 0 1.02-.2 1.41-.59l7.78-7.78 2.81-2.81c.8-.78.8-2.07 0-2.86zM5.41 20L4 18.59l7.72-7.72 1.47 1.35L5.41 20z\"/>\n",
              "  </svg>\n",
              "      </button>\n",
              "      \n",
              "  <style>\n",
              "    .colab-df-container {\n",
              "      display:flex;\n",
              "      flex-wrap:wrap;\n",
              "      gap: 12px;\n",
              "    }\n",
              "\n",
              "    .colab-df-convert {\n",
              "      background-color: #E8F0FE;\n",
              "      border: none;\n",
              "      border-radius: 50%;\n",
              "      cursor: pointer;\n",
              "      display: none;\n",
              "      fill: #1967D2;\n",
              "      height: 32px;\n",
              "      padding: 0 0 0 0;\n",
              "      width: 32px;\n",
              "    }\n",
              "\n",
              "    .colab-df-convert:hover {\n",
              "      background-color: #E2EBFA;\n",
              "      box-shadow: 0px 1px 2px rgba(60, 64, 67, 0.3), 0px 1px 3px 1px rgba(60, 64, 67, 0.15);\n",
              "      fill: #174EA6;\n",
              "    }\n",
              "\n",
              "    [theme=dark] .colab-df-convert {\n",
              "      background-color: #3B4455;\n",
              "      fill: #D2E3FC;\n",
              "    }\n",
              "\n",
              "    [theme=dark] .colab-df-convert:hover {\n",
              "      background-color: #434B5C;\n",
              "      box-shadow: 0px 1px 3px 1px rgba(0, 0, 0, 0.15);\n",
              "      filter: drop-shadow(0px 1px 2px rgba(0, 0, 0, 0.3));\n",
              "      fill: #FFFFFF;\n",
              "    }\n",
              "  </style>\n",
              "\n",
              "      <script>\n",
              "        const buttonEl =\n",
              "          document.querySelector('#df-a70ab1ba-bc61-4bc6-a609-23c1bc01bb77 button.colab-df-convert');\n",
              "        buttonEl.style.display =\n",
              "          google.colab.kernel.accessAllowed ? 'block' : 'none';\n",
              "\n",
              "        async function convertToInteractive(key) {\n",
              "          const element = document.querySelector('#df-a70ab1ba-bc61-4bc6-a609-23c1bc01bb77');\n",
              "          const dataTable =\n",
              "            await google.colab.kernel.invokeFunction('convertToInteractive',\n",
              "                                                     [key], {});\n",
              "          if (!dataTable) return;\n",
              "\n",
              "          const docLinkHtml = 'Like what you see? Visit the ' +\n",
              "            '<a target=\"_blank\" href=https://colab.research.google.com/notebooks/data_table.ipynb>data table notebook</a>'\n",
              "            + ' to learn more about interactive tables.';\n",
              "          element.innerHTML = '';\n",
              "          dataTable['output_type'] = 'display_data';\n",
              "          await google.colab.output.renderOutput(dataTable, element);\n",
              "          const docLink = document.createElement('div');\n",
              "          docLink.innerHTML = docLinkHtml;\n",
              "          element.appendChild(docLink);\n",
              "        }\n",
              "      </script>\n",
              "    </div>\n",
              "  </div>\n",
              "  "
            ]
          },
          "metadata": {},
          "execution_count": 7
        }
      ]
    },
    {
      "cell_type": "code",
      "source": [
        "covid1['announce_date'] = pd.to_datetime(covid1['announce_date'], format = '%Y-%m-%d')"
      ],
      "metadata": {
        "id": "U3XUN69GE-O4"
      },
      "execution_count": null,
      "outputs": []
    },
    {
      "cell_type": "code",
      "source": [
        "covid1.head()"
      ],
      "metadata": {
        "colab": {
          "base_uri": "https://localhost:8080/",
          "height": 206
        },
        "id": "Raba8V4XFJTv",
        "outputId": "00828c2c-d765-4b1e-875d-a2e21fc1bde0"
      },
      "execution_count": null,
      "outputs": [
        {
          "output_type": "execute_result",
          "data": {
            "text/plain": [
              "   No. announce_date Notified date   sex   age Unit nationality  \\\n",
              "0    1    2020-01-12           NaN  หญิง  61.0   ปี       China   \n",
              "1    2    2020-01-17           NaN  หญิง  74.0   ปี       China   \n",
              "2    3    2020-01-22           NaN  หญิง  73.0   ปี    Thailand   \n",
              "3    4    2020-01-22           NaN   ชาย  68.0   ปี       China   \n",
              "4    5    2020-01-24           NaN  หญิง  66.0   ปี       China   \n",
              "\n",
              "  province_of_isolation                              risk province_of_onset  \\\n",
              "0         กรุงเทพมหานคร  คนต่างชาติเดินทางมาจากต่างประเทศ     กรุงเทพมหานคร   \n",
              "1         กรุงเทพมหานคร  คนต่างชาติเดินทางมาจากต่างประเทศ     กรุงเทพมหานคร   \n",
              "2                นครปฐม  คนต่างชาติเดินทางมาจากต่างประเทศ            นครปฐม   \n",
              "3         กรุงเทพมหานคร  คนต่างชาติเดินทางมาจากต่างประเทศ     กรุงเทพมหานคร   \n",
              "4               นนทบุรี  คนต่างชาติเดินทางมาจากต่างประเทศ     กรุงเทพมหานคร   \n",
              "\n",
              "  district_of_onset  \n",
              "0               NaN  \n",
              "1               NaN  \n",
              "2             เมือง  \n",
              "3               NaN  \n",
              "4               NaN  "
            ],
            "text/html": [
              "\n",
              "  <div id=\"df-86979b32-384c-4456-bd54-abb44ae3d32c\">\n",
              "    <div class=\"colab-df-container\">\n",
              "      <div>\n",
              "<style scoped>\n",
              "    .dataframe tbody tr th:only-of-type {\n",
              "        vertical-align: middle;\n",
              "    }\n",
              "\n",
              "    .dataframe tbody tr th {\n",
              "        vertical-align: top;\n",
              "    }\n",
              "\n",
              "    .dataframe thead th {\n",
              "        text-align: right;\n",
              "    }\n",
              "</style>\n",
              "<table border=\"1\" class=\"dataframe\">\n",
              "  <thead>\n",
              "    <tr style=\"text-align: right;\">\n",
              "      <th></th>\n",
              "      <th>No.</th>\n",
              "      <th>announce_date</th>\n",
              "      <th>Notified date</th>\n",
              "      <th>sex</th>\n",
              "      <th>age</th>\n",
              "      <th>Unit</th>\n",
              "      <th>nationality</th>\n",
              "      <th>province_of_isolation</th>\n",
              "      <th>risk</th>\n",
              "      <th>province_of_onset</th>\n",
              "      <th>district_of_onset</th>\n",
              "    </tr>\n",
              "  </thead>\n",
              "  <tbody>\n",
              "    <tr>\n",
              "      <th>0</th>\n",
              "      <td>1</td>\n",
              "      <td>2020-01-12</td>\n",
              "      <td>NaN</td>\n",
              "      <td>หญิง</td>\n",
              "      <td>61.0</td>\n",
              "      <td>ปี</td>\n",
              "      <td>China</td>\n",
              "      <td>กรุงเทพมหานคร</td>\n",
              "      <td>คนต่างชาติเดินทางมาจากต่างประเทศ</td>\n",
              "      <td>กรุงเทพมหานคร</td>\n",
              "      <td>NaN</td>\n",
              "    </tr>\n",
              "    <tr>\n",
              "      <th>1</th>\n",
              "      <td>2</td>\n",
              "      <td>2020-01-17</td>\n",
              "      <td>NaN</td>\n",
              "      <td>หญิง</td>\n",
              "      <td>74.0</td>\n",
              "      <td>ปี</td>\n",
              "      <td>China</td>\n",
              "      <td>กรุงเทพมหานคร</td>\n",
              "      <td>คนต่างชาติเดินทางมาจากต่างประเทศ</td>\n",
              "      <td>กรุงเทพมหานคร</td>\n",
              "      <td>NaN</td>\n",
              "    </tr>\n",
              "    <tr>\n",
              "      <th>2</th>\n",
              "      <td>3</td>\n",
              "      <td>2020-01-22</td>\n",
              "      <td>NaN</td>\n",
              "      <td>หญิง</td>\n",
              "      <td>73.0</td>\n",
              "      <td>ปี</td>\n",
              "      <td>Thailand</td>\n",
              "      <td>นครปฐม</td>\n",
              "      <td>คนต่างชาติเดินทางมาจากต่างประเทศ</td>\n",
              "      <td>นครปฐม</td>\n",
              "      <td>เมือง</td>\n",
              "    </tr>\n",
              "    <tr>\n",
              "      <th>3</th>\n",
              "      <td>4</td>\n",
              "      <td>2020-01-22</td>\n",
              "      <td>NaN</td>\n",
              "      <td>ชาย</td>\n",
              "      <td>68.0</td>\n",
              "      <td>ปี</td>\n",
              "      <td>China</td>\n",
              "      <td>กรุงเทพมหานคร</td>\n",
              "      <td>คนต่างชาติเดินทางมาจากต่างประเทศ</td>\n",
              "      <td>กรุงเทพมหานคร</td>\n",
              "      <td>NaN</td>\n",
              "    </tr>\n",
              "    <tr>\n",
              "      <th>4</th>\n",
              "      <td>5</td>\n",
              "      <td>2020-01-24</td>\n",
              "      <td>NaN</td>\n",
              "      <td>หญิง</td>\n",
              "      <td>66.0</td>\n",
              "      <td>ปี</td>\n",
              "      <td>China</td>\n",
              "      <td>นนทบุรี</td>\n",
              "      <td>คนต่างชาติเดินทางมาจากต่างประเทศ</td>\n",
              "      <td>กรุงเทพมหานคร</td>\n",
              "      <td>NaN</td>\n",
              "    </tr>\n",
              "  </tbody>\n",
              "</table>\n",
              "</div>\n",
              "      <button class=\"colab-df-convert\" onclick=\"convertToInteractive('df-86979b32-384c-4456-bd54-abb44ae3d32c')\"\n",
              "              title=\"Convert this dataframe to an interactive table.\"\n",
              "              style=\"display:none;\">\n",
              "        \n",
              "  <svg xmlns=\"http://www.w3.org/2000/svg\" height=\"24px\"viewBox=\"0 0 24 24\"\n",
              "       width=\"24px\">\n",
              "    <path d=\"M0 0h24v24H0V0z\" fill=\"none\"/>\n",
              "    <path d=\"M18.56 5.44l.94 2.06.94-2.06 2.06-.94-2.06-.94-.94-2.06-.94 2.06-2.06.94zm-11 1L8.5 8.5l.94-2.06 2.06-.94-2.06-.94L8.5 2.5l-.94 2.06-2.06.94zm10 10l.94 2.06.94-2.06 2.06-.94-2.06-.94-.94-2.06-.94 2.06-2.06.94z\"/><path d=\"M17.41 7.96l-1.37-1.37c-.4-.4-.92-.59-1.43-.59-.52 0-1.04.2-1.43.59L10.3 9.45l-7.72 7.72c-.78.78-.78 2.05 0 2.83L4 21.41c.39.39.9.59 1.41.59.51 0 1.02-.2 1.41-.59l7.78-7.78 2.81-2.81c.8-.78.8-2.07 0-2.86zM5.41 20L4 18.59l7.72-7.72 1.47 1.35L5.41 20z\"/>\n",
              "  </svg>\n",
              "      </button>\n",
              "      \n",
              "  <style>\n",
              "    .colab-df-container {\n",
              "      display:flex;\n",
              "      flex-wrap:wrap;\n",
              "      gap: 12px;\n",
              "    }\n",
              "\n",
              "    .colab-df-convert {\n",
              "      background-color: #E8F0FE;\n",
              "      border: none;\n",
              "      border-radius: 50%;\n",
              "      cursor: pointer;\n",
              "      display: none;\n",
              "      fill: #1967D2;\n",
              "      height: 32px;\n",
              "      padding: 0 0 0 0;\n",
              "      width: 32px;\n",
              "    }\n",
              "\n",
              "    .colab-df-convert:hover {\n",
              "      background-color: #E2EBFA;\n",
              "      box-shadow: 0px 1px 2px rgba(60, 64, 67, 0.3), 0px 1px 3px 1px rgba(60, 64, 67, 0.15);\n",
              "      fill: #174EA6;\n",
              "    }\n",
              "\n",
              "    [theme=dark] .colab-df-convert {\n",
              "      background-color: #3B4455;\n",
              "      fill: #D2E3FC;\n",
              "    }\n",
              "\n",
              "    [theme=dark] .colab-df-convert:hover {\n",
              "      background-color: #434B5C;\n",
              "      box-shadow: 0px 1px 3px 1px rgba(0, 0, 0, 0.15);\n",
              "      filter: drop-shadow(0px 1px 2px rgba(0, 0, 0, 0.3));\n",
              "      fill: #FFFFFF;\n",
              "    }\n",
              "  </style>\n",
              "\n",
              "      <script>\n",
              "        const buttonEl =\n",
              "          document.querySelector('#df-86979b32-384c-4456-bd54-abb44ae3d32c button.colab-df-convert');\n",
              "        buttonEl.style.display =\n",
              "          google.colab.kernel.accessAllowed ? 'block' : 'none';\n",
              "\n",
              "        async function convertToInteractive(key) {\n",
              "          const element = document.querySelector('#df-86979b32-384c-4456-bd54-abb44ae3d32c');\n",
              "          const dataTable =\n",
              "            await google.colab.kernel.invokeFunction('convertToInteractive',\n",
              "                                                     [key], {});\n",
              "          if (!dataTable) return;\n",
              "\n",
              "          const docLinkHtml = 'Like what you see? Visit the ' +\n",
              "            '<a target=\"_blank\" href=https://colab.research.google.com/notebooks/data_table.ipynb>data table notebook</a>'\n",
              "            + ' to learn more about interactive tables.';\n",
              "          element.innerHTML = '';\n",
              "          dataTable['output_type'] = 'display_data';\n",
              "          await google.colab.output.renderOutput(dataTable, element);\n",
              "          const docLink = document.createElement('div');\n",
              "          docLink.innerHTML = docLinkHtml;\n",
              "          element.appendChild(docLink);\n",
              "        }\n",
              "      </script>\n",
              "    </div>\n",
              "  </div>\n",
              "  "
            ]
          },
          "metadata": {},
          "execution_count": 9
        }
      ]
    },
    {
      "cell_type": "code",
      "source": [
        "covid2.head()"
      ],
      "metadata": {
        "colab": {
          "base_uri": "https://localhost:8080/",
          "height": 206
        },
        "id": "yHdp6NOKUctD",
        "outputId": "074ee79f-0e00-48de-87f8-20a273e742a9"
      },
      "execution_count": null,
      "outputs": [
        {
          "output_type": "execute_result",
          "data": {
            "text/plain": [
              "      No. announce_date Notified date   sex   age Unit nationality  \\\n",
              "0  816990     12/8/2021     11/8/2021   ชาย   7.0   ปี    Thailand   \n",
              "1  816991     12/8/2021     11/8/2021   ชาย   1.0   ปี    Thailand   \n",
              "2  816992     12/8/2021     11/8/2021   ชาย  35.0   ปี    Thailand   \n",
              "3  816993     12/8/2021     11/8/2021  หญิง  33.0   ปี    Thailand   \n",
              "4  816994     12/8/2021     11/8/2021  หญิง  14.0   ปี    Thailand   \n",
              "\n",
              "  province_of_isolation                                         risk  \\\n",
              "0              เชียงราย                                        อื่นๆ   \n",
              "1              เชียงราย                                        อื่นๆ   \n",
              "2              เชียงราย                                        อื่นๆ   \n",
              "3              เชียงราย                                        อื่นๆ   \n",
              "4              เชียงราย  สัมผัสใกล้ชิดกับผู้ป่วยยืนยันรายก่อนหน้านี้   \n",
              "\n",
              "  province_of_onset district_of_onset  \n",
              "0               NaN               NaN  \n",
              "1               NaN               NaN  \n",
              "2               NaN               NaN  \n",
              "3               NaN               NaN  \n",
              "4               NaN               NaN  "
            ],
            "text/html": [
              "\n",
              "  <div id=\"df-6eb5a54b-b53c-47d0-bd22-4902f440f556\">\n",
              "    <div class=\"colab-df-container\">\n",
              "      <div>\n",
              "<style scoped>\n",
              "    .dataframe tbody tr th:only-of-type {\n",
              "        vertical-align: middle;\n",
              "    }\n",
              "\n",
              "    .dataframe tbody tr th {\n",
              "        vertical-align: top;\n",
              "    }\n",
              "\n",
              "    .dataframe thead th {\n",
              "        text-align: right;\n",
              "    }\n",
              "</style>\n",
              "<table border=\"1\" class=\"dataframe\">\n",
              "  <thead>\n",
              "    <tr style=\"text-align: right;\">\n",
              "      <th></th>\n",
              "      <th>No.</th>\n",
              "      <th>announce_date</th>\n",
              "      <th>Notified date</th>\n",
              "      <th>sex</th>\n",
              "      <th>age</th>\n",
              "      <th>Unit</th>\n",
              "      <th>nationality</th>\n",
              "      <th>province_of_isolation</th>\n",
              "      <th>risk</th>\n",
              "      <th>province_of_onset</th>\n",
              "      <th>district_of_onset</th>\n",
              "    </tr>\n",
              "  </thead>\n",
              "  <tbody>\n",
              "    <tr>\n",
              "      <th>0</th>\n",
              "      <td>816990</td>\n",
              "      <td>12/8/2021</td>\n",
              "      <td>11/8/2021</td>\n",
              "      <td>ชาย</td>\n",
              "      <td>7.0</td>\n",
              "      <td>ปี</td>\n",
              "      <td>Thailand</td>\n",
              "      <td>เชียงราย</td>\n",
              "      <td>อื่นๆ</td>\n",
              "      <td>NaN</td>\n",
              "      <td>NaN</td>\n",
              "    </tr>\n",
              "    <tr>\n",
              "      <th>1</th>\n",
              "      <td>816991</td>\n",
              "      <td>12/8/2021</td>\n",
              "      <td>11/8/2021</td>\n",
              "      <td>ชาย</td>\n",
              "      <td>1.0</td>\n",
              "      <td>ปี</td>\n",
              "      <td>Thailand</td>\n",
              "      <td>เชียงราย</td>\n",
              "      <td>อื่นๆ</td>\n",
              "      <td>NaN</td>\n",
              "      <td>NaN</td>\n",
              "    </tr>\n",
              "    <tr>\n",
              "      <th>2</th>\n",
              "      <td>816992</td>\n",
              "      <td>12/8/2021</td>\n",
              "      <td>11/8/2021</td>\n",
              "      <td>ชาย</td>\n",
              "      <td>35.0</td>\n",
              "      <td>ปี</td>\n",
              "      <td>Thailand</td>\n",
              "      <td>เชียงราย</td>\n",
              "      <td>อื่นๆ</td>\n",
              "      <td>NaN</td>\n",
              "      <td>NaN</td>\n",
              "    </tr>\n",
              "    <tr>\n",
              "      <th>3</th>\n",
              "      <td>816993</td>\n",
              "      <td>12/8/2021</td>\n",
              "      <td>11/8/2021</td>\n",
              "      <td>หญิง</td>\n",
              "      <td>33.0</td>\n",
              "      <td>ปี</td>\n",
              "      <td>Thailand</td>\n",
              "      <td>เชียงราย</td>\n",
              "      <td>อื่นๆ</td>\n",
              "      <td>NaN</td>\n",
              "      <td>NaN</td>\n",
              "    </tr>\n",
              "    <tr>\n",
              "      <th>4</th>\n",
              "      <td>816994</td>\n",
              "      <td>12/8/2021</td>\n",
              "      <td>11/8/2021</td>\n",
              "      <td>หญิง</td>\n",
              "      <td>14.0</td>\n",
              "      <td>ปี</td>\n",
              "      <td>Thailand</td>\n",
              "      <td>เชียงราย</td>\n",
              "      <td>สัมผัสใกล้ชิดกับผู้ป่วยยืนยันรายก่อนหน้านี้</td>\n",
              "      <td>NaN</td>\n",
              "      <td>NaN</td>\n",
              "    </tr>\n",
              "  </tbody>\n",
              "</table>\n",
              "</div>\n",
              "      <button class=\"colab-df-convert\" onclick=\"convertToInteractive('df-6eb5a54b-b53c-47d0-bd22-4902f440f556')\"\n",
              "              title=\"Convert this dataframe to an interactive table.\"\n",
              "              style=\"display:none;\">\n",
              "        \n",
              "  <svg xmlns=\"http://www.w3.org/2000/svg\" height=\"24px\"viewBox=\"0 0 24 24\"\n",
              "       width=\"24px\">\n",
              "    <path d=\"M0 0h24v24H0V0z\" fill=\"none\"/>\n",
              "    <path d=\"M18.56 5.44l.94 2.06.94-2.06 2.06-.94-2.06-.94-.94-2.06-.94 2.06-2.06.94zm-11 1L8.5 8.5l.94-2.06 2.06-.94-2.06-.94L8.5 2.5l-.94 2.06-2.06.94zm10 10l.94 2.06.94-2.06 2.06-.94-2.06-.94-.94-2.06-.94 2.06-2.06.94z\"/><path d=\"M17.41 7.96l-1.37-1.37c-.4-.4-.92-.59-1.43-.59-.52 0-1.04.2-1.43.59L10.3 9.45l-7.72 7.72c-.78.78-.78 2.05 0 2.83L4 21.41c.39.39.9.59 1.41.59.51 0 1.02-.2 1.41-.59l7.78-7.78 2.81-2.81c.8-.78.8-2.07 0-2.86zM5.41 20L4 18.59l7.72-7.72 1.47 1.35L5.41 20z\"/>\n",
              "  </svg>\n",
              "      </button>\n",
              "      \n",
              "  <style>\n",
              "    .colab-df-container {\n",
              "      display:flex;\n",
              "      flex-wrap:wrap;\n",
              "      gap: 12px;\n",
              "    }\n",
              "\n",
              "    .colab-df-convert {\n",
              "      background-color: #E8F0FE;\n",
              "      border: none;\n",
              "      border-radius: 50%;\n",
              "      cursor: pointer;\n",
              "      display: none;\n",
              "      fill: #1967D2;\n",
              "      height: 32px;\n",
              "      padding: 0 0 0 0;\n",
              "      width: 32px;\n",
              "    }\n",
              "\n",
              "    .colab-df-convert:hover {\n",
              "      background-color: #E2EBFA;\n",
              "      box-shadow: 0px 1px 2px rgba(60, 64, 67, 0.3), 0px 1px 3px 1px rgba(60, 64, 67, 0.15);\n",
              "      fill: #174EA6;\n",
              "    }\n",
              "\n",
              "    [theme=dark] .colab-df-convert {\n",
              "      background-color: #3B4455;\n",
              "      fill: #D2E3FC;\n",
              "    }\n",
              "\n",
              "    [theme=dark] .colab-df-convert:hover {\n",
              "      background-color: #434B5C;\n",
              "      box-shadow: 0px 1px 3px 1px rgba(0, 0, 0, 0.15);\n",
              "      filter: drop-shadow(0px 1px 2px rgba(0, 0, 0, 0.3));\n",
              "      fill: #FFFFFF;\n",
              "    }\n",
              "  </style>\n",
              "\n",
              "      <script>\n",
              "        const buttonEl =\n",
              "          document.querySelector('#df-6eb5a54b-b53c-47d0-bd22-4902f440f556 button.colab-df-convert');\n",
              "        buttonEl.style.display =\n",
              "          google.colab.kernel.accessAllowed ? 'block' : 'none';\n",
              "\n",
              "        async function convertToInteractive(key) {\n",
              "          const element = document.querySelector('#df-6eb5a54b-b53c-47d0-bd22-4902f440f556');\n",
              "          const dataTable =\n",
              "            await google.colab.kernel.invokeFunction('convertToInteractive',\n",
              "                                                     [key], {});\n",
              "          if (!dataTable) return;\n",
              "\n",
              "          const docLinkHtml = 'Like what you see? Visit the ' +\n",
              "            '<a target=\"_blank\" href=https://colab.research.google.com/notebooks/data_table.ipynb>data table notebook</a>'\n",
              "            + ' to learn more about interactive tables.';\n",
              "          element.innerHTML = '';\n",
              "          dataTable['output_type'] = 'display_data';\n",
              "          await google.colab.output.renderOutput(dataTable, element);\n",
              "          const docLink = document.createElement('div');\n",
              "          docLink.innerHTML = docLinkHtml;\n",
              "          element.appendChild(docLink);\n",
              "        }\n",
              "      </script>\n",
              "    </div>\n",
              "  </div>\n",
              "  "
            ]
          },
          "metadata": {},
          "execution_count": 10
        }
      ]
    },
    {
      "cell_type": "markdown",
      "source": [
        "Convert date time format and data type"
      ],
      "metadata": {
        "id": "Vbzh6Cr-xvq1"
      }
    },
    {
      "cell_type": "code",
      "source": [
        "covid2['announce_date'] = pd.to_datetime(covid2['announce_date'], format = '%d/%m/%Y')"
      ],
      "metadata": {
        "id": "tq04BM28vmyN"
      },
      "execution_count": null,
      "outputs": []
    },
    {
      "cell_type": "code",
      "source": [
        "covid2.head()"
      ],
      "metadata": {
        "colab": {
          "base_uri": "https://localhost:8080/",
          "height": 206
        },
        "id": "WME51Q5rw6H9",
        "outputId": "2daa96e8-6d49-422d-f9ba-0095bb98313a"
      },
      "execution_count": null,
      "outputs": [
        {
          "output_type": "execute_result",
          "data": {
            "text/plain": [
              "      No. announce_date Notified date   sex   age Unit nationality  \\\n",
              "0  816990    2021-08-12     11/8/2021   ชาย   7.0   ปี    Thailand   \n",
              "1  816991    2021-08-12     11/8/2021   ชาย   1.0   ปี    Thailand   \n",
              "2  816992    2021-08-12     11/8/2021   ชาย  35.0   ปี    Thailand   \n",
              "3  816993    2021-08-12     11/8/2021  หญิง  33.0   ปี    Thailand   \n",
              "4  816994    2021-08-12     11/8/2021  หญิง  14.0   ปี    Thailand   \n",
              "\n",
              "  province_of_isolation                                         risk  \\\n",
              "0              เชียงราย                                        อื่นๆ   \n",
              "1              เชียงราย                                        อื่นๆ   \n",
              "2              เชียงราย                                        อื่นๆ   \n",
              "3              เชียงราย                                        อื่นๆ   \n",
              "4              เชียงราย  สัมผัสใกล้ชิดกับผู้ป่วยยืนยันรายก่อนหน้านี้   \n",
              "\n",
              "  province_of_onset district_of_onset  \n",
              "0               NaN               NaN  \n",
              "1               NaN               NaN  \n",
              "2               NaN               NaN  \n",
              "3               NaN               NaN  \n",
              "4               NaN               NaN  "
            ],
            "text/html": [
              "\n",
              "  <div id=\"df-cb428e20-69fd-4f0d-a4de-fd0d0a4e703b\">\n",
              "    <div class=\"colab-df-container\">\n",
              "      <div>\n",
              "<style scoped>\n",
              "    .dataframe tbody tr th:only-of-type {\n",
              "        vertical-align: middle;\n",
              "    }\n",
              "\n",
              "    .dataframe tbody tr th {\n",
              "        vertical-align: top;\n",
              "    }\n",
              "\n",
              "    .dataframe thead th {\n",
              "        text-align: right;\n",
              "    }\n",
              "</style>\n",
              "<table border=\"1\" class=\"dataframe\">\n",
              "  <thead>\n",
              "    <tr style=\"text-align: right;\">\n",
              "      <th></th>\n",
              "      <th>No.</th>\n",
              "      <th>announce_date</th>\n",
              "      <th>Notified date</th>\n",
              "      <th>sex</th>\n",
              "      <th>age</th>\n",
              "      <th>Unit</th>\n",
              "      <th>nationality</th>\n",
              "      <th>province_of_isolation</th>\n",
              "      <th>risk</th>\n",
              "      <th>province_of_onset</th>\n",
              "      <th>district_of_onset</th>\n",
              "    </tr>\n",
              "  </thead>\n",
              "  <tbody>\n",
              "    <tr>\n",
              "      <th>0</th>\n",
              "      <td>816990</td>\n",
              "      <td>2021-08-12</td>\n",
              "      <td>11/8/2021</td>\n",
              "      <td>ชาย</td>\n",
              "      <td>7.0</td>\n",
              "      <td>ปี</td>\n",
              "      <td>Thailand</td>\n",
              "      <td>เชียงราย</td>\n",
              "      <td>อื่นๆ</td>\n",
              "      <td>NaN</td>\n",
              "      <td>NaN</td>\n",
              "    </tr>\n",
              "    <tr>\n",
              "      <th>1</th>\n",
              "      <td>816991</td>\n",
              "      <td>2021-08-12</td>\n",
              "      <td>11/8/2021</td>\n",
              "      <td>ชาย</td>\n",
              "      <td>1.0</td>\n",
              "      <td>ปี</td>\n",
              "      <td>Thailand</td>\n",
              "      <td>เชียงราย</td>\n",
              "      <td>อื่นๆ</td>\n",
              "      <td>NaN</td>\n",
              "      <td>NaN</td>\n",
              "    </tr>\n",
              "    <tr>\n",
              "      <th>2</th>\n",
              "      <td>816992</td>\n",
              "      <td>2021-08-12</td>\n",
              "      <td>11/8/2021</td>\n",
              "      <td>ชาย</td>\n",
              "      <td>35.0</td>\n",
              "      <td>ปี</td>\n",
              "      <td>Thailand</td>\n",
              "      <td>เชียงราย</td>\n",
              "      <td>อื่นๆ</td>\n",
              "      <td>NaN</td>\n",
              "      <td>NaN</td>\n",
              "    </tr>\n",
              "    <tr>\n",
              "      <th>3</th>\n",
              "      <td>816993</td>\n",
              "      <td>2021-08-12</td>\n",
              "      <td>11/8/2021</td>\n",
              "      <td>หญิง</td>\n",
              "      <td>33.0</td>\n",
              "      <td>ปี</td>\n",
              "      <td>Thailand</td>\n",
              "      <td>เชียงราย</td>\n",
              "      <td>อื่นๆ</td>\n",
              "      <td>NaN</td>\n",
              "      <td>NaN</td>\n",
              "    </tr>\n",
              "    <tr>\n",
              "      <th>4</th>\n",
              "      <td>816994</td>\n",
              "      <td>2021-08-12</td>\n",
              "      <td>11/8/2021</td>\n",
              "      <td>หญิง</td>\n",
              "      <td>14.0</td>\n",
              "      <td>ปี</td>\n",
              "      <td>Thailand</td>\n",
              "      <td>เชียงราย</td>\n",
              "      <td>สัมผัสใกล้ชิดกับผู้ป่วยยืนยันรายก่อนหน้านี้</td>\n",
              "      <td>NaN</td>\n",
              "      <td>NaN</td>\n",
              "    </tr>\n",
              "  </tbody>\n",
              "</table>\n",
              "</div>\n",
              "      <button class=\"colab-df-convert\" onclick=\"convertToInteractive('df-cb428e20-69fd-4f0d-a4de-fd0d0a4e703b')\"\n",
              "              title=\"Convert this dataframe to an interactive table.\"\n",
              "              style=\"display:none;\">\n",
              "        \n",
              "  <svg xmlns=\"http://www.w3.org/2000/svg\" height=\"24px\"viewBox=\"0 0 24 24\"\n",
              "       width=\"24px\">\n",
              "    <path d=\"M0 0h24v24H0V0z\" fill=\"none\"/>\n",
              "    <path d=\"M18.56 5.44l.94 2.06.94-2.06 2.06-.94-2.06-.94-.94-2.06-.94 2.06-2.06.94zm-11 1L8.5 8.5l.94-2.06 2.06-.94-2.06-.94L8.5 2.5l-.94 2.06-2.06.94zm10 10l.94 2.06.94-2.06 2.06-.94-2.06-.94-.94-2.06-.94 2.06-2.06.94z\"/><path d=\"M17.41 7.96l-1.37-1.37c-.4-.4-.92-.59-1.43-.59-.52 0-1.04.2-1.43.59L10.3 9.45l-7.72 7.72c-.78.78-.78 2.05 0 2.83L4 21.41c.39.39.9.59 1.41.59.51 0 1.02-.2 1.41-.59l7.78-7.78 2.81-2.81c.8-.78.8-2.07 0-2.86zM5.41 20L4 18.59l7.72-7.72 1.47 1.35L5.41 20z\"/>\n",
              "  </svg>\n",
              "      </button>\n",
              "      \n",
              "  <style>\n",
              "    .colab-df-container {\n",
              "      display:flex;\n",
              "      flex-wrap:wrap;\n",
              "      gap: 12px;\n",
              "    }\n",
              "\n",
              "    .colab-df-convert {\n",
              "      background-color: #E8F0FE;\n",
              "      border: none;\n",
              "      border-radius: 50%;\n",
              "      cursor: pointer;\n",
              "      display: none;\n",
              "      fill: #1967D2;\n",
              "      height: 32px;\n",
              "      padding: 0 0 0 0;\n",
              "      width: 32px;\n",
              "    }\n",
              "\n",
              "    .colab-df-convert:hover {\n",
              "      background-color: #E2EBFA;\n",
              "      box-shadow: 0px 1px 2px rgba(60, 64, 67, 0.3), 0px 1px 3px 1px rgba(60, 64, 67, 0.15);\n",
              "      fill: #174EA6;\n",
              "    }\n",
              "\n",
              "    [theme=dark] .colab-df-convert {\n",
              "      background-color: #3B4455;\n",
              "      fill: #D2E3FC;\n",
              "    }\n",
              "\n",
              "    [theme=dark] .colab-df-convert:hover {\n",
              "      background-color: #434B5C;\n",
              "      box-shadow: 0px 1px 3px 1px rgba(0, 0, 0, 0.15);\n",
              "      filter: drop-shadow(0px 1px 2px rgba(0, 0, 0, 0.3));\n",
              "      fill: #FFFFFF;\n",
              "    }\n",
              "  </style>\n",
              "\n",
              "      <script>\n",
              "        const buttonEl =\n",
              "          document.querySelector('#df-cb428e20-69fd-4f0d-a4de-fd0d0a4e703b button.colab-df-convert');\n",
              "        buttonEl.style.display =\n",
              "          google.colab.kernel.accessAllowed ? 'block' : 'none';\n",
              "\n",
              "        async function convertToInteractive(key) {\n",
              "          const element = document.querySelector('#df-cb428e20-69fd-4f0d-a4de-fd0d0a4e703b');\n",
              "          const dataTable =\n",
              "            await google.colab.kernel.invokeFunction('convertToInteractive',\n",
              "                                                     [key], {});\n",
              "          if (!dataTable) return;\n",
              "\n",
              "          const docLinkHtml = 'Like what you see? Visit the ' +\n",
              "            '<a target=\"_blank\" href=https://colab.research.google.com/notebooks/data_table.ipynb>data table notebook</a>'\n",
              "            + ' to learn more about interactive tables.';\n",
              "          element.innerHTML = '';\n",
              "          dataTable['output_type'] = 'display_data';\n",
              "          await google.colab.output.renderOutput(dataTable, element);\n",
              "          const docLink = document.createElement('div');\n",
              "          docLink.innerHTML = docLinkHtml;\n",
              "          element.appendChild(docLink);\n",
              "        }\n",
              "      </script>\n",
              "    </div>\n",
              "  </div>\n",
              "  "
            ]
          },
          "metadata": {},
          "execution_count": 12
        }
      ]
    },
    {
      "cell_type": "code",
      "source": [
        "covid2.info()"
      ],
      "metadata": {
        "colab": {
          "base_uri": "https://localhost:8080/"
        },
        "id": "NwsfWPdkICOm",
        "outputId": "07483e5e-6ca8-40df-9de9-abcc73d82442"
      },
      "execution_count": null,
      "outputs": [
        {
          "output_type": "stream",
          "name": "stdout",
          "text": [
            "<class 'pandas.core.frame.DataFrame'>\n",
            "RangeIndex: 1042168 entries, 0 to 1042167\n",
            "Data columns (total 11 columns):\n",
            " #   Column                 Non-Null Count    Dtype         \n",
            "---  ------                 --------------    -----         \n",
            " 0   No.                    1042168 non-null  int64         \n",
            " 1   announce_date          1042168 non-null  datetime64[ns]\n",
            " 2   Notified date          1042168 non-null  object        \n",
            " 3   sex                    994463 non-null   object        \n",
            " 4   age                    962171 non-null   float64       \n",
            " 5   Unit                   962168 non-null   object        \n",
            " 6   nationality            963132 non-null   object        \n",
            " 7   province_of_isolation  1042168 non-null  object        \n",
            " 8   risk                   1042168 non-null  object        \n",
            " 9   province_of_onset      897594 non-null   object        \n",
            " 10  district_of_onset      886221 non-null   object        \n",
            "dtypes: datetime64[ns](1), float64(1), int64(1), object(8)\n",
            "memory usage: 87.5+ MB\n"
          ]
        }
      ]
    },
    {
      "cell_type": "code",
      "source": [
        "covid3.head()"
      ],
      "metadata": {
        "colab": {
          "base_uri": "https://localhost:8080/",
          "height": 206
        },
        "id": "XIgjDtyEUfrT",
        "outputId": "c1d70164-2294-4b8d-8c1a-e08a4db1ec03"
      },
      "execution_count": null,
      "outputs": [
        {
          "output_type": "execute_result",
          "data": {
            "text/plain": [
              "       No. announce_date Notified date   sex   age Unit nationality  \\\n",
              "0  1859158    26/10/2021    25/10/2021   ชาย  20.0   ปี    Thailand   \n",
              "1  1859159    26/10/2021    25/10/2021  หญิง  42.0   ปี    Thailand   \n",
              "2  1859160    26/10/2021    25/10/2021  หญิง  33.0   ปี    Thailand   \n",
              "3  1859161    26/10/2021    25/10/2021  หญิง  52.0   ปี    Thailand   \n",
              "4  1859162    26/10/2021    25/10/2021  หญิง  84.0   ปี    Thailand   \n",
              "\n",
              "  province_of_isolation                                           risk  \\\n",
              "0                 ลำปาง                                          อื่นๆ   \n",
              "1                 ลำปาง                                          อื่นๆ   \n",
              "2                 ลำปาง  ไปสถานที่ชุมชน เช่น ตลาดนัด สถานที่ท่องเที่ยว   \n",
              "3                 ลำปาง  ไปสถานที่ชุมชน เช่น ตลาดนัด สถานที่ท่องเที่ยว   \n",
              "4                 ลำปาง    สัมผัสใกล้ชิดกับผู้ป่วยยืนยันรายก่อนหน้านี้   \n",
              "\n",
              "  province_of_onset district_of_onset  \n",
              "0             ลำปาง        เมืองลำปาง  \n",
              "1             ลำปาง        เมืองลำปาง  \n",
              "2             ลำปาง          ห้างฉัตร  \n",
              "3             ลำปาง          ห้างฉัตร  \n",
              "4             ลำปาง        เมืองลำปาง  "
            ],
            "text/html": [
              "\n",
              "  <div id=\"df-14076a20-d873-42f6-85fa-2c575da78053\">\n",
              "    <div class=\"colab-df-container\">\n",
              "      <div>\n",
              "<style scoped>\n",
              "    .dataframe tbody tr th:only-of-type {\n",
              "        vertical-align: middle;\n",
              "    }\n",
              "\n",
              "    .dataframe tbody tr th {\n",
              "        vertical-align: top;\n",
              "    }\n",
              "\n",
              "    .dataframe thead th {\n",
              "        text-align: right;\n",
              "    }\n",
              "</style>\n",
              "<table border=\"1\" class=\"dataframe\">\n",
              "  <thead>\n",
              "    <tr style=\"text-align: right;\">\n",
              "      <th></th>\n",
              "      <th>No.</th>\n",
              "      <th>announce_date</th>\n",
              "      <th>Notified date</th>\n",
              "      <th>sex</th>\n",
              "      <th>age</th>\n",
              "      <th>Unit</th>\n",
              "      <th>nationality</th>\n",
              "      <th>province_of_isolation</th>\n",
              "      <th>risk</th>\n",
              "      <th>province_of_onset</th>\n",
              "      <th>district_of_onset</th>\n",
              "    </tr>\n",
              "  </thead>\n",
              "  <tbody>\n",
              "    <tr>\n",
              "      <th>0</th>\n",
              "      <td>1859158</td>\n",
              "      <td>26/10/2021</td>\n",
              "      <td>25/10/2021</td>\n",
              "      <td>ชาย</td>\n",
              "      <td>20.0</td>\n",
              "      <td>ปี</td>\n",
              "      <td>Thailand</td>\n",
              "      <td>ลำปาง</td>\n",
              "      <td>อื่นๆ</td>\n",
              "      <td>ลำปาง</td>\n",
              "      <td>เมืองลำปาง</td>\n",
              "    </tr>\n",
              "    <tr>\n",
              "      <th>1</th>\n",
              "      <td>1859159</td>\n",
              "      <td>26/10/2021</td>\n",
              "      <td>25/10/2021</td>\n",
              "      <td>หญิง</td>\n",
              "      <td>42.0</td>\n",
              "      <td>ปี</td>\n",
              "      <td>Thailand</td>\n",
              "      <td>ลำปาง</td>\n",
              "      <td>อื่นๆ</td>\n",
              "      <td>ลำปาง</td>\n",
              "      <td>เมืองลำปาง</td>\n",
              "    </tr>\n",
              "    <tr>\n",
              "      <th>2</th>\n",
              "      <td>1859160</td>\n",
              "      <td>26/10/2021</td>\n",
              "      <td>25/10/2021</td>\n",
              "      <td>หญิง</td>\n",
              "      <td>33.0</td>\n",
              "      <td>ปี</td>\n",
              "      <td>Thailand</td>\n",
              "      <td>ลำปาง</td>\n",
              "      <td>ไปสถานที่ชุมชน เช่น ตลาดนัด สถานที่ท่องเที่ยว</td>\n",
              "      <td>ลำปาง</td>\n",
              "      <td>ห้างฉัตร</td>\n",
              "    </tr>\n",
              "    <tr>\n",
              "      <th>3</th>\n",
              "      <td>1859161</td>\n",
              "      <td>26/10/2021</td>\n",
              "      <td>25/10/2021</td>\n",
              "      <td>หญิง</td>\n",
              "      <td>52.0</td>\n",
              "      <td>ปี</td>\n",
              "      <td>Thailand</td>\n",
              "      <td>ลำปาง</td>\n",
              "      <td>ไปสถานที่ชุมชน เช่น ตลาดนัด สถานที่ท่องเที่ยว</td>\n",
              "      <td>ลำปาง</td>\n",
              "      <td>ห้างฉัตร</td>\n",
              "    </tr>\n",
              "    <tr>\n",
              "      <th>4</th>\n",
              "      <td>1859162</td>\n",
              "      <td>26/10/2021</td>\n",
              "      <td>25/10/2021</td>\n",
              "      <td>หญิง</td>\n",
              "      <td>84.0</td>\n",
              "      <td>ปี</td>\n",
              "      <td>Thailand</td>\n",
              "      <td>ลำปาง</td>\n",
              "      <td>สัมผัสใกล้ชิดกับผู้ป่วยยืนยันรายก่อนหน้านี้</td>\n",
              "      <td>ลำปาง</td>\n",
              "      <td>เมืองลำปาง</td>\n",
              "    </tr>\n",
              "  </tbody>\n",
              "</table>\n",
              "</div>\n",
              "      <button class=\"colab-df-convert\" onclick=\"convertToInteractive('df-14076a20-d873-42f6-85fa-2c575da78053')\"\n",
              "              title=\"Convert this dataframe to an interactive table.\"\n",
              "              style=\"display:none;\">\n",
              "        \n",
              "  <svg xmlns=\"http://www.w3.org/2000/svg\" height=\"24px\"viewBox=\"0 0 24 24\"\n",
              "       width=\"24px\">\n",
              "    <path d=\"M0 0h24v24H0V0z\" fill=\"none\"/>\n",
              "    <path d=\"M18.56 5.44l.94 2.06.94-2.06 2.06-.94-2.06-.94-.94-2.06-.94 2.06-2.06.94zm-11 1L8.5 8.5l.94-2.06 2.06-.94-2.06-.94L8.5 2.5l-.94 2.06-2.06.94zm10 10l.94 2.06.94-2.06 2.06-.94-2.06-.94-.94-2.06-.94 2.06-2.06.94z\"/><path d=\"M17.41 7.96l-1.37-1.37c-.4-.4-.92-.59-1.43-.59-.52 0-1.04.2-1.43.59L10.3 9.45l-7.72 7.72c-.78.78-.78 2.05 0 2.83L4 21.41c.39.39.9.59 1.41.59.51 0 1.02-.2 1.41-.59l7.78-7.78 2.81-2.81c.8-.78.8-2.07 0-2.86zM5.41 20L4 18.59l7.72-7.72 1.47 1.35L5.41 20z\"/>\n",
              "  </svg>\n",
              "      </button>\n",
              "      \n",
              "  <style>\n",
              "    .colab-df-container {\n",
              "      display:flex;\n",
              "      flex-wrap:wrap;\n",
              "      gap: 12px;\n",
              "    }\n",
              "\n",
              "    .colab-df-convert {\n",
              "      background-color: #E8F0FE;\n",
              "      border: none;\n",
              "      border-radius: 50%;\n",
              "      cursor: pointer;\n",
              "      display: none;\n",
              "      fill: #1967D2;\n",
              "      height: 32px;\n",
              "      padding: 0 0 0 0;\n",
              "      width: 32px;\n",
              "    }\n",
              "\n",
              "    .colab-df-convert:hover {\n",
              "      background-color: #E2EBFA;\n",
              "      box-shadow: 0px 1px 2px rgba(60, 64, 67, 0.3), 0px 1px 3px 1px rgba(60, 64, 67, 0.15);\n",
              "      fill: #174EA6;\n",
              "    }\n",
              "\n",
              "    [theme=dark] .colab-df-convert {\n",
              "      background-color: #3B4455;\n",
              "      fill: #D2E3FC;\n",
              "    }\n",
              "\n",
              "    [theme=dark] .colab-df-convert:hover {\n",
              "      background-color: #434B5C;\n",
              "      box-shadow: 0px 1px 3px 1px rgba(0, 0, 0, 0.15);\n",
              "      filter: drop-shadow(0px 1px 2px rgba(0, 0, 0, 0.3));\n",
              "      fill: #FFFFFF;\n",
              "    }\n",
              "  </style>\n",
              "\n",
              "      <script>\n",
              "        const buttonEl =\n",
              "          document.querySelector('#df-14076a20-d873-42f6-85fa-2c575da78053 button.colab-df-convert');\n",
              "        buttonEl.style.display =\n",
              "          google.colab.kernel.accessAllowed ? 'block' : 'none';\n",
              "\n",
              "        async function convertToInteractive(key) {\n",
              "          const element = document.querySelector('#df-14076a20-d873-42f6-85fa-2c575da78053');\n",
              "          const dataTable =\n",
              "            await google.colab.kernel.invokeFunction('convertToInteractive',\n",
              "                                                     [key], {});\n",
              "          if (!dataTable) return;\n",
              "\n",
              "          const docLinkHtml = 'Like what you see? Visit the ' +\n",
              "            '<a target=\"_blank\" href=https://colab.research.google.com/notebooks/data_table.ipynb>data table notebook</a>'\n",
              "            + ' to learn more about interactive tables.';\n",
              "          element.innerHTML = '';\n",
              "          dataTable['output_type'] = 'display_data';\n",
              "          await google.colab.output.renderOutput(dataTable, element);\n",
              "          const docLink = document.createElement('div');\n",
              "          docLink.innerHTML = docLinkHtml;\n",
              "          element.appendChild(docLink);\n",
              "        }\n",
              "      </script>\n",
              "    </div>\n",
              "  </div>\n",
              "  "
            ]
          },
          "metadata": {},
          "execution_count": 14
        }
      ]
    },
    {
      "cell_type": "markdown",
      "source": [
        "Convert date time format and data type"
      ],
      "metadata": {
        "id": "_EwBxCWKx3Ju"
      }
    },
    {
      "cell_type": "code",
      "source": [
        "covid3['announce_date'] = pd.to_datetime(covid3['announce_date'], format = '%d/%m/%Y')"
      ],
      "metadata": {
        "id": "HcqVVItMxExt"
      },
      "execution_count": null,
      "outputs": []
    },
    {
      "cell_type": "code",
      "source": [
        "covid3.head()"
      ],
      "metadata": {
        "colab": {
          "base_uri": "https://localhost:8080/",
          "height": 206
        },
        "id": "9t-BGybRxHpF",
        "outputId": "0e1c7254-bd1a-4844-cbc1-22ac25a6cf91"
      },
      "execution_count": null,
      "outputs": [
        {
          "output_type": "execute_result",
          "data": {
            "text/plain": [
              "       No. announce_date Notified date   sex   age Unit nationality  \\\n",
              "0  1859158    2021-10-26    25/10/2021   ชาย  20.0   ปี    Thailand   \n",
              "1  1859159    2021-10-26    25/10/2021  หญิง  42.0   ปี    Thailand   \n",
              "2  1859160    2021-10-26    25/10/2021  หญิง  33.0   ปี    Thailand   \n",
              "3  1859161    2021-10-26    25/10/2021  หญิง  52.0   ปี    Thailand   \n",
              "4  1859162    2021-10-26    25/10/2021  หญิง  84.0   ปี    Thailand   \n",
              "\n",
              "  province_of_isolation                                           risk  \\\n",
              "0                 ลำปาง                                          อื่นๆ   \n",
              "1                 ลำปาง                                          อื่นๆ   \n",
              "2                 ลำปาง  ไปสถานที่ชุมชน เช่น ตลาดนัด สถานที่ท่องเที่ยว   \n",
              "3                 ลำปาง  ไปสถานที่ชุมชน เช่น ตลาดนัด สถานที่ท่องเที่ยว   \n",
              "4                 ลำปาง    สัมผัสใกล้ชิดกับผู้ป่วยยืนยันรายก่อนหน้านี้   \n",
              "\n",
              "  province_of_onset district_of_onset  \n",
              "0             ลำปาง        เมืองลำปาง  \n",
              "1             ลำปาง        เมืองลำปาง  \n",
              "2             ลำปาง          ห้างฉัตร  \n",
              "3             ลำปาง          ห้างฉัตร  \n",
              "4             ลำปาง        เมืองลำปาง  "
            ],
            "text/html": [
              "\n",
              "  <div id=\"df-ed826158-da48-4968-9d94-96c31fcaab6c\">\n",
              "    <div class=\"colab-df-container\">\n",
              "      <div>\n",
              "<style scoped>\n",
              "    .dataframe tbody tr th:only-of-type {\n",
              "        vertical-align: middle;\n",
              "    }\n",
              "\n",
              "    .dataframe tbody tr th {\n",
              "        vertical-align: top;\n",
              "    }\n",
              "\n",
              "    .dataframe thead th {\n",
              "        text-align: right;\n",
              "    }\n",
              "</style>\n",
              "<table border=\"1\" class=\"dataframe\">\n",
              "  <thead>\n",
              "    <tr style=\"text-align: right;\">\n",
              "      <th></th>\n",
              "      <th>No.</th>\n",
              "      <th>announce_date</th>\n",
              "      <th>Notified date</th>\n",
              "      <th>sex</th>\n",
              "      <th>age</th>\n",
              "      <th>Unit</th>\n",
              "      <th>nationality</th>\n",
              "      <th>province_of_isolation</th>\n",
              "      <th>risk</th>\n",
              "      <th>province_of_onset</th>\n",
              "      <th>district_of_onset</th>\n",
              "    </tr>\n",
              "  </thead>\n",
              "  <tbody>\n",
              "    <tr>\n",
              "      <th>0</th>\n",
              "      <td>1859158</td>\n",
              "      <td>2021-10-26</td>\n",
              "      <td>25/10/2021</td>\n",
              "      <td>ชาย</td>\n",
              "      <td>20.0</td>\n",
              "      <td>ปี</td>\n",
              "      <td>Thailand</td>\n",
              "      <td>ลำปาง</td>\n",
              "      <td>อื่นๆ</td>\n",
              "      <td>ลำปาง</td>\n",
              "      <td>เมืองลำปาง</td>\n",
              "    </tr>\n",
              "    <tr>\n",
              "      <th>1</th>\n",
              "      <td>1859159</td>\n",
              "      <td>2021-10-26</td>\n",
              "      <td>25/10/2021</td>\n",
              "      <td>หญิง</td>\n",
              "      <td>42.0</td>\n",
              "      <td>ปี</td>\n",
              "      <td>Thailand</td>\n",
              "      <td>ลำปาง</td>\n",
              "      <td>อื่นๆ</td>\n",
              "      <td>ลำปาง</td>\n",
              "      <td>เมืองลำปาง</td>\n",
              "    </tr>\n",
              "    <tr>\n",
              "      <th>2</th>\n",
              "      <td>1859160</td>\n",
              "      <td>2021-10-26</td>\n",
              "      <td>25/10/2021</td>\n",
              "      <td>หญิง</td>\n",
              "      <td>33.0</td>\n",
              "      <td>ปี</td>\n",
              "      <td>Thailand</td>\n",
              "      <td>ลำปาง</td>\n",
              "      <td>ไปสถานที่ชุมชน เช่น ตลาดนัด สถานที่ท่องเที่ยว</td>\n",
              "      <td>ลำปาง</td>\n",
              "      <td>ห้างฉัตร</td>\n",
              "    </tr>\n",
              "    <tr>\n",
              "      <th>3</th>\n",
              "      <td>1859161</td>\n",
              "      <td>2021-10-26</td>\n",
              "      <td>25/10/2021</td>\n",
              "      <td>หญิง</td>\n",
              "      <td>52.0</td>\n",
              "      <td>ปี</td>\n",
              "      <td>Thailand</td>\n",
              "      <td>ลำปาง</td>\n",
              "      <td>ไปสถานที่ชุมชน เช่น ตลาดนัด สถานที่ท่องเที่ยว</td>\n",
              "      <td>ลำปาง</td>\n",
              "      <td>ห้างฉัตร</td>\n",
              "    </tr>\n",
              "    <tr>\n",
              "      <th>4</th>\n",
              "      <td>1859162</td>\n",
              "      <td>2021-10-26</td>\n",
              "      <td>25/10/2021</td>\n",
              "      <td>หญิง</td>\n",
              "      <td>84.0</td>\n",
              "      <td>ปี</td>\n",
              "      <td>Thailand</td>\n",
              "      <td>ลำปาง</td>\n",
              "      <td>สัมผัสใกล้ชิดกับผู้ป่วยยืนยันรายก่อนหน้านี้</td>\n",
              "      <td>ลำปาง</td>\n",
              "      <td>เมืองลำปาง</td>\n",
              "    </tr>\n",
              "  </tbody>\n",
              "</table>\n",
              "</div>\n",
              "      <button class=\"colab-df-convert\" onclick=\"convertToInteractive('df-ed826158-da48-4968-9d94-96c31fcaab6c')\"\n",
              "              title=\"Convert this dataframe to an interactive table.\"\n",
              "              style=\"display:none;\">\n",
              "        \n",
              "  <svg xmlns=\"http://www.w3.org/2000/svg\" height=\"24px\"viewBox=\"0 0 24 24\"\n",
              "       width=\"24px\">\n",
              "    <path d=\"M0 0h24v24H0V0z\" fill=\"none\"/>\n",
              "    <path d=\"M18.56 5.44l.94 2.06.94-2.06 2.06-.94-2.06-.94-.94-2.06-.94 2.06-2.06.94zm-11 1L8.5 8.5l.94-2.06 2.06-.94-2.06-.94L8.5 2.5l-.94 2.06-2.06.94zm10 10l.94 2.06.94-2.06 2.06-.94-2.06-.94-.94-2.06-.94 2.06-2.06.94z\"/><path d=\"M17.41 7.96l-1.37-1.37c-.4-.4-.92-.59-1.43-.59-.52 0-1.04.2-1.43.59L10.3 9.45l-7.72 7.72c-.78.78-.78 2.05 0 2.83L4 21.41c.39.39.9.59 1.41.59.51 0 1.02-.2 1.41-.59l7.78-7.78 2.81-2.81c.8-.78.8-2.07 0-2.86zM5.41 20L4 18.59l7.72-7.72 1.47 1.35L5.41 20z\"/>\n",
              "  </svg>\n",
              "      </button>\n",
              "      \n",
              "  <style>\n",
              "    .colab-df-container {\n",
              "      display:flex;\n",
              "      flex-wrap:wrap;\n",
              "      gap: 12px;\n",
              "    }\n",
              "\n",
              "    .colab-df-convert {\n",
              "      background-color: #E8F0FE;\n",
              "      border: none;\n",
              "      border-radius: 50%;\n",
              "      cursor: pointer;\n",
              "      display: none;\n",
              "      fill: #1967D2;\n",
              "      height: 32px;\n",
              "      padding: 0 0 0 0;\n",
              "      width: 32px;\n",
              "    }\n",
              "\n",
              "    .colab-df-convert:hover {\n",
              "      background-color: #E2EBFA;\n",
              "      box-shadow: 0px 1px 2px rgba(60, 64, 67, 0.3), 0px 1px 3px 1px rgba(60, 64, 67, 0.15);\n",
              "      fill: #174EA6;\n",
              "    }\n",
              "\n",
              "    [theme=dark] .colab-df-convert {\n",
              "      background-color: #3B4455;\n",
              "      fill: #D2E3FC;\n",
              "    }\n",
              "\n",
              "    [theme=dark] .colab-df-convert:hover {\n",
              "      background-color: #434B5C;\n",
              "      box-shadow: 0px 1px 3px 1px rgba(0, 0, 0, 0.15);\n",
              "      filter: drop-shadow(0px 1px 2px rgba(0, 0, 0, 0.3));\n",
              "      fill: #FFFFFF;\n",
              "    }\n",
              "  </style>\n",
              "\n",
              "      <script>\n",
              "        const buttonEl =\n",
              "          document.querySelector('#df-ed826158-da48-4968-9d94-96c31fcaab6c button.colab-df-convert');\n",
              "        buttonEl.style.display =\n",
              "          google.colab.kernel.accessAllowed ? 'block' : 'none';\n",
              "\n",
              "        async function convertToInteractive(key) {\n",
              "          const element = document.querySelector('#df-ed826158-da48-4968-9d94-96c31fcaab6c');\n",
              "          const dataTable =\n",
              "            await google.colab.kernel.invokeFunction('convertToInteractive',\n",
              "                                                     [key], {});\n",
              "          if (!dataTable) return;\n",
              "\n",
              "          const docLinkHtml = 'Like what you see? Visit the ' +\n",
              "            '<a target=\"_blank\" href=https://colab.research.google.com/notebooks/data_table.ipynb>data table notebook</a>'\n",
              "            + ' to learn more about interactive tables.';\n",
              "          element.innerHTML = '';\n",
              "          dataTable['output_type'] = 'display_data';\n",
              "          await google.colab.output.renderOutput(dataTable, element);\n",
              "          const docLink = document.createElement('div');\n",
              "          docLink.innerHTML = docLinkHtml;\n",
              "          element.appendChild(docLink);\n",
              "        }\n",
              "      </script>\n",
              "    </div>\n",
              "  </div>\n",
              "  "
            ]
          },
          "metadata": {},
          "execution_count": 16
        }
      ]
    },
    {
      "cell_type": "code",
      "source": [
        "covid3.info()"
      ],
      "metadata": {
        "id": "U5A4JDCNSpyl",
        "outputId": "3685965c-a5ce-469a-fe03-839407193fe3",
        "colab": {
          "base_uri": "https://localhost:8080/"
        }
      },
      "execution_count": null,
      "outputs": [
        {
          "output_type": "stream",
          "name": "stdout",
          "text": [
            "<class 'pandas.core.frame.DataFrame'>\n",
            "RangeIndex: 1010459 entries, 0 to 1010458\n",
            "Data columns (total 11 columns):\n",
            " #   Column                 Non-Null Count    Dtype         \n",
            "---  ------                 --------------    -----         \n",
            " 0   No.                    1010459 non-null  int64         \n",
            " 1   announce_date          1010459 non-null  datetime64[ns]\n",
            " 2   Notified date          1010459 non-null  object        \n",
            " 3   sex                    951665 non-null   object        \n",
            " 4   age                    923950 non-null   object        \n",
            " 5   Unit                   903642 non-null   object        \n",
            " 6   nationality            922053 non-null   object        \n",
            " 7   province_of_isolation  1006775 non-null  object        \n",
            " 8   risk                   1010380 non-null  object        \n",
            " 9   province_of_onset      899173 non-null   object        \n",
            " 10  district_of_onset      865756 non-null   object        \n",
            "dtypes: datetime64[ns](1), int64(1), object(9)\n",
            "memory usage: 84.8+ MB\n"
          ]
        }
      ]
    },
    {
      "cell_type": "code",
      "source": [
        "covid4.head()"
      ],
      "metadata": {
        "colab": {
          "base_uri": "https://localhost:8080/",
          "height": 206
        },
        "id": "dbRs2FQSUjGR",
        "outputId": "2ab19c18-97fb-46ad-b6cc-e86c79b09b33"
      },
      "execution_count": null,
      "outputs": [
        {
          "output_type": "execute_result",
          "data": {
            "text/plain": [
              "       No. announce_date Notified date   sex   age Unit nationality  \\\n",
              "0  2869617    2022-02-28    2022-02-27   ชาย  41.0   ปี    Thailand   \n",
              "1  2869618    2022-02-28    2022-02-27  หญิง  45.0   ปี    Thailand   \n",
              "2  2869619    2022-02-28    2022-02-27  หญิง  40.0   ปี    Thailand   \n",
              "3  2869620    2022-02-28    2022-02-27   ชาย  44.0   ปี    Thailand   \n",
              "4  2869621    2022-02-28    2022-02-27   ชาย  11.0   ปี    Thailand   \n",
              "\n",
              "  province_of_isolation                                         risk  \\\n",
              "0                 พะเยา  สัมผัสใกล้ชิดกับผู้ป่วยยืนยันรายก่อนหน้านี้   \n",
              "1                 พะเยา  สัมผัสใกล้ชิดกับผู้ป่วยยืนยันรายก่อนหน้านี้   \n",
              "2                 พะเยา  สัมผัสใกล้ชิดกับผู้ป่วยยืนยันรายก่อนหน้านี้   \n",
              "3                 พะเยา  สัมผัสใกล้ชิดกับผู้ป่วยยืนยันรายก่อนหน้านี้   \n",
              "4                 พะเยา  สัมผัสใกล้ชิดกับผู้ป่วยยืนยันรายก่อนหน้านี้   \n",
              "\n",
              "  province_of_onset district_of_onset  \n",
              "0             พะเยา        เมืองพะเยา  \n",
              "1             พะเยา        เมืองพะเยา  \n",
              "2             พะเยา        เมืองพะเยา  \n",
              "3             พะเยา        เมืองพะเยา  \n",
              "4             พะเยา        เมืองพะเยา  "
            ],
            "text/html": [
              "\n",
              "  <div id=\"df-675d47f3-feb7-4288-96e6-cbc4b1191547\">\n",
              "    <div class=\"colab-df-container\">\n",
              "      <div>\n",
              "<style scoped>\n",
              "    .dataframe tbody tr th:only-of-type {\n",
              "        vertical-align: middle;\n",
              "    }\n",
              "\n",
              "    .dataframe tbody tr th {\n",
              "        vertical-align: top;\n",
              "    }\n",
              "\n",
              "    .dataframe thead th {\n",
              "        text-align: right;\n",
              "    }\n",
              "</style>\n",
              "<table border=\"1\" class=\"dataframe\">\n",
              "  <thead>\n",
              "    <tr style=\"text-align: right;\">\n",
              "      <th></th>\n",
              "      <th>No.</th>\n",
              "      <th>announce_date</th>\n",
              "      <th>Notified date</th>\n",
              "      <th>sex</th>\n",
              "      <th>age</th>\n",
              "      <th>Unit</th>\n",
              "      <th>nationality</th>\n",
              "      <th>province_of_isolation</th>\n",
              "      <th>risk</th>\n",
              "      <th>province_of_onset</th>\n",
              "      <th>district_of_onset</th>\n",
              "    </tr>\n",
              "  </thead>\n",
              "  <tbody>\n",
              "    <tr>\n",
              "      <th>0</th>\n",
              "      <td>2869617</td>\n",
              "      <td>2022-02-28</td>\n",
              "      <td>2022-02-27</td>\n",
              "      <td>ชาย</td>\n",
              "      <td>41.0</td>\n",
              "      <td>ปี</td>\n",
              "      <td>Thailand</td>\n",
              "      <td>พะเยา</td>\n",
              "      <td>สัมผัสใกล้ชิดกับผู้ป่วยยืนยันรายก่อนหน้านี้</td>\n",
              "      <td>พะเยา</td>\n",
              "      <td>เมืองพะเยา</td>\n",
              "    </tr>\n",
              "    <tr>\n",
              "      <th>1</th>\n",
              "      <td>2869618</td>\n",
              "      <td>2022-02-28</td>\n",
              "      <td>2022-02-27</td>\n",
              "      <td>หญิง</td>\n",
              "      <td>45.0</td>\n",
              "      <td>ปี</td>\n",
              "      <td>Thailand</td>\n",
              "      <td>พะเยา</td>\n",
              "      <td>สัมผัสใกล้ชิดกับผู้ป่วยยืนยันรายก่อนหน้านี้</td>\n",
              "      <td>พะเยา</td>\n",
              "      <td>เมืองพะเยา</td>\n",
              "    </tr>\n",
              "    <tr>\n",
              "      <th>2</th>\n",
              "      <td>2869619</td>\n",
              "      <td>2022-02-28</td>\n",
              "      <td>2022-02-27</td>\n",
              "      <td>หญิง</td>\n",
              "      <td>40.0</td>\n",
              "      <td>ปี</td>\n",
              "      <td>Thailand</td>\n",
              "      <td>พะเยา</td>\n",
              "      <td>สัมผัสใกล้ชิดกับผู้ป่วยยืนยันรายก่อนหน้านี้</td>\n",
              "      <td>พะเยา</td>\n",
              "      <td>เมืองพะเยา</td>\n",
              "    </tr>\n",
              "    <tr>\n",
              "      <th>3</th>\n",
              "      <td>2869620</td>\n",
              "      <td>2022-02-28</td>\n",
              "      <td>2022-02-27</td>\n",
              "      <td>ชาย</td>\n",
              "      <td>44.0</td>\n",
              "      <td>ปี</td>\n",
              "      <td>Thailand</td>\n",
              "      <td>พะเยา</td>\n",
              "      <td>สัมผัสใกล้ชิดกับผู้ป่วยยืนยันรายก่อนหน้านี้</td>\n",
              "      <td>พะเยา</td>\n",
              "      <td>เมืองพะเยา</td>\n",
              "    </tr>\n",
              "    <tr>\n",
              "      <th>4</th>\n",
              "      <td>2869621</td>\n",
              "      <td>2022-02-28</td>\n",
              "      <td>2022-02-27</td>\n",
              "      <td>ชาย</td>\n",
              "      <td>11.0</td>\n",
              "      <td>ปี</td>\n",
              "      <td>Thailand</td>\n",
              "      <td>พะเยา</td>\n",
              "      <td>สัมผัสใกล้ชิดกับผู้ป่วยยืนยันรายก่อนหน้านี้</td>\n",
              "      <td>พะเยา</td>\n",
              "      <td>เมืองพะเยา</td>\n",
              "    </tr>\n",
              "  </tbody>\n",
              "</table>\n",
              "</div>\n",
              "      <button class=\"colab-df-convert\" onclick=\"convertToInteractive('df-675d47f3-feb7-4288-96e6-cbc4b1191547')\"\n",
              "              title=\"Convert this dataframe to an interactive table.\"\n",
              "              style=\"display:none;\">\n",
              "        \n",
              "  <svg xmlns=\"http://www.w3.org/2000/svg\" height=\"24px\"viewBox=\"0 0 24 24\"\n",
              "       width=\"24px\">\n",
              "    <path d=\"M0 0h24v24H0V0z\" fill=\"none\"/>\n",
              "    <path d=\"M18.56 5.44l.94 2.06.94-2.06 2.06-.94-2.06-.94-.94-2.06-.94 2.06-2.06.94zm-11 1L8.5 8.5l.94-2.06 2.06-.94-2.06-.94L8.5 2.5l-.94 2.06-2.06.94zm10 10l.94 2.06.94-2.06 2.06-.94-2.06-.94-.94-2.06-.94 2.06-2.06.94z\"/><path d=\"M17.41 7.96l-1.37-1.37c-.4-.4-.92-.59-1.43-.59-.52 0-1.04.2-1.43.59L10.3 9.45l-7.72 7.72c-.78.78-.78 2.05 0 2.83L4 21.41c.39.39.9.59 1.41.59.51 0 1.02-.2 1.41-.59l7.78-7.78 2.81-2.81c.8-.78.8-2.07 0-2.86zM5.41 20L4 18.59l7.72-7.72 1.47 1.35L5.41 20z\"/>\n",
              "  </svg>\n",
              "      </button>\n",
              "      \n",
              "  <style>\n",
              "    .colab-df-container {\n",
              "      display:flex;\n",
              "      flex-wrap:wrap;\n",
              "      gap: 12px;\n",
              "    }\n",
              "\n",
              "    .colab-df-convert {\n",
              "      background-color: #E8F0FE;\n",
              "      border: none;\n",
              "      border-radius: 50%;\n",
              "      cursor: pointer;\n",
              "      display: none;\n",
              "      fill: #1967D2;\n",
              "      height: 32px;\n",
              "      padding: 0 0 0 0;\n",
              "      width: 32px;\n",
              "    }\n",
              "\n",
              "    .colab-df-convert:hover {\n",
              "      background-color: #E2EBFA;\n",
              "      box-shadow: 0px 1px 2px rgba(60, 64, 67, 0.3), 0px 1px 3px 1px rgba(60, 64, 67, 0.15);\n",
              "      fill: #174EA6;\n",
              "    }\n",
              "\n",
              "    [theme=dark] .colab-df-convert {\n",
              "      background-color: #3B4455;\n",
              "      fill: #D2E3FC;\n",
              "    }\n",
              "\n",
              "    [theme=dark] .colab-df-convert:hover {\n",
              "      background-color: #434B5C;\n",
              "      box-shadow: 0px 1px 3px 1px rgba(0, 0, 0, 0.15);\n",
              "      filter: drop-shadow(0px 1px 2px rgba(0, 0, 0, 0.3));\n",
              "      fill: #FFFFFF;\n",
              "    }\n",
              "  </style>\n",
              "\n",
              "      <script>\n",
              "        const buttonEl =\n",
              "          document.querySelector('#df-675d47f3-feb7-4288-96e6-cbc4b1191547 button.colab-df-convert');\n",
              "        buttonEl.style.display =\n",
              "          google.colab.kernel.accessAllowed ? 'block' : 'none';\n",
              "\n",
              "        async function convertToInteractive(key) {\n",
              "          const element = document.querySelector('#df-675d47f3-feb7-4288-96e6-cbc4b1191547');\n",
              "          const dataTable =\n",
              "            await google.colab.kernel.invokeFunction('convertToInteractive',\n",
              "                                                     [key], {});\n",
              "          if (!dataTable) return;\n",
              "\n",
              "          const docLinkHtml = 'Like what you see? Visit the ' +\n",
              "            '<a target=\"_blank\" href=https://colab.research.google.com/notebooks/data_table.ipynb>data table notebook</a>'\n",
              "            + ' to learn more about interactive tables.';\n",
              "          element.innerHTML = '';\n",
              "          dataTable['output_type'] = 'display_data';\n",
              "          await google.colab.output.renderOutput(dataTable, element);\n",
              "          const docLink = document.createElement('div');\n",
              "          docLink.innerHTML = docLinkHtml;\n",
              "          element.appendChild(docLink);\n",
              "        }\n",
              "      </script>\n",
              "    </div>\n",
              "  </div>\n",
              "  "
            ]
          },
          "metadata": {},
          "execution_count": 18
        }
      ]
    },
    {
      "cell_type": "markdown",
      "source": [
        "Convert date time format and data type"
      ],
      "metadata": {
        "id": "JyuqXi4-x4jQ"
      }
    },
    {
      "cell_type": "code",
      "source": [
        "covid4['announce_date'] = pd.to_datetime(covid4['announce_date'], format = '%Y-%m-%d')"
      ],
      "metadata": {
        "id": "K74ET2DVxML4"
      },
      "execution_count": null,
      "outputs": []
    },
    {
      "cell_type": "code",
      "source": [
        "covid4.head()"
      ],
      "metadata": {
        "colab": {
          "base_uri": "https://localhost:8080/",
          "height": 206
        },
        "id": "I-lp4hIJxUlj",
        "outputId": "37266ea1-bc04-436b-939d-8b52b3d0a9f0"
      },
      "execution_count": null,
      "outputs": [
        {
          "output_type": "execute_result",
          "data": {
            "text/plain": [
              "       No. announce_date Notified date   sex   age Unit nationality  \\\n",
              "0  2869617    2022-02-28    2022-02-27   ชาย  41.0   ปี    Thailand   \n",
              "1  2869618    2022-02-28    2022-02-27  หญิง  45.0   ปี    Thailand   \n",
              "2  2869619    2022-02-28    2022-02-27  หญิง  40.0   ปี    Thailand   \n",
              "3  2869620    2022-02-28    2022-02-27   ชาย  44.0   ปี    Thailand   \n",
              "4  2869621    2022-02-28    2022-02-27   ชาย  11.0   ปี    Thailand   \n",
              "\n",
              "  province_of_isolation                                         risk  \\\n",
              "0                 พะเยา  สัมผัสใกล้ชิดกับผู้ป่วยยืนยันรายก่อนหน้านี้   \n",
              "1                 พะเยา  สัมผัสใกล้ชิดกับผู้ป่วยยืนยันรายก่อนหน้านี้   \n",
              "2                 พะเยา  สัมผัสใกล้ชิดกับผู้ป่วยยืนยันรายก่อนหน้านี้   \n",
              "3                 พะเยา  สัมผัสใกล้ชิดกับผู้ป่วยยืนยันรายก่อนหน้านี้   \n",
              "4                 พะเยา  สัมผัสใกล้ชิดกับผู้ป่วยยืนยันรายก่อนหน้านี้   \n",
              "\n",
              "  province_of_onset district_of_onset  \n",
              "0             พะเยา        เมืองพะเยา  \n",
              "1             พะเยา        เมืองพะเยา  \n",
              "2             พะเยา        เมืองพะเยา  \n",
              "3             พะเยา        เมืองพะเยา  \n",
              "4             พะเยา        เมืองพะเยา  "
            ],
            "text/html": [
              "\n",
              "  <div id=\"df-ab124fd1-b96a-46eb-8d80-31db33948a9a\">\n",
              "    <div class=\"colab-df-container\">\n",
              "      <div>\n",
              "<style scoped>\n",
              "    .dataframe tbody tr th:only-of-type {\n",
              "        vertical-align: middle;\n",
              "    }\n",
              "\n",
              "    .dataframe tbody tr th {\n",
              "        vertical-align: top;\n",
              "    }\n",
              "\n",
              "    .dataframe thead th {\n",
              "        text-align: right;\n",
              "    }\n",
              "</style>\n",
              "<table border=\"1\" class=\"dataframe\">\n",
              "  <thead>\n",
              "    <tr style=\"text-align: right;\">\n",
              "      <th></th>\n",
              "      <th>No.</th>\n",
              "      <th>announce_date</th>\n",
              "      <th>Notified date</th>\n",
              "      <th>sex</th>\n",
              "      <th>age</th>\n",
              "      <th>Unit</th>\n",
              "      <th>nationality</th>\n",
              "      <th>province_of_isolation</th>\n",
              "      <th>risk</th>\n",
              "      <th>province_of_onset</th>\n",
              "      <th>district_of_onset</th>\n",
              "    </tr>\n",
              "  </thead>\n",
              "  <tbody>\n",
              "    <tr>\n",
              "      <th>0</th>\n",
              "      <td>2869617</td>\n",
              "      <td>2022-02-28</td>\n",
              "      <td>2022-02-27</td>\n",
              "      <td>ชาย</td>\n",
              "      <td>41.0</td>\n",
              "      <td>ปี</td>\n",
              "      <td>Thailand</td>\n",
              "      <td>พะเยา</td>\n",
              "      <td>สัมผัสใกล้ชิดกับผู้ป่วยยืนยันรายก่อนหน้านี้</td>\n",
              "      <td>พะเยา</td>\n",
              "      <td>เมืองพะเยา</td>\n",
              "    </tr>\n",
              "    <tr>\n",
              "      <th>1</th>\n",
              "      <td>2869618</td>\n",
              "      <td>2022-02-28</td>\n",
              "      <td>2022-02-27</td>\n",
              "      <td>หญิง</td>\n",
              "      <td>45.0</td>\n",
              "      <td>ปี</td>\n",
              "      <td>Thailand</td>\n",
              "      <td>พะเยา</td>\n",
              "      <td>สัมผัสใกล้ชิดกับผู้ป่วยยืนยันรายก่อนหน้านี้</td>\n",
              "      <td>พะเยา</td>\n",
              "      <td>เมืองพะเยา</td>\n",
              "    </tr>\n",
              "    <tr>\n",
              "      <th>2</th>\n",
              "      <td>2869619</td>\n",
              "      <td>2022-02-28</td>\n",
              "      <td>2022-02-27</td>\n",
              "      <td>หญิง</td>\n",
              "      <td>40.0</td>\n",
              "      <td>ปี</td>\n",
              "      <td>Thailand</td>\n",
              "      <td>พะเยา</td>\n",
              "      <td>สัมผัสใกล้ชิดกับผู้ป่วยยืนยันรายก่อนหน้านี้</td>\n",
              "      <td>พะเยา</td>\n",
              "      <td>เมืองพะเยา</td>\n",
              "    </tr>\n",
              "    <tr>\n",
              "      <th>3</th>\n",
              "      <td>2869620</td>\n",
              "      <td>2022-02-28</td>\n",
              "      <td>2022-02-27</td>\n",
              "      <td>ชาย</td>\n",
              "      <td>44.0</td>\n",
              "      <td>ปี</td>\n",
              "      <td>Thailand</td>\n",
              "      <td>พะเยา</td>\n",
              "      <td>สัมผัสใกล้ชิดกับผู้ป่วยยืนยันรายก่อนหน้านี้</td>\n",
              "      <td>พะเยา</td>\n",
              "      <td>เมืองพะเยา</td>\n",
              "    </tr>\n",
              "    <tr>\n",
              "      <th>4</th>\n",
              "      <td>2869621</td>\n",
              "      <td>2022-02-28</td>\n",
              "      <td>2022-02-27</td>\n",
              "      <td>ชาย</td>\n",
              "      <td>11.0</td>\n",
              "      <td>ปี</td>\n",
              "      <td>Thailand</td>\n",
              "      <td>พะเยา</td>\n",
              "      <td>สัมผัสใกล้ชิดกับผู้ป่วยยืนยันรายก่อนหน้านี้</td>\n",
              "      <td>พะเยา</td>\n",
              "      <td>เมืองพะเยา</td>\n",
              "    </tr>\n",
              "  </tbody>\n",
              "</table>\n",
              "</div>\n",
              "      <button class=\"colab-df-convert\" onclick=\"convertToInteractive('df-ab124fd1-b96a-46eb-8d80-31db33948a9a')\"\n",
              "              title=\"Convert this dataframe to an interactive table.\"\n",
              "              style=\"display:none;\">\n",
              "        \n",
              "  <svg xmlns=\"http://www.w3.org/2000/svg\" height=\"24px\"viewBox=\"0 0 24 24\"\n",
              "       width=\"24px\">\n",
              "    <path d=\"M0 0h24v24H0V0z\" fill=\"none\"/>\n",
              "    <path d=\"M18.56 5.44l.94 2.06.94-2.06 2.06-.94-2.06-.94-.94-2.06-.94 2.06-2.06.94zm-11 1L8.5 8.5l.94-2.06 2.06-.94-2.06-.94L8.5 2.5l-.94 2.06-2.06.94zm10 10l.94 2.06.94-2.06 2.06-.94-2.06-.94-.94-2.06-.94 2.06-2.06.94z\"/><path d=\"M17.41 7.96l-1.37-1.37c-.4-.4-.92-.59-1.43-.59-.52 0-1.04.2-1.43.59L10.3 9.45l-7.72 7.72c-.78.78-.78 2.05 0 2.83L4 21.41c.39.39.9.59 1.41.59.51 0 1.02-.2 1.41-.59l7.78-7.78 2.81-2.81c.8-.78.8-2.07 0-2.86zM5.41 20L4 18.59l7.72-7.72 1.47 1.35L5.41 20z\"/>\n",
              "  </svg>\n",
              "      </button>\n",
              "      \n",
              "  <style>\n",
              "    .colab-df-container {\n",
              "      display:flex;\n",
              "      flex-wrap:wrap;\n",
              "      gap: 12px;\n",
              "    }\n",
              "\n",
              "    .colab-df-convert {\n",
              "      background-color: #E8F0FE;\n",
              "      border: none;\n",
              "      border-radius: 50%;\n",
              "      cursor: pointer;\n",
              "      display: none;\n",
              "      fill: #1967D2;\n",
              "      height: 32px;\n",
              "      padding: 0 0 0 0;\n",
              "      width: 32px;\n",
              "    }\n",
              "\n",
              "    .colab-df-convert:hover {\n",
              "      background-color: #E2EBFA;\n",
              "      box-shadow: 0px 1px 2px rgba(60, 64, 67, 0.3), 0px 1px 3px 1px rgba(60, 64, 67, 0.15);\n",
              "      fill: #174EA6;\n",
              "    }\n",
              "\n",
              "    [theme=dark] .colab-df-convert {\n",
              "      background-color: #3B4455;\n",
              "      fill: #D2E3FC;\n",
              "    }\n",
              "\n",
              "    [theme=dark] .colab-df-convert:hover {\n",
              "      background-color: #434B5C;\n",
              "      box-shadow: 0px 1px 3px 1px rgba(0, 0, 0, 0.15);\n",
              "      filter: drop-shadow(0px 1px 2px rgba(0, 0, 0, 0.3));\n",
              "      fill: #FFFFFF;\n",
              "    }\n",
              "  </style>\n",
              "\n",
              "      <script>\n",
              "        const buttonEl =\n",
              "          document.querySelector('#df-ab124fd1-b96a-46eb-8d80-31db33948a9a button.colab-df-convert');\n",
              "        buttonEl.style.display =\n",
              "          google.colab.kernel.accessAllowed ? 'block' : 'none';\n",
              "\n",
              "        async function convertToInteractive(key) {\n",
              "          const element = document.querySelector('#df-ab124fd1-b96a-46eb-8d80-31db33948a9a');\n",
              "          const dataTable =\n",
              "            await google.colab.kernel.invokeFunction('convertToInteractive',\n",
              "                                                     [key], {});\n",
              "          if (!dataTable) return;\n",
              "\n",
              "          const docLinkHtml = 'Like what you see? Visit the ' +\n",
              "            '<a target=\"_blank\" href=https://colab.research.google.com/notebooks/data_table.ipynb>data table notebook</a>'\n",
              "            + ' to learn more about interactive tables.';\n",
              "          element.innerHTML = '';\n",
              "          dataTable['output_type'] = 'display_data';\n",
              "          await google.colab.output.renderOutput(dataTable, element);\n",
              "          const docLink = document.createElement('div');\n",
              "          docLink.innerHTML = docLinkHtml;\n",
              "          element.appendChild(docLink);\n",
              "        }\n",
              "      </script>\n",
              "    </div>\n",
              "  </div>\n",
              "  "
            ]
          },
          "metadata": {},
          "execution_count": 20
        }
      ]
    },
    {
      "cell_type": "code",
      "source": [
        "covid4.info()"
      ],
      "metadata": {
        "id": "xKWGlhZ4eGld",
        "colab": {
          "base_uri": "https://localhost:8080/"
        },
        "outputId": "e2595b8e-99c3-46f8-ef71-4085b188d544"
      },
      "execution_count": null,
      "outputs": [
        {
          "output_type": "stream",
          "name": "stdout",
          "text": [
            "<class 'pandas.core.frame.DataFrame'>\n",
            "RangeIndex: 357081 entries, 0 to 357080\n",
            "Data columns (total 11 columns):\n",
            " #   Column                 Non-Null Count   Dtype         \n",
            "---  ------                 --------------   -----         \n",
            " 0   No.                    357081 non-null  int64         \n",
            " 1   announce_date          357081 non-null  datetime64[ns]\n",
            " 2   Notified date          357081 non-null  object        \n",
            " 3   sex                    341889 non-null  object        \n",
            " 4   age                    335804 non-null  float64       \n",
            " 5   Unit                   335801 non-null  object        \n",
            " 6   nationality            327623 non-null  object        \n",
            " 7   province_of_isolation  357081 non-null  object        \n",
            " 8   risk                   357067 non-null  object        \n",
            " 9   province_of_onset      319186 non-null  object        \n",
            " 10  district_of_onset      319511 non-null  object        \n",
            "dtypes: datetime64[ns](1), float64(1), int64(1), object(8)\n",
            "memory usage: 30.0+ MB\n"
          ]
        }
      ]
    },
    {
      "cell_type": "markdown",
      "source": [
        "## Merge 3 Datasets"
      ],
      "metadata": {
        "id": "BGpbvMhWP8F7"
      }
    },
    {
      "cell_type": "code",
      "source": [
        "df = pd.concat([covid1, covid2, covid3, covid4], axis = 0)"
      ],
      "metadata": {
        "id": "hvuOAOrpIK8k"
      },
      "execution_count": null,
      "outputs": []
    },
    {
      "cell_type": "code",
      "source": [
        "df.head()"
      ],
      "metadata": {
        "colab": {
          "base_uri": "https://localhost:8080/",
          "height": 206
        },
        "id": "3wZHJlqRQMbZ",
        "outputId": "e7b7dbd8-cecf-4e0c-add9-70085c9e9a4d"
      },
      "execution_count": null,
      "outputs": [
        {
          "output_type": "execute_result",
          "data": {
            "text/plain": [
              "   No. announce_date Notified date   sex   age Unit nationality  \\\n",
              "0    1    2020-01-12           NaN  หญิง  61.0   ปี       China   \n",
              "1    2    2020-01-17           NaN  หญิง  74.0   ปี       China   \n",
              "2    3    2020-01-22           NaN  หญิง  73.0   ปี    Thailand   \n",
              "3    4    2020-01-22           NaN   ชาย  68.0   ปี       China   \n",
              "4    5    2020-01-24           NaN  หญิง  66.0   ปี       China   \n",
              "\n",
              "  province_of_isolation                              risk province_of_onset  \\\n",
              "0         กรุงเทพมหานคร  คนต่างชาติเดินทางมาจากต่างประเทศ     กรุงเทพมหานคร   \n",
              "1         กรุงเทพมหานคร  คนต่างชาติเดินทางมาจากต่างประเทศ     กรุงเทพมหานคร   \n",
              "2                นครปฐม  คนต่างชาติเดินทางมาจากต่างประเทศ            นครปฐม   \n",
              "3         กรุงเทพมหานคร  คนต่างชาติเดินทางมาจากต่างประเทศ     กรุงเทพมหานคร   \n",
              "4               นนทบุรี  คนต่างชาติเดินทางมาจากต่างประเทศ     กรุงเทพมหานคร   \n",
              "\n",
              "  district_of_onset  \n",
              "0               NaN  \n",
              "1               NaN  \n",
              "2             เมือง  \n",
              "3               NaN  \n",
              "4               NaN  "
            ],
            "text/html": [
              "\n",
              "  <div id=\"df-2c80dbaa-a922-49b2-9225-b652cfe5a032\">\n",
              "    <div class=\"colab-df-container\">\n",
              "      <div>\n",
              "<style scoped>\n",
              "    .dataframe tbody tr th:only-of-type {\n",
              "        vertical-align: middle;\n",
              "    }\n",
              "\n",
              "    .dataframe tbody tr th {\n",
              "        vertical-align: top;\n",
              "    }\n",
              "\n",
              "    .dataframe thead th {\n",
              "        text-align: right;\n",
              "    }\n",
              "</style>\n",
              "<table border=\"1\" class=\"dataframe\">\n",
              "  <thead>\n",
              "    <tr style=\"text-align: right;\">\n",
              "      <th></th>\n",
              "      <th>No.</th>\n",
              "      <th>announce_date</th>\n",
              "      <th>Notified date</th>\n",
              "      <th>sex</th>\n",
              "      <th>age</th>\n",
              "      <th>Unit</th>\n",
              "      <th>nationality</th>\n",
              "      <th>province_of_isolation</th>\n",
              "      <th>risk</th>\n",
              "      <th>province_of_onset</th>\n",
              "      <th>district_of_onset</th>\n",
              "    </tr>\n",
              "  </thead>\n",
              "  <tbody>\n",
              "    <tr>\n",
              "      <th>0</th>\n",
              "      <td>1</td>\n",
              "      <td>2020-01-12</td>\n",
              "      <td>NaN</td>\n",
              "      <td>หญิง</td>\n",
              "      <td>61.0</td>\n",
              "      <td>ปี</td>\n",
              "      <td>China</td>\n",
              "      <td>กรุงเทพมหานคร</td>\n",
              "      <td>คนต่างชาติเดินทางมาจากต่างประเทศ</td>\n",
              "      <td>กรุงเทพมหานคร</td>\n",
              "      <td>NaN</td>\n",
              "    </tr>\n",
              "    <tr>\n",
              "      <th>1</th>\n",
              "      <td>2</td>\n",
              "      <td>2020-01-17</td>\n",
              "      <td>NaN</td>\n",
              "      <td>หญิง</td>\n",
              "      <td>74.0</td>\n",
              "      <td>ปี</td>\n",
              "      <td>China</td>\n",
              "      <td>กรุงเทพมหานคร</td>\n",
              "      <td>คนต่างชาติเดินทางมาจากต่างประเทศ</td>\n",
              "      <td>กรุงเทพมหานคร</td>\n",
              "      <td>NaN</td>\n",
              "    </tr>\n",
              "    <tr>\n",
              "      <th>2</th>\n",
              "      <td>3</td>\n",
              "      <td>2020-01-22</td>\n",
              "      <td>NaN</td>\n",
              "      <td>หญิง</td>\n",
              "      <td>73.0</td>\n",
              "      <td>ปี</td>\n",
              "      <td>Thailand</td>\n",
              "      <td>นครปฐม</td>\n",
              "      <td>คนต่างชาติเดินทางมาจากต่างประเทศ</td>\n",
              "      <td>นครปฐม</td>\n",
              "      <td>เมือง</td>\n",
              "    </tr>\n",
              "    <tr>\n",
              "      <th>3</th>\n",
              "      <td>4</td>\n",
              "      <td>2020-01-22</td>\n",
              "      <td>NaN</td>\n",
              "      <td>ชาย</td>\n",
              "      <td>68.0</td>\n",
              "      <td>ปี</td>\n",
              "      <td>China</td>\n",
              "      <td>กรุงเทพมหานคร</td>\n",
              "      <td>คนต่างชาติเดินทางมาจากต่างประเทศ</td>\n",
              "      <td>กรุงเทพมหานคร</td>\n",
              "      <td>NaN</td>\n",
              "    </tr>\n",
              "    <tr>\n",
              "      <th>4</th>\n",
              "      <td>5</td>\n",
              "      <td>2020-01-24</td>\n",
              "      <td>NaN</td>\n",
              "      <td>หญิง</td>\n",
              "      <td>66.0</td>\n",
              "      <td>ปี</td>\n",
              "      <td>China</td>\n",
              "      <td>นนทบุรี</td>\n",
              "      <td>คนต่างชาติเดินทางมาจากต่างประเทศ</td>\n",
              "      <td>กรุงเทพมหานคร</td>\n",
              "      <td>NaN</td>\n",
              "    </tr>\n",
              "  </tbody>\n",
              "</table>\n",
              "</div>\n",
              "      <button class=\"colab-df-convert\" onclick=\"convertToInteractive('df-2c80dbaa-a922-49b2-9225-b652cfe5a032')\"\n",
              "              title=\"Convert this dataframe to an interactive table.\"\n",
              "              style=\"display:none;\">\n",
              "        \n",
              "  <svg xmlns=\"http://www.w3.org/2000/svg\" height=\"24px\"viewBox=\"0 0 24 24\"\n",
              "       width=\"24px\">\n",
              "    <path d=\"M0 0h24v24H0V0z\" fill=\"none\"/>\n",
              "    <path d=\"M18.56 5.44l.94 2.06.94-2.06 2.06-.94-2.06-.94-.94-2.06-.94 2.06-2.06.94zm-11 1L8.5 8.5l.94-2.06 2.06-.94-2.06-.94L8.5 2.5l-.94 2.06-2.06.94zm10 10l.94 2.06.94-2.06 2.06-.94-2.06-.94-.94-2.06-.94 2.06-2.06.94z\"/><path d=\"M17.41 7.96l-1.37-1.37c-.4-.4-.92-.59-1.43-.59-.52 0-1.04.2-1.43.59L10.3 9.45l-7.72 7.72c-.78.78-.78 2.05 0 2.83L4 21.41c.39.39.9.59 1.41.59.51 0 1.02-.2 1.41-.59l7.78-7.78 2.81-2.81c.8-.78.8-2.07 0-2.86zM5.41 20L4 18.59l7.72-7.72 1.47 1.35L5.41 20z\"/>\n",
              "  </svg>\n",
              "      </button>\n",
              "      \n",
              "  <style>\n",
              "    .colab-df-container {\n",
              "      display:flex;\n",
              "      flex-wrap:wrap;\n",
              "      gap: 12px;\n",
              "    }\n",
              "\n",
              "    .colab-df-convert {\n",
              "      background-color: #E8F0FE;\n",
              "      border: none;\n",
              "      border-radius: 50%;\n",
              "      cursor: pointer;\n",
              "      display: none;\n",
              "      fill: #1967D2;\n",
              "      height: 32px;\n",
              "      padding: 0 0 0 0;\n",
              "      width: 32px;\n",
              "    }\n",
              "\n",
              "    .colab-df-convert:hover {\n",
              "      background-color: #E2EBFA;\n",
              "      box-shadow: 0px 1px 2px rgba(60, 64, 67, 0.3), 0px 1px 3px 1px rgba(60, 64, 67, 0.15);\n",
              "      fill: #174EA6;\n",
              "    }\n",
              "\n",
              "    [theme=dark] .colab-df-convert {\n",
              "      background-color: #3B4455;\n",
              "      fill: #D2E3FC;\n",
              "    }\n",
              "\n",
              "    [theme=dark] .colab-df-convert:hover {\n",
              "      background-color: #434B5C;\n",
              "      box-shadow: 0px 1px 3px 1px rgba(0, 0, 0, 0.15);\n",
              "      filter: drop-shadow(0px 1px 2px rgba(0, 0, 0, 0.3));\n",
              "      fill: #FFFFFF;\n",
              "    }\n",
              "  </style>\n",
              "\n",
              "      <script>\n",
              "        const buttonEl =\n",
              "          document.querySelector('#df-2c80dbaa-a922-49b2-9225-b652cfe5a032 button.colab-df-convert');\n",
              "        buttonEl.style.display =\n",
              "          google.colab.kernel.accessAllowed ? 'block' : 'none';\n",
              "\n",
              "        async function convertToInteractive(key) {\n",
              "          const element = document.querySelector('#df-2c80dbaa-a922-49b2-9225-b652cfe5a032');\n",
              "          const dataTable =\n",
              "            await google.colab.kernel.invokeFunction('convertToInteractive',\n",
              "                                                     [key], {});\n",
              "          if (!dataTable) return;\n",
              "\n",
              "          const docLinkHtml = 'Like what you see? Visit the ' +\n",
              "            '<a target=\"_blank\" href=https://colab.research.google.com/notebooks/data_table.ipynb>data table notebook</a>'\n",
              "            + ' to learn more about interactive tables.';\n",
              "          element.innerHTML = '';\n",
              "          dataTable['output_type'] = 'display_data';\n",
              "          await google.colab.output.renderOutput(dataTable, element);\n",
              "          const docLink = document.createElement('div');\n",
              "          docLink.innerHTML = docLinkHtml;\n",
              "          element.appendChild(docLink);\n",
              "        }\n",
              "      </script>\n",
              "    </div>\n",
              "  </div>\n",
              "  "
            ]
          },
          "metadata": {},
          "execution_count": 23
        }
      ]
    },
    {
      "cell_type": "code",
      "source": [
        "df.info(show_counts=True)"
      ],
      "metadata": {
        "colab": {
          "base_uri": "https://localhost:8080/"
        },
        "id": "Gve7fUuLUXQi",
        "outputId": "fba54cb5-1d76-43dc-d0f2-3a9049a6fd88"
      },
      "execution_count": null,
      "outputs": [
        {
          "output_type": "stream",
          "name": "stdout",
          "text": [
            "<class 'pandas.core.frame.DataFrame'>\n",
            "Int64Index: 3226697 entries, 0 to 357080\n",
            "Data columns (total 11 columns):\n",
            " #   Column                 Non-Null Count    Dtype         \n",
            "---  ------                 --------------    -----         \n",
            " 0   No.                    3226697 non-null  int64         \n",
            " 1   announce_date          3226697 non-null  datetime64[ns]\n",
            " 2   Notified date          3223902 non-null  object        \n",
            " 3   sex                    3052001 non-null  object        \n",
            " 4   age                    2964136 non-null  object        \n",
            " 5   Unit                   2943963 non-null  object        \n",
            " 6   nationality            2947721 non-null  object        \n",
            " 7   province_of_isolation  3222741 non-null  object        \n",
            " 8   risk                   3225510 non-null  object        \n",
            " 9   province_of_onset      2835830 non-null  object        \n",
            " 10  district_of_onset      2733177 non-null  object        \n",
            "dtypes: datetime64[ns](1), int64(1), object(9)\n",
            "memory usage: 295.4+ MB\n"
          ]
        }
      ]
    },
    {
      "cell_type": "markdown",
      "source": [
        "# Clean Data"
      ],
      "metadata": {
        "id": "RwhnFaoSYcMU"
      }
    },
    {
      "cell_type": "markdown",
      "source": [
        "## Drop Unnecessary Column"
      ],
      "metadata": {
        "id": "jTZU6Gd-aoya"
      }
    },
    {
      "cell_type": "markdown",
      "source": [
        "Drop No., Notified data and district_of_onset column. เนื่องจากเป็น column ที่คิดว่าจะไม่ได้ใช้งาน"
      ],
      "metadata": {
        "id": "jtuoOoUuZJrl"
      }
    },
    {
      "cell_type": "code",
      "source": [
        "df = df.drop(['No.','Notified date', 'district_of_onset'], axis = 1)"
      ],
      "metadata": {
        "id": "l93Teu1eWBbh"
      },
      "execution_count": null,
      "outputs": []
    },
    {
      "cell_type": "code",
      "source": [
        "df.head()"
      ],
      "metadata": {
        "colab": {
          "base_uri": "https://localhost:8080/",
          "height": 206
        },
        "id": "Q1YDYoS4aeJo",
        "outputId": "1577f4a8-f421-4d1e-db3f-d1fcb32afa45"
      },
      "execution_count": null,
      "outputs": [
        {
          "output_type": "execute_result",
          "data": {
            "text/plain": [
              "  announce_date   sex   age Unit nationality province_of_isolation  \\\n",
              "0    2020-01-12  หญิง  61.0   ปี       China         กรุงเทพมหานคร   \n",
              "1    2020-01-17  หญิง  74.0   ปี       China         กรุงเทพมหานคร   \n",
              "2    2020-01-22  หญิง  73.0   ปี    Thailand                นครปฐม   \n",
              "3    2020-01-22   ชาย  68.0   ปี       China         กรุงเทพมหานคร   \n",
              "4    2020-01-24  หญิง  66.0   ปี       China               นนทบุรี   \n",
              "\n",
              "                               risk province_of_onset  \n",
              "0  คนต่างชาติเดินทางมาจากต่างประเทศ     กรุงเทพมหานคร  \n",
              "1  คนต่างชาติเดินทางมาจากต่างประเทศ     กรุงเทพมหานคร  \n",
              "2  คนต่างชาติเดินทางมาจากต่างประเทศ            นครปฐม  \n",
              "3  คนต่างชาติเดินทางมาจากต่างประเทศ     กรุงเทพมหานคร  \n",
              "4  คนต่างชาติเดินทางมาจากต่างประเทศ     กรุงเทพมหานคร  "
            ],
            "text/html": [
              "\n",
              "  <div id=\"df-3c1a6c2a-9472-4449-87d0-6e1552d4ffd2\">\n",
              "    <div class=\"colab-df-container\">\n",
              "      <div>\n",
              "<style scoped>\n",
              "    .dataframe tbody tr th:only-of-type {\n",
              "        vertical-align: middle;\n",
              "    }\n",
              "\n",
              "    .dataframe tbody tr th {\n",
              "        vertical-align: top;\n",
              "    }\n",
              "\n",
              "    .dataframe thead th {\n",
              "        text-align: right;\n",
              "    }\n",
              "</style>\n",
              "<table border=\"1\" class=\"dataframe\">\n",
              "  <thead>\n",
              "    <tr style=\"text-align: right;\">\n",
              "      <th></th>\n",
              "      <th>announce_date</th>\n",
              "      <th>sex</th>\n",
              "      <th>age</th>\n",
              "      <th>Unit</th>\n",
              "      <th>nationality</th>\n",
              "      <th>province_of_isolation</th>\n",
              "      <th>risk</th>\n",
              "      <th>province_of_onset</th>\n",
              "    </tr>\n",
              "  </thead>\n",
              "  <tbody>\n",
              "    <tr>\n",
              "      <th>0</th>\n",
              "      <td>2020-01-12</td>\n",
              "      <td>หญิง</td>\n",
              "      <td>61.0</td>\n",
              "      <td>ปี</td>\n",
              "      <td>China</td>\n",
              "      <td>กรุงเทพมหานคร</td>\n",
              "      <td>คนต่างชาติเดินทางมาจากต่างประเทศ</td>\n",
              "      <td>กรุงเทพมหานคร</td>\n",
              "    </tr>\n",
              "    <tr>\n",
              "      <th>1</th>\n",
              "      <td>2020-01-17</td>\n",
              "      <td>หญิง</td>\n",
              "      <td>74.0</td>\n",
              "      <td>ปี</td>\n",
              "      <td>China</td>\n",
              "      <td>กรุงเทพมหานคร</td>\n",
              "      <td>คนต่างชาติเดินทางมาจากต่างประเทศ</td>\n",
              "      <td>กรุงเทพมหานคร</td>\n",
              "    </tr>\n",
              "    <tr>\n",
              "      <th>2</th>\n",
              "      <td>2020-01-22</td>\n",
              "      <td>หญิง</td>\n",
              "      <td>73.0</td>\n",
              "      <td>ปี</td>\n",
              "      <td>Thailand</td>\n",
              "      <td>นครปฐม</td>\n",
              "      <td>คนต่างชาติเดินทางมาจากต่างประเทศ</td>\n",
              "      <td>นครปฐม</td>\n",
              "    </tr>\n",
              "    <tr>\n",
              "      <th>3</th>\n",
              "      <td>2020-01-22</td>\n",
              "      <td>ชาย</td>\n",
              "      <td>68.0</td>\n",
              "      <td>ปี</td>\n",
              "      <td>China</td>\n",
              "      <td>กรุงเทพมหานคร</td>\n",
              "      <td>คนต่างชาติเดินทางมาจากต่างประเทศ</td>\n",
              "      <td>กรุงเทพมหานคร</td>\n",
              "    </tr>\n",
              "    <tr>\n",
              "      <th>4</th>\n",
              "      <td>2020-01-24</td>\n",
              "      <td>หญิง</td>\n",
              "      <td>66.0</td>\n",
              "      <td>ปี</td>\n",
              "      <td>China</td>\n",
              "      <td>นนทบุรี</td>\n",
              "      <td>คนต่างชาติเดินทางมาจากต่างประเทศ</td>\n",
              "      <td>กรุงเทพมหานคร</td>\n",
              "    </tr>\n",
              "  </tbody>\n",
              "</table>\n",
              "</div>\n",
              "      <button class=\"colab-df-convert\" onclick=\"convertToInteractive('df-3c1a6c2a-9472-4449-87d0-6e1552d4ffd2')\"\n",
              "              title=\"Convert this dataframe to an interactive table.\"\n",
              "              style=\"display:none;\">\n",
              "        \n",
              "  <svg xmlns=\"http://www.w3.org/2000/svg\" height=\"24px\"viewBox=\"0 0 24 24\"\n",
              "       width=\"24px\">\n",
              "    <path d=\"M0 0h24v24H0V0z\" fill=\"none\"/>\n",
              "    <path d=\"M18.56 5.44l.94 2.06.94-2.06 2.06-.94-2.06-.94-.94-2.06-.94 2.06-2.06.94zm-11 1L8.5 8.5l.94-2.06 2.06-.94-2.06-.94L8.5 2.5l-.94 2.06-2.06.94zm10 10l.94 2.06.94-2.06 2.06-.94-2.06-.94-.94-2.06-.94 2.06-2.06.94z\"/><path d=\"M17.41 7.96l-1.37-1.37c-.4-.4-.92-.59-1.43-.59-.52 0-1.04.2-1.43.59L10.3 9.45l-7.72 7.72c-.78.78-.78 2.05 0 2.83L4 21.41c.39.39.9.59 1.41.59.51 0 1.02-.2 1.41-.59l7.78-7.78 2.81-2.81c.8-.78.8-2.07 0-2.86zM5.41 20L4 18.59l7.72-7.72 1.47 1.35L5.41 20z\"/>\n",
              "  </svg>\n",
              "      </button>\n",
              "      \n",
              "  <style>\n",
              "    .colab-df-container {\n",
              "      display:flex;\n",
              "      flex-wrap:wrap;\n",
              "      gap: 12px;\n",
              "    }\n",
              "\n",
              "    .colab-df-convert {\n",
              "      background-color: #E8F0FE;\n",
              "      border: none;\n",
              "      border-radius: 50%;\n",
              "      cursor: pointer;\n",
              "      display: none;\n",
              "      fill: #1967D2;\n",
              "      height: 32px;\n",
              "      padding: 0 0 0 0;\n",
              "      width: 32px;\n",
              "    }\n",
              "\n",
              "    .colab-df-convert:hover {\n",
              "      background-color: #E2EBFA;\n",
              "      box-shadow: 0px 1px 2px rgba(60, 64, 67, 0.3), 0px 1px 3px 1px rgba(60, 64, 67, 0.15);\n",
              "      fill: #174EA6;\n",
              "    }\n",
              "\n",
              "    [theme=dark] .colab-df-convert {\n",
              "      background-color: #3B4455;\n",
              "      fill: #D2E3FC;\n",
              "    }\n",
              "\n",
              "    [theme=dark] .colab-df-convert:hover {\n",
              "      background-color: #434B5C;\n",
              "      box-shadow: 0px 1px 3px 1px rgba(0, 0, 0, 0.15);\n",
              "      filter: drop-shadow(0px 1px 2px rgba(0, 0, 0, 0.3));\n",
              "      fill: #FFFFFF;\n",
              "    }\n",
              "  </style>\n",
              "\n",
              "      <script>\n",
              "        const buttonEl =\n",
              "          document.querySelector('#df-3c1a6c2a-9472-4449-87d0-6e1552d4ffd2 button.colab-df-convert');\n",
              "        buttonEl.style.display =\n",
              "          google.colab.kernel.accessAllowed ? 'block' : 'none';\n",
              "\n",
              "        async function convertToInteractive(key) {\n",
              "          const element = document.querySelector('#df-3c1a6c2a-9472-4449-87d0-6e1552d4ffd2');\n",
              "          const dataTable =\n",
              "            await google.colab.kernel.invokeFunction('convertToInteractive',\n",
              "                                                     [key], {});\n",
              "          if (!dataTable) return;\n",
              "\n",
              "          const docLinkHtml = 'Like what you see? Visit the ' +\n",
              "            '<a target=\"_blank\" href=https://colab.research.google.com/notebooks/data_table.ipynb>data table notebook</a>'\n",
              "            + ' to learn more about interactive tables.';\n",
              "          element.innerHTML = '';\n",
              "          dataTable['output_type'] = 'display_data';\n",
              "          await google.colab.output.renderOutput(dataTable, element);\n",
              "          const docLink = document.createElement('div');\n",
              "          docLink.innerHTML = docLinkHtml;\n",
              "          element.appendChild(docLink);\n",
              "        }\n",
              "      </script>\n",
              "    </div>\n",
              "  </div>\n",
              "  "
            ]
          },
          "metadata": {},
          "execution_count": 26
        }
      ]
    },
    {
      "cell_type": "markdown",
      "source": [
        "## Clean sex column"
      ],
      "metadata": {
        "id": "dqLscLrhiYnS"
      }
    },
    {
      "cell_type": "markdown",
      "source": [
        "Check unique values"
      ],
      "metadata": {
        "id": "KUH0hfJTjmrg"
      }
    },
    {
      "cell_type": "code",
      "source": [
        "df['sex'].unique()"
      ],
      "metadata": {
        "colab": {
          "base_uri": "https://localhost:8080/"
        },
        "id": "dTLMXjVyjlty",
        "outputId": "0746e376-7a1a-4c7e-fa42-51eaeff099c6"
      },
      "execution_count": null,
      "outputs": [
        {
          "output_type": "execute_result",
          "data": {
            "text/plain": [
              "array(['หญิง', 'ชาย', nan, 'นาย', '\\xa0หญิง', 'ร.ต.ท.', 'หห', 'หญง',\n",
              "       'หญิิง', 'ช', 'ญ', 'หณิง'], dtype=object)"
            ]
          },
          "metadata": {},
          "execution_count": 27
        }
      ]
    },
    {
      "cell_type": "markdown",
      "source": [
        "Replace Values"
      ],
      "metadata": {
        "id": "8oN4Ot14kSEU"
      }
    },
    {
      "cell_type": "code",
      "source": [
        "replace1 = {\n",
        "    'นาย':'ชาย',\n",
        "    'ร.ต.ท.':'ชาย',\n",
        "    'ช':'ชาย',\n",
        "    '\\xa0หญิง':'หญิง',\n",
        "    'หห':'หญิง',\n",
        "    'หญง':'หญิง',\n",
        "    'หญิิง':'หญิง',\n",
        "    'ญ':'หญิง',\n",
        "    'หณิง':'หญิง'\n",
        "    }"
      ],
      "metadata": {
        "id": "TkbWjBhqlKQH"
      },
      "execution_count": null,
      "outputs": []
    },
    {
      "cell_type": "code",
      "source": [
        "df['sex'] = df['sex'].replace(replace1)"
      ],
      "metadata": {
        "id": "XL7QkHCRj2sO"
      },
      "execution_count": null,
      "outputs": []
    },
    {
      "cell_type": "code",
      "source": [
        "df['sex'].unique()"
      ],
      "metadata": {
        "colab": {
          "base_uri": "https://localhost:8080/"
        },
        "id": "DVeaGo_MkWln",
        "outputId": "bad61c43-ef24-45d3-d30e-ee5f304cf345"
      },
      "execution_count": null,
      "outputs": [
        {
          "output_type": "execute_result",
          "data": {
            "text/plain": [
              "array(['หญิง', 'ชาย', nan], dtype=object)"
            ]
          },
          "metadata": {},
          "execution_count": 30
        }
      ]
    },
    {
      "cell_type": "markdown",
      "source": [
        "Fill null values ด้วยคำว่า 'ไม่ระบุ'"
      ],
      "metadata": {
        "id": "BFTJgHmXh8PY"
      }
    },
    {
      "cell_type": "code",
      "source": [
        "df['sex'] = df['sex'].fillna('ไม่ระบุ')\n",
        "df_cleanSex = df"
      ],
      "metadata": {
        "id": "VQ8vD2nzEBXo"
      },
      "execution_count": null,
      "outputs": []
    },
    {
      "cell_type": "code",
      "source": [
        "df_cleanSex['sex'].unique()"
      ],
      "metadata": {
        "colab": {
          "base_uri": "https://localhost:8080/"
        },
        "id": "1m-GERsmEJKH",
        "outputId": "b9d43c36-7937-4dfc-97b4-2fd10d66b7f7"
      },
      "execution_count": null,
      "outputs": [
        {
          "output_type": "execute_result",
          "data": {
            "text/plain": [
              "array(['หญิง', 'ชาย', 'ไม่ระบุ'], dtype=object)"
            ]
          },
          "metadata": {},
          "execution_count": 32
        }
      ]
    },
    {
      "cell_type": "markdown",
      "source": [
        "## Clean age column"
      ],
      "metadata": {
        "id": "U66TT29nQtCk"
      }
    },
    {
      "cell_type": "markdown",
      "source": [
        "Check unique values"
      ],
      "metadata": {
        "id": "ZKpBZufpRb2X"
      }
    },
    {
      "cell_type": "code",
      "source": [
        "df_cleanSex['age'].nunique()"
      ],
      "metadata": {
        "colab": {
          "base_uri": "https://localhost:8080/"
        },
        "id": "Td5jF7UbRbbX",
        "outputId": "4934fd8c-82ef-4d94-edb3-0b7a53276d04"
      },
      "execution_count": null,
      "outputs": [
        {
          "output_type": "execute_result",
          "data": {
            "text/plain": [
              "1336"
            ]
          },
          "metadata": {},
          "execution_count": 33
        }
      ]
    },
    {
      "cell_type": "markdown",
      "source": [
        "เปลี่ยน data type ให้เป็น string ทั้งหมดก่อน เพราะจาก raw data ทุก record มี data type ต่างกัน และเพื่อให้สะดวกในการตัดทศนิยม"
      ],
      "metadata": {
        "id": "eU4MgfMIcppF"
      }
    },
    {
      "cell_type": "code",
      "source": [
        "df_cleanSex['age'] = df_cleanSex['age'].astype(str)"
      ],
      "metadata": {
        "id": "zKVKGbii5DhH"
      },
      "execution_count": null,
      "outputs": []
    },
    {
      "cell_type": "code",
      "source": [
        "df_cleanSex['age'].unique()"
      ],
      "metadata": {
        "colab": {
          "base_uri": "https://localhost:8080/"
        },
        "id": "lEPNJdiP5JEu",
        "outputId": "f75eb8db-72b8-4b96-ca30-f232e9b8b41f"
      },
      "execution_count": null,
      "outputs": [
        {
          "output_type": "execute_result",
          "data": {
            "text/plain": [
              "array(['61.0', '74.0', '73.0', ..., '116.0', '4.4', '123.0'], dtype=object)"
            ]
          },
          "metadata": {},
          "execution_count": 35
        }
      ]
    },
    {
      "cell_type": "code",
      "source": [
        "df_cleanSex['age'] = df_cleanSex['age'].apply(lambda x: x.split('.')[0])"
      ],
      "metadata": {
        "id": "F2t_qqJKlOKk"
      },
      "execution_count": null,
      "outputs": []
    },
    {
      "cell_type": "markdown",
      "source": [
        "Replace age 0 with 1 ปรับเลขอายุที่เป็นทศนิยมที่มี 0 นำหน้าให้เป็นอายุ 1ปี"
      ],
      "metadata": {
        "id": "p7WnMbfmvdLu"
      }
    },
    {
      "cell_type": "code",
      "source": [
        "df_cleanSex['age'] = df_cleanSex['age'].str.replace('0','1')"
      ],
      "metadata": {
        "id": "_ThYstYntshR"
      },
      "execution_count": null,
      "outputs": []
    },
    {
      "cell_type": "code",
      "source": [
        "df_cleanSex['age'].sort_values().unique()"
      ],
      "metadata": {
        "colab": {
          "base_uri": "https://localhost:8080/"
        },
        "id": "IfVjJ6UQlx0r",
        "outputId": "1829d11a-931b-4df1-d793-21f8bb856127"
      },
      "execution_count": null,
      "outputs": [
        {
          "output_type": "execute_result",
          "data": {
            "text/plain": [
              "array(['1', '11', '111', '112', '113', '114', '115', '116', '117', '118',\n",
              "       '119', '12', '121', '122', '123', '125', '13', '14', '143', '146',\n",
              "       '149', '15', '158', '16', '17', '18', '19', '2', '21', '2121',\n",
              "       '22', '23', '24', '241', '25', '26', '27', '28', '29', '3', '31',\n",
              "       '32', '33', '331', '34', '35', '36', '37', '38', '39', '4', '41',\n",
              "       '42', '43', '44', '441', '44899', '45', '46', '47', '48', '49',\n",
              "       '5', '51', '52', '53', '54', '55', '56', '57', '58', '59', '6',\n",
              "       '61', '62', '63', '64', '65', '66', '67', '68', '69', '7', '71',\n",
              "       '72', '73', '74', '75', '76', '77', '78', '79', '8', '81', '82',\n",
              "       '83', '84', '85', '86', '87', '88', '89', '9', '91', '92', '93',\n",
              "       '94', '95', '96', '97', '98', '99', 'Nov-35', 'nan', '\\xa081'],\n",
              "      dtype=object)"
            ]
          },
          "metadata": {},
          "execution_count": 38
        }
      ]
    },
    {
      "cell_type": "markdown",
      "source": [
        "Replace abnormal values "
      ],
      "metadata": {
        "id": "v5SKTY5ywE4w"
      }
    },
    {
      "cell_type": "markdown",
      "source": [
        "convert null values and abnormal values to -99999"
      ],
      "metadata": {
        "id": "KlexS8VdGD91"
      }
    },
    {
      "cell_type": "code",
      "source": [
        "replace2 = {\n",
        "    '2121':'-99999',\n",
        "    '\\xa081':'-99999',\n",
        "    '2021':'-99999',\n",
        "    'Nov-35':'-99999',\n",
        "    '44899':'-99999',\n",
        "    'nan':'-99999'\n",
        "}"
      ],
      "metadata": {
        "id": "aWNgOsc5FdsS"
      },
      "execution_count": null,
      "outputs": []
    },
    {
      "cell_type": "code",
      "source": [
        "df_cleanSex['age'] = df_cleanSex['age'].replace(replace2).fillna('-99999')"
      ],
      "metadata": {
        "id": "cTwb_kUnGZAF"
      },
      "execution_count": null,
      "outputs": []
    },
    {
      "cell_type": "code",
      "source": [
        "df_cleanAge = df_cleanSex"
      ],
      "metadata": {
        "id": "Nq6wMwOMG6Ar"
      },
      "execution_count": null,
      "outputs": []
    },
    {
      "cell_type": "markdown",
      "source": [
        "convert data type in column age to integer เพื่อให้สามารถนำไปคำนวณได้"
      ],
      "metadata": {
        "id": "KzDDuCgb04n3"
      }
    },
    {
      "cell_type": "code",
      "source": [
        "df_cleanAge['age'] = df_cleanAge['age'].astype(int)"
      ],
      "metadata": {
        "id": "8SwP7SFl03yt"
      },
      "execution_count": null,
      "outputs": []
    },
    {
      "cell_type": "code",
      "source": [
        "df_cleanAge['age'].dtypes"
      ],
      "metadata": {
        "colab": {
          "base_uri": "https://localhost:8080/"
        },
        "id": "47hczAU81PzF",
        "outputId": "4567eacc-ef39-456e-be3f-ce4e2fa6f30b"
      },
      "execution_count": null,
      "outputs": [
        {
          "output_type": "execute_result",
          "data": {
            "text/plain": [
              "dtype('int64')"
            ]
          },
          "metadata": {},
          "execution_count": 43
        }
      ]
    },
    {
      "cell_type": "code",
      "source": [
        "df_cleanAge['age'].sort_values().unique()"
      ],
      "metadata": {
        "colab": {
          "base_uri": "https://localhost:8080/"
        },
        "id": "mUZ0eGXFikC3",
        "outputId": "e69cf5aa-1c2b-43e4-c8b6-5cd8626fa0a7"
      },
      "execution_count": null,
      "outputs": [
        {
          "output_type": "execute_result",
          "data": {
            "text/plain": [
              "array([-99999,      1,      2,      3,      4,      5,      6,      7,\n",
              "            8,      9,     11,     12,     13,     14,     15,     16,\n",
              "           17,     18,     19,     21,     22,     23,     24,     25,\n",
              "           26,     27,     28,     29,     31,     32,     33,     34,\n",
              "           35,     36,     37,     38,     39,     41,     42,     43,\n",
              "           44,     45,     46,     47,     48,     49,     51,     52,\n",
              "           53,     54,     55,     56,     57,     58,     59,     61,\n",
              "           62,     63,     64,     65,     66,     67,     68,     69,\n",
              "           71,     72,     73,     74,     75,     76,     77,     78,\n",
              "           79,     81,     82,     83,     84,     85,     86,     87,\n",
              "           88,     89,     91,     92,     93,     94,     95,     96,\n",
              "           97,     98,     99,    111,    112,    113,    114,    115,\n",
              "          116,    117,    118,    119,    121,    122,    123,    125,\n",
              "          143,    146,    149,    158,    241,    331,    441])"
            ]
          },
          "metadata": {},
          "execution_count": 44
        }
      ]
    },
    {
      "cell_type": "markdown",
      "source": [
        "เปลี่ยนค่าใน column Unit ที่เป็น เดือน และ วัน ให้เป็น ปี เพื่อสะดวกในการวิเคราะห์ในหน่วยเดียวกัน โดย record ที่มีอายุเป็น เดือนและวัน จะแปรค่าเป็นอายุ 1ปีหรือต่ำกว่า"
      ],
      "metadata": {
        "id": "QJmvELRNz-8i"
      }
    },
    {
      "cell_type": "code",
      "source": [
        "df_cleanAge.loc[(df_cleanAge['Unit'] == 'เดือน')|(df_cleanAge['Unit'] == 'วัน'),'age'] = 1"
      ],
      "metadata": {
        "id": "M2bWOX2Zy7Xj"
      },
      "execution_count": null,
      "outputs": []
    },
    {
      "cell_type": "code",
      "source": [
        "df_cleanAge.loc[(df_cleanAge['Unit'] == 'เดือน')|(df_cleanAge['Unit'] == 'วัน'),'age']"
      ],
      "metadata": {
        "colab": {
          "base_uri": "https://localhost:8080/"
        },
        "id": "Z162PJTU5uhI",
        "outputId": "b0298f1f-17c3-4c6c-9398-a4bb4bc4e450"
      },
      "execution_count": null,
      "outputs": [
        {
          "output_type": "execute_result",
          "data": {
            "text/plain": [
              "301       1\n",
              "1076      1\n",
              "1676      1\n",
              "1988      1\n",
              "3507      1\n",
              "         ..\n",
              "354226    1\n",
              "354354    1\n",
              "354421    1\n",
              "354452    1\n",
              "356792    1\n",
              "Name: age, Length: 14537, dtype: int64"
            ]
          },
          "metadata": {},
          "execution_count": 46
        }
      ]
    },
    {
      "cell_type": "code",
      "source": [
        "df_cleanAge['Unit'] = df_cleanAge['Unit'].replace(['เดือน',' เดือน','วัน',' วัน'],'ปี').fillna('ปี')"
      ],
      "metadata": {
        "id": "GKelfmfl6PVo"
      },
      "execution_count": null,
      "outputs": []
    },
    {
      "cell_type": "code",
      "source": [
        "df_cleanAge['Unit'].unique()"
      ],
      "metadata": {
        "colab": {
          "base_uri": "https://localhost:8080/"
        },
        "id": "BX9g13926wda",
        "outputId": "4e6ec365-c3c2-4b77-eece-178ac0a3d6c2"
      },
      "execution_count": null,
      "outputs": [
        {
          "output_type": "execute_result",
          "data": {
            "text/plain": [
              "array(['ปี'], dtype=object)"
            ]
          },
          "metadata": {},
          "execution_count": 48
        }
      ]
    },
    {
      "cell_type": "markdown",
      "source": [
        "## Clean nationality column"
      ],
      "metadata": {
        "id": "pELq1Y8M-M6M"
      }
    },
    {
      "cell_type": "markdown",
      "source": [
        "Check unique values"
      ],
      "metadata": {
        "id": "kNbrRnWRGDqg"
      }
    },
    {
      "cell_type": "code",
      "source": [
        "df_cleanAge['nationality'].unique()"
      ],
      "metadata": {
        "colab": {
          "base_uri": "https://localhost:8080/"
        },
        "id": "iMP_qbxG-B5a",
        "outputId": "a328f37f-bcb3-44f7-a417-bed7725409b0"
      },
      "execution_count": null,
      "outputs": [
        {
          "output_type": "execute_result",
          "data": {
            "text/plain": [
              "array(['China', 'Thailand', 'Italy', 'United Kingdom', 'Singapore',\n",
              "       'Japan', 'France', 'Denmark', 'Belgium',\n",
              "       'United States of America', 'Germany', 'Pakistan', 'Canada',\n",
              "       'Burma', nan, 'Malaysia', 'Switzerland', 'Philippines', 'Iran',\n",
              "       'Sweden', 'New Zealand', 'Finland', 'Brazil', 'Netherlands',\n",
              "       'Israel', 'Australia', 'Cambodia', 'India', 'Spain', 'Ukraine',\n",
              "       'Portugal', 'Uzbekistan', 'Laos', 'Korea, South', 'India-Thailand',\n",
              "       'Indonesia', 'Russia', 'Albania', 'Taiwan', 'Serbia', 'Vietnam',\n",
              "       'Hungary', 'Liberia', 'Kuwait', 'Tunisia', 'Mexico', 'ต่างด้าว',\n",
              "       'Kazakhstan', 'Palestine', 'Mali', 'Yemen', 'Sudan', 'Egypt',\n",
              "       'Bangladesh', 'Qatar', 'Ethiopia', 'Turkey', 'Laotian',\n",
              "       'Macedonia', 'Portuguese', 'Bahrain', 'Nepal', 'Lithuania',\n",
              "       'Syria', 'Kenya', 'Oman', 'Azerbaijan', 'Maldives', 'Czechia',\n",
              "       'American', 'Italian', 'deutsch', 'American ', 'Norway', 'Belarus',\n",
              "       'Estonia', 'Nigeria', 'Bulgaria', 'Libya', 'Jordan', 'Romania',\n",
              "       'Argentina', 'Afghanistan', 'china', 'Ireland', 'ไทใหญ่',\n",
              "       'Croatia', 'Eritrea', 'United Arab Emirates', 'Hong Kong',\n",
              "       'Slovenia', 'Cameroon', 'Uganda', 'ไทยใหญ่', 'Somalia', 'Greece',\n",
              "       'Iceland', 'American Samoa', 'Lebanon', 'Poland', 'South Africa',\n",
              "       'Austria', 'Zimbabwe', 'Mauritius', 'france', 'Sri Lanka',\n",
              "       'Sierra Leone', 'Kyrgyzstan', 'Latvia', 'Armenia', 'Palestinian',\n",
              "       'Algeria', 'Kosovo', 'ไม่มีสัญชาติ', \"Cote D'Ivoire\", 'Iraq',\n",
              "       'Tajikistan', 'บราซิล', 'yemen', 'British', 'japan', 'Cuba',\n",
              "       'Namibia', 'Myanmar', 'ลาว', 'Lao', 'Bermuda', 'French Guiana',\n",
              "       'Brunei', 'Tanzania', 'laos', 'Mongolia', 'Malta', 'อเมริกา',\n",
              "       'Luxembourg', 'Guinea', 'burma', 'Congo (Brazzaville)', 'india',\n",
              "       'taiwan', 'Cambodian', 'Colombia', 'Gambia, The', 'Malawi',\n",
              "       'Ghana', 'Burmese', 'Nicaragua', 'Dominican Republic', 'Chinese',\n",
              "       'Vietnamese', 'Laotian / Lao', 'Filipino', 'Indian',\n",
              "       'South Korean', 'Swedish', 'Japanese', 'Taiwanese', 'Gambia',\n",
              "       'South African', 'Indonesian', 'Iranian', 'Nepalese / Nepali',\n",
              "       'Malaysian', 'Guyanese', 'Guinean', 'Malian', 'Spanish',\n",
              "       'Austrian', 'Canadian', 'Pakistani', 'Norwegian', 'Israeli',\n",
              "       'Australian', 'pakistani', 'Sri Lankan', 'French', 'Turkish',\n",
              "       'Nigerian', 'Other', 'Swiss', 'Kuwaiti', 'Tanzanian', 'Ghanaian',\n",
              "       'German', 'Timor-Leste', 'British / English', 'Danish',\n",
              "       'Venezuelan', 'Ivorian', 'Romanian', 'Maldivian', 'African',\n",
              "       'Russian', 'Mongolian', 'Guyana', 'Haitian', 'Ugandan', 'Moroccan',\n",
              "       'Kenyan', 'Serbian', 'Dutch', 'Senegal', 'Syrian', 'Singaporean',\n",
              "       'congo', 'Oatari', 'cambodian', 'Belgian', 'Brazilian', 'Egyptian',\n",
              "       'Irish', 'Bangladeshi', 'canadian', 'Afghan / Afghani', 'burmese',\n",
              "       'Mauritians', 'Colombian', 'Uzbek', 'พม่า', 'chinese', 'ไนจีเรีย',\n",
              "       'laotian / Lao', 'Polish', 'Emirati', 'กัมพูชา', 'จีน', 'IRISH',\n",
              "       'Czech', 'Yemeni / Yemenite', 'Greek', 'Hungarian', 'Americans',\n",
              "       'Jordanian', 'Algerian', 'Iraqi', 'iranian', 'North Korean',\n",
              "       'Finnish', 'Timorese', 'Icelandic', 'Laotian/Lao', 'indian',\n",
              "       'Kazakh / Kazakhstani', 'Thai', 'L', 'Argentine', 'Korean',\n",
              "       'Slovak / Slovakian', 'British/English', 'CAMBODIAN', 'other',\n",
              "       'Armenian', 'Lebanese', 'Emirate', 'Afghan', 'Germen', 'Georgian',\n",
              "       'Omani', 'Tunisian', 'Ukrainian', 'Belarusian', 'japanese',\n",
              "       'filipino', 'Peruvian', 'Estonian', 'Bulgarian', 'Ecuadorian',\n",
              "       'Tajik', 'Chilean', 'British / Welsh', 'Croatian', 'irish',\n",
              "       'Mexican', 'British / Scottish', 'swiss', 'Cypriot', 'Qatari',\n",
              "       'Zimbabwean', 'Cuban', 'Gremany', 'Argentine / Argentinian',\n",
              "       'Saudi Arabian', 'Slovenian / Slovene', 'Somali / Somalian',\n",
              "       'Lithuanian', 'Liberian', 'Maltese', 'Sudanese', 'Ethiopian',\n",
              "       'australian', 'Bahraini', 'Turkcish', 'South Korea', 'ไม่ระบุ',\n",
              "       'RUSSIAN', 'Latvian', 'Uruguayan', 'Bosnian', 'south african',\n",
              "       'Arabi', 'สวีเดน', 'au', 'Albanian', 'Kyrgyz', 'BRITISH',\n",
              "       'AUSTRALIAN', 'GERMAN', 'SWISS', 'BAHRAINI', 'kuwaiti', 'Bhutan',\n",
              "       'UAE', 'Gambian', '\\xa0Bulgarian', 'Bosnian/Herzegovinian',\n",
              "       'Luxembourgish', 'Libyan', 'british', 'Eritrean',\n",
              "       'Trinidad and Tobago', 'Zambian', 'Fijian', 'Kosovan', 'CZECH',\n",
              "       'British / Northern Irish', 'Swaziland', 'Namibian', 'Bruneian',\n",
              "       'FILIPINO', 'Phutan'], dtype=object)"
            ]
          },
          "metadata": {},
          "execution_count": 49
        }
      ]
    },
    {
      "cell_type": "code",
      "source": [
        "df_cleanAge['nationality'].nunique()"
      ],
      "metadata": {
        "colab": {
          "base_uri": "https://localhost:8080/"
        },
        "id": "in_mOk5WBWlC",
        "outputId": "0c8c672f-e094-48ed-fc2c-652efccc3e04"
      },
      "execution_count": null,
      "outputs": [
        {
          "output_type": "execute_result",
          "data": {
            "text/plain": [
              "329"
            ]
          },
          "metadata": {},
          "execution_count": 50
        }
      ]
    },
    {
      "cell_type": "markdown",
      "source": [
        "Convert all values to lower case เพื่อสะดวกในการกรองค่า และการเปลี่ยนแปลงค่า"
      ],
      "metadata": {
        "id": "RBzpNGJYGQtw"
      }
    },
    {
      "cell_type": "code",
      "source": [
        "df_cleanAge['nationality'] = df_cleanAge['nationality'].str.lower()"
      ],
      "metadata": {
        "id": "6n6gMLos-hYT"
      },
      "execution_count": null,
      "outputs": []
    },
    {
      "cell_type": "code",
      "source": [
        "df_cleanAge['nationality'].nunique()"
      ],
      "metadata": {
        "colab": {
          "base_uri": "https://localhost:8080/"
        },
        "id": "fJr_0Y2bD7Tn",
        "outputId": "b74d1970-6689-48f5-c641-94c3337143ad"
      },
      "execution_count": null,
      "outputs": [
        {
          "output_type": "execute_result",
          "data": {
            "text/plain": [
              "294"
            ]
          },
          "metadata": {},
          "execution_count": 52
        }
      ]
    },
    {
      "cell_type": "code",
      "source": [
        "df_cleanAge['nationality'].sort_values().unique()"
      ],
      "metadata": {
        "colab": {
          "base_uri": "https://localhost:8080/"
        },
        "id": "Kwf6oSE3F1Qt",
        "outputId": "915d5c05-0cfd-4e43-e5b9-51948f80f788"
      },
      "execution_count": null,
      "outputs": [
        {
          "output_type": "execute_result",
          "data": {
            "text/plain": [
              "array(['afghan', 'afghan / afghani', 'afghanistan', 'african', 'albania',\n",
              "       'albanian', 'algeria', 'algerian', 'american', 'american ',\n",
              "       'american samoa', 'americans', 'arabi', 'argentina', 'argentine',\n",
              "       'argentine / argentinian', 'armenia', 'armenian', 'au',\n",
              "       'australia', 'australian', 'austria', 'austrian', 'azerbaijan',\n",
              "       'bahrain', 'bahraini', 'bangladesh', 'bangladeshi', 'belarus',\n",
              "       'belarusian', 'belgian', 'belgium', 'bermuda', 'bhutan', 'bosnian',\n",
              "       'bosnian/herzegovinian', 'brazil', 'brazilian', 'british',\n",
              "       'british / english', 'british / northern irish',\n",
              "       'british / scottish', 'british / welsh', 'british/english',\n",
              "       'brunei', 'bruneian', 'bulgaria', 'bulgarian', 'burma', 'burmese',\n",
              "       'cambodia', 'cambodian', 'cameroon', 'canada', 'canadian',\n",
              "       'chilean', 'china', 'chinese', 'colombia', 'colombian', 'congo',\n",
              "       'congo (brazzaville)', \"cote d'ivoire\", 'croatia', 'croatian',\n",
              "       'cuba', 'cuban', 'cypriot', 'czech', 'czechia', 'danish',\n",
              "       'denmark', 'deutsch', 'dominican republic', 'dutch', 'ecuadorian',\n",
              "       'egypt', 'egyptian', 'emirate', 'emirati', 'eritrea', 'eritrean',\n",
              "       'estonia', 'estonian', 'ethiopia', 'ethiopian', 'fijian',\n",
              "       'filipino', 'finland', 'finnish', 'france', 'french',\n",
              "       'french guiana', 'gambia', 'gambia, the', 'gambian', 'georgian',\n",
              "       'german', 'germany', 'germen', 'ghana', 'ghanaian', 'greece',\n",
              "       'greek', 'gremany', 'guinea', 'guinean', 'guyana', 'guyanese',\n",
              "       'haitian', 'hong kong', 'hungarian', 'hungary', 'iceland',\n",
              "       'icelandic', 'india', 'india-thailand', 'indian', 'indonesia',\n",
              "       'indonesian', 'iran', 'iranian', 'iraq', 'iraqi', 'ireland',\n",
              "       'irish', 'israel', 'israeli', 'italian', 'italy', 'ivorian',\n",
              "       'japan', 'japanese', 'jordan', 'jordanian', 'kazakh / kazakhstani',\n",
              "       'kazakhstan', 'kenya', 'kenyan', 'korea, south', 'korean',\n",
              "       'kosovan', 'kosovo', 'kuwait', 'kuwaiti', 'kyrgyz', 'kyrgyzstan',\n",
              "       'l', 'lao', 'laos', 'laotian', 'laotian / lao', 'laotian/lao',\n",
              "       'latvia', 'latvian', 'lebanese', 'lebanon', 'liberia', 'liberian',\n",
              "       'libya', 'libyan', 'lithuania', 'lithuanian', 'luxembourg',\n",
              "       'luxembourgish', 'macedonia', 'malawi', 'malaysia', 'malaysian',\n",
              "       'maldives', 'maldivian', 'mali', 'malian', 'malta', 'maltese',\n",
              "       'mauritians', 'mauritius', 'mexican', 'mexico', 'mongolia',\n",
              "       'mongolian', 'moroccan', 'myanmar', 'namibia', 'namibian', 'nepal',\n",
              "       'nepalese / nepali', 'netherlands', 'new zealand', 'nicaragua',\n",
              "       'nigeria', 'nigerian', 'north korean', 'norway', 'norwegian',\n",
              "       'oatari', 'oman', 'omani', 'other', 'pakistan', 'pakistani',\n",
              "       'palestine', 'palestinian', 'peruvian', 'philippines', 'phutan',\n",
              "       'poland', 'polish', 'portugal', 'portuguese', 'qatar', 'qatari',\n",
              "       'romania', 'romanian', 'russia', 'russian', 'saudi arabian',\n",
              "       'senegal', 'serbia', 'serbian', 'sierra leone', 'singapore',\n",
              "       'singaporean', 'slovak / slovakian', 'slovenia',\n",
              "       'slovenian / slovene', 'somali / somalian', 'somalia',\n",
              "       'south africa', 'south african', 'south korea', 'south korean',\n",
              "       'spain', 'spanish', 'sri lanka', 'sri lankan', 'sudan', 'sudanese',\n",
              "       'swaziland', 'sweden', 'swedish', 'swiss', 'switzerland', 'syria',\n",
              "       'syrian', 'taiwan', 'taiwanese', 'tajik', 'tajikistan', 'tanzania',\n",
              "       'tanzanian', 'thai', 'thailand', 'timor-leste', 'timorese',\n",
              "       'trinidad and tobago', 'tunisia', 'tunisian', 'turkcish', 'turkey',\n",
              "       'turkish', 'uae', 'uganda', 'ugandan', 'ukraine', 'ukrainian',\n",
              "       'united arab emirates', 'united kingdom',\n",
              "       'united states of america', 'uruguayan', 'uzbek', 'uzbekistan',\n",
              "       'venezuelan', 'vietnam', 'vietnamese', 'yemen',\n",
              "       'yemeni / yemenite', 'zambian', 'zimbabwe', 'zimbabwean',\n",
              "       '\\xa0bulgarian', 'กัมพูชา', 'จีน', 'ต่างด้าว', 'บราซิล', 'พม่า',\n",
              "       'ลาว', 'สวีเดน', 'อเมริกา', 'ไทยใหญ่', 'ไทใหญ่', 'ไนจีเรีย',\n",
              "       'ไม่มีสัญชาติ', 'ไม่ระบุ', nan], dtype=object)"
            ]
          },
          "metadata": {},
          "execution_count": 53
        }
      ]
    },
    {
      "cell_type": "code",
      "source": [
        "replace3 = {\n",
        "    'afghan / afghani':'afghan',\n",
        "    'american samoa':'american',\n",
        "    'american ':'american',\n",
        "    'americans':'american',\n",
        "    'argentine / argentinian':'argentine',\n",
        "    'argentina':'argentine',\n",
        "    'au':'australian',\n",
        "    'austria':'austrian',\n",
        "    'bosnian/herzegovinian':'bosnian',\n",
        "    'british/english':'british / english',\n",
        "    'cambodia':'cambodian',\n",
        "    'กัมพูชา':'cambodian',\n",
        "    'china':'chinese',\n",
        "    'จีน':'chinese',\n",
        "    'emirate':'emirati',\n",
        "    'uae':'emirati',\n",
        "    'united arab emirates':'emirati',\n",
        "    'france':'french',\n",
        "    'french guiana':'french',\n",
        "    'germen':'german',\n",
        "    'gremany':'german',\n",
        "    'germany':'german',\n",
        "    'laos':'laotian / lao',\n",
        "    'laotian/lao':'laotian / lao',\n",
        "    'korean':'south korean',\n",
        "    'south korea':'south korean',\n",
        "    'myanmar':'burmese',\n",
        "    'สวีเดน':'swedish',\n",
        "    'thailand':'thai',\n",
        "    'uzbekistan':'uzbek',\n",
        "    'turkcish':'turkish',\n",
        "    '\\xa0bulgarian':'bulgarian',\n",
        "    'indonesia':'indonesian',\n",
        "    'united kingdom':'british',\n",
        "    'burma':'burmese'\n",
        "}\n",
        "\n",
        "df_cleanAge['nationality'] = df_cleanAge['nationality'].replace(replace3).fillna('ไม่ระบุ')\n"
      ],
      "metadata": {
        "id": "L6gAACaRE9By"
      },
      "execution_count": null,
      "outputs": []
    },
    {
      "cell_type": "code",
      "source": [
        "df_cleanAge['nationality'].nunique()"
      ],
      "metadata": {
        "colab": {
          "base_uri": "https://localhost:8080/"
        },
        "id": "AnTm5uFcMHf9",
        "outputId": "79298ae9-2e8a-4b21-efb6-32b2b298a3c7"
      },
      "execution_count": null,
      "outputs": [
        {
          "output_type": "execute_result",
          "data": {
            "text/plain": [
              "259"
            ]
          },
          "metadata": {},
          "execution_count": 55
        }
      ]
    },
    {
      "cell_type": "code",
      "source": [
        "df_cleanAge['nationality'].sort_values().unique()"
      ],
      "metadata": {
        "colab": {
          "base_uri": "https://localhost:8080/"
        },
        "id": "TpVwuLYh7x5N",
        "outputId": "256d4177-546a-47e3-da15-3d320c4c6a99"
      },
      "execution_count": null,
      "outputs": [
        {
          "output_type": "execute_result",
          "data": {
            "text/plain": [
              "array(['afghan', 'afghanistan', 'african', 'albania', 'albanian',\n",
              "       'algeria', 'algerian', 'american', 'arabi', 'argentine', 'armenia',\n",
              "       'armenian', 'australia', 'australian', 'austrian', 'azerbaijan',\n",
              "       'bahrain', 'bahraini', 'bangladesh', 'bangladeshi', 'belarus',\n",
              "       'belarusian', 'belgian', 'belgium', 'bermuda', 'bhutan', 'bosnian',\n",
              "       'brazil', 'brazilian', 'british', 'british / english',\n",
              "       'british / northern irish', 'british / scottish',\n",
              "       'british / welsh', 'brunei', 'bruneian', 'bulgaria', 'bulgarian',\n",
              "       'burmese', 'cambodian', 'cameroon', 'canada', 'canadian',\n",
              "       'chilean', 'chinese', 'colombia', 'colombian', 'congo',\n",
              "       'congo (brazzaville)', \"cote d'ivoire\", 'croatia', 'croatian',\n",
              "       'cuba', 'cuban', 'cypriot', 'czech', 'czechia', 'danish',\n",
              "       'denmark', 'deutsch', 'dominican republic', 'dutch', 'ecuadorian',\n",
              "       'egypt', 'egyptian', 'emirati', 'eritrea', 'eritrean', 'estonia',\n",
              "       'estonian', 'ethiopia', 'ethiopian', 'fijian', 'filipino',\n",
              "       'finland', 'finnish', 'french', 'gambia', 'gambia, the', 'gambian',\n",
              "       'georgian', 'german', 'ghana', 'ghanaian', 'greece', 'greek',\n",
              "       'guinea', 'guinean', 'guyana', 'guyanese', 'haitian', 'hong kong',\n",
              "       'hungarian', 'hungary', 'iceland', 'icelandic', 'india',\n",
              "       'india-thailand', 'indian', 'indonesian', 'iran', 'iranian',\n",
              "       'iraq', 'iraqi', 'ireland', 'irish', 'israel', 'israeli',\n",
              "       'italian', 'italy', 'ivorian', 'japan', 'japanese', 'jordan',\n",
              "       'jordanian', 'kazakh / kazakhstani', 'kazakhstan', 'kenya',\n",
              "       'kenyan', 'korea, south', 'kosovan', 'kosovo', 'kuwait', 'kuwaiti',\n",
              "       'kyrgyz', 'kyrgyzstan', 'l', 'lao', 'laotian', 'laotian / lao',\n",
              "       'latvia', 'latvian', 'lebanese', 'lebanon', 'liberia', 'liberian',\n",
              "       'libya', 'libyan', 'lithuania', 'lithuanian', 'luxembourg',\n",
              "       'luxembourgish', 'macedonia', 'malawi', 'malaysia', 'malaysian',\n",
              "       'maldives', 'maldivian', 'mali', 'malian', 'malta', 'maltese',\n",
              "       'mauritians', 'mauritius', 'mexican', 'mexico', 'mongolia',\n",
              "       'mongolian', 'moroccan', 'namibia', 'namibian', 'nepal',\n",
              "       'nepalese / nepali', 'netherlands', 'new zealand', 'nicaragua',\n",
              "       'nigeria', 'nigerian', 'north korean', 'norway', 'norwegian',\n",
              "       'oatari', 'oman', 'omani', 'other', 'pakistan', 'pakistani',\n",
              "       'palestine', 'palestinian', 'peruvian', 'philippines', 'phutan',\n",
              "       'poland', 'polish', 'portugal', 'portuguese', 'qatar', 'qatari',\n",
              "       'romania', 'romanian', 'russia', 'russian', 'saudi arabian',\n",
              "       'senegal', 'serbia', 'serbian', 'sierra leone', 'singapore',\n",
              "       'singaporean', 'slovak / slovakian', 'slovenia',\n",
              "       'slovenian / slovene', 'somali / somalian', 'somalia',\n",
              "       'south africa', 'south african', 'south korean', 'spain',\n",
              "       'spanish', 'sri lanka', 'sri lankan', 'sudan', 'sudanese',\n",
              "       'swaziland', 'sweden', 'swedish', 'swiss', 'switzerland', 'syria',\n",
              "       'syrian', 'taiwan', 'taiwanese', 'tajik', 'tajikistan', 'tanzania',\n",
              "       'tanzanian', 'thai', 'timor-leste', 'timorese',\n",
              "       'trinidad and tobago', 'tunisia', 'tunisian', 'turkey', 'turkish',\n",
              "       'uganda', 'ugandan', 'ukraine', 'ukrainian',\n",
              "       'united states of america', 'uruguayan', 'uzbek', 'venezuelan',\n",
              "       'vietnam', 'vietnamese', 'yemen', 'yemeni / yemenite', 'zambian',\n",
              "       'zimbabwe', 'zimbabwean', 'ต่างด้าว', 'บราซิล', 'พม่า', 'ลาว',\n",
              "       'อเมริกา', 'ไทยใหญ่', 'ไทใหญ่', 'ไนจีเรีย', 'ไม่มีสัญชาติ',\n",
              "       'ไม่ระบุ'], dtype=object)"
            ]
          },
          "metadata": {},
          "execution_count": 56
        }
      ]
    },
    {
      "cell_type": "code",
      "source": [
        "df_cleanNation = df_cleanAge"
      ],
      "metadata": {
        "id": "jzdWcGfLJduS"
      },
      "execution_count": null,
      "outputs": []
    },
    {
      "cell_type": "markdown",
      "source": [
        "## Clean province_of_isolation column"
      ],
      "metadata": {
        "id": "3CNcCqjnJVMt"
      }
    },
    {
      "cell_type": "markdown",
      "source": [
        "Check unique values"
      ],
      "metadata": {
        "id": "0v8KndjfjfzA"
      }
    },
    {
      "cell_type": "code",
      "source": [
        "df_cleanNation['province_of_isolation'].sort_values().unique()"
      ],
      "metadata": {
        "colab": {
          "base_uri": "https://localhost:8080/"
        },
        "id": "qJl-BQrDJYJy",
        "outputId": "426a6364-a2bb-4622-faa4-30764dac54da"
      },
      "execution_count": null,
      "outputs": [
        {
          "output_type": "execute_result",
          "data": {
            "text/plain": [
              "array(['กทม', 'กระบี่', 'กรุงเทพมหานคร', 'กาญจนบุรี', 'กาฬสินธุ์',\n",
              "       'กำแพงเพชร', 'ขอนแก่น', 'ขอนแก่น\\xa0', 'จันทบุรี', 'ฉะเชิงเทรา',\n",
              "       'ชลบุรี', 'ชัยนาท', 'ชัยภูมิ', 'ชุมพร', 'ตรัง', 'ตราด', 'ตาก',\n",
              "       'นครนายก', 'นครปฐม', 'นครพนม', 'นครราชสีมา', 'นครศรีธรรมราช',\n",
              "       'นครสวรรค์', 'นนทบุรี', 'นราธิวาส', 'น่าน', 'บึงกาฬ', 'บุรีรัมย์',\n",
              "       'ปทุมธานี', 'ประจวบคีรีขันธ์', 'ปราจีนบุรี', 'ปัตตานี',\n",
              "       'พระนครศรีอยุธยา', 'พะเยา', 'พังงา', 'พัทลุง', 'พิจิตร',\n",
              "       'พิษณุโลก', 'ภููเก็ต', 'ภูเก็ต', 'มหาสารคาม', 'มุกดาหาร', 'ยะลา',\n",
              "       'ยโสธร', 'ระนอง', 'ระยอง', 'ราชบุรี', 'ร้อยเอ็ด', 'ลพบุรี',\n",
              "       'ลำปาง', 'ลำพูน', 'ศรีสะเกษ', 'สกลนคร', 'สงขลา', 'สตูล',\n",
              "       'สมุทรปราการ', 'สมุทรสงคราม', 'สมุทรสาคร', 'สระบุรี', 'สระแก้ว',\n",
              "       'สิงห์บุรี', 'สุพรรณบุรี', 'สุราษฎร์ธานี', 'สุรินทร์', 'สุโขทัย',\n",
              "       'หนองคาย', 'หนองบัวลำภู', 'อำนาจเจริญ', 'อุดรธานี', 'อุตรดิตถ์',\n",
              "       'อุทัยธานี', 'อุบลราชธานี', 'อ่างทอง', 'เชียงราย', 'เชียงใหม่',\n",
              "       'เพชรบุรี', 'เพชรบูรณ์', 'เลย', 'แพร่', 'แม่ฮ่องสอน', nan],\n",
              "      dtype=object)"
            ]
          },
          "metadata": {},
          "execution_count": 58
        }
      ]
    },
    {
      "cell_type": "code",
      "source": [
        "df_cleanNation['province_of_isolation'] = df_cleanNation['province_of_isolation'].replace({'ขอนแก่น\\xa0':'ขอนแก่น','กทม':'กรุงเทพมหานคร','ภููเก็ต':'ภูเก็ต'}).fillna('ไม่ระบุ')"
      ],
      "metadata": {
        "id": "q7PAJL7kJskw"
      },
      "execution_count": null,
      "outputs": []
    },
    {
      "cell_type": "code",
      "source": [
        "df_cleanNation['province_of_isolation'].sort_values().unique()"
      ],
      "metadata": {
        "colab": {
          "base_uri": "https://localhost:8080/"
        },
        "id": "SQjdZkqSKRrA",
        "outputId": "83cf5db4-78c2-4166-a476-7981378fa58d"
      },
      "execution_count": null,
      "outputs": [
        {
          "output_type": "execute_result",
          "data": {
            "text/plain": [
              "array(['กระบี่', 'กรุงเทพมหานคร', 'กาญจนบุรี', 'กาฬสินธุ์', 'กำแพงเพชร',\n",
              "       'ขอนแก่น', 'จันทบุรี', 'ฉะเชิงเทรา', 'ชลบุรี', 'ชัยนาท', 'ชัยภูมิ',\n",
              "       'ชุมพร', 'ตรัง', 'ตราด', 'ตาก', 'นครนายก', 'นครปฐม', 'นครพนม',\n",
              "       'นครราชสีมา', 'นครศรีธรรมราช', 'นครสวรรค์', 'นนทบุรี', 'นราธิวาส',\n",
              "       'น่าน', 'บึงกาฬ', 'บุรีรัมย์', 'ปทุมธานี', 'ประจวบคีรีขันธ์',\n",
              "       'ปราจีนบุรี', 'ปัตตานี', 'พระนครศรีอยุธยา', 'พะเยา', 'พังงา',\n",
              "       'พัทลุง', 'พิจิตร', 'พิษณุโลก', 'ภูเก็ต', 'มหาสารคาม', 'มุกดาหาร',\n",
              "       'ยะลา', 'ยโสธร', 'ระนอง', 'ระยอง', 'ราชบุรี', 'ร้อยเอ็ด', 'ลพบุรี',\n",
              "       'ลำปาง', 'ลำพูน', 'ศรีสะเกษ', 'สกลนคร', 'สงขลา', 'สตูล',\n",
              "       'สมุทรปราการ', 'สมุทรสงคราม', 'สมุทรสาคร', 'สระบุรี', 'สระแก้ว',\n",
              "       'สิงห์บุรี', 'สุพรรณบุรี', 'สุราษฎร์ธานี', 'สุรินทร์', 'สุโขทัย',\n",
              "       'หนองคาย', 'หนองบัวลำภู', 'อำนาจเจริญ', 'อุดรธานี', 'อุตรดิตถ์',\n",
              "       'อุทัยธานี', 'อุบลราชธานี', 'อ่างทอง', 'เชียงราย', 'เชียงใหม่',\n",
              "       'เพชรบุรี', 'เพชรบูรณ์', 'เลย', 'แพร่', 'แม่ฮ่องสอน', 'ไม่ระบุ'],\n",
              "      dtype=object)"
            ]
          },
          "metadata": {},
          "execution_count": 60
        }
      ]
    },
    {
      "cell_type": "code",
      "source": [
        "df_cleanIso = df_cleanNation"
      ],
      "metadata": {
        "id": "2raU84scQkNa"
      },
      "execution_count": null,
      "outputs": []
    },
    {
      "cell_type": "markdown",
      "source": [
        "## Clean risk column"
      ],
      "metadata": {
        "id": "AIS9d9g9KmBF"
      }
    },
    {
      "cell_type": "markdown",
      "source": [
        "Check unique values"
      ],
      "metadata": {
        "id": "DstwE5ajjz4D"
      }
    },
    {
      "cell_type": "code",
      "source": [
        "df_cleanIso['risk'].sort_values().unique()"
      ],
      "metadata": {
        "colab": {
          "base_uri": "https://localhost:8080/"
        },
        "id": "5REAXvyrKiNh",
        "outputId": "2185f9c5-3558-4400-84e8-94502bbbc177"
      },
      "execution_count": null,
      "outputs": [
        {
          "output_type": "execute_result",
          "data": {
            "text/plain": [
              "array([' Samui plus', '10.อื่นๆ', '2.สัมผัสผู้ติดเชื้อ',\n",
              "       '8.สำรวจกลุ่มเสี่ยง (survey)', '9.ขอตรวจหาเชื้อเอง',\n",
              "       'ACF รองเมือง', 'ACF สนามกีฬาธูปะเตมีย์',\n",
              "       'ACF สนามกีฬาไทย-ญี่ปุ่น', 'ACF สีลม', 'ACF เคหะหลักสี่',\n",
              "       'BKK Sandbox', 'Chonburi Sandbox', 'Cluster Icon siam',\n",
              "       \"Cluster Memory 90's กรุงเทพมหานคร\",\n",
              "       'Cluster New Jazz กรุงเทพมหานคร', 'Cluster The Lounge Salaya',\n",
              "       'Cluster คลองเตย', 'Cluster งานมอเตอร์ โชว์',\n",
              "       'Cluster จนท. สนามบินสุวรรณภูมิ', 'Cluster จันทบุรี',\n",
              "       'Cluster จันทบุรี (ชาวกินี )', 'Cluster จันทบุรี (ชาวกินี)',\n",
              "       'Cluster ชลบุรี', 'Cluster ชลบุรี บริษัทไดกิ้น',\n",
              "       'Cluster ชลบุรี โรงเบียร์ 90', 'Cluster ตราด', 'Cluster ตราด ',\n",
              "       'Cluster ตลาดนนทบุรี', 'Cluster ตลาดบางพลี', 'Cluster ตลาดบางแค',\n",
              "       'Cluster ตลาดพรพัฒน์', 'Cluster ตลาดสี่มุมเมือง',\n",
              "       'Cluster บริษัทศรีสวัสดิ์', 'Cluster บางแค',\n",
              "       'Cluster บ่อนพัทยา/ชลบุรี', 'Cluster บ่อนเทพารักษ์',\n",
              "       'Cluster บ่อนไก่อ่างทอง', 'Cluster ปากช่อง',\n",
              "       'Cluster ผับ Thonglor', 'Cluster มหาสารคาม', 'Cluster ระยอง',\n",
              "       'Cluster สถานบันเทิงย่านทองหล่อ',\n",
              "       'Cluster สมุทรปราการ (โรงงาน บริษัทเมทัล โปรดักส์)',\n",
              "       'Cluster สมุทรปราการ GRP Hightech',\n",
              "       'Cluster สมุทรปราการ ตลาดเคหะบางพลี', 'Cluster สมุทรสาคร',\n",
              "       'Cluster ห้างแสงทอง (สายล่าง)',\n",
              "       'Cluster เครือคัสเซ่อร์พีคโฮลดิ้ง (CPG,CPH)',\n",
              "       'Cluster โรงงาน Big Star', 'Cluster โรงงาน QPP ประจวบฯ',\n",
              "       'Cluster โรงงาน standard can', 'Cluster โรงงานทำขนม บางขุนเทียน',\n",
              "       'Karbi Sandbox', 'Krabi Sandbox', 'Krabi Sandbox ',\n",
              "       'Krabi sandbox ', 'Narathiwat Sandbox', 'Phang Nga Sandbox',\n",
              "       'Phang nga Sandbox', 'Phangnga Sandbox', 'Phare Sandbox',\n",
              "       'Phrae Sandbox', 'Phuket Sandbox', 'Phunga Sandbox',\n",
              "       'Prachuap Sandbox', 'Rayong Sandbox', 'SHUI', 'Samui Plus',\n",
              "       'Samui plus', 'Samut Prakan Sandbox', 'Sandbox',\n",
              "       'Songkhla Sandbok', 'State Quarantine', 'Surin Sandbox',\n",
              "       'Test and Go', 'Trat Sandbox', 'Trat sandbox', 'Udon Sandbox',\n",
              "       'cluster ชลบุรี\\n(อยู่ระหว่างการสอบสวน)', 'prachuap Sandbox',\n",
              "       'กลับมาจาก จ.กรุงเทพมหานคร.',\n",
              "       'การค้นหาผู้ป่วยเชิงรุกและค้นหาผู้ติดเชื้อในชุมชน',\n",
              "       'คนต่างชาติเดินทางมาจากต่างประเทศ', 'คนไทยมาจากพื้นที่เสี่ยง',\n",
              "       'คนไทยเดินทางกลับจากต่างประเทศ', 'คนไทยเดินทางมาจากต่างประเทศ',\n",
              "       'ค้นหาเชิงรุก', 'ตรวจก่อนทำหัตถการ', 'ตรวจก่อนทำหัถตการ',\n",
              "       'ตรวจสุขภาพแรงงานต่างด้าว', 'ตลาด',\n",
              "       'ติดเชื้อในพื้นที่ (สัมผัส ผป.ยืนยัน)', 'ทัณฑสถาน/เรือนจำ',\n",
              "       'นักกีฬา', 'บุคลากรด้านการแพทย์และสาธารณสุข',\n",
              "       'บุคลากรทางการเเพทย์', 'ปอดอักเสบ (Pneumonia)',\n",
              "       'ปอดอักเสบ Pneumonia', 'ปอดอักเสบ(Pneumonia)', 'ผับหัวหิน',\n",
              "       'ผู้ติดเชื้อในประเทศ', 'ผู้ที่เดินทางมาจากต่างประเทศ และเข้า AOQ',\n",
              "       'ผู้ที่เดินทางมาจากต่างประเทศ และเข้า AQ',\n",
              "       'ผู้ที่เดินทางมาจากต่างประเทศ และเข้า ASQ/ALQ',\n",
              "       'ผู้ที่เดินทางมาจากต่างประเทศ และเข้า HQ/AHQ',\n",
              "       'ผู้ที่เดินทางมาจากต่างประเทศ และเข้า OQ', 'ผู้ป่วย PUI',\n",
              "       'ผู้ป่วย กรุงเทพมหานคร',\n",
              "       'ผู้เดินทางมาจากพื้นที่เสี่ยง กรุงเทพมหานคร', 'พิธีกรรมทางศาสนา',\n",
              "       'พื้นที่เสียง', 'มาจากพื้นที่เสียง จ.ปทุมธานี',\n",
              "       'มาจากพื้นที่เสี่ยง', 'มาจากพื้นที่เสี่ยง จ.ปทุมธานี',\n",
              "       'มีอาการ มาจาก กรุงเทพมหานคร. พนักงานร้านอาหาร', 'รอประสาน',\n",
              "       'ระบุไม่ได้', 'ระหว่างการสอบสวนโรค', 'ระหว่างสอบสวน',\n",
              "       'รับจ้างขนของที่ตลาดท่ายาง', 'ร่วมงานศพในหมู่บ้านทุกวัน',\n",
              "       'ร้านอาหาร', 'ศูนย์กักกัน ผู้ต้องกัก', 'สถานที่ทำงาน',\n",
              "       'สถานบันเทิง', 'สถานประกอบการ', 'สถานศึกษา', 'สน.วัดพระยาไกร',\n",
              "       'สนามมวย', 'สัมผัสผู้ติดเชื้อ',\n",
              "       'สัมผัสผู้ติดเชื้อยืนยัน\\n  อยู่ระหว่างสอบสวน',\n",
              "       'สัมผัสผู้ติดเชื้อยืนยัน\\nอยู่ระหว่างสอบสวน',\n",
              "       'สัมผัสผู้ป่วยที่ติดโควิด', 'สัมผัสผู้ป่วยยืนยัน',\n",
              "       'สัมผัสผู้ป่วยยืนยัน \\n  อยู่ระหว่างสอบสวน',\n",
              "       'สัมผัสผู้ป่วยยืนยัน (ยังไม่สามารถระบุได้)',\n",
              "       'สัมผัสผู้ป่วยยืนยัน ภายในครอบครัว/ชุมชน/เพื่อน',\n",
              "       'สัมผัสผู้ป่วยยืนยัน อยู่ระหว่างสอบสวน',\n",
              "       'สัมผัสผู้ป่วยยืนยันภายในชุมชน',\n",
              "       'สัมผัสผู้ป่วยยืนยันเพื่อนร่วมงาน',\n",
              "       'สัมผัสผู้เดินทางจากต่างประเทศ',\n",
              "       'สัมผัสสามีสะอาด เขตบ้าน (รพ.มหาชัย 2)',\n",
              "       'สัมผัสใกล้ชิดกับผู้ป่วยยืนยันรายก่อนหน้านี้',\n",
              "       'สัมผัสใกล้ชิดกับผู้ป่วยยืนยันรายก่อนหน้านี้ใกล้ชิดกับผู้ป่วยยืนยันรายก่อนหน้านี้',\n",
              "       'สัมผัสใกล้ชิดผู้ป่วยยันยันก่อนหน้า',\n",
              "       'สัมผัสใกล้ชิดผู้ป่วยยืนยันก่อนหน้า', 'สัมผัสในสถานพยาบาล',\n",
              "       'อยู่ระหว่างการสอบสวน', 'อยู่ระหว่างการสอบสวน\\n',\n",
              "       'อยู่ระหว่างสอบสวน', 'อยู่ระหว่างสอบสวนโรค', 'อาชีพเสี่ยง',\n",
              "       'อาชีพเสี่ยง เช่น ทำงานในสถานที่แออัด หรือทำงานใกล้ชิดสัมผัสชาวต่างชาติ เป็นต้น',\n",
              "       'อิ่นๆ', 'อื่น', 'อื่น ๆ', 'อื่นๆ', 'เดินทางจากพื้นที่เสี่ยง',\n",
              "       'เดินทางมาจากพื้นที่จังหวัดเสี่ยง',\n",
              "       'เดินทางมาจากพื้นที่มีการระบาดของโรค', 'เดินทางมาจากพื้นที่ระบาด',\n",
              "       'เดินทางมาจากพื้นที่เสี่ยง จ.กรุงเทพฯ จอมทอง',\n",
              "       'เดินทางมาจากพื้นที่เสี่ยงที่มีการระบาดของโรค',\n",
              "       'เพื่อเฝ้าระวังเชื้อกลายพันธุ์',\n",
              "       'แรงงานต่างด้าวตรวจก่อนขึ้นทะเบียน', 'ในพื้นที่',\n",
              "       'ไปยัง/มาจาก พื้นที่ระบาดกรุงเทพมหานคร',\n",
              "       'ไปยังพื้นที่ที่มีการระบาด', 'ไปสถานที่ชุมชน',\n",
              "       'ไปสถานที่ชุมชน เช่น ตลาดนัด สถานที่ท่องเที่ยว',\n",
              "       'ไปสถานที่เสี่ยง เช่น ตลาด สถานที่ชุมชน',\n",
              "       'ไปสถานที่แออัด เช่น งานแฟร์ คอนเสิร์ต',\n",
              "       'ไปเที่ยวสถานบันเทิงในอุบลที่พบการระบาดของโรค Ubar',\n",
              "       'ไปแหล่งชุมชน/สถานที่คนหนาแน่น', 'ไม่ระบุ', nan], dtype=object)"
            ]
          },
          "metadata": {},
          "execution_count": 62
        }
      ]
    },
    {
      "cell_type": "code",
      "source": [
        "df_cleanIso['risk'].nunique()"
      ],
      "metadata": {
        "colab": {
          "base_uri": "https://localhost:8080/"
        },
        "id": "aqpF3B5kQRrR",
        "outputId": "45579e7f-0621-4d97-eadd-a21d01f8105e"
      },
      "execution_count": null,
      "outputs": [
        {
          "output_type": "execute_result",
          "data": {
            "text/plain": [
              "175"
            ]
          },
          "metadata": {},
          "execution_count": 63
        }
      ]
    },
    {
      "cell_type": "code",
      "source": [
        "df_cleanIso['risk'] = df_cleanIso['risk'].str.lower()"
      ],
      "metadata": {
        "id": "L5pyHtMyMhtr"
      },
      "execution_count": null,
      "outputs": []
    },
    {
      "cell_type": "code",
      "source": [
        "df_cleanIso['risk'].sort_values().unique()"
      ],
      "metadata": {
        "colab": {
          "base_uri": "https://localhost:8080/"
        },
        "id": "U2RDiNdWOj7V",
        "outputId": "bf6d0215-40b6-4f08-87e4-02869917531b"
      },
      "execution_count": null,
      "outputs": [
        {
          "output_type": "execute_result",
          "data": {
            "text/plain": [
              "array([' samui plus', '10.อื่นๆ', '2.สัมผัสผู้ติดเชื้อ',\n",
              "       '8.สำรวจกลุ่มเสี่ยง (survey)', '9.ขอตรวจหาเชื้อเอง',\n",
              "       'acf รองเมือง', 'acf สนามกีฬาธูปะเตมีย์',\n",
              "       'acf สนามกีฬาไทย-ญี่ปุ่น', 'acf สีลม', 'acf เคหะหลักสี่',\n",
              "       'bkk sandbox', 'chonburi sandbox', 'cluster icon siam',\n",
              "       \"cluster memory 90's กรุงเทพมหานคร\",\n",
              "       'cluster new jazz กรุงเทพมหานคร', 'cluster the lounge salaya',\n",
              "       'cluster คลองเตย', 'cluster งานมอเตอร์ โชว์',\n",
              "       'cluster จนท. สนามบินสุวรรณภูมิ', 'cluster จันทบุรี',\n",
              "       'cluster จันทบุรี (ชาวกินี )', 'cluster จันทบุรี (ชาวกินี)',\n",
              "       'cluster ชลบุรี', 'cluster ชลบุรี\\n(อยู่ระหว่างการสอบสวน)',\n",
              "       'cluster ชลบุรี บริษัทไดกิ้น', 'cluster ชลบุรี โรงเบียร์ 90',\n",
              "       'cluster ตราด', 'cluster ตราด ', 'cluster ตลาดนนทบุรี',\n",
              "       'cluster ตลาดบางพลี', 'cluster ตลาดบางแค', 'cluster ตลาดพรพัฒน์',\n",
              "       'cluster ตลาดสี่มุมเมือง', 'cluster บริษัทศรีสวัสดิ์',\n",
              "       'cluster บางแค', 'cluster บ่อนพัทยา/ชลบุรี',\n",
              "       'cluster บ่อนเทพารักษ์', 'cluster บ่อนไก่อ่างทอง',\n",
              "       'cluster ปากช่อง', 'cluster ผับ thonglor', 'cluster มหาสารคาม',\n",
              "       'cluster ระยอง', 'cluster สถานบันเทิงย่านทองหล่อ',\n",
              "       'cluster สมุทรปราการ (โรงงาน บริษัทเมทัล โปรดักส์)',\n",
              "       'cluster สมุทรปราการ grp hightech',\n",
              "       'cluster สมุทรปราการ ตลาดเคหะบางพลี', 'cluster สมุทรสาคร',\n",
              "       'cluster ห้างแสงทอง (สายล่าง)',\n",
              "       'cluster เครือคัสเซ่อร์พีคโฮลดิ้ง (cpg,cph)',\n",
              "       'cluster โรงงาน big star', 'cluster โรงงาน qpp ประจวบฯ',\n",
              "       'cluster โรงงาน standard can', 'cluster โรงงานทำขนม บางขุนเทียน',\n",
              "       'karbi sandbox', 'krabi sandbox', 'krabi sandbox ',\n",
              "       'narathiwat sandbox', 'phang nga sandbox', 'phangnga sandbox',\n",
              "       'phare sandbox', 'phrae sandbox', 'phuket sandbox',\n",
              "       'phunga sandbox', 'prachuap sandbox', 'rayong sandbox',\n",
              "       'samui plus', 'samut prakan sandbox', 'sandbox', 'shui',\n",
              "       'songkhla sandbok', 'state quarantine', 'surin sandbox',\n",
              "       'test and go', 'trat sandbox', 'udon sandbox',\n",
              "       'กลับมาจาก จ.กรุงเทพมหานคร.',\n",
              "       'การค้นหาผู้ป่วยเชิงรุกและค้นหาผู้ติดเชื้อในชุมชน',\n",
              "       'คนต่างชาติเดินทางมาจากต่างประเทศ', 'คนไทยมาจากพื้นที่เสี่ยง',\n",
              "       'คนไทยเดินทางกลับจากต่างประเทศ', 'คนไทยเดินทางมาจากต่างประเทศ',\n",
              "       'ค้นหาเชิงรุก', 'ตรวจก่อนทำหัตถการ', 'ตรวจก่อนทำหัถตการ',\n",
              "       'ตรวจสุขภาพแรงงานต่างด้าว', 'ตลาด',\n",
              "       'ติดเชื้อในพื้นที่ (สัมผัส ผป.ยืนยัน)', 'ทัณฑสถาน/เรือนจำ',\n",
              "       'นักกีฬา', 'บุคลากรด้านการแพทย์และสาธารณสุข',\n",
              "       'บุคลากรทางการเเพทย์', 'ปอดอักเสบ (pneumonia)',\n",
              "       'ปอดอักเสบ pneumonia', 'ปอดอักเสบ(pneumonia)', 'ผับหัวหิน',\n",
              "       'ผู้ติดเชื้อในประเทศ', 'ผู้ที่เดินทางมาจากต่างประเทศ และเข้า aoq',\n",
              "       'ผู้ที่เดินทางมาจากต่างประเทศ และเข้า aq',\n",
              "       'ผู้ที่เดินทางมาจากต่างประเทศ และเข้า asq/alq',\n",
              "       'ผู้ที่เดินทางมาจากต่างประเทศ และเข้า hq/ahq',\n",
              "       'ผู้ที่เดินทางมาจากต่างประเทศ และเข้า oq', 'ผู้ป่วย pui',\n",
              "       'ผู้ป่วย กรุงเทพมหานคร',\n",
              "       'ผู้เดินทางมาจากพื้นที่เสี่ยง กรุงเทพมหานคร', 'พิธีกรรมทางศาสนา',\n",
              "       'พื้นที่เสียง', 'มาจากพื้นที่เสียง จ.ปทุมธานี',\n",
              "       'มาจากพื้นที่เสี่ยง', 'มาจากพื้นที่เสี่ยง จ.ปทุมธานี',\n",
              "       'มีอาการ มาจาก กรุงเทพมหานคร. พนักงานร้านอาหาร', 'รอประสาน',\n",
              "       'ระบุไม่ได้', 'ระหว่างการสอบสวนโรค', 'ระหว่างสอบสวน',\n",
              "       'รับจ้างขนของที่ตลาดท่ายาง', 'ร่วมงานศพในหมู่บ้านทุกวัน',\n",
              "       'ร้านอาหาร', 'ศูนย์กักกัน ผู้ต้องกัก', 'สถานที่ทำงาน',\n",
              "       'สถานบันเทิง', 'สถานประกอบการ', 'สถานศึกษา', 'สน.วัดพระยาไกร',\n",
              "       'สนามมวย', 'สัมผัสผู้ติดเชื้อ',\n",
              "       'สัมผัสผู้ติดเชื้อยืนยัน\\n  อยู่ระหว่างสอบสวน',\n",
              "       'สัมผัสผู้ติดเชื้อยืนยัน\\nอยู่ระหว่างสอบสวน',\n",
              "       'สัมผัสผู้ป่วยที่ติดโควิด', 'สัมผัสผู้ป่วยยืนยัน',\n",
              "       'สัมผัสผู้ป่วยยืนยัน \\n  อยู่ระหว่างสอบสวน',\n",
              "       'สัมผัสผู้ป่วยยืนยัน (ยังไม่สามารถระบุได้)',\n",
              "       'สัมผัสผู้ป่วยยืนยัน ภายในครอบครัว/ชุมชน/เพื่อน',\n",
              "       'สัมผัสผู้ป่วยยืนยัน อยู่ระหว่างสอบสวน',\n",
              "       'สัมผัสผู้ป่วยยืนยันภายในชุมชน',\n",
              "       'สัมผัสผู้ป่วยยืนยันเพื่อนร่วมงาน',\n",
              "       'สัมผัสผู้เดินทางจากต่างประเทศ',\n",
              "       'สัมผัสสามีสะอาด เขตบ้าน (รพ.มหาชัย 2)',\n",
              "       'สัมผัสใกล้ชิดกับผู้ป่วยยืนยันรายก่อนหน้านี้',\n",
              "       'สัมผัสใกล้ชิดกับผู้ป่วยยืนยันรายก่อนหน้านี้ใกล้ชิดกับผู้ป่วยยืนยันรายก่อนหน้านี้',\n",
              "       'สัมผัสใกล้ชิดผู้ป่วยยันยันก่อนหน้า',\n",
              "       'สัมผัสใกล้ชิดผู้ป่วยยืนยันก่อนหน้า', 'สัมผัสในสถานพยาบาล',\n",
              "       'อยู่ระหว่างการสอบสวน', 'อยู่ระหว่างการสอบสวน\\n',\n",
              "       'อยู่ระหว่างสอบสวน', 'อยู่ระหว่างสอบสวนโรค', 'อาชีพเสี่ยง',\n",
              "       'อาชีพเสี่ยง เช่น ทำงานในสถานที่แออัด หรือทำงานใกล้ชิดสัมผัสชาวต่างชาติ เป็นต้น',\n",
              "       'อิ่นๆ', 'อื่น', 'อื่น ๆ', 'อื่นๆ', 'เดินทางจากพื้นที่เสี่ยง',\n",
              "       'เดินทางมาจากพื้นที่จังหวัดเสี่ยง',\n",
              "       'เดินทางมาจากพื้นที่มีการระบาดของโรค', 'เดินทางมาจากพื้นที่ระบาด',\n",
              "       'เดินทางมาจากพื้นที่เสี่ยง จ.กรุงเทพฯ จอมทอง',\n",
              "       'เดินทางมาจากพื้นที่เสี่ยงที่มีการระบาดของโรค',\n",
              "       'เพื่อเฝ้าระวังเชื้อกลายพันธุ์',\n",
              "       'แรงงานต่างด้าวตรวจก่อนขึ้นทะเบียน', 'ในพื้นที่',\n",
              "       'ไปยัง/มาจาก พื้นที่ระบาดกรุงเทพมหานคร',\n",
              "       'ไปยังพื้นที่ที่มีการระบาด', 'ไปสถานที่ชุมชน',\n",
              "       'ไปสถานที่ชุมชน เช่น ตลาดนัด สถานที่ท่องเที่ยว',\n",
              "       'ไปสถานที่เสี่ยง เช่น ตลาด สถานที่ชุมชน',\n",
              "       'ไปสถานที่แออัด เช่น งานแฟร์ คอนเสิร์ต',\n",
              "       'ไปเที่ยวสถานบันเทิงในอุบลที่พบการระบาดของโรค ubar',\n",
              "       'ไปแหล่งชุมชน/สถานที่คนหนาแน่น', 'ไม่ระบุ', nan], dtype=object)"
            ]
          },
          "metadata": {},
          "execution_count": 65
        }
      ]
    },
    {
      "cell_type": "code",
      "source": [
        "df_cleanIso['risk'].nunique()"
      ],
      "metadata": {
        "colab": {
          "base_uri": "https://localhost:8080/"
        },
        "id": "PcZtj2hxQUp5",
        "outputId": "0473a7b0-7b46-4c8a-aa66-a32831d2f116"
      },
      "execution_count": null,
      "outputs": [
        {
          "output_type": "execute_result",
          "data": {
            "text/plain": [
              "170"
            ]
          },
          "metadata": {},
          "execution_count": 66
        }
      ]
    },
    {
      "cell_type": "markdown",
      "source": [
        "Replace แต่ละค่าที่มีการพิมผิด หรือ ความหมายเดียวกันแต่พิมคนละแบบ"
      ],
      "metadata": {
        "id": "b940cNiYj6wH"
      }
    },
    {
      "cell_type": "code",
      "source": [
        "replace4 = {\n",
        "    '10.อื่นๆ':'อื่นๆ',\n",
        "    '2.สัมผัสผู้ติดเชื้อ':'สัมผัสผู้ติดเชื้อ',\n",
        "    '9.ขอตรวจหาเชื้อเอง':'ขอตรวจหาเชื้อเอง',\n",
        "    '8.สำรวจกลุ่มเสี่ยง (survey)':'สำรวจกลุ่มเสี่ยง (survey)',\n",
        "    'karbi sandbox':'krabi sandbox',\n",
        "    'phangnga sandbox':'phang nga sandbox',\n",
        "    'phunga sandbox':'phang nga sandbox',\n",
        "    'กลับมาจาก จ.กรุงเทพมหานคร.':'เดินทางมาจากพื้นที่เสี่ยงที่มีการระบาดของโรค',\n",
        "    'เดินทางมาจากพื้นที่ระบาด':'เดินทางมาจากพื้นที่เสี่ยงที่มีการระบาดของโรค',\n",
        "    'เดินทางจากพื้นที่เสี่ยง':'เดินทางมาจากพื้นที่เสี่ยงที่มีการระบาดของโรค',\n",
        "    'ตรวจก่อนทำหัถตการ':'ตรวจก่อนทำหัตถการ',\n",
        "    'ติดเชื้อในพื้นที่ (สัมผัส ผป.ยืนยัน)':'ในพื้นที่เสี่ยง',\n",
        "    'ในพื้นที่':'ในพื้นที่เสี่ยง',\n",
        "    'บุคลากรทางการเเพทย์':'บุคลากรด้านการแพทย์และสาธารณสุข',\n",
        "    'มีอาการ มาจาก กรุงเทพมหานคร. พนักงานร้านอาหาร':'เดินทางมาจากพื้นที่เสี่ยงที่มีการระบาดของโรค',\n",
        "    'สถานประกอบการ':'สถานบันเทิง',\n",
        "    'สัมผัสใกล้ชิดกับผู้ป่วยยืนยันรายก่อนหน้านี้ใกล้ชิดกับผู้ป่วยยืนยันรายก่อนหน้านี้':'สัมผัสใกล้ชิดกับผู้ป่วยยืนยันรายก่อนหน้านี้',\n",
        "    'อยู่ระหว่างสอบสวน':'อยู่ระหว่างการสอบสวน',\n",
        "    'อยู่ระหว่างสอบสวนโรค':'อยู่ระหว่างการสอบสวน',\n",
        "    'ไปสถานที่ชุมชน':'ไปสถานที่ชุมชน เช่น ตลาดนัด สถานที่ท่องเที่ยว',\n",
        "    'สัมผัสผู้ป่วยยืนยัน ภายในครอบครัว/ชุมชน/เพื่อน':'สัมผัสผู้ป่วยยืนยันภายในชุมชน',\n",
        "    'ร่วมงานศพในหมู่บ้านทุกวัน':'สัมผัสผู้ป่วยยืนยันภายในชุมชน',\n",
        "    'ปอดอักเสบ(pneumonia)':'ปอดอักเสบ (pneumonia)',\n",
        "    'phare sandbox':'phrae sandbox'\n",
        "}"
      ],
      "metadata": {
        "id": "meaelxs0MjRA"
      },
      "execution_count": null,
      "outputs": []
    },
    {
      "cell_type": "code",
      "source": [
        "df_cleanIso['risk'] = df_cleanIso['risk'].replace(replace4).fillna('ไม่ระบุ')"
      ],
      "metadata": {
        "id": "8dOj1MZhWWYT"
      },
      "execution_count": null,
      "outputs": []
    },
    {
      "cell_type": "code",
      "source": [
        "df_cleanIso.groupby('risk')[['announce_date']].count().sort_values('announce_date', ascending = False)"
      ],
      "metadata": {
        "colab": {
          "base_uri": "https://localhost:8080/",
          "height": 455
        },
        "id": "Xr6DR4g-WpfG",
        "outputId": "25d03571-8f79-4ff6-a4ba-37e24159cdce"
      },
      "execution_count": null,
      "outputs": [
        {
          "output_type": "execute_result",
          "data": {
            "text/plain": [
              "                                                  announce_date\n",
              "risk                                                           \n",
              "สัมผัสใกล้ชิดกับผู้ป่วยยืนยันรายก่อนหน้านี้             1365955\n",
              "อื่นๆ                                                    924429\n",
              "อยู่ระหว่างการสอบสวน                                     285822\n",
              "การค้นหาผู้ป่วยเชิงรุกและค้นหาผู้ติดเชื้อในชุมชน         250966\n",
              "ทัณฑสถาน/เรือนจำ                                          92800\n",
              "...                                                         ...\n",
              "ตรวจสุขภาพแรงงานต่างด้าว                                      1\n",
              "ค้นหาเชิงรุก                                                  1\n",
              "คนไทยเดินทางมาจากต่างประเทศ                                   1\n",
              "คนไทยมาจากพื้นที่เสี่ยง                                       1\n",
              "cluster งานมอเตอร์ โชว์                                       1\n",
              "\n",
              "[149 rows x 1 columns]"
            ],
            "text/html": [
              "\n",
              "  <div id=\"df-29815fab-a12b-4242-887c-c417808af832\">\n",
              "    <div class=\"colab-df-container\">\n",
              "      <div>\n",
              "<style scoped>\n",
              "    .dataframe tbody tr th:only-of-type {\n",
              "        vertical-align: middle;\n",
              "    }\n",
              "\n",
              "    .dataframe tbody tr th {\n",
              "        vertical-align: top;\n",
              "    }\n",
              "\n",
              "    .dataframe thead th {\n",
              "        text-align: right;\n",
              "    }\n",
              "</style>\n",
              "<table border=\"1\" class=\"dataframe\">\n",
              "  <thead>\n",
              "    <tr style=\"text-align: right;\">\n",
              "      <th></th>\n",
              "      <th>announce_date</th>\n",
              "    </tr>\n",
              "    <tr>\n",
              "      <th>risk</th>\n",
              "      <th></th>\n",
              "    </tr>\n",
              "  </thead>\n",
              "  <tbody>\n",
              "    <tr>\n",
              "      <th>สัมผัสใกล้ชิดกับผู้ป่วยยืนยันรายก่อนหน้านี้</th>\n",
              "      <td>1365955</td>\n",
              "    </tr>\n",
              "    <tr>\n",
              "      <th>อื่นๆ</th>\n",
              "      <td>924429</td>\n",
              "    </tr>\n",
              "    <tr>\n",
              "      <th>อยู่ระหว่างการสอบสวน</th>\n",
              "      <td>285822</td>\n",
              "    </tr>\n",
              "    <tr>\n",
              "      <th>การค้นหาผู้ป่วยเชิงรุกและค้นหาผู้ติดเชื้อในชุมชน</th>\n",
              "      <td>250966</td>\n",
              "    </tr>\n",
              "    <tr>\n",
              "      <th>ทัณฑสถาน/เรือนจำ</th>\n",
              "      <td>92800</td>\n",
              "    </tr>\n",
              "    <tr>\n",
              "      <th>...</th>\n",
              "      <td>...</td>\n",
              "    </tr>\n",
              "    <tr>\n",
              "      <th>ตรวจสุขภาพแรงงานต่างด้าว</th>\n",
              "      <td>1</td>\n",
              "    </tr>\n",
              "    <tr>\n",
              "      <th>ค้นหาเชิงรุก</th>\n",
              "      <td>1</td>\n",
              "    </tr>\n",
              "    <tr>\n",
              "      <th>คนไทยเดินทางมาจากต่างประเทศ</th>\n",
              "      <td>1</td>\n",
              "    </tr>\n",
              "    <tr>\n",
              "      <th>คนไทยมาจากพื้นที่เสี่ยง</th>\n",
              "      <td>1</td>\n",
              "    </tr>\n",
              "    <tr>\n",
              "      <th>cluster งานมอเตอร์ โชว์</th>\n",
              "      <td>1</td>\n",
              "    </tr>\n",
              "  </tbody>\n",
              "</table>\n",
              "<p>149 rows × 1 columns</p>\n",
              "</div>\n",
              "      <button class=\"colab-df-convert\" onclick=\"convertToInteractive('df-29815fab-a12b-4242-887c-c417808af832')\"\n",
              "              title=\"Convert this dataframe to an interactive table.\"\n",
              "              style=\"display:none;\">\n",
              "        \n",
              "  <svg xmlns=\"http://www.w3.org/2000/svg\" height=\"24px\"viewBox=\"0 0 24 24\"\n",
              "       width=\"24px\">\n",
              "    <path d=\"M0 0h24v24H0V0z\" fill=\"none\"/>\n",
              "    <path d=\"M18.56 5.44l.94 2.06.94-2.06 2.06-.94-2.06-.94-.94-2.06-.94 2.06-2.06.94zm-11 1L8.5 8.5l.94-2.06 2.06-.94-2.06-.94L8.5 2.5l-.94 2.06-2.06.94zm10 10l.94 2.06.94-2.06 2.06-.94-2.06-.94-.94-2.06-.94 2.06-2.06.94z\"/><path d=\"M17.41 7.96l-1.37-1.37c-.4-.4-.92-.59-1.43-.59-.52 0-1.04.2-1.43.59L10.3 9.45l-7.72 7.72c-.78.78-.78 2.05 0 2.83L4 21.41c.39.39.9.59 1.41.59.51 0 1.02-.2 1.41-.59l7.78-7.78 2.81-2.81c.8-.78.8-2.07 0-2.86zM5.41 20L4 18.59l7.72-7.72 1.47 1.35L5.41 20z\"/>\n",
              "  </svg>\n",
              "      </button>\n",
              "      \n",
              "  <style>\n",
              "    .colab-df-container {\n",
              "      display:flex;\n",
              "      flex-wrap:wrap;\n",
              "      gap: 12px;\n",
              "    }\n",
              "\n",
              "    .colab-df-convert {\n",
              "      background-color: #E8F0FE;\n",
              "      border: none;\n",
              "      border-radius: 50%;\n",
              "      cursor: pointer;\n",
              "      display: none;\n",
              "      fill: #1967D2;\n",
              "      height: 32px;\n",
              "      padding: 0 0 0 0;\n",
              "      width: 32px;\n",
              "    }\n",
              "\n",
              "    .colab-df-convert:hover {\n",
              "      background-color: #E2EBFA;\n",
              "      box-shadow: 0px 1px 2px rgba(60, 64, 67, 0.3), 0px 1px 3px 1px rgba(60, 64, 67, 0.15);\n",
              "      fill: #174EA6;\n",
              "    }\n",
              "\n",
              "    [theme=dark] .colab-df-convert {\n",
              "      background-color: #3B4455;\n",
              "      fill: #D2E3FC;\n",
              "    }\n",
              "\n",
              "    [theme=dark] .colab-df-convert:hover {\n",
              "      background-color: #434B5C;\n",
              "      box-shadow: 0px 1px 3px 1px rgba(0, 0, 0, 0.15);\n",
              "      filter: drop-shadow(0px 1px 2px rgba(0, 0, 0, 0.3));\n",
              "      fill: #FFFFFF;\n",
              "    }\n",
              "  </style>\n",
              "\n",
              "      <script>\n",
              "        const buttonEl =\n",
              "          document.querySelector('#df-29815fab-a12b-4242-887c-c417808af832 button.colab-df-convert');\n",
              "        buttonEl.style.display =\n",
              "          google.colab.kernel.accessAllowed ? 'block' : 'none';\n",
              "\n",
              "        async function convertToInteractive(key) {\n",
              "          const element = document.querySelector('#df-29815fab-a12b-4242-887c-c417808af832');\n",
              "          const dataTable =\n",
              "            await google.colab.kernel.invokeFunction('convertToInteractive',\n",
              "                                                     [key], {});\n",
              "          if (!dataTable) return;\n",
              "\n",
              "          const docLinkHtml = 'Like what you see? Visit the ' +\n",
              "            '<a target=\"_blank\" href=https://colab.research.google.com/notebooks/data_table.ipynb>data table notebook</a>'\n",
              "            + ' to learn more about interactive tables.';\n",
              "          element.innerHTML = '';\n",
              "          dataTable['output_type'] = 'display_data';\n",
              "          await google.colab.output.renderOutput(dataTable, element);\n",
              "          const docLink = document.createElement('div');\n",
              "          docLink.innerHTML = docLinkHtml;\n",
              "          element.appendChild(docLink);\n",
              "        }\n",
              "      </script>\n",
              "    </div>\n",
              "  </div>\n",
              "  "
            ]
          },
          "metadata": {},
          "execution_count": 132
        }
      ]
    },
    {
      "cell_type": "code",
      "source": [
        "df_cleanRisk = df_cleanIso"
      ],
      "metadata": {
        "id": "aiPGFDI7Y5HV"
      },
      "execution_count": null,
      "outputs": []
    },
    {
      "cell_type": "markdown",
      "source": [
        "## Clean province_of_onset column"
      ],
      "metadata": {
        "id": "KN5_l2q6ZMh1"
      }
    },
    {
      "cell_type": "markdown",
      "source": [
        "จังหวัดที่เริ่มพบว่าตัวเองมีอาการป่วย"
      ],
      "metadata": {
        "id": "4NcfwZkLZ3X4"
      }
    },
    {
      "cell_type": "markdown",
      "source": [
        "Check unique values"
      ],
      "metadata": {
        "id": "iN9f2cwhkIao"
      }
    },
    {
      "cell_type": "code",
      "source": [
        "df_cleanRisk['province_of_onset'].sort_values().unique()"
      ],
      "metadata": {
        "colab": {
          "base_uri": "https://localhost:8080/"
        },
        "id": "PdV7ts7DZFA8",
        "outputId": "f2ea5c1f-5b23-4a77-d1dc-c06cf55da6a3"
      },
      "execution_count": null,
      "outputs": [
        {
          "output_type": "execute_result",
          "data": {
            "text/plain": [
              "array(['\\tประจวบคีรีขันธ์', 'USA', '\\xa0กาญจนบุรี', '\\xa0ชลบุรี',\n",
              "       '\\xa0ตราด', '\\xa0นครปฐม', '\\xa0สมุทรสงคราม', '\\xa0สมุทรสาคร',\n",
              "       '\\xa0อุทัยธานี', 'กทม', 'กทม.', 'กบินทร์บุรี', 'กระบี่',\n",
              "       'กระบี่ี่', 'กรุงเทพ', 'กรุงเทพมหานคร', 'กรุงเทพมหานคร.',\n",
              "       'กรุงเทพมหานคร. / พระนครศรีอยุธยา', 'กรุงเทพมหานคร. / ศรีสะเกษ',\n",
              "       'กรุงเทพฯ', 'กะทู้', 'กัมพูชา', 'กาญจนบุรี', 'กาญจบุรี',\n",
              "       'กาญนบุรี', 'กาฬสิน', 'กาฬสินธิ์', 'กาฬสินธุ์', 'กาฬสินธุ์\\xa0',\n",
              "       'กาฬสินธ์', 'กำเพงเพชร', 'กำแพง', 'กำแพงเพชร', 'กำแพงเพชร\\xa0',\n",
              "       'กําแพงเพชร', 'ขอนแก่น', 'ขอนแก่น\\xa0', 'ขอนแก่่น', 'ขัยนาท',\n",
              "       'ขัยภูมิ', 'ขานุวรลักษณ์บุรี', 'คนไทยเดินทางกลับจากต่างประเทศ',\n",
              "       'คลองเตย', 'จ.กรุงเทพมหานคร', 'จ.ภูเก็ต', 'จ.ราชบุรี',\n",
              "       'จ.สุราษฎร์ธานี', 'จังหวัดสมุทรสาคร', 'จันทบุรี', 'ฉะเชองเทราร',\n",
              "       'ฉะเชิงเทรา', 'ชมพร', 'ชลบุรี', 'ชลบุรี\\t', 'ชลบุรี\\xa0',\n",
              "       'ชลบุุรี', 'ชอนแก่น', 'ชัยนาถ', 'ชัยนาท', 'ชัยบาดาล', 'ชัยภูมิ',\n",
              "       'ชัยภูมิ\\xa0', 'ชุมพร', 'ชุุมพร', 'ชุุุมพร', 'ดอนมดแดง', 'ดินแดง',\n",
              "       'ตรัง', 'ตรััง', 'ตราด', 'ตราด\\xa0', 'ตาก', 'ตากใบ', 'ต่างจังหวัด',\n",
              "       'ทุ่งเสลี่ยม', 'ท้ายบ้าน', 'ธารโต', 'นคนปฐม', 'นคปฐม', 'นครนปฐม',\n",
              "       'นครนาชสีมา', 'นครนายก', 'นครปฐม', 'นครปฐม\\xa0', 'นครปบม',\n",
              "       'นครพนม', 'นครพนม\\xa0', 'นครยายก', 'นครราขสีมา', 'นครราชธานี',\n",
              "       'นครราชศรีมา', 'นครราชสสีมา', 'นครราชสีมา', 'นครราชสีมา ลพบุรี',\n",
              "       'นครราชสีมา\\xa0', 'นครศรธรรมราช', 'นครศรี', 'นครศรีธรมราช',\n",
              "       'นครศรีธรรมราข', 'นครศรีธรรมราช', 'นครศรีฯ', 'นครศรีีธรรมราช',\n",
              "       'นครศร๊ธรรมราช', 'นครศร๊ะรรมราช', 'นครสรรค์', 'นครสวรรค',\n",
              "       'นครสวรรค์', 'นครสวรรค์\\xa0', 'นครสีธรรมราช', 'นครฯ', 'นคราชสีมา',\n",
              "       'นครีศรีธรรมราช', 'นตรนายก', 'นตรปฐม', 'นนทบุรี', 'นนทบุรี\\xa0',\n",
              "       'นนทุบรี', 'นนทุรี', 'นนมบุรี', 'นรศรีธรรมราช', 'นราธิวาส',\n",
              "       'นราธิวาส\\u200b', 'นราธฺวาส', 'นอกเขต', 'นาราธิวาส', 'นาวัง',\n",
              "       'น่าน', 'น่าน/ฉะเชิงเทรา', 'บางกรวย', 'บางกะปิ', 'บางนา',\n",
              "       'บางปะอิน', 'บางละมุง', 'บางเพียง', 'บึงกาฬ', 'บึงโขงหลง',\n",
              "       'บุรีรัมภ์', 'บุรีรัมย์', 'บุรีรัมย์\\xa0', 'บุรีรัยม์',\n",
              "       'บุรีรีมย์', 'บ้านหลวง', 'ปจ', 'ปทุทธานี', 'ปทุมฑานี', 'ปทุมทานี',\n",
              "       'ปทุมธาน', 'ปทุมธานี', 'ปทุมธานี.', 'ปทุมธานี\\xa0', 'ปทุมธานีี',\n",
              "       'ปทุมาธานี', 'ปทุุมธานี', 'ปธุมธานี', 'ปมุมธานี',\n",
              "       'ประจวนคีรีขันธ็', 'ประจวบ', 'ประจวบคิรีขันธ์', 'ประจวบคีรขันธ์',\n",
              "       'ประจวบคีรขัันธ์', 'ประจวบคีรีขัน', 'ประจวบคีรีขันธื',\n",
              "       'ประจวบคีรีขันธฺ', 'ประจวบคีรีขันธ์', 'ประจวบคีรีขันธ์\\xa0',\n",
              "       'ประจวบคีรีขันธ์์', 'ประจวบคีรีขัันธ์', 'ประจวบคีีรีขันธ์',\n",
              "       'ประจวบฯ', 'ประทุมธานี', 'ประเทศกัมพูชา', 'ปราจีนบุรี',\n",
              "       'ปราจีบุรี', 'ปลวกแดง', 'ปลายพระยา', 'ปอยเปต', 'ปัตตนรี',\n",
              "       'ปัตตานนี', 'ปัตตานี', 'ปัตตานีี', 'ปัว', 'ปััตตานี', 'ปุทมธานี',\n",
              "       'ป่าโมก', 'พม่า', 'พรหมพิราม', 'พระนครศรียุธยา',\n",
              "       'พระนครศรีอยุทธยา', 'พระนครศรีอยุทยา', 'พระนครศรีอยุธยา',\n",
              "       'พระนครศรีอยุธยา\\xa0', 'พะเยา', 'พังงา', 'พัทยา', 'พัทลุง',\n",
              "       'พัทลุุง', 'พัังงา', 'พิจิตร', 'พิษณุโลก', 'พิษณุโลก\\xa0',\n",
              "       'พิษณูโลก', 'ฟินแลนด์', 'ภาษีเจริญ', 'ภุเก็ต', 'ภูุเก็ต',\n",
              "       'ภููเก็ต', 'ภูเก็ต', 'ภูเก็็ต', 'ภูเพียง', 'มหาสาคาม', 'มหาสารคาม',\n",
              "       'มาเลเซีย', 'มุกดาหาร', 'มุกาดหาร', 'ยะลา', 'ยานนาวา', 'ยโสธร',\n",
              "       'ร.จ.จ.นราธิวาส', 'รอ', 'ระนอง', 'ระบุ', 'ระยอง', 'ระยอง\\xa0',\n",
              "       'ระอยง', 'ราชบบุรี', 'ราชบุรี', 'ราชบุรีี', 'ราชบุรี\\u200b',\n",
              "       'ราชุรี', 'ราชเทวี', 'ร้องกวาง', 'ร้อยเอ็ด', 'ลบุรี', 'ลพบุรี',\n",
              "       'ลพบุรี.', 'ลพบุรี\\xa0', 'ลอง', 'ลาดกระบัง', 'ลาดพร้าว', 'ลาว',\n",
              "       'ลำปาง', 'ลำพูน', 'ลำพูน\\u200b', 'ลำพููน', 'ลำลูกกา', 'วังชิ้น',\n",
              "       'วังทอง', 'วิเศษชัยชาญ', 'ศรีษะสะเกษ', 'ศรีษะเกษ', 'ศรีสระเกษ',\n",
              "       'ศรีสะเกษ', 'ศีรสะเกษ', 'สกลนคร', 'สครสวรรค์', 'สงขลา',\n",
              "       'สงขลา\\u200b', 'สตูล', 'สถานที่ทำงาน', 'สพรรณบุรี', 'สมถทรปราการ',\n",
              "       'สมทรสงคราม', 'สมทรสาคร', 'สมุครปราการ', 'สมุครสาคร', 'สมุท',\n",
              "       'สมุทปราการ', 'สมุทรปรากร', 'สมุทรปรากรร', 'สมุทรปรากา',\n",
              "       'สมุทรปราการ', 'สมุทรปราการ\\xa0', 'สมุทรศาคร', 'สมุทรสงคราม',\n",
              "       'สมุทรสาคร', 'สมุทรสาคร\\xa0', 'สมุทรสาคา', 'สมุทรสาคาร',\n",
              "       'สมุทรสาทร', 'สมุทรสารคร', 'สมุทราปราการ', 'สมุทราสาคร',\n",
              "       'สมุทสงคราม', 'สมุทสาคร', 'สมุย', 'สมุุทรปราการ', 'สมุุทรสงคราม',\n",
              "       'สมุุทรสาคร', 'สระก้ว', 'สระบุรี', 'สระบุรี\\xa0', 'สระแก้ว',\n",
              "       'สรินทร์', 'สวิสเซอร์แลนด์', 'สอง', 'สองแคว', 'สะพานสูง', 'สะแก้ว',\n",
              "       'สัตหีบ', 'สัมผัสผู้ป่วยยืนยัน COVID20', 'สามุทรสาคร', 'สารคาม',\n",
              "       'สารภี', 'สิงห์บุรี', 'สิงห์บุรี\\xa0', 'สุทรปราการ', 'สุพรรญบุรี',\n",
              "       'สุพรรณบุรั', 'สุพรรณบุรี', 'สุพรรณบุรี\\xa0', 'สุมทรปราการ',\n",
              "       'สุมทรสาคร', 'สุมุทรปราการ', 'สุมุทรสาคร', 'สุระบุรี', 'สุราษ',\n",
              "       'สุราษฎณ์ธานี', 'สุราษฎธานี', 'สุราษฎร์', 'สุราษฎร์ธานี',\n",
              "       'สุราษฎร์ฯ', 'สุราษฎร์์ธานี', 'สุราษฎ์ธานี', 'สุราษฏร์ธานี',\n",
              "       'สุราษธานี', 'สุราษร์ฎธานี', 'สุราษร์ธานี', 'สุราษฯ', 'สุรินทรื',\n",
              "       'สุรินทร์', 'สุรินทร์ 32150', 'สุรินทร์,รีสะเกษ', 'สุรินทร์\\xa0',\n",
              "       'สุริมทร์', 'สุริะแก้ว', 'สุวรรณภูมิ', 'สุุพรรณบุรี',\n",
              "       'สุุราษฎร์ธานี', 'สุุราษฏร์ธานี', 'สุุราษฯ', 'สุุรินทร์',\n",
              "       'สุุุโขทัย', 'สุโขทับ', 'สุโขทัย', 'สุโขทัย\\xa0', 'สูงเม่น',\n",
              "       'หนวงบัวลำภู', 'หนองคาย', 'หนองงคาย', 'หนองบัวภู', 'หนองบัวลำพูน',\n",
              "       'หนองบัวลำภู', 'หนองบัวลําภู', 'หนองบััวลำภู', 'หนองม่วงไข่',\n",
              "       'หนอบัวลำภู', 'หลายจังหวัด', 'หัวหิน', 'ห้วยขวาง', 'อยุทธยา',\n",
              "       'อยุธยา', 'อยุุธยา', 'อำนาจเจริญ', 'อำนาจเจิญ', 'อำนาญเจริญ',\n",
              "       'อำนาเจริญ', 'อิสราเอล', 'อุดธานี', 'อุดร', 'อุดรธาณี', 'อุดรธานี',\n",
              "       'อุดรธานี\\xa0', 'อุดรธานีี', 'อุดรราชธานี', 'อุตรดิตถ์',\n",
              "       'อุตรดิตถ์\\xa0', 'อุตรดิตถ์์', 'อุตรดิษถ์', 'อุตรดิิตถ์',\n",
              "       'อุตรติดถ์', 'อุทัยธานี', 'อุทัยานี', 'อุบลราขธานี', 'อุบลราชธานี',\n",
              "       'อุบลราชธานี\\xa0', 'อุุครดิตถ์', 'อุุดรธาน', 'อุุดรธานี',\n",
              "       'อุุตรดิตถ์', 'อุุทัยธานี', 'อุุบลราชธานี', 'อ่งทอง', 'อ่างทอง',\n",
              "       'อ่างทอง\\xa0', 'อํานาจเจริญ', 'เชิงเทรา', 'เชียงราย', 'เชียงใหม่',\n",
              "       'เชีียงราย', 'เชีียงใหม่', 'เด่นชัย', 'เพขรบุรี', 'เพขรบูรณื',\n",
              "       'เพขรบูรณ์', 'เพชรบุรณ์', 'เพชรบุรี', 'เพชรบุรึ', 'เพชรบุุรี',\n",
              "       'เพชรบุูรณ์', 'เพชรบูรณ์', 'เพชรบูรณ์\\xa0', 'เพชรบูร์',\n",
              "       'เพชรบููรณ์', 'เมือง', 'เมืองตาก', 'เมืองน่าน', 'เมืองปัตตานี',\n",
              "       'เรือ', 'เลย', 'เลย\\xa0', 'เวียงจันทร์', 'เวียงสา', 'แพร่',\n",
              "       'แม่ทะ', 'แม่ฮ่องสอน', 'แล้วป่วย', 'โพธิ์ทอง', 'ไชโย',\n",
              "       'ไม่มีชื่อหอพัก', 'ไม่ระบุ', nan], dtype=object)"
            ]
          },
          "metadata": {},
          "execution_count": 71
        }
      ]
    },
    {
      "cell_type": "code",
      "source": [
        "df_cleanRisk['province_of_onset'].nunique()"
      ],
      "metadata": {
        "colab": {
          "base_uri": "https://localhost:8080/"
        },
        "id": "AlYhmP5xc5cX",
        "outputId": "98cf0e9e-ab7d-48e2-ff6d-bfcf0e375db4"
      },
      "execution_count": null,
      "outputs": [
        {
          "output_type": "execute_result",
          "data": {
            "text/plain": [
              "430"
            ]
          },
          "metadata": {},
          "execution_count": 72
        }
      ]
    },
    {
      "cell_type": "markdown",
      "source": [
        "Replace ชื่อจังหวัดที่มีการพิมผิด"
      ],
      "metadata": {
        "id": "cdt2fVZwkLmL"
      }
    },
    {
      "cell_type": "code",
      "source": [
        "replace5 = {\n",
        "    'กบินทร์บุรี':'ปราจีนบุรี',\n",
        "    'ปราจีบุรี':'ปราจีนบุรี',\n",
        "    'กระบี่ี่':'กระบี่',\n",
        "    'ปลายพระยา':'กระบี่',\n",
        "    'กาญจบุรี':'กาญจนบุรี',\n",
        "    'กาญนบุรี':'กาญจนบุรี',\n",
        "    'กาฬสิน':'กาฬสินธุ์',\n",
        "    'กาฬสินธุ์\\xa0':'กาฬสินธุ์',\n",
        "    'กาฬสินธ์':'กาฬสินธุ์',\n",
        "    'กำเพงเพชร':'กำแพงเพชร',\n",
        "    'กำแพง':'กำแพงเพชร',\n",
        "    'กำแพงเพชร\\xa0':'กำแพงเพชร',\n",
        "    'กําแพงเพชร':'กำแพงเพชร',\n",
        "    'ขานุวรลักษณ์บุรี':'กำแพงเพชร',\n",
        "    'ขอนแก่น\\xa0':'ขอนแก่น',\n",
        "    'ชอนแก่น':'ขอนแก่น',\n",
        "    'ขอนแก่่น':'ขอนแก่น',\n",
        "    'กะทู้':'ภูเก็ต',\n",
        "    'กัมพูชา':'ประเทศกัมพูชา',\n",
        "    'ปอยเปต':'ประเทศกัมพูชา',\n",
        "    'ฉะเชองเทราร':'ฉะเชิงเทรา',\n",
        "    'ชลบุุรี':'ชลบุรี',\n",
        "    'ชลบุรี\\xa0':'ชลบุรี',\n",
        "    '\\xa0ชลบุรี':'ชลบุรี',\n",
        "    'ชัยนาถ':'ชัยนาท',\n",
        "    'ชัยภูมิ\\xa0':'ชัยภูมิ',\n",
        "    'ชุุมพร':'ชุมพร',\n",
        "    'ชุุุมพร':'ชุมพร',\n",
        "    'ดอนมดแดง':'อุบลราชธานี',\n",
        "    'อุบลราชธานี\\xa0':'อุบลราชธานี',\n",
        "    'ระบุ':'อุบลราชธานี',\n",
        "    'อุุบลราชธานี':'อุบลราชธานี',\n",
        "    'อุบลราขธานี':'อุบลราชธานี',\n",
        "    'ตรััง':'ตรัง',\n",
        "    'ตราด\\xa0':'ตราด',\n",
        "    'ทุ่งเสลี่ยม':'สุโขทัย',\n",
        "    'สิงห์บุรี\\xa0':'สิงห์บุรี',\n",
        "    'นครปบม':'นครพนม',\n",
        "    'นครพนม\\xa0':'นครพนม',\n",
        "    'นครยายก':'นครนายก',\n",
        "    'นตรนายก':'นครนายก',\n",
        "    'น่าน/ฉะเชิงเทรา':'น่าน',\n",
        "    'เมืองน่าน':'น่าน',\n",
        "    'บางละมุง':'ชลบุรี',\n",
        "    'พัทยา':'ชลบุรี',\n",
        "    'สัตหีบ':'ชลบุรี',\n",
        "    'ชลบุรี\\t':'ชลบุรี',\n",
        "    'สระบุรี\\xa0':'สระบุรี',\n",
        "    'สุระบุรี':'สระบุรี',\n",
        "    'เลย\\xa0':'เลย',\n",
        "    'พัังงา':'พังงา',\n",
        "    'พัทลุุง':'พัทลุง',\n",
        "    'มุกาดหาร':'มุกดาหาร',\n",
        "    'สารคาม':'มหาสารคาม',\n",
        "    'มหาสาคาม':'มหาสารคาม',\n",
        "    'ระยอง\\xa0':'ระยอง',\n",
        "    'ระอยง':'ระยอง',\n",
        "    'ลำพูน\\u200b':'ลำพูน',\n",
        "    'ลำพููน':'ลำพูน',\n",
        "    'สระก้ว':'สระแก้ว',\n",
        "    'คนไทยเดินทางกลับจากต่างประเทศ':'สระแก้ว',\n",
        "    'หนองงคาย':'หนองคาย',\n",
        "    'อุทัยานี':'อุทัยธานี',\n",
        "    '\\xa0อุทัยธานี':'อุทัยธานี',\n",
        "    'เชิงเทรา':'ฉะเชิงเทรา',\n",
        "    'เชีียงใหม่':'เชียงใหม่',\n",
        "    'แม่ทะ':'ลำปาง',\n",
        "    'เมืองตาก':'ตาก',\n",
        "    'ขัยภูมิ':'ชัยภูมิ',\n",
        "    'ขัยนาท':'ชัยนาท',\n",
        "    '\\xa0กาญจนบุรี':'กาญจนบุรี',\n",
        "    '\\xa0ตราด':'ตราด',\n",
        "    'ชมพร':'ชุมพร',\n",
        "    'ธารโต':'ยะลา',\n",
        "    'บึงโขงหลง':'บึงกาฬ',\n",
        "    'บ้านหลวง':'น่าน',\n",
        "    'ปลวกแดง':'ระยอง',\n",
        "    'ปัว':'น่าน',\n",
        "    'ภูเพียง':'น่าน',\n",
        "    'เวียงสา':'น่าน',\n",
        "    'เชีียงราย':'เชียงราย',\n",
        "    'สูงเม่น':'แพร่',\n",
        "    'ร้องกวาง':'แพร่',\n",
        "    'วังชิ้น':'แพร่',\n",
        "    'หนองม่วงไข่':'แพร่',\n",
        "    'เด่นชัย':'แพร่',\n",
        "    'สารภี':'เชียงใหม่',\n",
        "    'สงขลา\\u200b':'สงขลา',\n",
        "    'สุวรรณภูมิ':'ร้อยเอ็ด',\n",
        "    'สะแก้ว':'สระแก้ว',\n",
        "    'อุุทัยธานี':'อุทัยธานี',\n",
        "    'กาฬสินธิ์':'กาฬสินธุ์',\n",
        "    'อํานาจเจริญ':'อำนาจเจริญ'\n",
        "}\n",
        "df_cleanRisk['province_of_onset'] = df_cleanRisk['province_of_onset'].replace(replace5)"
      ],
      "metadata": {
        "id": "KAyXB9T8tQXb"
      },
      "execution_count": null,
      "outputs": []
    },
    {
      "cell_type": "code",
      "source": [
        "df_cleanRisk['province_of_onset'] = df_cleanRisk['province_of_onset'].replace(['\\tประจวบคีรีขันธ์','ประจวนคีรีขันธ็', 'ประจวบ','ประจวบคิรีขันธ์', 'ประจวบคีรขันธ์'\n",
        ", 'ประจวบคีรขัันธ์','ประจวบคีรีขัน', 'ประจวบคีรีขันธื', 'ประจวบคีรีขันธฺ','ประจวบคีรีขันธ์\\xa0', 'ประจวบคีรีขันธ์์','ประจวบคีรีขัันธ์', 'ประจวบคีีรีขันธ์', 'ประจวบฯ','ปจ','หัวหิน'],'ประจวบคีรีขันธ์')"
      ],
      "metadata": {
        "id": "7DgMZT3YeEih"
      },
      "execution_count": null,
      "outputs": []
    },
    {
      "cell_type": "code",
      "source": [
        "df_cleanRisk['province_of_onset'] = df_cleanRisk['province_of_onset'].replace(['กทม','กทม.','กรุงเทพ','กรุงเทพมหานคร.','กรุงเทพมหานคร. / พระนครศรีอยุธยา'\n",
        ",'กรุงเทพมหานคร. / ศรีสะเกษ','กรุงเทพฯ','ดินแดง','คลองเตย','จ.กรุงเทพมหานคร','ราชเทวี','บางกะปิ','ภาษีเจริญ','ลาดกระบัง','สะพานสูง','ห้วยขวาง','สัมผัสผู้ป่วยยืนยัน COVID20'\n",
        ",'ลาดพร้าว','ยานนาวา'],'กรุงเทพมหานคร')"
      ],
      "metadata": {
        "id": "_24Sh_Eto3I1"
      },
      "execution_count": null,
      "outputs": []
    },
    {
      "cell_type": "code",
      "source": [
        "df_cleanRisk['province_of_onset'] = df_cleanRisk['province_of_onset'].replace(['กะทู้','จ.ภูเก็ต','ภุเก็ต','ภูุเก็ต','ภููเก็ต','ภูเก็็ต'],'ภูเก็ต')"
      ],
      "metadata": {
        "id": "opXl01VEqd9e"
      },
      "execution_count": null,
      "outputs": []
    },
    {
      "cell_type": "code",
      "source": [
        "df_cleanRisk['province_of_onset'] = df_cleanRisk['province_of_onset'].replace(['ตากใบ','นราธิวาส\\u200b','นราธฺวาส','ร.จ.จ.นราธิวาส','นาราธิวาส'],'นราธิวาส')"
      ],
      "metadata": {
        "id": "OsqLJgUq5vIq"
      },
      "execution_count": null,
      "outputs": []
    },
    {
      "cell_type": "code",
      "source": [
        "df_cleanRisk['province_of_onset'] = df_cleanRisk['province_of_onset'].replace(['จ.ราชบุรี','ราชบบุรี','ราชบุรีี','ราชบุรี\\u200b','ราชุรี'],'ราชบุรี')"
      ],
      "metadata": {
        "id": "3byDbC3j6VJ_"
      },
      "execution_count": null,
      "outputs": []
    },
    {
      "cell_type": "code",
      "source": [
        "df_cleanRisk['province_of_onset'] = df_cleanRisk['province_of_onset'].replace(['จ.สุราษฎร์ธานี','สุราษ','สุราษฎณ์ธานี','สุราษฎธานี','สุราษฎร์','สุราษฎร์ฯ','สุราษฎ์ธานี'\n",
        ",'สุราษฎร์ฯ','สุราษฎ์ธานี','สุราษฏร์ธานี','สุุราษฏร์ธานี','สุราษธานี','สุราษร์ฎธานี','สุราษร์ธานี','สุราษฯ','สมุย','สุุราษฯ','สุุราษฎร์ธานี','สุราษฎร์์ธานี'],'สุราษฎร์ธานี')"
      ],
      "metadata": {
        "id": "oQsoVIy87f76"
      },
      "execution_count": null,
      "outputs": []
    },
    {
      "cell_type": "code",
      "source": [
        "df_cleanRisk['province_of_onset'] = df_cleanRisk['province_of_onset'].replace(['ชัยบาดาล','ลบุรี','ลพบุรี.','ลพบุรี\\xa0'],'ลพบุรี')"
      ],
      "metadata": {
        "id": "F1Ondpiv9Eox"
      },
      "execution_count": null,
      "outputs": []
    },
    {
      "cell_type": "code",
      "source": [
        "df_cleanRisk['province_of_onset'] = df_cleanRisk['province_of_onset'].replace(['นคนปฐม','นครนปฐม','นครปฐม\\xa0','\\xa0นครปฐม','นคปฐม','นตรปฐม'],'นครปฐม')"
      ],
      "metadata": {
        "id": "dq6ujUAQ-0rQ"
      },
      "execution_count": null,
      "outputs": []
    },
    {
      "cell_type": "code",
      "source": [
        "df_cleanRisk['province_of_onset'] = df_cleanRisk['province_of_onset'].replace(['นครราขสีมา','นครราชธานี','นครราชศรีมา','นครราชสสีมา','นครราชสีมา ลพบุรี','นครราชสีมา\\xa0','นคราชสีมา','นครนาชสีมา'],'นครราชสีมา')"
      ],
      "metadata": {
        "id": "4yFe8MfRADWG"
      },
      "execution_count": null,
      "outputs": []
    },
    {
      "cell_type": "code",
      "source": [
        "df_cleanRisk['province_of_onset'] = df_cleanRisk['province_of_onset'].replace(['นครศรธรรมราช','นครศรี','นครศรีธรมราช','นครศรีธรรมราข','นครศรีีธรรมราช','นครศร๊ธรรมราช','นครศรีฯ'\n",
        ",'นครสีธรรมราช','นครฯ','นครีศรีธรรมราช','นรศรีธรรมราช','รอ','นครศร๊ะรรมราช'],'นครศรีธรรมราช')"
      ],
      "metadata": {
        "id": "WF4NrJhQCTY7"
      },
      "execution_count": null,
      "outputs": []
    },
    {
      "cell_type": "code",
      "source": [
        "df_cleanRisk['province_of_onset'] = df_cleanRisk['province_of_onset'].replace(['นครสรรค์','นครสวรรค','นครสวรรค์\\xa0','สครสวรรค์'],'นครสวรรค์')"
      ],
      "metadata": {
        "id": "DujJgenvCdwI"
      },
      "execution_count": null,
      "outputs": []
    },
    {
      "cell_type": "code",
      "source": [
        "df_cleanRisk['province_of_onset'] = df_cleanRisk['province_of_onset'].replace(['นนทบุรี\\xa0','นนทุบรี','นนทุรี','นนมบุรี','บางกรวย'],'นนทบุรี')"
      ],
      "metadata": {
        "id": "iUU-pMvaDlSV"
      },
      "execution_count": null,
      "outputs": []
    },
    {
      "cell_type": "code",
      "source": [
        "df_cleanRisk['province_of_onset'] = df_cleanRisk['province_of_onset'].replace(['บางนา','บางเพียง','สมุท','สมุทปราการ','สมุทรปรากา','สมุทรปราการ\\xa0','สมุทราปราการ','สุมทรปราการ','สุมุทรปราการ'\n",
        ",'ท้ายบ้าน','สมถทรปราการ','สมุครปราการ','สมุทรปรากร','สมุทรปรากรร','สมุุทรปราการ','สุทรปราการ'],'สมุทรปราการ')"
      ],
      "metadata": {
        "id": "rn5cZSi7Efrw"
      },
      "execution_count": null,
      "outputs": []
    },
    {
      "cell_type": "code",
      "source": [
        "df_cleanRisk['province_of_onset'] = df_cleanRisk['province_of_onset'].replace(['บางปะอิน','พระนครศรียุธยา','พระนครศรีอยุทธยา','พระนครศรีอยุทยา','พระนครศรีอยุธยา\\xa0','อยุทธยา','อยุธยา'\n",
        ",'อยุุธยา'],'พระนครศรีอยุธยา')"
      ],
      "metadata": {
        "id": "1ACGw3gHEseu"
      },
      "execution_count": null,
      "outputs": []
    },
    {
      "cell_type": "code",
      "source": [
        "df_cleanRisk['province_of_onset'] = df_cleanRisk['province_of_onset'].replace(['บุรีรัมภ์','บุรีรัมย์\\xa0','บุรีรีมย์','บุรีรัยม์'],'บุรีรัมย์')"
      ],
      "metadata": {
        "id": "ny6SG-DUHe_L"
      },
      "execution_count": null,
      "outputs": []
    },
    {
      "cell_type": "code",
      "source": [
        "df_cleanRisk['province_of_onset'] = df_cleanRisk['province_of_onset'].replace(['ปทุทธานี','ปทุมฑานี','ปทุมทานี','ปทุมธาน','ปทุมธานี\\xa0','ปทุมาธานี','ปทุุมธานี','ปธุมธานี','ประทุมธานี'\n",
        ",'ลำลูกกา','ปทุมธานี.','ปทุมธานีี','ปมุมธานี','ปุทมธานี'],'ปทุมธานี')"
      ],
      "metadata": {
        "id": "uFXqEx2jHsoZ"
      },
      "execution_count": null,
      "outputs": []
    },
    {
      "cell_type": "code",
      "source": [
        "df_cleanRisk['province_of_onset'] = df_cleanRisk['province_of_onset'].replace(['ปัตตนรี','ปัตตานนี','ปัตตานีี','ปััตตานี','เมืองปัตตานี'],'ปัตตานี')"
      ],
      "metadata": {
        "id": "wOythjGRIdJO"
      },
      "execution_count": null,
      "outputs": []
    },
    {
      "cell_type": "code",
      "source": [
        "df_cleanRisk['province_of_onset'] = df_cleanRisk['province_of_onset'].replace(['พรหมพิราม','พิษณุโลก\\xa0','พิษณูโลก','วังทอง','นอกเขต','สองแคว'],'พิษณุโลก')"
      ],
      "metadata": {
        "id": "NEvEaNk_IvMd"
      },
      "execution_count": null,
      "outputs": []
    },
    {
      "cell_type": "code",
      "source": [
        "df_cleanRisk['province_of_onset'] = df_cleanRisk['province_of_onset'].replace(['วิเศษชัยชาญ','โพธิ์ทอง','ไชโย','อ่งทอง','อ่างทอง\\xa0'],'อ่างทอง')"
      ],
      "metadata": {
        "id": "TzvsAiV9LYVN"
      },
      "execution_count": null,
      "outputs": []
    },
    {
      "cell_type": "code",
      "source": [
        "df_cleanRisk['province_of_onset'] = df_cleanRisk['province_of_onset'].replace(['ศรีษะสะเกษ','ศรีษะเกษ','ศรีสระเกษ','ศีรสะเกษ'],'ศรีสะเกษ')"
      ],
      "metadata": {
        "id": "76orSJflMsjB"
      },
      "execution_count": null,
      "outputs": []
    },
    {
      "cell_type": "code",
      "source": [
        "df_cleanRisk['province_of_onset'] = df_cleanRisk['province_of_onset'].replace(['ป่าโมก','สพรรณบุรี','สุพรรญบุรี','สุพรรณบุรั','สุพรรณบุรี\\xa0','สุุพรรณบุรี'],'สุพรรณบุรี')"
      ],
      "metadata": {
        "id": "xN6Hp0nENBBU"
      },
      "execution_count": null,
      "outputs": []
    },
    {
      "cell_type": "code",
      "source": [
        "df_cleanRisk['province_of_onset'] = df_cleanRisk['province_of_onset'].replace(['สมทรสงคราม','สมุุทรสงคราม','\\xa0สมุทรสงคราม','สมุทสงคราม'],'สมุทรสงคราม')"
      ],
      "metadata": {
        "id": "hFEEvHIpNlFO"
      },
      "execution_count": null,
      "outputs": []
    },
    {
      "cell_type": "code",
      "source": [
        "df_cleanRisk['province_of_onset'] = df_cleanRisk['province_of_onset'].replace(['สมุครสาคร','สมุทรศาคร','สมุทรศาคร','สมุทรสาคร','สมุทรสาคร\\xa0','สมุทรสาคา','สมุทรสาคาร','สมุทรสาทร'\n",
        ",'สมุทรสารคร','สมุทราสาคร''สมุทสาคร','สมุทสาคร','สามุทรสาคร','สมุทราสาคร','สมุทราสาคร','สุมทรสาคร','จังหวัดสมุทรสาคร','\\xa0สมุทรสาคร','สมทรสาคร','สมุุทรสาคร','สุมุทรสาคร'],'สมุทรสาคร')"
      ],
      "metadata": {
        "id": "pUu_tWk3N4zp"
      },
      "execution_count": null,
      "outputs": []
    },
    {
      "cell_type": "code",
      "source": [
        "df_cleanRisk['province_of_onset'] = df_cleanRisk['province_of_onset'].replace(['สรินทร์','สุรินทรื','สุรินทร์ 32150','สุรินทร์,รีสะเกษ','สุรินทร์\\xa0','สุริมทร์','สุริะแก้ว','สุุรินทร์'],'สุรินทร์')"
      ],
      "metadata": {
        "id": "fc23HIHDQk2Z"
      },
      "execution_count": null,
      "outputs": []
    },
    {
      "cell_type": "code",
      "source": [
        "df_cleanRisk['province_of_onset'] = df_cleanRisk['province_of_onset'].replace(['สุุุโขทัย','สุโขทับ','สุโขทัย\\xa0'],'สุโขทัย')"
      ],
      "metadata": {
        "id": "kIpipk9qTJBn"
      },
      "execution_count": null,
      "outputs": []
    },
    {
      "cell_type": "code",
      "source": [
        "df_cleanRisk['province_of_onset'] = df_cleanRisk['province_of_onset'].replace(['หนวงบัวลำภู','หนองบัวภู','หนองบัวลำพูน','หนองบัวลำภู','หนองบัวลําภู','หนองบััวลำภู','หนอบัวลำภู','นาวัง'],'หนองบัวลำภู')"
      ],
      "metadata": {
        "id": "XLyBg2jFUQ-S"
      },
      "execution_count": null,
      "outputs": []
    },
    {
      "cell_type": "code",
      "source": [
        "df_cleanRisk['province_of_onset'] = df_cleanRisk['province_of_onset'].replace(['หลายจังหวัด','อำนาจเจิญ','อำนาญเจริญ','อำนาญเจริญ','อำนาเจริญ'],'อำนาจเจริญ')"
      ],
      "metadata": {
        "id": "5SFh50hQVUm-"
      },
      "execution_count": null,
      "outputs": []
    },
    {
      "cell_type": "code",
      "source": [
        "df_cleanRisk['province_of_onset'] = df_cleanRisk['province_of_onset'].replace(['อุดธานี','อุดร','อุดรธาณี','อุดรธานี\\xa0','อุดรราชธานี','อุุดรธานี','อุดรธานีี','อุุดรธาน'],'อุดรธานี')"
      ],
      "metadata": {
        "id": "95F4uE_nVtyR"
      },
      "execution_count": null,
      "outputs": []
    },
    {
      "cell_type": "code",
      "source": [
        "df_cleanRisk['province_of_onset'] = df_cleanRisk['province_of_onset'].replace(['อุตรดิตถ์\\xa0','อุตรดิตถ์์','อุตรดิษถ์','อุตรดิิตถ์','อุตรติดถ์','อุุครดิตถ์','อุุตรดิตถ์'],'อุตรดิตถ์')"
      ],
      "metadata": {
        "id": "2ycSH_teWVFE"
      },
      "execution_count": null,
      "outputs": []
    },
    {
      "cell_type": "code",
      "source": [
        "df_cleanRisk['province_of_onset'] = df_cleanRisk['province_of_onset'].replace(['เพขรบุรี','เพชรบุรึ','เพชรบุุรี'],'เพชรบุรี')"
      ],
      "metadata": {
        "id": "mvIdfzQsXlWf"
      },
      "execution_count": null,
      "outputs": []
    },
    {
      "cell_type": "code",
      "source": [
        "df_cleanRisk['province_of_onset'] = df_cleanRisk['province_of_onset'].replace(['เพขรบูรณื','เพขรบูรณ์','เพชรบุรณ์','เพชรบูรณ์\\xa0','เพชรบูร์','เพชรบููรณ์','เพชรบุูรณ์'],'เพชรบูรณ์')"
      ],
      "metadata": {
        "id": "bEnFr3USXp1t"
      },
      "execution_count": null,
      "outputs": []
    },
    {
      "cell_type": "markdown",
      "source": [
        "Fill ค่าที่ไม่ทราบชื่อจังหวัดและ null values เป็น ไม่ระบุ และเปลี่ยนชื่อที่เป็นต่างประเทศให้เป็น 'ไม่ระบุ' เพราะมีจำนวนน้อยมากๆ ไม่มีผลในการวิเคราะห์การแพร่เชื้อภายในประเทศ"
      ],
      "metadata": {
        "id": "o_l2gMQukTeD"
      }
    },
    {
      "cell_type": "code",
      "source": [
        "df_cleanRisk['province_of_onset'] = df_cleanRisk['province_of_onset'].replace(['เมือง','ไม่มีชื่อหอพัก','ต่างจังหวัด','แล้วป่วย','เรือ','สถานที่ทำงาน','ลอง','สอง','USA'\n",
        ",'ประเทศกัมพูชา','ฟินแลนด์','สวิสเซอร์แลนด์','อิสราเอล','มาเลเซีย','ลาว','พม่า','เวียงจันทร์'],'ไม่ระบุ').fillna('ไม่ระบุ')"
      ],
      "metadata": {
        "id": "aNtNNVwSYgsD"
      },
      "execution_count": null,
      "outputs": []
    },
    {
      "cell_type": "code",
      "source": [
        "df_cleanRisk['province_of_onset'].sort_values().unique()"
      ],
      "metadata": {
        "colab": {
          "base_uri": "https://localhost:8080/"
        },
        "id": "ubQEpKNBev33",
        "outputId": "2ee0d68b-13d3-40a0-9ca9-5449f73d88be"
      },
      "execution_count": null,
      "outputs": [
        {
          "output_type": "execute_result",
          "data": {
            "text/plain": [
              "array(['กระบี่', 'กรุงเทพมหานคร', 'กาญจนบุรี', 'กาฬสินธุ์', 'กำแพงเพชร',\n",
              "       'ขอนแก่น', 'จันทบุรี', 'ฉะเชิงเทรา', 'ชลบุรี', 'ชัยนาท', 'ชัยภูมิ',\n",
              "       'ชุมพร', 'ตรัง', 'ตราด', 'ตาก', 'นครนายก', 'นครปฐม', 'นครพนม',\n",
              "       'นครราชสีมา', 'นครศรีธรรมราช', 'นครสวรรค์', 'นนทบุรี', 'นราธิวาส',\n",
              "       'น่าน', 'บึงกาฬ', 'บุรีรัมย์', 'ปทุมธานี', 'ประจวบคีรีขันธ์',\n",
              "       'ปราจีนบุรี', 'ปัตตานี', 'พระนครศรีอยุธยา', 'พะเยา', 'พังงา',\n",
              "       'พัทลุง', 'พิจิตร', 'พิษณุโลก', 'ภูเก็ต', 'มหาสารคาม', 'มุกดาหาร',\n",
              "       'ยะลา', 'ยโสธร', 'ระนอง', 'ระยอง', 'ราชบุรี', 'ร้อยเอ็ด', 'ลพบุรี',\n",
              "       'ลำปาง', 'ลำพูน', 'ศรีสะเกษ', 'สกลนคร', 'สงขลา', 'สตูล',\n",
              "       'สมุทรปราการ', 'สมุทรสงคราม', 'สมุทรสาคร', 'สระบุรี', 'สระแก้ว',\n",
              "       'สิงห์บุรี', 'สุพรรณบุรี', 'สุราษฎร์ธานี', 'สุรินทร์', 'สุโขทัย',\n",
              "       'หนองคาย', 'หนองบัวลำภู', 'อำนาจเจริญ', 'อุดรธานี', 'อุตรดิตถ์',\n",
              "       'อุทัยธานี', 'อุบลราชธานี', 'อ่างทอง', 'เชียงราย', 'เชียงใหม่',\n",
              "       'เพชรบุรี', 'เพชรบูรณ์', 'เลย', 'แพร่', 'แม่ฮ่องสอน', 'ไม่ระบุ'],\n",
              "      dtype=object)"
            ]
          },
          "metadata": {},
          "execution_count": 106
        }
      ]
    },
    {
      "cell_type": "code",
      "source": [
        "df_cleanRisk.groupby('province_of_onset')[['announce_date']].count().sort_values('announce_date', ascending = False)"
      ],
      "metadata": {
        "colab": {
          "base_uri": "https://localhost:8080/",
          "height": 455
        },
        "id": "LOr-88AOceOz",
        "outputId": "94c3b5f0-3ad5-43ca-98c4-5942fda0347e"
      },
      "execution_count": null,
      "outputs": [
        {
          "output_type": "execute_result",
          "data": {
            "text/plain": [
              "                   announce_date\n",
              "province_of_onset               \n",
              "กรุงเทพมหานคร             557926\n",
              "ไม่ระบุ                   391050\n",
              "สมุทรปราการ               181495\n",
              "ชลบุรี                    169920\n",
              "สมุทรสาคร                 118507\n",
              "...                          ...\n",
              "บึงกาฬ                      4642\n",
              "ชัยนาท                      4560\n",
              "แม่ฮ่องสอน                  4040\n",
              "มุกดาหาร                    3697\n",
              "อำนาจเจริญ                  2788\n",
              "\n",
              "[78 rows x 1 columns]"
            ],
            "text/html": [
              "\n",
              "  <div id=\"df-9cdaed84-0989-45ea-8961-71ded16c2a92\">\n",
              "    <div class=\"colab-df-container\">\n",
              "      <div>\n",
              "<style scoped>\n",
              "    .dataframe tbody tr th:only-of-type {\n",
              "        vertical-align: middle;\n",
              "    }\n",
              "\n",
              "    .dataframe tbody tr th {\n",
              "        vertical-align: top;\n",
              "    }\n",
              "\n",
              "    .dataframe thead th {\n",
              "        text-align: right;\n",
              "    }\n",
              "</style>\n",
              "<table border=\"1\" class=\"dataframe\">\n",
              "  <thead>\n",
              "    <tr style=\"text-align: right;\">\n",
              "      <th></th>\n",
              "      <th>announce_date</th>\n",
              "    </tr>\n",
              "    <tr>\n",
              "      <th>province_of_onset</th>\n",
              "      <th></th>\n",
              "    </tr>\n",
              "  </thead>\n",
              "  <tbody>\n",
              "    <tr>\n",
              "      <th>กรุงเทพมหานคร</th>\n",
              "      <td>557926</td>\n",
              "    </tr>\n",
              "    <tr>\n",
              "      <th>ไม่ระบุ</th>\n",
              "      <td>391050</td>\n",
              "    </tr>\n",
              "    <tr>\n",
              "      <th>สมุทรปราการ</th>\n",
              "      <td>181495</td>\n",
              "    </tr>\n",
              "    <tr>\n",
              "      <th>ชลบุรี</th>\n",
              "      <td>169920</td>\n",
              "    </tr>\n",
              "    <tr>\n",
              "      <th>สมุทรสาคร</th>\n",
              "      <td>118507</td>\n",
              "    </tr>\n",
              "    <tr>\n",
              "      <th>...</th>\n",
              "      <td>...</td>\n",
              "    </tr>\n",
              "    <tr>\n",
              "      <th>บึงกาฬ</th>\n",
              "      <td>4642</td>\n",
              "    </tr>\n",
              "    <tr>\n",
              "      <th>ชัยนาท</th>\n",
              "      <td>4560</td>\n",
              "    </tr>\n",
              "    <tr>\n",
              "      <th>แม่ฮ่องสอน</th>\n",
              "      <td>4040</td>\n",
              "    </tr>\n",
              "    <tr>\n",
              "      <th>มุกดาหาร</th>\n",
              "      <td>3697</td>\n",
              "    </tr>\n",
              "    <tr>\n",
              "      <th>อำนาจเจริญ</th>\n",
              "      <td>2788</td>\n",
              "    </tr>\n",
              "  </tbody>\n",
              "</table>\n",
              "<p>78 rows × 1 columns</p>\n",
              "</div>\n",
              "      <button class=\"colab-df-convert\" onclick=\"convertToInteractive('df-9cdaed84-0989-45ea-8961-71ded16c2a92')\"\n",
              "              title=\"Convert this dataframe to an interactive table.\"\n",
              "              style=\"display:none;\">\n",
              "        \n",
              "  <svg xmlns=\"http://www.w3.org/2000/svg\" height=\"24px\"viewBox=\"0 0 24 24\"\n",
              "       width=\"24px\">\n",
              "    <path d=\"M0 0h24v24H0V0z\" fill=\"none\"/>\n",
              "    <path d=\"M18.56 5.44l.94 2.06.94-2.06 2.06-.94-2.06-.94-.94-2.06-.94 2.06-2.06.94zm-11 1L8.5 8.5l.94-2.06 2.06-.94-2.06-.94L8.5 2.5l-.94 2.06-2.06.94zm10 10l.94 2.06.94-2.06 2.06-.94-2.06-.94-.94-2.06-.94 2.06-2.06.94z\"/><path d=\"M17.41 7.96l-1.37-1.37c-.4-.4-.92-.59-1.43-.59-.52 0-1.04.2-1.43.59L10.3 9.45l-7.72 7.72c-.78.78-.78 2.05 0 2.83L4 21.41c.39.39.9.59 1.41.59.51 0 1.02-.2 1.41-.59l7.78-7.78 2.81-2.81c.8-.78.8-2.07 0-2.86zM5.41 20L4 18.59l7.72-7.72 1.47 1.35L5.41 20z\"/>\n",
              "  </svg>\n",
              "      </button>\n",
              "      \n",
              "  <style>\n",
              "    .colab-df-container {\n",
              "      display:flex;\n",
              "      flex-wrap:wrap;\n",
              "      gap: 12px;\n",
              "    }\n",
              "\n",
              "    .colab-df-convert {\n",
              "      background-color: #E8F0FE;\n",
              "      border: none;\n",
              "      border-radius: 50%;\n",
              "      cursor: pointer;\n",
              "      display: none;\n",
              "      fill: #1967D2;\n",
              "      height: 32px;\n",
              "      padding: 0 0 0 0;\n",
              "      width: 32px;\n",
              "    }\n",
              "\n",
              "    .colab-df-convert:hover {\n",
              "      background-color: #E2EBFA;\n",
              "      box-shadow: 0px 1px 2px rgba(60, 64, 67, 0.3), 0px 1px 3px 1px rgba(60, 64, 67, 0.15);\n",
              "      fill: #174EA6;\n",
              "    }\n",
              "\n",
              "    [theme=dark] .colab-df-convert {\n",
              "      background-color: #3B4455;\n",
              "      fill: #D2E3FC;\n",
              "    }\n",
              "\n",
              "    [theme=dark] .colab-df-convert:hover {\n",
              "      background-color: #434B5C;\n",
              "      box-shadow: 0px 1px 3px 1px rgba(0, 0, 0, 0.15);\n",
              "      filter: drop-shadow(0px 1px 2px rgba(0, 0, 0, 0.3));\n",
              "      fill: #FFFFFF;\n",
              "    }\n",
              "  </style>\n",
              "\n",
              "      <script>\n",
              "        const buttonEl =\n",
              "          document.querySelector('#df-9cdaed84-0989-45ea-8961-71ded16c2a92 button.colab-df-convert');\n",
              "        buttonEl.style.display =\n",
              "          google.colab.kernel.accessAllowed ? 'block' : 'none';\n",
              "\n",
              "        async function convertToInteractive(key) {\n",
              "          const element = document.querySelector('#df-9cdaed84-0989-45ea-8961-71ded16c2a92');\n",
              "          const dataTable =\n",
              "            await google.colab.kernel.invokeFunction('convertToInteractive',\n",
              "                                                     [key], {});\n",
              "          if (!dataTable) return;\n",
              "\n",
              "          const docLinkHtml = 'Like what you see? Visit the ' +\n",
              "            '<a target=\"_blank\" href=https://colab.research.google.com/notebooks/data_table.ipynb>data table notebook</a>'\n",
              "            + ' to learn more about interactive tables.';\n",
              "          element.innerHTML = '';\n",
              "          dataTable['output_type'] = 'display_data';\n",
              "          await google.colab.output.renderOutput(dataTable, element);\n",
              "          const docLink = document.createElement('div');\n",
              "          docLink.innerHTML = docLinkHtml;\n",
              "          element.appendChild(docLink);\n",
              "        }\n",
              "      </script>\n",
              "    </div>\n",
              "  </div>\n",
              "  "
            ]
          },
          "metadata": {},
          "execution_count": 294
        }
      ]
    },
    {
      "cell_type": "code",
      "source": [
        "df_cleanRisk['province_of_onset'].nunique()"
      ],
      "metadata": {
        "colab": {
          "base_uri": "https://localhost:8080/"
        },
        "id": "Gc5XahJoc9tr",
        "outputId": "95bc1eab-cf7f-4a7f-dcd4-85eecb5df779"
      },
      "execution_count": null,
      "outputs": [
        {
          "output_type": "execute_result",
          "data": {
            "text/plain": [
              "78"
            ]
          },
          "metadata": {},
          "execution_count": 107
        }
      ]
    },
    {
      "cell_type": "code",
      "source": [
        "df_cleaned = df_cleanRisk"
      ],
      "metadata": {
        "id": "DzaI9e7IcHEA"
      },
      "execution_count": null,
      "outputs": []
    },
    {
      "cell_type": "code",
      "source": [
        "df_cleaned.info(show_counts=True)"
      ],
      "metadata": {
        "colab": {
          "base_uri": "https://localhost:8080/"
        },
        "id": "uctnWDaLcOZh",
        "outputId": "1b5a59cc-1360-4c01-ab8e-19859f7e8b28"
      },
      "execution_count": null,
      "outputs": [
        {
          "output_type": "stream",
          "name": "stdout",
          "text": [
            "<class 'pandas.core.frame.DataFrame'>\n",
            "Int64Index: 3226697 entries, 0 to 357080\n",
            "Data columns (total 8 columns):\n",
            " #   Column                 Non-Null Count    Dtype         \n",
            "---  ------                 --------------    -----         \n",
            " 0   announce_date          3226697 non-null  datetime64[ns]\n",
            " 1   sex                    3226697 non-null  object        \n",
            " 2   age                    3226697 non-null  int64         \n",
            " 3   Unit                   3226697 non-null  object        \n",
            " 4   nationality            3226697 non-null  object        \n",
            " 5   province_of_isolation  3226697 non-null  object        \n",
            " 6   risk                   3226697 non-null  object        \n",
            " 7   province_of_onset      3226697 non-null  object        \n",
            "dtypes: datetime64[ns](1), int64(1), object(6)\n",
            "memory usage: 221.6+ MB\n"
          ]
        }
      ]
    },
    {
      "cell_type": "code",
      "source": [
        "df_cleaned"
      ],
      "metadata": {
        "colab": {
          "base_uri": "https://localhost:8080/",
          "height": 424
        },
        "id": "UFgOo81doayk",
        "outputId": "bb54fed0-e5e7-44ed-b371-e9f677ee0d81"
      },
      "execution_count": null,
      "outputs": [
        {
          "output_type": "execute_result",
          "data": {
            "text/plain": [
              "       announce_date   sex    age Unit nationality province_of_isolation  \\\n",
              "0         2020-01-12  หญิง     61   ปี     chinese         กรุงเทพมหานคร   \n",
              "1         2020-01-17  หญิง     74   ปี     chinese         กรุงเทพมหานคร   \n",
              "2         2020-01-22  หญิง     73   ปี        thai                นครปฐม   \n",
              "3         2020-01-22   ชาย     68   ปี     chinese         กรุงเทพมหานคร   \n",
              "4         2020-01-24  หญิง     66   ปี     chinese               นนทบุรี   \n",
              "...              ...   ...    ...  ...         ...                   ...   \n",
              "357076    2022-03-15   ชาย -99999   ปี     ไม่ระบุ            ปราจีนบุรี   \n",
              "357077    2022-03-15   ชาย -99999   ปี     ไม่ระบุ            ปราจีนบุรี   \n",
              "357078    2022-03-15   ชาย -99999   ปี     ไม่ระบุ            นครราชสีมา   \n",
              "357079    2022-03-15   ชาย -99999   ปี     ไม่ระบุ            นครราชสีมา   \n",
              "357080    2022-03-15  หญิง -99999   ปี     ไม่ระบุ               ขอนแก่น   \n",
              "\n",
              "                                    risk province_of_onset  \n",
              "0       คนต่างชาติเดินทางมาจากต่างประเทศ     กรุงเทพมหานคร  \n",
              "1       คนต่างชาติเดินทางมาจากต่างประเทศ     กรุงเทพมหานคร  \n",
              "2       คนต่างชาติเดินทางมาจากต่างประเทศ            นครปฐม  \n",
              "3       คนต่างชาติเดินทางมาจากต่างประเทศ     กรุงเทพมหานคร  \n",
              "4       คนต่างชาติเดินทางมาจากต่างประเทศ     กรุงเทพมหานคร  \n",
              "...                                  ...               ...  \n",
              "357076                  ทัณฑสถาน/เรือนจำ           ไม่ระบุ  \n",
              "357077                  ทัณฑสถาน/เรือนจำ           ไม่ระบุ  \n",
              "357078                  ทัณฑสถาน/เรือนจำ           ไม่ระบุ  \n",
              "357079                  ทัณฑสถาน/เรือนจำ           ไม่ระบุ  \n",
              "357080                  ทัณฑสถาน/เรือนจำ           ไม่ระบุ  \n",
              "\n",
              "[3226697 rows x 8 columns]"
            ],
            "text/html": [
              "\n",
              "  <div id=\"df-a6b65547-4aab-4b9d-8b3a-f30dfd76a326\">\n",
              "    <div class=\"colab-df-container\">\n",
              "      <div>\n",
              "<style scoped>\n",
              "    .dataframe tbody tr th:only-of-type {\n",
              "        vertical-align: middle;\n",
              "    }\n",
              "\n",
              "    .dataframe tbody tr th {\n",
              "        vertical-align: top;\n",
              "    }\n",
              "\n",
              "    .dataframe thead th {\n",
              "        text-align: right;\n",
              "    }\n",
              "</style>\n",
              "<table border=\"1\" class=\"dataframe\">\n",
              "  <thead>\n",
              "    <tr style=\"text-align: right;\">\n",
              "      <th></th>\n",
              "      <th>announce_date</th>\n",
              "      <th>sex</th>\n",
              "      <th>age</th>\n",
              "      <th>Unit</th>\n",
              "      <th>nationality</th>\n",
              "      <th>province_of_isolation</th>\n",
              "      <th>risk</th>\n",
              "      <th>province_of_onset</th>\n",
              "    </tr>\n",
              "  </thead>\n",
              "  <tbody>\n",
              "    <tr>\n",
              "      <th>0</th>\n",
              "      <td>2020-01-12</td>\n",
              "      <td>หญิง</td>\n",
              "      <td>61</td>\n",
              "      <td>ปี</td>\n",
              "      <td>chinese</td>\n",
              "      <td>กรุงเทพมหานคร</td>\n",
              "      <td>คนต่างชาติเดินทางมาจากต่างประเทศ</td>\n",
              "      <td>กรุงเทพมหานคร</td>\n",
              "    </tr>\n",
              "    <tr>\n",
              "      <th>1</th>\n",
              "      <td>2020-01-17</td>\n",
              "      <td>หญิง</td>\n",
              "      <td>74</td>\n",
              "      <td>ปี</td>\n",
              "      <td>chinese</td>\n",
              "      <td>กรุงเทพมหานคร</td>\n",
              "      <td>คนต่างชาติเดินทางมาจากต่างประเทศ</td>\n",
              "      <td>กรุงเทพมหานคร</td>\n",
              "    </tr>\n",
              "    <tr>\n",
              "      <th>2</th>\n",
              "      <td>2020-01-22</td>\n",
              "      <td>หญิง</td>\n",
              "      <td>73</td>\n",
              "      <td>ปี</td>\n",
              "      <td>thai</td>\n",
              "      <td>นครปฐม</td>\n",
              "      <td>คนต่างชาติเดินทางมาจากต่างประเทศ</td>\n",
              "      <td>นครปฐม</td>\n",
              "    </tr>\n",
              "    <tr>\n",
              "      <th>3</th>\n",
              "      <td>2020-01-22</td>\n",
              "      <td>ชาย</td>\n",
              "      <td>68</td>\n",
              "      <td>ปี</td>\n",
              "      <td>chinese</td>\n",
              "      <td>กรุงเทพมหานคร</td>\n",
              "      <td>คนต่างชาติเดินทางมาจากต่างประเทศ</td>\n",
              "      <td>กรุงเทพมหานคร</td>\n",
              "    </tr>\n",
              "    <tr>\n",
              "      <th>4</th>\n",
              "      <td>2020-01-24</td>\n",
              "      <td>หญิง</td>\n",
              "      <td>66</td>\n",
              "      <td>ปี</td>\n",
              "      <td>chinese</td>\n",
              "      <td>นนทบุรี</td>\n",
              "      <td>คนต่างชาติเดินทางมาจากต่างประเทศ</td>\n",
              "      <td>กรุงเทพมหานคร</td>\n",
              "    </tr>\n",
              "    <tr>\n",
              "      <th>...</th>\n",
              "      <td>...</td>\n",
              "      <td>...</td>\n",
              "      <td>...</td>\n",
              "      <td>...</td>\n",
              "      <td>...</td>\n",
              "      <td>...</td>\n",
              "      <td>...</td>\n",
              "      <td>...</td>\n",
              "    </tr>\n",
              "    <tr>\n",
              "      <th>357076</th>\n",
              "      <td>2022-03-15</td>\n",
              "      <td>ชาย</td>\n",
              "      <td>-99999</td>\n",
              "      <td>ปี</td>\n",
              "      <td>ไม่ระบุ</td>\n",
              "      <td>ปราจีนบุรี</td>\n",
              "      <td>ทัณฑสถาน/เรือนจำ</td>\n",
              "      <td>ไม่ระบุ</td>\n",
              "    </tr>\n",
              "    <tr>\n",
              "      <th>357077</th>\n",
              "      <td>2022-03-15</td>\n",
              "      <td>ชาย</td>\n",
              "      <td>-99999</td>\n",
              "      <td>ปี</td>\n",
              "      <td>ไม่ระบุ</td>\n",
              "      <td>ปราจีนบุรี</td>\n",
              "      <td>ทัณฑสถาน/เรือนจำ</td>\n",
              "      <td>ไม่ระบุ</td>\n",
              "    </tr>\n",
              "    <tr>\n",
              "      <th>357078</th>\n",
              "      <td>2022-03-15</td>\n",
              "      <td>ชาย</td>\n",
              "      <td>-99999</td>\n",
              "      <td>ปี</td>\n",
              "      <td>ไม่ระบุ</td>\n",
              "      <td>นครราชสีมา</td>\n",
              "      <td>ทัณฑสถาน/เรือนจำ</td>\n",
              "      <td>ไม่ระบุ</td>\n",
              "    </tr>\n",
              "    <tr>\n",
              "      <th>357079</th>\n",
              "      <td>2022-03-15</td>\n",
              "      <td>ชาย</td>\n",
              "      <td>-99999</td>\n",
              "      <td>ปี</td>\n",
              "      <td>ไม่ระบุ</td>\n",
              "      <td>นครราชสีมา</td>\n",
              "      <td>ทัณฑสถาน/เรือนจำ</td>\n",
              "      <td>ไม่ระบุ</td>\n",
              "    </tr>\n",
              "    <tr>\n",
              "      <th>357080</th>\n",
              "      <td>2022-03-15</td>\n",
              "      <td>หญิง</td>\n",
              "      <td>-99999</td>\n",
              "      <td>ปี</td>\n",
              "      <td>ไม่ระบุ</td>\n",
              "      <td>ขอนแก่น</td>\n",
              "      <td>ทัณฑสถาน/เรือนจำ</td>\n",
              "      <td>ไม่ระบุ</td>\n",
              "    </tr>\n",
              "  </tbody>\n",
              "</table>\n",
              "<p>3226697 rows × 8 columns</p>\n",
              "</div>\n",
              "      <button class=\"colab-df-convert\" onclick=\"convertToInteractive('df-a6b65547-4aab-4b9d-8b3a-f30dfd76a326')\"\n",
              "              title=\"Convert this dataframe to an interactive table.\"\n",
              "              style=\"display:none;\">\n",
              "        \n",
              "  <svg xmlns=\"http://www.w3.org/2000/svg\" height=\"24px\"viewBox=\"0 0 24 24\"\n",
              "       width=\"24px\">\n",
              "    <path d=\"M0 0h24v24H0V0z\" fill=\"none\"/>\n",
              "    <path d=\"M18.56 5.44l.94 2.06.94-2.06 2.06-.94-2.06-.94-.94-2.06-.94 2.06-2.06.94zm-11 1L8.5 8.5l.94-2.06 2.06-.94-2.06-.94L8.5 2.5l-.94 2.06-2.06.94zm10 10l.94 2.06.94-2.06 2.06-.94-2.06-.94-.94-2.06-.94 2.06-2.06.94z\"/><path d=\"M17.41 7.96l-1.37-1.37c-.4-.4-.92-.59-1.43-.59-.52 0-1.04.2-1.43.59L10.3 9.45l-7.72 7.72c-.78.78-.78 2.05 0 2.83L4 21.41c.39.39.9.59 1.41.59.51 0 1.02-.2 1.41-.59l7.78-7.78 2.81-2.81c.8-.78.8-2.07 0-2.86zM5.41 20L4 18.59l7.72-7.72 1.47 1.35L5.41 20z\"/>\n",
              "  </svg>\n",
              "      </button>\n",
              "      \n",
              "  <style>\n",
              "    .colab-df-container {\n",
              "      display:flex;\n",
              "      flex-wrap:wrap;\n",
              "      gap: 12px;\n",
              "    }\n",
              "\n",
              "    .colab-df-convert {\n",
              "      background-color: #E8F0FE;\n",
              "      border: none;\n",
              "      border-radius: 50%;\n",
              "      cursor: pointer;\n",
              "      display: none;\n",
              "      fill: #1967D2;\n",
              "      height: 32px;\n",
              "      padding: 0 0 0 0;\n",
              "      width: 32px;\n",
              "    }\n",
              "\n",
              "    .colab-df-convert:hover {\n",
              "      background-color: #E2EBFA;\n",
              "      box-shadow: 0px 1px 2px rgba(60, 64, 67, 0.3), 0px 1px 3px 1px rgba(60, 64, 67, 0.15);\n",
              "      fill: #174EA6;\n",
              "    }\n",
              "\n",
              "    [theme=dark] .colab-df-convert {\n",
              "      background-color: #3B4455;\n",
              "      fill: #D2E3FC;\n",
              "    }\n",
              "\n",
              "    [theme=dark] .colab-df-convert:hover {\n",
              "      background-color: #434B5C;\n",
              "      box-shadow: 0px 1px 3px 1px rgba(0, 0, 0, 0.15);\n",
              "      filter: drop-shadow(0px 1px 2px rgba(0, 0, 0, 0.3));\n",
              "      fill: #FFFFFF;\n",
              "    }\n",
              "  </style>\n",
              "\n",
              "      <script>\n",
              "        const buttonEl =\n",
              "          document.querySelector('#df-a6b65547-4aab-4b9d-8b3a-f30dfd76a326 button.colab-df-convert');\n",
              "        buttonEl.style.display =\n",
              "          google.colab.kernel.accessAllowed ? 'block' : 'none';\n",
              "\n",
              "        async function convertToInteractive(key) {\n",
              "          const element = document.querySelector('#df-a6b65547-4aab-4b9d-8b3a-f30dfd76a326');\n",
              "          const dataTable =\n",
              "            await google.colab.kernel.invokeFunction('convertToInteractive',\n",
              "                                                     [key], {});\n",
              "          if (!dataTable) return;\n",
              "\n",
              "          const docLinkHtml = 'Like what you see? Visit the ' +\n",
              "            '<a target=\"_blank\" href=https://colab.research.google.com/notebooks/data_table.ipynb>data table notebook</a>'\n",
              "            + ' to learn more about interactive tables.';\n",
              "          element.innerHTML = '';\n",
              "          dataTable['output_type'] = 'display_data';\n",
              "          await google.colab.output.renderOutput(dataTable, element);\n",
              "          const docLink = document.createElement('div');\n",
              "          docLink.innerHTML = docLinkHtml;\n",
              "          element.appendChild(docLink);\n",
              "        }\n",
              "      </script>\n",
              "    </div>\n",
              "  </div>\n",
              "  "
            ]
          },
          "metadata": {},
          "execution_count": 110
        }
      ]
    },
    {
      "cell_type": "markdown",
      "source": [
        "# Exploratory Data Analysis (EDA)"
      ],
      "metadata": {
        "id": "MRqoofKYePuI"
      }
    },
    {
      "cell_type": "markdown",
      "source": [
        "Import library for visualize data"
      ],
      "metadata": {
        "id": "Uc4WY19i4qc6"
      }
    },
    {
      "cell_type": "code",
      "source": [
        "import matplotlib.pyplot as plt\n",
        "import seaborn as sns\n",
        "import plotly.express as px\n",
        "plt.rcParams['font.family'] = 'tahoma'"
      ],
      "metadata": {
        "id": "BxeU1x95ladO"
      },
      "execution_count": null,
      "outputs": []
    },
    {
      "cell_type": "markdown",
      "source": [
        "Setup thai font for matplotlib "
      ],
      "metadata": {
        "id": "mPljw4z0_z2g"
      }
    },
    {
      "cell_type": "code",
      "source": [
        "import matplotlib as mpl\n",
        "mpl.__version__  "
      ],
      "metadata": {
        "colab": {
          "base_uri": "https://localhost:8080/",
          "height": 35
        },
        "id": "lIqP5lna_MB5",
        "outputId": "584962d1-be16-4d89-c0c8-06390a27ccf9"
      },
      "execution_count": null,
      "outputs": [
        {
          "output_type": "execute_result",
          "data": {
            "text/plain": [
              "'3.2.2'"
            ],
            "application/vnd.google.colaboratory.intrinsic+json": {
              "type": "string"
            }
          },
          "metadata": {},
          "execution_count": 112
        }
      ]
    },
    {
      "cell_type": "code",
      "source": [
        "!wget -q https://github.com/Phonbopit/sarabun-webfont/raw/master/fonts/thsarabunnew-webfont.ttf"
      ],
      "metadata": {
        "id": "MvGCpKYM_Z2p"
      },
      "execution_count": null,
      "outputs": []
    },
    {
      "cell_type": "code",
      "source": [
        "mpl.font_manager.fontManager.addfont('thsarabunnew-webfont.ttf')"
      ],
      "metadata": {
        "id": "49PrUcJU_a8F"
      },
      "execution_count": null,
      "outputs": []
    },
    {
      "cell_type": "code",
      "source": [
        "mpl.rc('font', family='TH Sarabun New', size=12)"
      ],
      "metadata": {
        "id": "sKwPIlDO_dRX"
      },
      "execution_count": null,
      "outputs": []
    },
    {
      "cell_type": "code",
      "source": [
        "plt = mpl.pyplot"
      ],
      "metadata": {
        "id": "86E1BGyh_fXq"
      },
      "execution_count": null,
      "outputs": []
    },
    {
      "cell_type": "markdown",
      "source": [
        "## Expore Number of COVID-19 detected "
      ],
      "metadata": {
        "id": "EA4kcXLS4yxZ"
      }
    },
    {
      "cell_type": "markdown",
      "source": [
        "สร้าง column month เพื่อใช้คำนวณจำนวนผู้ติดเชื้อในแต่ละเดือน"
      ],
      "metadata": {
        "id": "zAoQ3kHq8KWe"
      }
    },
    {
      "cell_type": "code",
      "source": [
        "df_cleaned['month'] = df_cleaned['announce_date'].dt.strftime('%Y-%m')"
      ],
      "metadata": {
        "id": "XtDKhYXGrkB-"
      },
      "execution_count": null,
      "outputs": []
    },
    {
      "cell_type": "markdown",
      "source": [
        "สร้าง column count เพื่อใช้ในการนับจำนวนข้อมูลต่างๆ"
      ],
      "metadata": {
        "id": "BGQVhKWr8arf"
      }
    },
    {
      "cell_type": "code",
      "source": [
        "df_cleaned.loc[:,'count'] = 1"
      ],
      "metadata": {
        "id": "TfqbL0ZO8QXd"
      },
      "execution_count": null,
      "outputs": []
    },
    {
      "cell_type": "code",
      "source": [
        "df_cleaned.head()"
      ],
      "metadata": {
        "colab": {
          "base_uri": "https://localhost:8080/",
          "height": 206
        },
        "id": "P2DrlTlRsGKd",
        "outputId": "f39ebc1c-aa91-41a7-cced-fb8f26c64cde"
      },
      "execution_count": null,
      "outputs": [
        {
          "output_type": "execute_result",
          "data": {
            "text/plain": [
              "  announce_date   sex  age Unit nationality province_of_isolation  \\\n",
              "0    2020-01-12  หญิง   61   ปี     chinese         กรุงเทพมหานคร   \n",
              "1    2020-01-17  หญิง   74   ปี     chinese         กรุงเทพมหานคร   \n",
              "2    2020-01-22  หญิง   73   ปี        thai                นครปฐม   \n",
              "3    2020-01-22   ชาย   68   ปี     chinese         กรุงเทพมหานคร   \n",
              "4    2020-01-24  หญิง   66   ปี     chinese               นนทบุรี   \n",
              "\n",
              "                               risk province_of_onset    month  count  \n",
              "0  คนต่างชาติเดินทางมาจากต่างประเทศ     กรุงเทพมหานคร  2020-01      1  \n",
              "1  คนต่างชาติเดินทางมาจากต่างประเทศ     กรุงเทพมหานคร  2020-01      1  \n",
              "2  คนต่างชาติเดินทางมาจากต่างประเทศ            นครปฐม  2020-01      1  \n",
              "3  คนต่างชาติเดินทางมาจากต่างประเทศ     กรุงเทพมหานคร  2020-01      1  \n",
              "4  คนต่างชาติเดินทางมาจากต่างประเทศ     กรุงเทพมหานคร  2020-01      1  "
            ],
            "text/html": [
              "\n",
              "  <div id=\"df-b4607ab0-e03f-45aa-86bd-0044009fa160\">\n",
              "    <div class=\"colab-df-container\">\n",
              "      <div>\n",
              "<style scoped>\n",
              "    .dataframe tbody tr th:only-of-type {\n",
              "        vertical-align: middle;\n",
              "    }\n",
              "\n",
              "    .dataframe tbody tr th {\n",
              "        vertical-align: top;\n",
              "    }\n",
              "\n",
              "    .dataframe thead th {\n",
              "        text-align: right;\n",
              "    }\n",
              "</style>\n",
              "<table border=\"1\" class=\"dataframe\">\n",
              "  <thead>\n",
              "    <tr style=\"text-align: right;\">\n",
              "      <th></th>\n",
              "      <th>announce_date</th>\n",
              "      <th>sex</th>\n",
              "      <th>age</th>\n",
              "      <th>Unit</th>\n",
              "      <th>nationality</th>\n",
              "      <th>province_of_isolation</th>\n",
              "      <th>risk</th>\n",
              "      <th>province_of_onset</th>\n",
              "      <th>month</th>\n",
              "      <th>count</th>\n",
              "    </tr>\n",
              "  </thead>\n",
              "  <tbody>\n",
              "    <tr>\n",
              "      <th>0</th>\n",
              "      <td>2020-01-12</td>\n",
              "      <td>หญิง</td>\n",
              "      <td>61</td>\n",
              "      <td>ปี</td>\n",
              "      <td>chinese</td>\n",
              "      <td>กรุงเทพมหานคร</td>\n",
              "      <td>คนต่างชาติเดินทางมาจากต่างประเทศ</td>\n",
              "      <td>กรุงเทพมหานคร</td>\n",
              "      <td>2020-01</td>\n",
              "      <td>1</td>\n",
              "    </tr>\n",
              "    <tr>\n",
              "      <th>1</th>\n",
              "      <td>2020-01-17</td>\n",
              "      <td>หญิง</td>\n",
              "      <td>74</td>\n",
              "      <td>ปี</td>\n",
              "      <td>chinese</td>\n",
              "      <td>กรุงเทพมหานคร</td>\n",
              "      <td>คนต่างชาติเดินทางมาจากต่างประเทศ</td>\n",
              "      <td>กรุงเทพมหานคร</td>\n",
              "      <td>2020-01</td>\n",
              "      <td>1</td>\n",
              "    </tr>\n",
              "    <tr>\n",
              "      <th>2</th>\n",
              "      <td>2020-01-22</td>\n",
              "      <td>หญิง</td>\n",
              "      <td>73</td>\n",
              "      <td>ปี</td>\n",
              "      <td>thai</td>\n",
              "      <td>นครปฐม</td>\n",
              "      <td>คนต่างชาติเดินทางมาจากต่างประเทศ</td>\n",
              "      <td>นครปฐม</td>\n",
              "      <td>2020-01</td>\n",
              "      <td>1</td>\n",
              "    </tr>\n",
              "    <tr>\n",
              "      <th>3</th>\n",
              "      <td>2020-01-22</td>\n",
              "      <td>ชาย</td>\n",
              "      <td>68</td>\n",
              "      <td>ปี</td>\n",
              "      <td>chinese</td>\n",
              "      <td>กรุงเทพมหานคร</td>\n",
              "      <td>คนต่างชาติเดินทางมาจากต่างประเทศ</td>\n",
              "      <td>กรุงเทพมหานคร</td>\n",
              "      <td>2020-01</td>\n",
              "      <td>1</td>\n",
              "    </tr>\n",
              "    <tr>\n",
              "      <th>4</th>\n",
              "      <td>2020-01-24</td>\n",
              "      <td>หญิง</td>\n",
              "      <td>66</td>\n",
              "      <td>ปี</td>\n",
              "      <td>chinese</td>\n",
              "      <td>นนทบุรี</td>\n",
              "      <td>คนต่างชาติเดินทางมาจากต่างประเทศ</td>\n",
              "      <td>กรุงเทพมหานคร</td>\n",
              "      <td>2020-01</td>\n",
              "      <td>1</td>\n",
              "    </tr>\n",
              "  </tbody>\n",
              "</table>\n",
              "</div>\n",
              "      <button class=\"colab-df-convert\" onclick=\"convertToInteractive('df-b4607ab0-e03f-45aa-86bd-0044009fa160')\"\n",
              "              title=\"Convert this dataframe to an interactive table.\"\n",
              "              style=\"display:none;\">\n",
              "        \n",
              "  <svg xmlns=\"http://www.w3.org/2000/svg\" height=\"24px\"viewBox=\"0 0 24 24\"\n",
              "       width=\"24px\">\n",
              "    <path d=\"M0 0h24v24H0V0z\" fill=\"none\"/>\n",
              "    <path d=\"M18.56 5.44l.94 2.06.94-2.06 2.06-.94-2.06-.94-.94-2.06-.94 2.06-2.06.94zm-11 1L8.5 8.5l.94-2.06 2.06-.94-2.06-.94L8.5 2.5l-.94 2.06-2.06.94zm10 10l.94 2.06.94-2.06 2.06-.94-2.06-.94-.94-2.06-.94 2.06-2.06.94z\"/><path d=\"M17.41 7.96l-1.37-1.37c-.4-.4-.92-.59-1.43-.59-.52 0-1.04.2-1.43.59L10.3 9.45l-7.72 7.72c-.78.78-.78 2.05 0 2.83L4 21.41c.39.39.9.59 1.41.59.51 0 1.02-.2 1.41-.59l7.78-7.78 2.81-2.81c.8-.78.8-2.07 0-2.86zM5.41 20L4 18.59l7.72-7.72 1.47 1.35L5.41 20z\"/>\n",
              "  </svg>\n",
              "      </button>\n",
              "      \n",
              "  <style>\n",
              "    .colab-df-container {\n",
              "      display:flex;\n",
              "      flex-wrap:wrap;\n",
              "      gap: 12px;\n",
              "    }\n",
              "\n",
              "    .colab-df-convert {\n",
              "      background-color: #E8F0FE;\n",
              "      border: none;\n",
              "      border-radius: 50%;\n",
              "      cursor: pointer;\n",
              "      display: none;\n",
              "      fill: #1967D2;\n",
              "      height: 32px;\n",
              "      padding: 0 0 0 0;\n",
              "      width: 32px;\n",
              "    }\n",
              "\n",
              "    .colab-df-convert:hover {\n",
              "      background-color: #E2EBFA;\n",
              "      box-shadow: 0px 1px 2px rgba(60, 64, 67, 0.3), 0px 1px 3px 1px rgba(60, 64, 67, 0.15);\n",
              "      fill: #174EA6;\n",
              "    }\n",
              "\n",
              "    [theme=dark] .colab-df-convert {\n",
              "      background-color: #3B4455;\n",
              "      fill: #D2E3FC;\n",
              "    }\n",
              "\n",
              "    [theme=dark] .colab-df-convert:hover {\n",
              "      background-color: #434B5C;\n",
              "      box-shadow: 0px 1px 3px 1px rgba(0, 0, 0, 0.15);\n",
              "      filter: drop-shadow(0px 1px 2px rgba(0, 0, 0, 0.3));\n",
              "      fill: #FFFFFF;\n",
              "    }\n",
              "  </style>\n",
              "\n",
              "      <script>\n",
              "        const buttonEl =\n",
              "          document.querySelector('#df-b4607ab0-e03f-45aa-86bd-0044009fa160 button.colab-df-convert');\n",
              "        buttonEl.style.display =\n",
              "          google.colab.kernel.accessAllowed ? 'block' : 'none';\n",
              "\n",
              "        async function convertToInteractive(key) {\n",
              "          const element = document.querySelector('#df-b4607ab0-e03f-45aa-86bd-0044009fa160');\n",
              "          const dataTable =\n",
              "            await google.colab.kernel.invokeFunction('convertToInteractive',\n",
              "                                                     [key], {});\n",
              "          if (!dataTable) return;\n",
              "\n",
              "          const docLinkHtml = 'Like what you see? Visit the ' +\n",
              "            '<a target=\"_blank\" href=https://colab.research.google.com/notebooks/data_table.ipynb>data table notebook</a>'\n",
              "            + ' to learn more about interactive tables.';\n",
              "          element.innerHTML = '';\n",
              "          dataTable['output_type'] = 'display_data';\n",
              "          await google.colab.output.renderOutput(dataTable, element);\n",
              "          const docLink = document.createElement('div');\n",
              "          docLink.innerHTML = docLinkHtml;\n",
              "          element.appendChild(docLink);\n",
              "        }\n",
              "      </script>\n",
              "    </div>\n",
              "  </div>\n",
              "  "
            ]
          },
          "metadata": {},
          "execution_count": 119
        }
      ]
    },
    {
      "cell_type": "markdown",
      "source": [
        "สร้าง dataframe ใหม่ชื่อ covid_count เพื่อเก็บค่าจำนวนผู้ติดเชื้อรวมในแต่ละเดือน"
      ],
      "metadata": {
        "id": "VVApVKHZ84-H"
      }
    },
    {
      "cell_type": "code",
      "source": [
        "covid_count = df_cleaned.groupby('month')[['count']].count()\n",
        "covid_count = covid_count.rename(columns={'count':'total_case'})\n",
        "covid_count = covid_count.reset_index()\n",
        "covid_count"
      ],
      "metadata": {
        "colab": {
          "base_uri": "https://localhost:8080/",
          "height": 896
        },
        "id": "-Ui6-d7ocQJY",
        "outputId": "5e9bcc12-7ca8-4742-c21a-e1cda28b43a4"
      },
      "execution_count": null,
      "outputs": [
        {
          "output_type": "execute_result",
          "data": {
            "text/plain": [
              "      month  total_case\n",
              "0   2020-01          19\n",
              "1   2020-02          23\n",
              "2   2020-03        1609\n",
              "3   2020-04        1303\n",
              "4   2020-05         127\n",
              "5   2020-06          90\n",
              "6   2020-07         139\n",
              "7   2020-08         102\n",
              "8   2020-09         152\n",
              "9   2020-10         216\n",
              "10  2020-11         218\n",
              "11  2020-12        2886\n",
              "12  2021-01       11898\n",
              "13  2021-02        7169\n",
              "14  2021-03        2912\n",
              "15  2021-04       36290\n",
              "16  2021-05       94639\n",
              "17  2021-06       99509\n",
              "18  2021-07      337986\n",
              "19  2021-08      607442\n",
              "20  2021-09      398746\n",
              "21  2021-10      308549\n",
              "22  2021-11      203848\n",
              "23  2021-12      107563\n",
              "24  2022-01      217107\n",
              "25  2022-02      451385\n",
              "26  2022-03      334770"
            ],
            "text/html": [
              "\n",
              "  <div id=\"df-90f0e318-eebe-4de5-b6d7-34a6e193f9e4\">\n",
              "    <div class=\"colab-df-container\">\n",
              "      <div>\n",
              "<style scoped>\n",
              "    .dataframe tbody tr th:only-of-type {\n",
              "        vertical-align: middle;\n",
              "    }\n",
              "\n",
              "    .dataframe tbody tr th {\n",
              "        vertical-align: top;\n",
              "    }\n",
              "\n",
              "    .dataframe thead th {\n",
              "        text-align: right;\n",
              "    }\n",
              "</style>\n",
              "<table border=\"1\" class=\"dataframe\">\n",
              "  <thead>\n",
              "    <tr style=\"text-align: right;\">\n",
              "      <th></th>\n",
              "      <th>month</th>\n",
              "      <th>total_case</th>\n",
              "    </tr>\n",
              "  </thead>\n",
              "  <tbody>\n",
              "    <tr>\n",
              "      <th>0</th>\n",
              "      <td>2020-01</td>\n",
              "      <td>19</td>\n",
              "    </tr>\n",
              "    <tr>\n",
              "      <th>1</th>\n",
              "      <td>2020-02</td>\n",
              "      <td>23</td>\n",
              "    </tr>\n",
              "    <tr>\n",
              "      <th>2</th>\n",
              "      <td>2020-03</td>\n",
              "      <td>1609</td>\n",
              "    </tr>\n",
              "    <tr>\n",
              "      <th>3</th>\n",
              "      <td>2020-04</td>\n",
              "      <td>1303</td>\n",
              "    </tr>\n",
              "    <tr>\n",
              "      <th>4</th>\n",
              "      <td>2020-05</td>\n",
              "      <td>127</td>\n",
              "    </tr>\n",
              "    <tr>\n",
              "      <th>5</th>\n",
              "      <td>2020-06</td>\n",
              "      <td>90</td>\n",
              "    </tr>\n",
              "    <tr>\n",
              "      <th>6</th>\n",
              "      <td>2020-07</td>\n",
              "      <td>139</td>\n",
              "    </tr>\n",
              "    <tr>\n",
              "      <th>7</th>\n",
              "      <td>2020-08</td>\n",
              "      <td>102</td>\n",
              "    </tr>\n",
              "    <tr>\n",
              "      <th>8</th>\n",
              "      <td>2020-09</td>\n",
              "      <td>152</td>\n",
              "    </tr>\n",
              "    <tr>\n",
              "      <th>9</th>\n",
              "      <td>2020-10</td>\n",
              "      <td>216</td>\n",
              "    </tr>\n",
              "    <tr>\n",
              "      <th>10</th>\n",
              "      <td>2020-11</td>\n",
              "      <td>218</td>\n",
              "    </tr>\n",
              "    <tr>\n",
              "      <th>11</th>\n",
              "      <td>2020-12</td>\n",
              "      <td>2886</td>\n",
              "    </tr>\n",
              "    <tr>\n",
              "      <th>12</th>\n",
              "      <td>2021-01</td>\n",
              "      <td>11898</td>\n",
              "    </tr>\n",
              "    <tr>\n",
              "      <th>13</th>\n",
              "      <td>2021-02</td>\n",
              "      <td>7169</td>\n",
              "    </tr>\n",
              "    <tr>\n",
              "      <th>14</th>\n",
              "      <td>2021-03</td>\n",
              "      <td>2912</td>\n",
              "    </tr>\n",
              "    <tr>\n",
              "      <th>15</th>\n",
              "      <td>2021-04</td>\n",
              "      <td>36290</td>\n",
              "    </tr>\n",
              "    <tr>\n",
              "      <th>16</th>\n",
              "      <td>2021-05</td>\n",
              "      <td>94639</td>\n",
              "    </tr>\n",
              "    <tr>\n",
              "      <th>17</th>\n",
              "      <td>2021-06</td>\n",
              "      <td>99509</td>\n",
              "    </tr>\n",
              "    <tr>\n",
              "      <th>18</th>\n",
              "      <td>2021-07</td>\n",
              "      <td>337986</td>\n",
              "    </tr>\n",
              "    <tr>\n",
              "      <th>19</th>\n",
              "      <td>2021-08</td>\n",
              "      <td>607442</td>\n",
              "    </tr>\n",
              "    <tr>\n",
              "      <th>20</th>\n",
              "      <td>2021-09</td>\n",
              "      <td>398746</td>\n",
              "    </tr>\n",
              "    <tr>\n",
              "      <th>21</th>\n",
              "      <td>2021-10</td>\n",
              "      <td>308549</td>\n",
              "    </tr>\n",
              "    <tr>\n",
              "      <th>22</th>\n",
              "      <td>2021-11</td>\n",
              "      <td>203848</td>\n",
              "    </tr>\n",
              "    <tr>\n",
              "      <th>23</th>\n",
              "      <td>2021-12</td>\n",
              "      <td>107563</td>\n",
              "    </tr>\n",
              "    <tr>\n",
              "      <th>24</th>\n",
              "      <td>2022-01</td>\n",
              "      <td>217107</td>\n",
              "    </tr>\n",
              "    <tr>\n",
              "      <th>25</th>\n",
              "      <td>2022-02</td>\n",
              "      <td>451385</td>\n",
              "    </tr>\n",
              "    <tr>\n",
              "      <th>26</th>\n",
              "      <td>2022-03</td>\n",
              "      <td>334770</td>\n",
              "    </tr>\n",
              "  </tbody>\n",
              "</table>\n",
              "</div>\n",
              "      <button class=\"colab-df-convert\" onclick=\"convertToInteractive('df-90f0e318-eebe-4de5-b6d7-34a6e193f9e4')\"\n",
              "              title=\"Convert this dataframe to an interactive table.\"\n",
              "              style=\"display:none;\">\n",
              "        \n",
              "  <svg xmlns=\"http://www.w3.org/2000/svg\" height=\"24px\"viewBox=\"0 0 24 24\"\n",
              "       width=\"24px\">\n",
              "    <path d=\"M0 0h24v24H0V0z\" fill=\"none\"/>\n",
              "    <path d=\"M18.56 5.44l.94 2.06.94-2.06 2.06-.94-2.06-.94-.94-2.06-.94 2.06-2.06.94zm-11 1L8.5 8.5l.94-2.06 2.06-.94-2.06-.94L8.5 2.5l-.94 2.06-2.06.94zm10 10l.94 2.06.94-2.06 2.06-.94-2.06-.94-.94-2.06-.94 2.06-2.06.94z\"/><path d=\"M17.41 7.96l-1.37-1.37c-.4-.4-.92-.59-1.43-.59-.52 0-1.04.2-1.43.59L10.3 9.45l-7.72 7.72c-.78.78-.78 2.05 0 2.83L4 21.41c.39.39.9.59 1.41.59.51 0 1.02-.2 1.41-.59l7.78-7.78 2.81-2.81c.8-.78.8-2.07 0-2.86zM5.41 20L4 18.59l7.72-7.72 1.47 1.35L5.41 20z\"/>\n",
              "  </svg>\n",
              "      </button>\n",
              "      \n",
              "  <style>\n",
              "    .colab-df-container {\n",
              "      display:flex;\n",
              "      flex-wrap:wrap;\n",
              "      gap: 12px;\n",
              "    }\n",
              "\n",
              "    .colab-df-convert {\n",
              "      background-color: #E8F0FE;\n",
              "      border: none;\n",
              "      border-radius: 50%;\n",
              "      cursor: pointer;\n",
              "      display: none;\n",
              "      fill: #1967D2;\n",
              "      height: 32px;\n",
              "      padding: 0 0 0 0;\n",
              "      width: 32px;\n",
              "    }\n",
              "\n",
              "    .colab-df-convert:hover {\n",
              "      background-color: #E2EBFA;\n",
              "      box-shadow: 0px 1px 2px rgba(60, 64, 67, 0.3), 0px 1px 3px 1px rgba(60, 64, 67, 0.15);\n",
              "      fill: #174EA6;\n",
              "    }\n",
              "\n",
              "    [theme=dark] .colab-df-convert {\n",
              "      background-color: #3B4455;\n",
              "      fill: #D2E3FC;\n",
              "    }\n",
              "\n",
              "    [theme=dark] .colab-df-convert:hover {\n",
              "      background-color: #434B5C;\n",
              "      box-shadow: 0px 1px 3px 1px rgba(0, 0, 0, 0.15);\n",
              "      filter: drop-shadow(0px 1px 2px rgba(0, 0, 0, 0.3));\n",
              "      fill: #FFFFFF;\n",
              "    }\n",
              "  </style>\n",
              "\n",
              "      <script>\n",
              "        const buttonEl =\n",
              "          document.querySelector('#df-90f0e318-eebe-4de5-b6d7-34a6e193f9e4 button.colab-df-convert');\n",
              "        buttonEl.style.display =\n",
              "          google.colab.kernel.accessAllowed ? 'block' : 'none';\n",
              "\n",
              "        async function convertToInteractive(key) {\n",
              "          const element = document.querySelector('#df-90f0e318-eebe-4de5-b6d7-34a6e193f9e4');\n",
              "          const dataTable =\n",
              "            await google.colab.kernel.invokeFunction('convertToInteractive',\n",
              "                                                     [key], {});\n",
              "          if (!dataTable) return;\n",
              "\n",
              "          const docLinkHtml = 'Like what you see? Visit the ' +\n",
              "            '<a target=\"_blank\" href=https://colab.research.google.com/notebooks/data_table.ipynb>data table notebook</a>'\n",
              "            + ' to learn more about interactive tables.';\n",
              "          element.innerHTML = '';\n",
              "          dataTable['output_type'] = 'display_data';\n",
              "          await google.colab.output.renderOutput(dataTable, element);\n",
              "          const docLink = document.createElement('div');\n",
              "          docLink.innerHTML = docLinkHtml;\n",
              "          element.appendChild(docLink);\n",
              "        }\n",
              "      </script>\n",
              "    </div>\n",
              "  </div>\n",
              "  "
            ]
          },
          "metadata": {},
          "execution_count": 120
        }
      ]
    },
    {
      "cell_type": "markdown",
      "source": [
        "ใช้ barplot จาก lib seaborn เพื่อแสดงกราฟจำนวนผู้ติดเชื้อรวมในแต่ละเดือน"
      ],
      "metadata": {
        "id": "gGA3QHB2AZWY"
      }
    },
    {
      "cell_type": "code",
      "source": [
        "fig = plt.figure(figsize=(15,6))\n",
        "ax = sns.barplot(x='month',y='total_case',data=covid_count, palette='hls')\n",
        "#sns.lineplot(x='month',y='total_case', data=covid_count, marker='o', markerfacecolor='darkorange', markersize=6, color='lightslategray', linewidth=2)\n",
        "for p in ax.patches:\n",
        "        ax.annotate('{:.0f}'.format(p.get_height()), (p.get_x()+0.4, p.get_height()),\n",
        "                    ha='center', va='bottom',\n",
        "                    color= 'black')\n",
        "plt.xlabel(\"Month\")\n",
        "plt.ylabel(\"total_case\")\n",
        "plt.title(\"จำนวนผู้ติดเชื้อ Covid-19 ในแต่ละเดือน\")\n",
        "plt.xticks(rotation = 45)\n",
        "plt.show()"
      ],
      "metadata": {
        "colab": {
          "base_uri": "https://localhost:8080/",
          "height": 446
        },
        "id": "C4jLqk0ArL8z",
        "outputId": "b6ea3b20-e1d3-43ec-bb7c-e6ba0c10f6d3"
      },
      "execution_count": null,
      "outputs": [
        {
          "output_type": "display_data",
          "data": {
            "text/plain": [
              "<Figure size 1080x432 with 1 Axes>"
            ],
            "image/png": "[encoded data removed]"
          },
          "metadata": {
            "needs_background": "light"
          }
        }
      ]
    },
    {
      "cell_type": "markdown",
      "source": [
        "- จากตัวเลขจำนวนผู้ติดเชื้อตั้งแต่มีการบันทึกในประเทศไทย จะเห็นว่ามีแนวโน้วเพิ่มสูงขึ้นเรื่อยๆ จนพีคที่สุดในเดือนสิงหาคมปี 2021 ที่จำนวน 607442 คน\n",
        "- จากนั้นจำนวนผู้ติดเชื้อก็มีแนวโน้มลดลงจนถึงช่วงสิ้นปี 2021 แนวโน้มผู้ติดเชื้อก็กลับมาพุ่งสูงขึ้นมากอีกในเดือนกุมภาพันธ์ 2022"
      ],
      "metadata": {
        "id": "XrcfbKi16QK4"
      }
    },
    {
      "cell_type": "markdown",
      "source": [
        "## Explore Demographic Information"
      ],
      "metadata": {
        "id": "FgEx3ZHc7o0t"
      }
    },
    {
      "cell_type": "markdown",
      "source": [
        "1.) Explore & analyze sex information"
      ],
      "metadata": {
        "id": "XX1CYNaEGUJb"
      }
    },
    {
      "cell_type": "markdown",
      "source": [
        "สร้าง dataframe ใหม่ชื่อว่า covid_sex เพื่อเก็บค่าจำนวนผู้ติดเชื้อในแต่ละเพศ"
      ],
      "metadata": {
        "id": "_cw4S7PaFVzm"
      }
    },
    {
      "cell_type": "code",
      "source": [
        "covid_sex = df_cleaned.groupby('sex')[['count']].count()\n",
        "covid_sex = covid_sex.reset_index()\n",
        "covid_sex"
      ],
      "metadata": {
        "id": "9ItnkBU22s-g",
        "colab": {
          "base_uri": "https://localhost:8080/",
          "height": 143
        },
        "outputId": "4c92873f-12c0-4cae-825e-6d80484cc1da"
      },
      "execution_count": null,
      "outputs": [
        {
          "output_type": "execute_result",
          "data": {
            "text/plain": [
              "       sex    count\n",
              "0      ชาย  1440853\n",
              "1     หญิง  1611148\n",
              "2  ไม่ระบุ   174696"
            ],
            "text/html": [
              "\n",
              "  <div id=\"df-a209b4c6-b517-4885-97fd-cd7060eabd49\">\n",
              "    <div class=\"colab-df-container\">\n",
              "      <div>\n",
              "<style scoped>\n",
              "    .dataframe tbody tr th:only-of-type {\n",
              "        vertical-align: middle;\n",
              "    }\n",
              "\n",
              "    .dataframe tbody tr th {\n",
              "        vertical-align: top;\n",
              "    }\n",
              "\n",
              "    .dataframe thead th {\n",
              "        text-align: right;\n",
              "    }\n",
              "</style>\n",
              "<table border=\"1\" class=\"dataframe\">\n",
              "  <thead>\n",
              "    <tr style=\"text-align: right;\">\n",
              "      <th></th>\n",
              "      <th>sex</th>\n",
              "      <th>count</th>\n",
              "    </tr>\n",
              "  </thead>\n",
              "  <tbody>\n",
              "    <tr>\n",
              "      <th>0</th>\n",
              "      <td>ชาย</td>\n",
              "      <td>1440853</td>\n",
              "    </tr>\n",
              "    <tr>\n",
              "      <th>1</th>\n",
              "      <td>หญิง</td>\n",
              "      <td>1611148</td>\n",
              "    </tr>\n",
              "    <tr>\n",
              "      <th>2</th>\n",
              "      <td>ไม่ระบุ</td>\n",
              "      <td>174696</td>\n",
              "    </tr>\n",
              "  </tbody>\n",
              "</table>\n",
              "</div>\n",
              "      <button class=\"colab-df-convert\" onclick=\"convertToInteractive('df-a209b4c6-b517-4885-97fd-cd7060eabd49')\"\n",
              "              title=\"Convert this dataframe to an interactive table.\"\n",
              "              style=\"display:none;\">\n",
              "        \n",
              "  <svg xmlns=\"http://www.w3.org/2000/svg\" height=\"24px\"viewBox=\"0 0 24 24\"\n",
              "       width=\"24px\">\n",
              "    <path d=\"M0 0h24v24H0V0z\" fill=\"none\"/>\n",
              "    <path d=\"M18.56 5.44l.94 2.06.94-2.06 2.06-.94-2.06-.94-.94-2.06-.94 2.06-2.06.94zm-11 1L8.5 8.5l.94-2.06 2.06-.94-2.06-.94L8.5 2.5l-.94 2.06-2.06.94zm10 10l.94 2.06.94-2.06 2.06-.94-2.06-.94-.94-2.06-.94 2.06-2.06.94z\"/><path d=\"M17.41 7.96l-1.37-1.37c-.4-.4-.92-.59-1.43-.59-.52 0-1.04.2-1.43.59L10.3 9.45l-7.72 7.72c-.78.78-.78 2.05 0 2.83L4 21.41c.39.39.9.59 1.41.59.51 0 1.02-.2 1.41-.59l7.78-7.78 2.81-2.81c.8-.78.8-2.07 0-2.86zM5.41 20L4 18.59l7.72-7.72 1.47 1.35L5.41 20z\"/>\n",
              "  </svg>\n",
              "      </button>\n",
              "      \n",
              "  <style>\n",
              "    .colab-df-container {\n",
              "      display:flex;\n",
              "      flex-wrap:wrap;\n",
              "      gap: 12px;\n",
              "    }\n",
              "\n",
              "    .colab-df-convert {\n",
              "      background-color: #E8F0FE;\n",
              "      border: none;\n",
              "      border-radius: 50%;\n",
              "      cursor: pointer;\n",
              "      display: none;\n",
              "      fill: #1967D2;\n",
              "      height: 32px;\n",
              "      padding: 0 0 0 0;\n",
              "      width: 32px;\n",
              "    }\n",
              "\n",
              "    .colab-df-convert:hover {\n",
              "      background-color: #E2EBFA;\n",
              "      box-shadow: 0px 1px 2px rgba(60, 64, 67, 0.3), 0px 1px 3px 1px rgba(60, 64, 67, 0.15);\n",
              "      fill: #174EA6;\n",
              "    }\n",
              "\n",
              "    [theme=dark] .colab-df-convert {\n",
              "      background-color: #3B4455;\n",
              "      fill: #D2E3FC;\n",
              "    }\n",
              "\n",
              "    [theme=dark] .colab-df-convert:hover {\n",
              "      background-color: #434B5C;\n",
              "      box-shadow: 0px 1px 3px 1px rgba(0, 0, 0, 0.15);\n",
              "      filter: drop-shadow(0px 1px 2px rgba(0, 0, 0, 0.3));\n",
              "      fill: #FFFFFF;\n",
              "    }\n",
              "  </style>\n",
              "\n",
              "      <script>\n",
              "        const buttonEl =\n",
              "          document.querySelector('#df-a209b4c6-b517-4885-97fd-cd7060eabd49 button.colab-df-convert');\n",
              "        buttonEl.style.display =\n",
              "          google.colab.kernel.accessAllowed ? 'block' : 'none';\n",
              "\n",
              "        async function convertToInteractive(key) {\n",
              "          const element = document.querySelector('#df-a209b4c6-b517-4885-97fd-cd7060eabd49');\n",
              "          const dataTable =\n",
              "            await google.colab.kernel.invokeFunction('convertToInteractive',\n",
              "                                                     [key], {});\n",
              "          if (!dataTable) return;\n",
              "\n",
              "          const docLinkHtml = 'Like what you see? Visit the ' +\n",
              "            '<a target=\"_blank\" href=https://colab.research.google.com/notebooks/data_table.ipynb>data table notebook</a>'\n",
              "            + ' to learn more about interactive tables.';\n",
              "          element.innerHTML = '';\n",
              "          dataTable['output_type'] = 'display_data';\n",
              "          await google.colab.output.renderOutput(dataTable, element);\n",
              "          const docLink = document.createElement('div');\n",
              "          docLink.innerHTML = docLinkHtml;\n",
              "          element.appendChild(docLink);\n",
              "        }\n",
              "      </script>\n",
              "    </div>\n",
              "  </div>\n",
              "  "
            ]
          },
          "metadata": {},
          "execution_count": 122
        }
      ]
    },
    {
      "cell_type": "markdown",
      "source": [
        "คำนวณสัดส่วนผู้ติดเชื้อในแต่ละเพศ แล้วเก็บไว้ใน column ใหม่ชื่อ percent"
      ],
      "metadata": {
        "id": "aEaKdvRGFc0-"
      }
    },
    {
      "cell_type": "code",
      "source": [
        "per_men = ((covid_sex.loc[0,'count'])/(covid_sex['count'].sum()))*100\n",
        "per_women = ((covid_sex.loc[1,'count'])/(covid_sex['count'].sum()))*100\n",
        "na_sex = ((covid_sex.loc[2,'count'])/(covid_sex['count'].sum()))*100\n",
        "covid_sex['percent'] = [per_men, per_women, na_sex]\n",
        "covid_sex"
      ],
      "metadata": {
        "colab": {
          "base_uri": "https://localhost:8080/",
          "height": 143
        },
        "id": "67x_uXo-D0TD",
        "outputId": "f2d9ca7e-29aa-41c1-9062-797d2b08ccfb"
      },
      "execution_count": null,
      "outputs": [
        {
          "output_type": "execute_result",
          "data": {
            "text/plain": [
              "       sex    count    percent\n",
              "0      ชาย  1440853  44.654115\n",
              "1     หญิง  1611148  49.931803\n",
              "2  ไม่ระบุ   174696   5.414081"
            ],
            "text/html": [
              "\n",
              "  <div id=\"df-bdbfd8df-b647-49e1-9703-a6a3fcdb65a7\">\n",
              "    <div class=\"colab-df-container\">\n",
              "      <div>\n",
              "<style scoped>\n",
              "    .dataframe tbody tr th:only-of-type {\n",
              "        vertical-align: middle;\n",
              "    }\n",
              "\n",
              "    .dataframe tbody tr th {\n",
              "        vertical-align: top;\n",
              "    }\n",
              "\n",
              "    .dataframe thead th {\n",
              "        text-align: right;\n",
              "    }\n",
              "</style>\n",
              "<table border=\"1\" class=\"dataframe\">\n",
              "  <thead>\n",
              "    <tr style=\"text-align: right;\">\n",
              "      <th></th>\n",
              "      <th>sex</th>\n",
              "      <th>count</th>\n",
              "      <th>percent</th>\n",
              "    </tr>\n",
              "  </thead>\n",
              "  <tbody>\n",
              "    <tr>\n",
              "      <th>0</th>\n",
              "      <td>ชาย</td>\n",
              "      <td>1440853</td>\n",
              "      <td>44.654115</td>\n",
              "    </tr>\n",
              "    <tr>\n",
              "      <th>1</th>\n",
              "      <td>หญิง</td>\n",
              "      <td>1611148</td>\n",
              "      <td>49.931803</td>\n",
              "    </tr>\n",
              "    <tr>\n",
              "      <th>2</th>\n",
              "      <td>ไม่ระบุ</td>\n",
              "      <td>174696</td>\n",
              "      <td>5.414081</td>\n",
              "    </tr>\n",
              "  </tbody>\n",
              "</table>\n",
              "</div>\n",
              "      <button class=\"colab-df-convert\" onclick=\"convertToInteractive('df-bdbfd8df-b647-49e1-9703-a6a3fcdb65a7')\"\n",
              "              title=\"Convert this dataframe to an interactive table.\"\n",
              "              style=\"display:none;\">\n",
              "        \n",
              "  <svg xmlns=\"http://www.w3.org/2000/svg\" height=\"24px\"viewBox=\"0 0 24 24\"\n",
              "       width=\"24px\">\n",
              "    <path d=\"M0 0h24v24H0V0z\" fill=\"none\"/>\n",
              "    <path d=\"M18.56 5.44l.94 2.06.94-2.06 2.06-.94-2.06-.94-.94-2.06-.94 2.06-2.06.94zm-11 1L8.5 8.5l.94-2.06 2.06-.94-2.06-.94L8.5 2.5l-.94 2.06-2.06.94zm10 10l.94 2.06.94-2.06 2.06-.94-2.06-.94-.94-2.06-.94 2.06-2.06.94z\"/><path d=\"M17.41 7.96l-1.37-1.37c-.4-.4-.92-.59-1.43-.59-.52 0-1.04.2-1.43.59L10.3 9.45l-7.72 7.72c-.78.78-.78 2.05 0 2.83L4 21.41c.39.39.9.59 1.41.59.51 0 1.02-.2 1.41-.59l7.78-7.78 2.81-2.81c.8-.78.8-2.07 0-2.86zM5.41 20L4 18.59l7.72-7.72 1.47 1.35L5.41 20z\"/>\n",
              "  </svg>\n",
              "      </button>\n",
              "      \n",
              "  <style>\n",
              "    .colab-df-container {\n",
              "      display:flex;\n",
              "      flex-wrap:wrap;\n",
              "      gap: 12px;\n",
              "    }\n",
              "\n",
              "    .colab-df-convert {\n",
              "      background-color: #E8F0FE;\n",
              "      border: none;\n",
              "      border-radius: 50%;\n",
              "      cursor: pointer;\n",
              "      display: none;\n",
              "      fill: #1967D2;\n",
              "      height: 32px;\n",
              "      padding: 0 0 0 0;\n",
              "      width: 32px;\n",
              "    }\n",
              "\n",
              "    .colab-df-convert:hover {\n",
              "      background-color: #E2EBFA;\n",
              "      box-shadow: 0px 1px 2px rgba(60, 64, 67, 0.3), 0px 1px 3px 1px rgba(60, 64, 67, 0.15);\n",
              "      fill: #174EA6;\n",
              "    }\n",
              "\n",
              "    [theme=dark] .colab-df-convert {\n",
              "      background-color: #3B4455;\n",
              "      fill: #D2E3FC;\n",
              "    }\n",
              "\n",
              "    [theme=dark] .colab-df-convert:hover {\n",
              "      background-color: #434B5C;\n",
              "      box-shadow: 0px 1px 3px 1px rgba(0, 0, 0, 0.15);\n",
              "      filter: drop-shadow(0px 1px 2px rgba(0, 0, 0, 0.3));\n",
              "      fill: #FFFFFF;\n",
              "    }\n",
              "  </style>\n",
              "\n",
              "      <script>\n",
              "        const buttonEl =\n",
              "          document.querySelector('#df-bdbfd8df-b647-49e1-9703-a6a3fcdb65a7 button.colab-df-convert');\n",
              "        buttonEl.style.display =\n",
              "          google.colab.kernel.accessAllowed ? 'block' : 'none';\n",
              "\n",
              "        async function convertToInteractive(key) {\n",
              "          const element = document.querySelector('#df-bdbfd8df-b647-49e1-9703-a6a3fcdb65a7');\n",
              "          const dataTable =\n",
              "            await google.colab.kernel.invokeFunction('convertToInteractive',\n",
              "                                                     [key], {});\n",
              "          if (!dataTable) return;\n",
              "\n",
              "          const docLinkHtml = 'Like what you see? Visit the ' +\n",
              "            '<a target=\"_blank\" href=https://colab.research.google.com/notebooks/data_table.ipynb>data table notebook</a>'\n",
              "            + ' to learn more about interactive tables.';\n",
              "          element.innerHTML = '';\n",
              "          dataTable['output_type'] = 'display_data';\n",
              "          await google.colab.output.renderOutput(dataTable, element);\n",
              "          const docLink = document.createElement('div');\n",
              "          docLink.innerHTML = docLinkHtml;\n",
              "          element.appendChild(docLink);\n",
              "        }\n",
              "      </script>\n",
              "    </div>\n",
              "  </div>\n",
              "  "
            ]
          },
          "metadata": {},
          "execution_count": 123
        }
      ]
    },
    {
      "cell_type": "code",
      "source": [
        "fig = plt.figure(figsize=(8,6))\n",
        "sexPlot = sns.barplot(x=\"sex\",y='count',data=covid_sex, palette=\"rocket\")\n",
        "for p in sexPlot.patches:\n",
        "        sexPlot.annotate('{:.0f}'.format(p.get_height()), (p.get_x()+0.4, p.get_height()),\n",
        "                    ha='center', va='bottom',\n",
        "                    color= 'black')\n",
        "plt.xlabel(\"Gender\")\n",
        "plt.ylabel(\"total_case (million)\")\n",
        "plt.title(\"จำนวนผู้ติดเชื้อ Covid-19 แยกตามเพศ\")\n",
        "plt.show()"
      ],
      "metadata": {
        "colab": {
          "base_uri": "https://localhost:8080/",
          "height": 424
        },
        "id": "K1JvPzAT6A0C",
        "outputId": "b54a3cc3-1a29-4b4d-9b1e-a269aa7e4750"
      },
      "execution_count": null,
      "outputs": [
        {
          "output_type": "display_data",
          "data": {
            "text/plain": [
              "<Figure size 576x432 with 1 Axes>"
            ],
            "image/png": "[encoded data removed]"
          },
          "metadata": {
            "needs_background": "light"
          }
        }
      ]
    },
    {
      "cell_type": "markdown",
      "source": [
        "จากผลลัพธ์ที่ได้\n",
        "- เพศชาย มีจำนวนทั้งหมด 1440853 คน คิดเป็น 44.64%\n",
        "- เพศหญิง มีจำนวนทั้งหมด 1611148 คน คิดเป็น 49.93%\n",
        "- ไม่ระบุเพศ มีจำนวนทั้งหมด 174696 คน คิดเป็น 5.41%\n",
        "- จากข้อมูลที่ได้รับ จำนวนผู้ติดเชื้อในเพศชายและเพศหญิงมีสัดส่วนไม่ต่างกันมาก"
      ],
      "metadata": {
        "id": "88TW772-Fl7j"
      }
    },
    {
      "cell_type": "markdown",
      "source": [
        "2.) Explore & analyze age information"
      ],
      "metadata": {
        "id": "J_-kQ7O9GeJP"
      }
    },
    {
      "cell_type": "markdown",
      "source": [
        "สร้าง dataframe ใหม่ชื่อว่า covid_age เพื่อเก็บค่าจำนวนผู้ติดเชื้อในอายุแต่ละปี"
      ],
      "metadata": {
        "id": "pV45q2qXHDaq"
      }
    },
    {
      "cell_type": "code",
      "source": [
        "covid_age = df_cleaned.groupby('age')[['count']].count()\n",
        "covid_age = covid_age.reset_index()\n",
        "covid_age"
      ],
      "metadata": {
        "colab": {
          "base_uri": "https://localhost:8080/",
          "height": 424
        },
        "id": "deME8EHo94q5",
        "outputId": "bf4a1696-c905-49ef-b3a5-13b381ac8ee7"
      },
      "execution_count": null,
      "outputs": [
        {
          "output_type": "execute_result",
          "data": {
            "text/plain": [
              "       age   count\n",
              "0   -99999  262565\n",
              "1        1   44546\n",
              "2        2   26023\n",
              "3        3   24715\n",
              "4        4   24242\n",
              "..     ...     ...\n",
              "106    149       1\n",
              "107    158       1\n",
              "108    241       1\n",
              "109    331       1\n",
              "110    441       1\n",
              "\n",
              "[111 rows x 2 columns]"
            ],
            "text/html": [
              "\n",
              "  <div id=\"df-d568a8b3-ad78-4207-95fc-3b526cfaa4a9\">\n",
              "    <div class=\"colab-df-container\">\n",
              "      <div>\n",
              "<style scoped>\n",
              "    .dataframe tbody tr th:only-of-type {\n",
              "        vertical-align: middle;\n",
              "    }\n",
              "\n",
              "    .dataframe tbody tr th {\n",
              "        vertical-align: top;\n",
              "    }\n",
              "\n",
              "    .dataframe thead th {\n",
              "        text-align: right;\n",
              "    }\n",
              "</style>\n",
              "<table border=\"1\" class=\"dataframe\">\n",
              "  <thead>\n",
              "    <tr style=\"text-align: right;\">\n",
              "      <th></th>\n",
              "      <th>age</th>\n",
              "      <th>count</th>\n",
              "    </tr>\n",
              "  </thead>\n",
              "  <tbody>\n",
              "    <tr>\n",
              "      <th>0</th>\n",
              "      <td>-99999</td>\n",
              "      <td>262565</td>\n",
              "    </tr>\n",
              "    <tr>\n",
              "      <th>1</th>\n",
              "      <td>1</td>\n",
              "      <td>44546</td>\n",
              "    </tr>\n",
              "    <tr>\n",
              "      <th>2</th>\n",
              "      <td>2</td>\n",
              "      <td>26023</td>\n",
              "    </tr>\n",
              "    <tr>\n",
              "      <th>3</th>\n",
              "      <td>3</td>\n",
              "      <td>24715</td>\n",
              "    </tr>\n",
              "    <tr>\n",
              "      <th>4</th>\n",
              "      <td>4</td>\n",
              "      <td>24242</td>\n",
              "    </tr>\n",
              "    <tr>\n",
              "      <th>...</th>\n",
              "      <td>...</td>\n",
              "      <td>...</td>\n",
              "    </tr>\n",
              "    <tr>\n",
              "      <th>106</th>\n",
              "      <td>149</td>\n",
              "      <td>1</td>\n",
              "    </tr>\n",
              "    <tr>\n",
              "      <th>107</th>\n",
              "      <td>158</td>\n",
              "      <td>1</td>\n",
              "    </tr>\n",
              "    <tr>\n",
              "      <th>108</th>\n",
              "      <td>241</td>\n",
              "      <td>1</td>\n",
              "    </tr>\n",
              "    <tr>\n",
              "      <th>109</th>\n",
              "      <td>331</td>\n",
              "      <td>1</td>\n",
              "    </tr>\n",
              "    <tr>\n",
              "      <th>110</th>\n",
              "      <td>441</td>\n",
              "      <td>1</td>\n",
              "    </tr>\n",
              "  </tbody>\n",
              "</table>\n",
              "<p>111 rows × 2 columns</p>\n",
              "</div>\n",
              "      <button class=\"colab-df-convert\" onclick=\"convertToInteractive('df-d568a8b3-ad78-4207-95fc-3b526cfaa4a9')\"\n",
              "              title=\"Convert this dataframe to an interactive table.\"\n",
              "              style=\"display:none;\">\n",
              "        \n",
              "  <svg xmlns=\"http://www.w3.org/2000/svg\" height=\"24px\"viewBox=\"0 0 24 24\"\n",
              "       width=\"24px\">\n",
              "    <path d=\"M0 0h24v24H0V0z\" fill=\"none\"/>\n",
              "    <path d=\"M18.56 5.44l.94 2.06.94-2.06 2.06-.94-2.06-.94-.94-2.06-.94 2.06-2.06.94zm-11 1L8.5 8.5l.94-2.06 2.06-.94-2.06-.94L8.5 2.5l-.94 2.06-2.06.94zm10 10l.94 2.06.94-2.06 2.06-.94-2.06-.94-.94-2.06-.94 2.06-2.06.94z\"/><path d=\"M17.41 7.96l-1.37-1.37c-.4-.4-.92-.59-1.43-.59-.52 0-1.04.2-1.43.59L10.3 9.45l-7.72 7.72c-.78.78-.78 2.05 0 2.83L4 21.41c.39.39.9.59 1.41.59.51 0 1.02-.2 1.41-.59l7.78-7.78 2.81-2.81c.8-.78.8-2.07 0-2.86zM5.41 20L4 18.59l7.72-7.72 1.47 1.35L5.41 20z\"/>\n",
              "  </svg>\n",
              "      </button>\n",
              "      \n",
              "  <style>\n",
              "    .colab-df-container {\n",
              "      display:flex;\n",
              "      flex-wrap:wrap;\n",
              "      gap: 12px;\n",
              "    }\n",
              "\n",
              "    .colab-df-convert {\n",
              "      background-color: #E8F0FE;\n",
              "      border: none;\n",
              "      border-radius: 50%;\n",
              "      cursor: pointer;\n",
              "      display: none;\n",
              "      fill: #1967D2;\n",
              "      height: 32px;\n",
              "      padding: 0 0 0 0;\n",
              "      width: 32px;\n",
              "    }\n",
              "\n",
              "    .colab-df-convert:hover {\n",
              "      background-color: #E2EBFA;\n",
              "      box-shadow: 0px 1px 2px rgba(60, 64, 67, 0.3), 0px 1px 3px 1px rgba(60, 64, 67, 0.15);\n",
              "      fill: #174EA6;\n",
              "    }\n",
              "\n",
              "    [theme=dark] .colab-df-convert {\n",
              "      background-color: #3B4455;\n",
              "      fill: #D2E3FC;\n",
              "    }\n",
              "\n",
              "    [theme=dark] .colab-df-convert:hover {\n",
              "      background-color: #434B5C;\n",
              "      box-shadow: 0px 1px 3px 1px rgba(0, 0, 0, 0.15);\n",
              "      filter: drop-shadow(0px 1px 2px rgba(0, 0, 0, 0.3));\n",
              "      fill: #FFFFFF;\n",
              "    }\n",
              "  </style>\n",
              "\n",
              "      <script>\n",
              "        const buttonEl =\n",
              "          document.querySelector('#df-d568a8b3-ad78-4207-95fc-3b526cfaa4a9 button.colab-df-convert');\n",
              "        buttonEl.style.display =\n",
              "          google.colab.kernel.accessAllowed ? 'block' : 'none';\n",
              "\n",
              "        async function convertToInteractive(key) {\n",
              "          const element = document.querySelector('#df-d568a8b3-ad78-4207-95fc-3b526cfaa4a9');\n",
              "          const dataTable =\n",
              "            await google.colab.kernel.invokeFunction('convertToInteractive',\n",
              "                                                     [key], {});\n",
              "          if (!dataTable) return;\n",
              "\n",
              "          const docLinkHtml = 'Like what you see? Visit the ' +\n",
              "            '<a target=\"_blank\" href=https://colab.research.google.com/notebooks/data_table.ipynb>data table notebook</a>'\n",
              "            + ' to learn more about interactive tables.';\n",
              "          element.innerHTML = '';\n",
              "          dataTable['output_type'] = 'display_data';\n",
              "          await google.colab.output.renderOutput(dataTable, element);\n",
              "          const docLink = document.createElement('div');\n",
              "          docLink.innerHTML = docLinkHtml;\n",
              "          element.appendChild(docLink);\n",
              "        }\n",
              "      </script>\n",
              "    </div>\n",
              "  </div>\n",
              "  "
            ]
          },
          "metadata": {},
          "execution_count": 216
        }
      ]
    },
    {
      "cell_type": "markdown",
      "source": [
        "- drop ค่า -99999 ที่เป็นตัวแทนค่า null values ออก เพื่อคำนวนค่าทางสถิติที่เป็นตัวแทนข้อมูลชุดนี้ และดูการกระจายตัวของข้อมูล\n",
        "- drop ค่า outlier ที่เป็น extreme values ที่มีจำนวนน้อยมากๆออก"
      ],
      "metadata": {
        "id": "b0Dc7rSZJKNa"
      }
    },
    {
      "cell_type": "code",
      "source": [
        "drop_age = [-99999,119,121,122,123,125,143,146,149,158,241,331,441]\n",
        "covid_age = covid_age[covid_age['age'].isin(drop_age) == False]"
      ],
      "metadata": {
        "id": "zf1Fe8LNG9kX"
      },
      "execution_count": null,
      "outputs": []
    },
    {
      "cell_type": "code",
      "source": [
        "covid_age[['age']].agg(['count', 'mean', 'min', 'max','std'])"
      ],
      "metadata": {
        "colab": {
          "base_uri": "https://localhost:8080/",
          "height": 206
        },
        "id": "hFHg88fINknH",
        "outputId": "ea4ca3f4-abef-4b3b-b221-bcd9153e358d"
      },
      "execution_count": null,
      "outputs": [
        {
          "output_type": "execute_result",
          "data": {
            "text/plain": [
              "              age\n",
              "count   98.000000\n",
              "mean    55.265306\n",
              "min      1.000000\n",
              "max    118.000000\n",
              "std     32.972513"
            ],
            "text/html": [
              "\n",
              "  <div id=\"df-0d14a829-e14c-4b6d-b0c1-42ecf18a8e43\">\n",
              "    <div class=\"colab-df-container\">\n",
              "      <div>\n",
              "<style scoped>\n",
              "    .dataframe tbody tr th:only-of-type {\n",
              "        vertical-align: middle;\n",
              "    }\n",
              "\n",
              "    .dataframe tbody tr th {\n",
              "        vertical-align: top;\n",
              "    }\n",
              "\n",
              "    .dataframe thead th {\n",
              "        text-align: right;\n",
              "    }\n",
              "</style>\n",
              "<table border=\"1\" class=\"dataframe\">\n",
              "  <thead>\n",
              "    <tr style=\"text-align: right;\">\n",
              "      <th></th>\n",
              "      <th>age</th>\n",
              "    </tr>\n",
              "  </thead>\n",
              "  <tbody>\n",
              "    <tr>\n",
              "      <th>count</th>\n",
              "      <td>98.000000</td>\n",
              "    </tr>\n",
              "    <tr>\n",
              "      <th>mean</th>\n",
              "      <td>55.265306</td>\n",
              "    </tr>\n",
              "    <tr>\n",
              "      <th>min</th>\n",
              "      <td>1.000000</td>\n",
              "    </tr>\n",
              "    <tr>\n",
              "      <th>max</th>\n",
              "      <td>118.000000</td>\n",
              "    </tr>\n",
              "    <tr>\n",
              "      <th>std</th>\n",
              "      <td>32.972513</td>\n",
              "    </tr>\n",
              "  </tbody>\n",
              "</table>\n",
              "</div>\n",
              "      <button class=\"colab-df-convert\" onclick=\"convertToInteractive('df-0d14a829-e14c-4b6d-b0c1-42ecf18a8e43')\"\n",
              "              title=\"Convert this dataframe to an interactive table.\"\n",
              "              style=\"display:none;\">\n",
              "        \n",
              "  <svg xmlns=\"http://www.w3.org/2000/svg\" height=\"24px\"viewBox=\"0 0 24 24\"\n",
              "       width=\"24px\">\n",
              "    <path d=\"M0 0h24v24H0V0z\" fill=\"none\"/>\n",
              "    <path d=\"M18.56 5.44l.94 2.06.94-2.06 2.06-.94-2.06-.94-.94-2.06-.94 2.06-2.06.94zm-11 1L8.5 8.5l.94-2.06 2.06-.94-2.06-.94L8.5 2.5l-.94 2.06-2.06.94zm10 10l.94 2.06.94-2.06 2.06-.94-2.06-.94-.94-2.06-.94 2.06-2.06.94z\"/><path d=\"M17.41 7.96l-1.37-1.37c-.4-.4-.92-.59-1.43-.59-.52 0-1.04.2-1.43.59L10.3 9.45l-7.72 7.72c-.78.78-.78 2.05 0 2.83L4 21.41c.39.39.9.59 1.41.59.51 0 1.02-.2 1.41-.59l7.78-7.78 2.81-2.81c.8-.78.8-2.07 0-2.86zM5.41 20L4 18.59l7.72-7.72 1.47 1.35L5.41 20z\"/>\n",
              "  </svg>\n",
              "      </button>\n",
              "      \n",
              "  <style>\n",
              "    .colab-df-container {\n",
              "      display:flex;\n",
              "      flex-wrap:wrap;\n",
              "      gap: 12px;\n",
              "    }\n",
              "\n",
              "    .colab-df-convert {\n",
              "      background-color: #E8F0FE;\n",
              "      border: none;\n",
              "      border-radius: 50%;\n",
              "      cursor: pointer;\n",
              "      display: none;\n",
              "      fill: #1967D2;\n",
              "      height: 32px;\n",
              "      padding: 0 0 0 0;\n",
              "      width: 32px;\n",
              "    }\n",
              "\n",
              "    .colab-df-convert:hover {\n",
              "      background-color: #E2EBFA;\n",
              "      box-shadow: 0px 1px 2px rgba(60, 64, 67, 0.3), 0px 1px 3px 1px rgba(60, 64, 67, 0.15);\n",
              "      fill: #174EA6;\n",
              "    }\n",
              "\n",
              "    [theme=dark] .colab-df-convert {\n",
              "      background-color: #3B4455;\n",
              "      fill: #D2E3FC;\n",
              "    }\n",
              "\n",
              "    [theme=dark] .colab-df-convert:hover {\n",
              "      background-color: #434B5C;\n",
              "      box-shadow: 0px 1px 3px 1px rgba(0, 0, 0, 0.15);\n",
              "      filter: drop-shadow(0px 1px 2px rgba(0, 0, 0, 0.3));\n",
              "      fill: #FFFFFF;\n",
              "    }\n",
              "  </style>\n",
              "\n",
              "      <script>\n",
              "        const buttonEl =\n",
              "          document.querySelector('#df-0d14a829-e14c-4b6d-b0c1-42ecf18a8e43 button.colab-df-convert');\n",
              "        buttonEl.style.display =\n",
              "          google.colab.kernel.accessAllowed ? 'block' : 'none';\n",
              "\n",
              "        async function convertToInteractive(key) {\n",
              "          const element = document.querySelector('#df-0d14a829-e14c-4b6d-b0c1-42ecf18a8e43');\n",
              "          const dataTable =\n",
              "            await google.colab.kernel.invokeFunction('convertToInteractive',\n",
              "                                                     [key], {});\n",
              "          if (!dataTable) return;\n",
              "\n",
              "          const docLinkHtml = 'Like what you see? Visit the ' +\n",
              "            '<a target=\"_blank\" href=https://colab.research.google.com/notebooks/data_table.ipynb>data table notebook</a>'\n",
              "            + ' to learn more about interactive tables.';\n",
              "          element.innerHTML = '';\n",
              "          dataTable['output_type'] = 'display_data';\n",
              "          await google.colab.output.renderOutput(dataTable, element);\n",
              "          const docLink = document.createElement('div');\n",
              "          docLink.innerHTML = docLinkHtml;\n",
              "          element.appendChild(docLink);\n",
              "        }\n",
              "      </script>\n",
              "    </div>\n",
              "  </div>\n",
              "  "
            ]
          },
          "metadata": {},
          "execution_count": 317
        }
      ]
    },
    {
      "cell_type": "markdown",
      "source": [
        "- มีจำนวนอายุทั้งหมด 98 ค่า\n",
        "- ผู้ติดเชื้อที่มีอายุน้อยที่สุดคือ น้อยกว่าหรือเท่ากับ 1 ปี\n",
        "- ผู้ติดเชื้อที่มีอายุมากที่สุดคือ 118 ปี\n",
        "- ค่าเฉลี่ยของอายุอยู่ที่ 55.26 ปี\n",
        "- ค่า standard deviation คือ 32.97"
      ],
      "metadata": {
        "id": "rrZMBKvqN5mq"
      }
    },
    {
      "cell_type": "code",
      "source": [
        "fig = px.histogram(covid_age, x='age',y = 'count', title='Age Distribution of Covid-19 detected', nbins = 100,text_auto=True, color_discrete_sequence=['sandybrown'] )\n",
        "fig.update_layout(bargap=0.1)\n",
        "fig.show()"
      ],
      "metadata": {
        "colab": {
          "base_uri": "https://localhost:8080/",
          "height": 542
        },
        "id": "78iFgd_IM7sl",
        "outputId": "4dc0b6bd-5d93-4dd8-8c4c-47e32980ea50"
      },
      "execution_count": null,
      "outputs": [
        {
          "output_type": "display_data",
          "data": {
            "text/html": [
              "<html>\n",
              "<head><meta charset=\"utf-8\" /></head>\n",
              "<body>\n",
              "    <div>            <script src=\"https://cdnjs.cloudflare.com/ajax/libs/mathjax/2.7.5/MathJax.js?config=TeX-AMS-MML_SVG\"></script><script type=\"text/javascript\">if (window.MathJax) {MathJax.Hub.Config({SVG: {font: \"STIX-Web\"}});}</script>                <script type=\"text/javascript\">window.PlotlyConfig = {MathJaxConfig: 'local'};</script>\n",
              "        <script src=\"https://cdn.plot.ly/plotly-2.8.3.min.js\"></script>                <div id=\"fd8d6134-6a95-4bad-9c38-5131d71662d4\" class=\"plotly-graph-div\" style=\"height:525px; width:100%;\"></div>            <script type=\"text/javascript\">                                    window.PLOTLYENV=window.PLOTLYENV || {};                                    if (document.getElementById(\"fd8d6134-6a95-4bad-9c38-5131d71662d4\")) {                    Plotly.newPlot(                        \"fd8d6134-6a95-4bad-9c38-5131d71662d4\",                        [{\"alignmentgroup\":\"True\",\"bingroup\":\"x\",\"histfunc\":\"sum\",\"hovertemplate\":\"age=%{x}<br>sum of count=%{y}<extra></extra>\",\"legendgroup\":\"\",\"marker\":{\"color\":\"sandybrown\",\"pattern\":{\"shape\":\"\"}},\"name\":\"\",\"nbinsx\":100,\"offsetgroup\":\"\",\"orientation\":\"v\",\"showlegend\":false,\"texttemplate\":\"%{value}\",\"x\":[1,2,3,4,5,6,7,8,9,11,12,13,14,15,16,17,18,19,21,22,23,24,25,26,27,28,29,31,32,33,34,35,36,37,38,39,41,42,43,44,45,46,47,48,49,51,52,53,54,55,56,57,58,59,61,62,63,64,65,66,67,68,69,71,72,73,74,75,76,77,78,79,81,82,83,84,85,86,87,88,89,91,92,93,94,95,96,97,98,99,111,112,113,114,115,116,117,118],\"xaxis\":\"x\",\"y\":[44546,26023,24715,24242,23981,25263,27030,27916,30040,58052,26888,25844,27393,27602,29001,32536,37107,43502,107901,60821,66648,71436,73438,72214,70547,69879,68978,135745,62354,59017,59292,59591,58940,57321,57148,57332,109563,52316,48851,48542,46042,43662,42689,40904,40938,79815,37749,37572,34960,33011,32095,30921,28503,27650,49157,22022,20323,19735,18468,16778,15711,14751,13620,25092,11161,9499,8524,7625,6647,6509,5939,5638,10040,4544,4307,3647,3402,2783,2443,2020,1739,2517,867,742,527,388,241,183,129,107,126,29,17,21,10,9,7,6],\"yaxis\":\"y\",\"type\":\"histogram\"}],                        {\"template\":{\"data\":{\"bar\":[{\"error_x\":{\"color\":\"#2a3f5f\"},\"error_y\":{\"color\":\"#2a3f5f\"},\"marker\":{\"line\":{\"color\":\"#E5ECF6\",\"width\":0.5},\"pattern\":{\"fillmode\":\"overlay\",\"size\":10,\"solidity\":0.2}},\"type\":\"bar\"}],\"barpolar\":[{\"marker\":{\"line\":{\"color\":\"#E5ECF6\",\"width\":0.5},\"pattern\":{\"fillmode\":\"overlay\",\"size\":10,\"solidity\":0.2}},\"type\":\"barpolar\"}],\"carpet\":[{\"aaxis\":{\"endlinecolor\":\"#2a3f5f\",\"gridcolor\":\"white\",\"linecolor\":\"white\",\"minorgridcolor\":\"white\",\"startlinecolor\":\"#2a3f5f\"},\"baxis\":{\"endlinecolor\":\"#2a3f5f\",\"gridcolor\":\"white\",\"linecolor\":\"white\",\"minorgridcolor\":\"white\",\"startlinecolor\":\"#2a3f5f\"},\"type\":\"carpet\"}],\"choropleth\":[{\"colorbar\":{\"outlinewidth\":0,\"ticks\":\"\"},\"type\":\"choropleth\"}],\"contour\":[{\"colorbar\":{\"outlinewidth\":0,\"ticks\":\"\"},\"colorscale\":[[0.0,\"#0d0887\"],[0.1111111111111111,\"#46039f\"],[0.2222222222222222,\"#7201a8\"],[0.3333333333333333,\"#9c179e\"],[0.4444444444444444,\"#bd3786\"],[0.5555555555555556,\"#d8576b\"],[0.6666666666666666,\"#ed7953\"],[0.7777777777777778,\"#fb9f3a\"],[0.8888888888888888,\"#fdca26\"],[1.0,\"#f0f921\"]],\"type\":\"contour\"}],\"contourcarpet\":[{\"colorbar\":{\"outlinewidth\":0,\"ticks\":\"\"},\"type\":\"contourcarpet\"}],\"heatmap\":[{\"colorbar\":{\"outlinewidth\":0,\"ticks\":\"\"},\"colorscale\":[[0.0,\"#0d0887\"],[0.1111111111111111,\"#46039f\"],[0.2222222222222222,\"#7201a8\"],[0.3333333333333333,\"#9c179e\"],[0.4444444444444444,\"#bd3786\"],[0.5555555555555556,\"#d8576b\"],[0.6666666666666666,\"#ed7953\"],[0.7777777777777778,\"#fb9f3a\"],[0.8888888888888888,\"#fdca26\"],[1.0,\"#f0f921\"]],\"type\":\"heatmap\"}],\"heatmapgl\":[{\"colorbar\":{\"outlinewidth\":0,\"ticks\":\"\"},\"colorscale\":[[0.0,\"#0d0887\"],[0.1111111111111111,\"#46039f\"],[0.2222222222222222,\"#7201a8\"],[0.3333333333333333,\"#9c179e\"],[0.4444444444444444,\"#bd3786\"],[0.5555555555555556,\"#d8576b\"],[0.6666666666666666,\"#ed7953\"],[0.7777777777777778,\"#fb9f3a\"],[0.8888888888888888,\"#fdca26\"],[1.0,\"#f0f921\"]],\"type\":\"heatmapgl\"}],\"histogram\":[{\"marker\":{\"pattern\":{\"fillmode\":\"overlay\",\"size\":10,\"solidity\":0.2}},\"type\":\"histogram\"}],\"histogram2d\":[{\"colorbar\":{\"outlinewidth\":0,\"ticks\":\"\"},\"colorscale\":[[0.0,\"#0d0887\"],[0.1111111111111111,\"#46039f\"],[0.2222222222222222,\"#7201a8\"],[0.3333333333333333,\"#9c179e\"],[0.4444444444444444,\"#bd3786\"],[0.5555555555555556,\"#d8576b\"],[0.6666666666666666,\"#ed7953\"],[0.7777777777777778,\"#fb9f3a\"],[0.8888888888888888,\"#fdca26\"],[1.0,\"#f0f921\"]],\"type\":\"histogram2d\"}],\"histogram2dcontour\":[{\"colorbar\":{\"outlinewidth\":0,\"ticks\":\"\"},\"colorscale\":[[0.0,\"#0d0887\"],[0.1111111111111111,\"#46039f\"],[0.2222222222222222,\"#7201a8\"],[0.3333333333333333,\"#9c179e\"],[0.4444444444444444,\"#bd3786\"],[0.5555555555555556,\"#d8576b\"],[0.6666666666666666,\"#ed7953\"],[0.7777777777777778,\"#fb9f3a\"],[0.8888888888888888,\"#fdca26\"],[1.0,\"#f0f921\"]],\"type\":\"histogram2dcontour\"}],\"mesh3d\":[{\"colorbar\":{\"outlinewidth\":0,\"ticks\":\"\"},\"type\":\"mesh3d\"}],\"parcoords\":[{\"line\":{\"colorbar\":{\"outlinewidth\":0,\"ticks\":\"\"}},\"type\":\"parcoords\"}],\"pie\":[{\"automargin\":true,\"type\":\"pie\"}],\"scatter\":[{\"marker\":{\"colorbar\":{\"outlinewidth\":0,\"ticks\":\"\"}},\"type\":\"scatter\"}],\"scatter3d\":[{\"line\":{\"colorbar\":{\"outlinewidth\":0,\"ticks\":\"\"}},\"marker\":{\"colorbar\":{\"outlinewidth\":0,\"ticks\":\"\"}},\"type\":\"scatter3d\"}],\"scattercarpet\":[{\"marker\":{\"colorbar\":{\"outlinewidth\":0,\"ticks\":\"\"}},\"type\":\"scattercarpet\"}],\"scattergeo\":[{\"marker\":{\"colorbar\":{\"outlinewidth\":0,\"ticks\":\"\"}},\"type\":\"scattergeo\"}],\"scattergl\":[{\"marker\":{\"colorbar\":{\"outlinewidth\":0,\"ticks\":\"\"}},\"type\":\"scattergl\"}],\"scattermapbox\":[{\"marker\":{\"colorbar\":{\"outlinewidth\":0,\"ticks\":\"\"}},\"type\":\"scattermapbox\"}],\"scatterpolar\":[{\"marker\":{\"colorbar\":{\"outlinewidth\":0,\"ticks\":\"\"}},\"type\":\"scatterpolar\"}],\"scatterpolargl\":[{\"marker\":{\"colorbar\":{\"outlinewidth\":0,\"ticks\":\"\"}},\"type\":\"scatterpolargl\"}],\"scatterternary\":[{\"marker\":{\"colorbar\":{\"outlinewidth\":0,\"ticks\":\"\"}},\"type\":\"scatterternary\"}],\"surface\":[{\"colorbar\":{\"outlinewidth\":0,\"ticks\":\"\"},\"colorscale\":[[0.0,\"#0d0887\"],[0.1111111111111111,\"#46039f\"],[0.2222222222222222,\"#7201a8\"],[0.3333333333333333,\"#9c179e\"],[0.4444444444444444,\"#bd3786\"],[0.5555555555555556,\"#d8576b\"],[0.6666666666666666,\"#ed7953\"],[0.7777777777777778,\"#fb9f3a\"],[0.8888888888888888,\"#fdca26\"],[1.0,\"#f0f921\"]],\"type\":\"surface\"}],\"table\":[{\"cells\":{\"fill\":{\"color\":\"#EBF0F8\"},\"line\":{\"color\":\"white\"}},\"header\":{\"fill\":{\"color\":\"#C8D4E3\"},\"line\":{\"color\":\"white\"}},\"type\":\"table\"}]},\"layout\":{\"annotationdefaults\":{\"arrowcolor\":\"#2a3f5f\",\"arrowhead\":0,\"arrowwidth\":1},\"autotypenumbers\":\"strict\",\"coloraxis\":{\"colorbar\":{\"outlinewidth\":0,\"ticks\":\"\"}},\"colorscale\":{\"diverging\":[[0,\"#8e0152\"],[0.1,\"#c51b7d\"],[0.2,\"#de77ae\"],[0.3,\"#f1b6da\"],[0.4,\"#fde0ef\"],[0.5,\"#f7f7f7\"],[0.6,\"#e6f5d0\"],[0.7,\"#b8e186\"],[0.8,\"#7fbc41\"],[0.9,\"#4d9221\"],[1,\"#276419\"]],\"sequential\":[[0.0,\"#0d0887\"],[0.1111111111111111,\"#46039f\"],[0.2222222222222222,\"#7201a8\"],[0.3333333333333333,\"#9c179e\"],[0.4444444444444444,\"#bd3786\"],[0.5555555555555556,\"#d8576b\"],[0.6666666666666666,\"#ed7953\"],[0.7777777777777778,\"#fb9f3a\"],[0.8888888888888888,\"#fdca26\"],[1.0,\"#f0f921\"]],\"sequentialminus\":[[0.0,\"#0d0887\"],[0.1111111111111111,\"#46039f\"],[0.2222222222222222,\"#7201a8\"],[0.3333333333333333,\"#9c179e\"],[0.4444444444444444,\"#bd3786\"],[0.5555555555555556,\"#d8576b\"],[0.6666666666666666,\"#ed7953\"],[0.7777777777777778,\"#fb9f3a\"],[0.8888888888888888,\"#fdca26\"],[1.0,\"#f0f921\"]]},\"colorway\":[\"#636efa\",\"#EF553B\",\"#00cc96\",\"#ab63fa\",\"#FFA15A\",\"#19d3f3\",\"#FF6692\",\"#B6E880\",\"#FF97FF\",\"#FECB52\"],\"font\":{\"color\":\"#2a3f5f\"},\"geo\":{\"bgcolor\":\"white\",\"lakecolor\":\"white\",\"landcolor\":\"#E5ECF6\",\"showlakes\":true,\"showland\":true,\"subunitcolor\":\"white\"},\"hoverlabel\":{\"align\":\"left\"},\"hovermode\":\"closest\",\"mapbox\":{\"style\":\"light\"},\"paper_bgcolor\":\"white\",\"plot_bgcolor\":\"#E5ECF6\",\"polar\":{\"angularaxis\":{\"gridcolor\":\"white\",\"linecolor\":\"white\",\"ticks\":\"\"},\"bgcolor\":\"#E5ECF6\",\"radialaxis\":{\"gridcolor\":\"white\",\"linecolor\":\"white\",\"ticks\":\"\"}},\"scene\":{\"xaxis\":{\"backgroundcolor\":\"#E5ECF6\",\"gridcolor\":\"white\",\"gridwidth\":2,\"linecolor\":\"white\",\"showbackground\":true,\"ticks\":\"\",\"zerolinecolor\":\"white\"},\"yaxis\":{\"backgroundcolor\":\"#E5ECF6\",\"gridcolor\":\"white\",\"gridwidth\":2,\"linecolor\":\"white\",\"showbackground\":true,\"ticks\":\"\",\"zerolinecolor\":\"white\"},\"zaxis\":{\"backgroundcolor\":\"#E5ECF6\",\"gridcolor\":\"white\",\"gridwidth\":2,\"linecolor\":\"white\",\"showbackground\":true,\"ticks\":\"\",\"zerolinecolor\":\"white\"}},\"shapedefaults\":{\"line\":{\"color\":\"#2a3f5f\"}},\"ternary\":{\"aaxis\":{\"gridcolor\":\"white\",\"linecolor\":\"white\",\"ticks\":\"\"},\"baxis\":{\"gridcolor\":\"white\",\"linecolor\":\"white\",\"ticks\":\"\"},\"bgcolor\":\"#E5ECF6\",\"caxis\":{\"gridcolor\":\"white\",\"linecolor\":\"white\",\"ticks\":\"\"}},\"title\":{\"x\":0.05},\"xaxis\":{\"automargin\":true,\"gridcolor\":\"white\",\"linecolor\":\"white\",\"ticks\":\"\",\"title\":{\"standoff\":15},\"zerolinecolor\":\"white\",\"zerolinewidth\":2},\"yaxis\":{\"automargin\":true,\"gridcolor\":\"white\",\"linecolor\":\"white\",\"ticks\":\"\",\"title\":{\"standoff\":15},\"zerolinecolor\":\"white\",\"zerolinewidth\":2}}},\"xaxis\":{\"anchor\":\"y\",\"domain\":[0.0,1.0],\"title\":{\"text\":\"age\"}},\"yaxis\":{\"anchor\":\"x\",\"domain\":[0.0,1.0],\"title\":{\"text\":\"sum of count\"}},\"legend\":{\"tracegroupgap\":0},\"title\":{\"text\":\"Age Distribution of Covid-19 detected\"},\"barmode\":\"relative\",\"bargap\":0.1},                        {\"responsive\": true}                    ).then(function(){\n",
              "                            \n",
              "var gd = document.getElementById('fd8d6134-6a95-4bad-9c38-5131d71662d4');\n",
              "var x = new MutationObserver(function (mutations, observer) {{\n",
              "        var display = window.getComputedStyle(gd).display;\n",
              "        if (!display || display === 'none') {{\n",
              "            console.log([gd, 'removed!']);\n",
              "            Plotly.purge(gd);\n",
              "            observer.disconnect();\n",
              "        }}\n",
              "}});\n",
              "\n",
              "// Listen for the removal of the full notebook cells\n",
              "var notebookContainer = gd.closest('#notebook-container');\n",
              "if (notebookContainer) {{\n",
              "    x.observe(notebookContainer, {childList: true});\n",
              "}}\n",
              "\n",
              "// Listen for the clearing of the current output cell\n",
              "var outputEl = gd.closest('.output');\n",
              "if (outputEl) {{\n",
              "    x.observe(outputEl, {childList: true});\n",
              "}}\n",
              "\n",
              "                        })                };                            </script>        </div>\n",
              "</body>\n",
              "</html>"
            ]
          },
          "metadata": {}
        }
      ]
    },
    {
      "cell_type": "markdown",
      "source": [
        "- ถึงแม้ค่าเฉลี่ยของอายุอยู่ที่ 55.26 ปี\n",
        "- แต่เมื่อเราดูการกระจายตัวของข้อมูลจะพบว่า ข้อมูลมีการกระจายตัวเป็นลักษณะ positive skewed\n",
        "- โดยจำนวนผู้ติดเชื้อจะมีความหนาแน่นสูงในช่วงอายุ 20 - 40 ปี "
      ],
      "metadata": {
        "id": "OWX4seOfQHAw"
      }
    },
    {
      "cell_type": "markdown",
      "source": [
        "สร้าง dataframe ใหม่ เพื่อนำมาพล็อตดูการกระจายของข้อมูลในแต่ละเพศ"
      ],
      "metadata": {
        "id": "LMm_ffHIQIi0"
      }
    },
    {
      "cell_type": "code",
      "source": [
        "drop_age = [-99999,119,121,122,123,125,143,146,149,158,241,331,441]\n",
        "df_cleaned_age = df_cleaned[df_cleaned['age'].isin(drop_age) == False]"
      ],
      "metadata": {
        "id": "k-kgsA0vN5my"
      },
      "execution_count": null,
      "outputs": []
    },
    {
      "cell_type": "code",
      "source": [
        "covid_age_men = df_cleaned_age[df_cleaned_age['sex'] == 'ชาย']\n",
        "covid_age_women = df_cleaned_age[df_cleaned_age['sex'] == 'หญิง']"
      ],
      "metadata": {
        "id": "2MruJ4eUR6QB"
      },
      "execution_count": null,
      "outputs": []
    },
    {
      "cell_type": "code",
      "source": [
        "fig, (ax1, ax2) = plt.subplots(1, 2 ,figsize=(15,5))\n",
        "\n",
        "sns.histplot(covid_age_men['age'], kde = False, bins = 50, color = 'navy', ax = ax1)\n",
        "ax1.title.set_text(\"การกระจายตัวของจำนวนผู้ติดเชื้อในเพศชาย\")\n",
        "ax1.set_ylim([0,110000])\n",
        "\n",
        "sns.histplot(covid_age_women['age'], kde = False, bins = 50, color = 'deeppink', ax = ax2)\n",
        "ax2.title.set_text(\"การกระจายตัวของจำนวนผู้ติดเชื้อในเพศหญิง\")\n",
        "ax2.set_ylim([0,110000])\n",
        "\n",
        "plt.tight_layout()\n",
        "ax1.grid(False)\n",
        "ax2.grid(False)\n",
        "plt.grid(False)\n",
        "plt.legend()\n",
        "plt.show()"
      ],
      "metadata": {
        "colab": {
          "base_uri": "https://localhost:8080/",
          "height": 382
        },
        "id": "cWgNj0G1ihR1",
        "outputId": "955b9a07-cd47-4775-b877-cd5c1def2bde"
      },
      "execution_count": null,
      "outputs": [
        {
          "output_type": "stream",
          "name": "stderr",
          "text": [
            "No handles with labels found to put in legend.\n"
          ]
        },
        {
          "output_type": "display_data",
          "data": {
            "text/plain": [
              "<Figure size 1080x360 with 2 Axes>"
            ],
            "image/png": "[encoded data removed]"
          },
          "metadata": {
            "needs_background": "light"
          }
        }
      ]
    },
    {
      "cell_type": "markdown",
      "source": [
        "- การกระจายตัวของตัวเลขผู้ติดเชื้อในแต่ละอายุของเพศชายและเพศหญิง ไม่แตกต่างกัน"
      ],
      "metadata": {
        "id": "os0_LpmJge8T"
      }
    },
    {
      "cell_type": "markdown",
      "source": [
        "## Explore Nationality"
      ],
      "metadata": {
        "id": "ZHehcMlySE5N"
      }
    },
    {
      "cell_type": "markdown",
      "source": [
        "สร้าง dataframe ใหม่ชื่อว่า covid_nation เพื่อเก็บค่าจำนวนผู้ติดเชื้อในแต่เชื้อชาติ"
      ],
      "metadata": {
        "id": "uDezHFiLTwPb"
      }
    },
    {
      "cell_type": "code",
      "source": [
        "covid_nation = df_cleaned.groupby('nationality')[['count']].count()\n",
        "covid_nation = covid_nation.reset_index()"
      ],
      "metadata": {
        "id": "Uf9F_BB0QZm-"
      },
      "execution_count": null,
      "outputs": []
    },
    {
      "cell_type": "markdown",
      "source": [
        "- ดูเชื้อชาติที่มีการติดเชื้อมากที่สุด 10 อันดับแรก\n",
        "- โดยทำการตัดค่าที่ไม่ระบุ หรือ null values ออกก่อนการวิเคราะห์"
      ],
      "metadata": {
        "id": "nYgdB11QUOu6"
      }
    },
    {
      "cell_type": "code",
      "source": [
        "covid_nation = covid_nation[covid_nation['nationality'].isin(['ไม่ระบุ']) == False]\n",
        "covid_nation['percent'] = (covid_nation['count']/(covid_nation['count'].sum()))*100\n",
        "covid_nation.sort_values('count', ascending = False).head(10)"
      ],
      "metadata": {
        "colab": {
          "base_uri": "https://localhost:8080/",
          "height": 363
        },
        "id": "v_WIxCiwSh0D",
        "outputId": "3975664a-c1e8-46a5-a5b5-f5ee1bf01278"
      },
      "execution_count": null,
      "outputs": [
        {
          "output_type": "execute_result",
          "data": {
            "text/plain": [
              "           nationality    count    percent\n",
              "226               thai  2719792  92.267714\n",
              "38             burmese   152161   5.161993\n",
              "39           cambodian    39637   1.344667\n",
              "129      laotian / lao     9762   0.331171\n",
              "191            russian     3581   0.121484\n",
              "44             chinese     2089   0.070868\n",
              "30   british / english     1528   0.051837\n",
              "81              german     1264   0.042881\n",
              "7             american     1235   0.041897\n",
              "76              french     1224   0.041524"
            ],
            "text/html": [
              "\n",
              "  <div id=\"df-716365c1-4b1f-407c-85c2-b21af061a58b\">\n",
              "    <div class=\"colab-df-container\">\n",
              "      <div>\n",
              "<style scoped>\n",
              "    .dataframe tbody tr th:only-of-type {\n",
              "        vertical-align: middle;\n",
              "    }\n",
              "\n",
              "    .dataframe tbody tr th {\n",
              "        vertical-align: top;\n",
              "    }\n",
              "\n",
              "    .dataframe thead th {\n",
              "        text-align: right;\n",
              "    }\n",
              "</style>\n",
              "<table border=\"1\" class=\"dataframe\">\n",
              "  <thead>\n",
              "    <tr style=\"text-align: right;\">\n",
              "      <th></th>\n",
              "      <th>nationality</th>\n",
              "      <th>count</th>\n",
              "      <th>percent</th>\n",
              "    </tr>\n",
              "  </thead>\n",
              "  <tbody>\n",
              "    <tr>\n",
              "      <th>226</th>\n",
              "      <td>thai</td>\n",
              "      <td>2719792</td>\n",
              "      <td>92.267714</td>\n",
              "    </tr>\n",
              "    <tr>\n",
              "      <th>38</th>\n",
              "      <td>burmese</td>\n",
              "      <td>152161</td>\n",
              "      <td>5.161993</td>\n",
              "    </tr>\n",
              "    <tr>\n",
              "      <th>39</th>\n",
              "      <td>cambodian</td>\n",
              "      <td>39637</td>\n",
              "      <td>1.344667</td>\n",
              "    </tr>\n",
              "    <tr>\n",
              "      <th>129</th>\n",
              "      <td>laotian / lao</td>\n",
              "      <td>9762</td>\n",
              "      <td>0.331171</td>\n",
              "    </tr>\n",
              "    <tr>\n",
              "      <th>191</th>\n",
              "      <td>russian</td>\n",
              "      <td>3581</td>\n",
              "      <td>0.121484</td>\n",
              "    </tr>\n",
              "    <tr>\n",
              "      <th>44</th>\n",
              "      <td>chinese</td>\n",
              "      <td>2089</td>\n",
              "      <td>0.070868</td>\n",
              "    </tr>\n",
              "    <tr>\n",
              "      <th>30</th>\n",
              "      <td>british / english</td>\n",
              "      <td>1528</td>\n",
              "      <td>0.051837</td>\n",
              "    </tr>\n",
              "    <tr>\n",
              "      <th>81</th>\n",
              "      <td>german</td>\n",
              "      <td>1264</td>\n",
              "      <td>0.042881</td>\n",
              "    </tr>\n",
              "    <tr>\n",
              "      <th>7</th>\n",
              "      <td>american</td>\n",
              "      <td>1235</td>\n",
              "      <td>0.041897</td>\n",
              "    </tr>\n",
              "    <tr>\n",
              "      <th>76</th>\n",
              "      <td>french</td>\n",
              "      <td>1224</td>\n",
              "      <td>0.041524</td>\n",
              "    </tr>\n",
              "  </tbody>\n",
              "</table>\n",
              "</div>\n",
              "      <button class=\"colab-df-convert\" onclick=\"convertToInteractive('df-716365c1-4b1f-407c-85c2-b21af061a58b')\"\n",
              "              title=\"Convert this dataframe to an interactive table.\"\n",
              "              style=\"display:none;\">\n",
              "        \n",
              "  <svg xmlns=\"http://www.w3.org/2000/svg\" height=\"24px\"viewBox=\"0 0 24 24\"\n",
              "       width=\"24px\">\n",
              "    <path d=\"M0 0h24v24H0V0z\" fill=\"none\"/>\n",
              "    <path d=\"M18.56 5.44l.94 2.06.94-2.06 2.06-.94-2.06-.94-.94-2.06-.94 2.06-2.06.94zm-11 1L8.5 8.5l.94-2.06 2.06-.94-2.06-.94L8.5 2.5l-.94 2.06-2.06.94zm10 10l.94 2.06.94-2.06 2.06-.94-2.06-.94-.94-2.06-.94 2.06-2.06.94z\"/><path d=\"M17.41 7.96l-1.37-1.37c-.4-.4-.92-.59-1.43-.59-.52 0-1.04.2-1.43.59L10.3 9.45l-7.72 7.72c-.78.78-.78 2.05 0 2.83L4 21.41c.39.39.9.59 1.41.59.51 0 1.02-.2 1.41-.59l7.78-7.78 2.81-2.81c.8-.78.8-2.07 0-2.86zM5.41 20L4 18.59l7.72-7.72 1.47 1.35L5.41 20z\"/>\n",
              "  </svg>\n",
              "      </button>\n",
              "      \n",
              "  <style>\n",
              "    .colab-df-container {\n",
              "      display:flex;\n",
              "      flex-wrap:wrap;\n",
              "      gap: 12px;\n",
              "    }\n",
              "\n",
              "    .colab-df-convert {\n",
              "      background-color: #E8F0FE;\n",
              "      border: none;\n",
              "      border-radius: 50%;\n",
              "      cursor: pointer;\n",
              "      display: none;\n",
              "      fill: #1967D2;\n",
              "      height: 32px;\n",
              "      padding: 0 0 0 0;\n",
              "      width: 32px;\n",
              "    }\n",
              "\n",
              "    .colab-df-convert:hover {\n",
              "      background-color: #E2EBFA;\n",
              "      box-shadow: 0px 1px 2px rgba(60, 64, 67, 0.3), 0px 1px 3px 1px rgba(60, 64, 67, 0.15);\n",
              "      fill: #174EA6;\n",
              "    }\n",
              "\n",
              "    [theme=dark] .colab-df-convert {\n",
              "      background-color: #3B4455;\n",
              "      fill: #D2E3FC;\n",
              "    }\n",
              "\n",
              "    [theme=dark] .colab-df-convert:hover {\n",
              "      background-color: #434B5C;\n",
              "      box-shadow: 0px 1px 3px 1px rgba(0, 0, 0, 0.15);\n",
              "      filter: drop-shadow(0px 1px 2px rgba(0, 0, 0, 0.3));\n",
              "      fill: #FFFFFF;\n",
              "    }\n",
              "  </style>\n",
              "\n",
              "      <script>\n",
              "        const buttonEl =\n",
              "          document.querySelector('#df-716365c1-4b1f-407c-85c2-b21af061a58b button.colab-df-convert');\n",
              "        buttonEl.style.display =\n",
              "          google.colab.kernel.accessAllowed ? 'block' : 'none';\n",
              "\n",
              "        async function convertToInteractive(key) {\n",
              "          const element = document.querySelector('#df-716365c1-4b1f-407c-85c2-b21af061a58b');\n",
              "          const dataTable =\n",
              "            await google.colab.kernel.invokeFunction('convertToInteractive',\n",
              "                                                     [key], {});\n",
              "          if (!dataTable) return;\n",
              "\n",
              "          const docLinkHtml = 'Like what you see? Visit the ' +\n",
              "            '<a target=\"_blank\" href=https://colab.research.google.com/notebooks/data_table.ipynb>data table notebook</a>'\n",
              "            + ' to learn more about interactive tables.';\n",
              "          element.innerHTML = '';\n",
              "          dataTable['output_type'] = 'display_data';\n",
              "          await google.colab.output.renderOutput(dataTable, element);\n",
              "          const docLink = document.createElement('div');\n",
              "          docLink.innerHTML = docLinkHtml;\n",
              "          element.appendChild(docLink);\n",
              "        }\n",
              "      </script>\n",
              "    </div>\n",
              "  </div>\n",
              "  "
            ]
          },
          "metadata": {},
          "execution_count": 345
        }
      ]
    },
    {
      "cell_type": "markdown",
      "source": [
        "- จากข้อมูลที่ได้เชื้อชาติที่มีการติดเชื้อมากที่สุดคือ คนไทย ที่จำนวน 2719792 คน คิดเป็นสัดส่วนประมาณ 92%"
      ],
      "metadata": {
        "id": "VNXih1k6U1ri"
      }
    },
    {
      "cell_type": "markdown",
      "source": [
        "## Explore Province of isolation & Province of onset"
      ],
      "metadata": {
        "id": "5F-HQCrLknYB"
      }
    },
    {
      "cell_type": "markdown",
      "source": [
        "สร้าง DataFrame ใหม่ชื่อ covid_onset เพื่อเก็บค่าจำนวนผู้ติดเชื้อในแต่ละจังหวัด ที่ผู้ติดเชื้อเริ่มแสดงอาการป่วย"
      ],
      "metadata": {
        "id": "feBS11o65Gik"
      }
    },
    {
      "cell_type": "code",
      "source": [
        "covid_onset = df_cleaned.groupby('province_of_onset')[['count']].count().sort_values('count', ascending = False)\n",
        "covid_onset['percent'] = (covid_onset['count']/(covid_onset['count'].sum()))*100\n",
        "covid_onset = covid_onset.reset_index()"
      ],
      "metadata": {
        "id": "mR8xZOIW4x28"
      },
      "execution_count": null,
      "outputs": []
    },
    {
      "cell_type": "markdown",
      "source": [
        "สร้าง DataFrame ใหม่ชื่อ covid_iso เพื่อเก็บค่าจำนวนผู้ติดเชื้อที่พักรักษาตัวในจังหวัดต่างๆ"
      ],
      "metadata": {
        "id": "QcIomcAu45xL"
      }
    },
    {
      "cell_type": "code",
      "source": [
        "covid_iso = df_cleaned.groupby('province_of_isolation')[['count']].count().sort_values('count', ascending = False)\n",
        "covid_iso['percent'] = (covid_iso['count']/(covid_iso['count'].sum()))*100\n",
        "covid_iso = covid_iso.reset_index()"
      ],
      "metadata": {
        "id": "2DEBHMeeU_Si"
      },
      "execution_count": null,
      "outputs": []
    },
    {
      "cell_type": "markdown",
      "source": [
        "Plot ข้อมูลทั้งสองชุดออกมา เพื่อทำให้ง่ายต่อการอ่านผลของข้อมูล"
      ],
      "metadata": {
        "id": "7dPPHgkB7XI7"
      }
    },
    {
      "cell_type": "code",
      "source": [
        "fig = plt.figure(figsize=(30,6))\n",
        "onsetPlot = sns.barplot(x = 'province_of_onset',y = 'count',data = covid_onset, palette='crest_r')\n",
        "\n",
        "plt.xlabel(\"Province of onset\")\n",
        "plt.ylabel(\"total_case\")\n",
        "plt.title(\"จังหวัดที่ผู้ติดเชื้อ Covid-19 เรื่องแสดงอาการป่วย\")\n",
        "plt.xticks(rotation = 90)\n",
        "plt.show()"
      ],
      "metadata": {
        "colab": {
          "base_uri": "https://localhost:8080/",
          "height": 493
        },
        "id": "ntFIZN9i5WzS",
        "outputId": "0da9f440-ee4f-455a-e4a1-c906981262fa"
      },
      "execution_count": null,
      "outputs": [
        {
          "output_type": "display_data",
          "data": {
            "text/plain": [
              "<Figure size 2160x432 with 1 Axes>"
            ],
            "image/png": "[encoded data removed]"
          },
          "metadata": {
            "needs_background": "light"
          }
        }
      ]
    },
    {
      "cell_type": "code",
      "source": [
        "fig = plt.figure(figsize=(30,6))\n",
        "isoPlot = sns.barplot(x = 'province_of_isolation',y = 'count',data = covid_iso, palette='rocket')\n",
        "\n",
        "plt.xlabel(\"Province of isolation\")\n",
        "plt.ylabel(\"total_case\")\n",
        "plt.title(\"จังหวัดที่รักษาตัวของผู้ติดเชื้อ Covid-19\")\n",
        "plt.xticks(rotation = 90)\n",
        "plt.show()"
      ],
      "metadata": {
        "colab": {
          "base_uri": "https://localhost:8080/",
          "height": 493
        },
        "id": "FhxahXBsz1Bi",
        "outputId": "1ff9b9d8-6abe-48c1-c6af-cd59a9565181"
      },
      "execution_count": null,
      "outputs": [
        {
          "output_type": "display_data",
          "data": {
            "text/plain": [
              "<Figure size 2160x432 with 1 Axes>"
            ],
            "image/png": "[encoded data removed]"
          },
          "metadata": {
            "needs_background": "light"
          }
        }
      ]
    },
    {
      "cell_type": "markdown",
      "source": [
        "- จากกราฟทั้ง 2 จะเห็นว่าจะมีแค่บางจังหวัดเท่าที่ค่าโดดเด่นขึ้นมากว่าจังหวัดอื่นๆ\n",
        "- ดังนั้นจึงจะมาดู 10 อันดับแรกที่มีผู้ติดเชื้อมากที่สุด"
      ],
      "metadata": {
        "id": "xFBkrU8n7pCR"
      }
    },
    {
      "cell_type": "code",
      "source": [
        "covid_onset10 = covid_onset[covid_onset['province_of_onset'].isin(['ไม่ระบุ']) == False].head(10)\n",
        "covid_onset10"
      ],
      "metadata": {
        "colab": {
          "base_uri": "https://localhost:8080/",
          "height": 363
        },
        "id": "X3mGhICS3Wvx",
        "outputId": "0c91dba2-db9b-4f5d-9edf-4a9c7c6f4519"
      },
      "execution_count": null,
      "outputs": [
        {
          "output_type": "execute_result",
          "data": {
            "text/plain": [
              "   province_of_onset   count    percent\n",
              "0      กรุงเทพมหานคร  557926  17.290932\n",
              "2        สมุทรปราการ  181495   5.624792\n",
              "3             ชลบุรี  169920   5.266066\n",
              "4          สมุทรสาคร  118507   3.672703\n",
              "5            นนทบุรี  115425   3.577187\n",
              "6           ปทุมธานี   83696   2.593860\n",
              "7              สงขลา   76341   2.365918\n",
              "8              ระยอง   73625   2.281745\n",
              "9             นครปฐม   67407   2.089040\n",
              "10     นครศรีธรรมราช   57562   1.783930"
            ],
            "text/html": [
              "\n",
              "  <div id=\"df-2a95ade9-df1a-409c-b672-5a49d5075086\">\n",
              "    <div class=\"colab-df-container\">\n",
              "      <div>\n",
              "<style scoped>\n",
              "    .dataframe tbody tr th:only-of-type {\n",
              "        vertical-align: middle;\n",
              "    }\n",
              "\n",
              "    .dataframe tbody tr th {\n",
              "        vertical-align: top;\n",
              "    }\n",
              "\n",
              "    .dataframe thead th {\n",
              "        text-align: right;\n",
              "    }\n",
              "</style>\n",
              "<table border=\"1\" class=\"dataframe\">\n",
              "  <thead>\n",
              "    <tr style=\"text-align: right;\">\n",
              "      <th></th>\n",
              "      <th>province_of_onset</th>\n",
              "      <th>count</th>\n",
              "      <th>percent</th>\n",
              "    </tr>\n",
              "  </thead>\n",
              "  <tbody>\n",
              "    <tr>\n",
              "      <th>0</th>\n",
              "      <td>กรุงเทพมหานคร</td>\n",
              "      <td>557926</td>\n",
              "      <td>17.290932</td>\n",
              "    </tr>\n",
              "    <tr>\n",
              "      <th>2</th>\n",
              "      <td>สมุทรปราการ</td>\n",
              "      <td>181495</td>\n",
              "      <td>5.624792</td>\n",
              "    </tr>\n",
              "    <tr>\n",
              "      <th>3</th>\n",
              "      <td>ชลบุรี</td>\n",
              "      <td>169920</td>\n",
              "      <td>5.266066</td>\n",
              "    </tr>\n",
              "    <tr>\n",
              "      <th>4</th>\n",
              "      <td>สมุทรสาคร</td>\n",
              "      <td>118507</td>\n",
              "      <td>3.672703</td>\n",
              "    </tr>\n",
              "    <tr>\n",
              "      <th>5</th>\n",
              "      <td>นนทบุรี</td>\n",
              "      <td>115425</td>\n",
              "      <td>3.577187</td>\n",
              "    </tr>\n",
              "    <tr>\n",
              "      <th>6</th>\n",
              "      <td>ปทุมธานี</td>\n",
              "      <td>83696</td>\n",
              "      <td>2.593860</td>\n",
              "    </tr>\n",
              "    <tr>\n",
              "      <th>7</th>\n",
              "      <td>สงขลา</td>\n",
              "      <td>76341</td>\n",
              "      <td>2.365918</td>\n",
              "    </tr>\n",
              "    <tr>\n",
              "      <th>8</th>\n",
              "      <td>ระยอง</td>\n",
              "      <td>73625</td>\n",
              "      <td>2.281745</td>\n",
              "    </tr>\n",
              "    <tr>\n",
              "      <th>9</th>\n",
              "      <td>นครปฐม</td>\n",
              "      <td>67407</td>\n",
              "      <td>2.089040</td>\n",
              "    </tr>\n",
              "    <tr>\n",
              "      <th>10</th>\n",
              "      <td>นครศรีธรรมราช</td>\n",
              "      <td>57562</td>\n",
              "      <td>1.783930</td>\n",
              "    </tr>\n",
              "  </tbody>\n",
              "</table>\n",
              "</div>\n",
              "      <button class=\"colab-df-convert\" onclick=\"convertToInteractive('df-2a95ade9-df1a-409c-b672-5a49d5075086')\"\n",
              "              title=\"Convert this dataframe to an interactive table.\"\n",
              "              style=\"display:none;\">\n",
              "        \n",
              "  <svg xmlns=\"http://www.w3.org/2000/svg\" height=\"24px\"viewBox=\"0 0 24 24\"\n",
              "       width=\"24px\">\n",
              "    <path d=\"M0 0h24v24H0V0z\" fill=\"none\"/>\n",
              "    <path d=\"M18.56 5.44l.94 2.06.94-2.06 2.06-.94-2.06-.94-.94-2.06-.94 2.06-2.06.94zm-11 1L8.5 8.5l.94-2.06 2.06-.94-2.06-.94L8.5 2.5l-.94 2.06-2.06.94zm10 10l.94 2.06.94-2.06 2.06-.94-2.06-.94-.94-2.06-.94 2.06-2.06.94z\"/><path d=\"M17.41 7.96l-1.37-1.37c-.4-.4-.92-.59-1.43-.59-.52 0-1.04.2-1.43.59L10.3 9.45l-7.72 7.72c-.78.78-.78 2.05 0 2.83L4 21.41c.39.39.9.59 1.41.59.51 0 1.02-.2 1.41-.59l7.78-7.78 2.81-2.81c.8-.78.8-2.07 0-2.86zM5.41 20L4 18.59l7.72-7.72 1.47 1.35L5.41 20z\"/>\n",
              "  </svg>\n",
              "      </button>\n",
              "      \n",
              "  <style>\n",
              "    .colab-df-container {\n",
              "      display:flex;\n",
              "      flex-wrap:wrap;\n",
              "      gap: 12px;\n",
              "    }\n",
              "\n",
              "    .colab-df-convert {\n",
              "      background-color: #E8F0FE;\n",
              "      border: none;\n",
              "      border-radius: 50%;\n",
              "      cursor: pointer;\n",
              "      display: none;\n",
              "      fill: #1967D2;\n",
              "      height: 32px;\n",
              "      padding: 0 0 0 0;\n",
              "      width: 32px;\n",
              "    }\n",
              "\n",
              "    .colab-df-convert:hover {\n",
              "      background-color: #E2EBFA;\n",
              "      box-shadow: 0px 1px 2px rgba(60, 64, 67, 0.3), 0px 1px 3px 1px rgba(60, 64, 67, 0.15);\n",
              "      fill: #174EA6;\n",
              "    }\n",
              "\n",
              "    [theme=dark] .colab-df-convert {\n",
              "      background-color: #3B4455;\n",
              "      fill: #D2E3FC;\n",
              "    }\n",
              "\n",
              "    [theme=dark] .colab-df-convert:hover {\n",
              "      background-color: #434B5C;\n",
              "      box-shadow: 0px 1px 3px 1px rgba(0, 0, 0, 0.15);\n",
              "      filter: drop-shadow(0px 1px 2px rgba(0, 0, 0, 0.3));\n",
              "      fill: #FFFFFF;\n",
              "    }\n",
              "  </style>\n",
              "\n",
              "      <script>\n",
              "        const buttonEl =\n",
              "          document.querySelector('#df-2a95ade9-df1a-409c-b672-5a49d5075086 button.colab-df-convert');\n",
              "        buttonEl.style.display =\n",
              "          google.colab.kernel.accessAllowed ? 'block' : 'none';\n",
              "\n",
              "        async function convertToInteractive(key) {\n",
              "          const element = document.querySelector('#df-2a95ade9-df1a-409c-b672-5a49d5075086');\n",
              "          const dataTable =\n",
              "            await google.colab.kernel.invokeFunction('convertToInteractive',\n",
              "                                                     [key], {});\n",
              "          if (!dataTable) return;\n",
              "\n",
              "          const docLinkHtml = 'Like what you see? Visit the ' +\n",
              "            '<a target=\"_blank\" href=https://colab.research.google.com/notebooks/data_table.ipynb>data table notebook</a>'\n",
              "            + ' to learn more about interactive tables.';\n",
              "          element.innerHTML = '';\n",
              "          dataTable['output_type'] = 'display_data';\n",
              "          await google.colab.output.renderOutput(dataTable, element);\n",
              "          const docLink = document.createElement('div');\n",
              "          docLink.innerHTML = docLinkHtml;\n",
              "          element.appendChild(docLink);\n",
              "        }\n",
              "      </script>\n",
              "    </div>\n",
              "  </div>\n",
              "  "
            ]
          },
          "metadata": {},
          "execution_count": 379
        }
      ]
    },
    {
      "cell_type": "code",
      "source": [
        "covid_iso10 = covid_iso[covid_iso['province_of_isolation'].isin(['ไม่ระบุ']) == False].head(10)\n",
        "covid_iso10"
      ],
      "metadata": {
        "colab": {
          "base_uri": "https://localhost:8080/",
          "height": 363
        },
        "id": "6lwDApYV3RdM",
        "outputId": "16befa3b-3bb5-4c23-c2d9-a6b09317a891"
      },
      "execution_count": null,
      "outputs": [
        {
          "output_type": "execute_result",
          "data": {
            "text/plain": [
              "  province_of_isolation   count    percent\n",
              "0         กรุงเทพมหานคร  614764  19.052424\n",
              "1           สมุทรปราการ  194725   6.034809\n",
              "2                ชลบุรี  173656   5.381850\n",
              "3             สมุทรสาคร  137175   4.251251\n",
              "4               นนทบุรี  109449   3.391983\n",
              "5         นครศรีธรรมราช   83217   2.579015\n",
              "6                 สงขลา   79692   2.469770\n",
              "7              ปทุมธานี   66620   2.064650\n",
              "8                 ระยอง   66606   2.064216\n",
              "9               ราชบุรี   64473   1.998111"
            ],
            "text/html": [
              "\n",
              "  <div id=\"df-a32bb5a4-8bd2-4073-b83b-a9c5244a88da\">\n",
              "    <div class=\"colab-df-container\">\n",
              "      <div>\n",
              "<style scoped>\n",
              "    .dataframe tbody tr th:only-of-type {\n",
              "        vertical-align: middle;\n",
              "    }\n",
              "\n",
              "    .dataframe tbody tr th {\n",
              "        vertical-align: top;\n",
              "    }\n",
              "\n",
              "    .dataframe thead th {\n",
              "        text-align: right;\n",
              "    }\n",
              "</style>\n",
              "<table border=\"1\" class=\"dataframe\">\n",
              "  <thead>\n",
              "    <tr style=\"text-align: right;\">\n",
              "      <th></th>\n",
              "      <th>province_of_isolation</th>\n",
              "      <th>count</th>\n",
              "      <th>percent</th>\n",
              "    </tr>\n",
              "  </thead>\n",
              "  <tbody>\n",
              "    <tr>\n",
              "      <th>0</th>\n",
              "      <td>กรุงเทพมหานคร</td>\n",
              "      <td>614764</td>\n",
              "      <td>19.052424</td>\n",
              "    </tr>\n",
              "    <tr>\n",
              "      <th>1</th>\n",
              "      <td>สมุทรปราการ</td>\n",
              "      <td>194725</td>\n",
              "      <td>6.034809</td>\n",
              "    </tr>\n",
              "    <tr>\n",
              "      <th>2</th>\n",
              "      <td>ชลบุรี</td>\n",
              "      <td>173656</td>\n",
              "      <td>5.381850</td>\n",
              "    </tr>\n",
              "    <tr>\n",
              "      <th>3</th>\n",
              "      <td>สมุทรสาคร</td>\n",
              "      <td>137175</td>\n",
              "      <td>4.251251</td>\n",
              "    </tr>\n",
              "    <tr>\n",
              "      <th>4</th>\n",
              "      <td>นนทบุรี</td>\n",
              "      <td>109449</td>\n",
              "      <td>3.391983</td>\n",
              "    </tr>\n",
              "    <tr>\n",
              "      <th>5</th>\n",
              "      <td>นครศรีธรรมราช</td>\n",
              "      <td>83217</td>\n",
              "      <td>2.579015</td>\n",
              "    </tr>\n",
              "    <tr>\n",
              "      <th>6</th>\n",
              "      <td>สงขลา</td>\n",
              "      <td>79692</td>\n",
              "      <td>2.469770</td>\n",
              "    </tr>\n",
              "    <tr>\n",
              "      <th>7</th>\n",
              "      <td>ปทุมธานี</td>\n",
              "      <td>66620</td>\n",
              "      <td>2.064650</td>\n",
              "    </tr>\n",
              "    <tr>\n",
              "      <th>8</th>\n",
              "      <td>ระยอง</td>\n",
              "      <td>66606</td>\n",
              "      <td>2.064216</td>\n",
              "    </tr>\n",
              "    <tr>\n",
              "      <th>9</th>\n",
              "      <td>ราชบุรี</td>\n",
              "      <td>64473</td>\n",
              "      <td>1.998111</td>\n",
              "    </tr>\n",
              "  </tbody>\n",
              "</table>\n",
              "</div>\n",
              "      <button class=\"colab-df-convert\" onclick=\"convertToInteractive('df-a32bb5a4-8bd2-4073-b83b-a9c5244a88da')\"\n",
              "              title=\"Convert this dataframe to an interactive table.\"\n",
              "              style=\"display:none;\">\n",
              "        \n",
              "  <svg xmlns=\"http://www.w3.org/2000/svg\" height=\"24px\"viewBox=\"0 0 24 24\"\n",
              "       width=\"24px\">\n",
              "    <path d=\"M0 0h24v24H0V0z\" fill=\"none\"/>\n",
              "    <path d=\"M18.56 5.44l.94 2.06.94-2.06 2.06-.94-2.06-.94-.94-2.06-.94 2.06-2.06.94zm-11 1L8.5 8.5l.94-2.06 2.06-.94-2.06-.94L8.5 2.5l-.94 2.06-2.06.94zm10 10l.94 2.06.94-2.06 2.06-.94-2.06-.94-.94-2.06-.94 2.06-2.06.94z\"/><path d=\"M17.41 7.96l-1.37-1.37c-.4-.4-.92-.59-1.43-.59-.52 0-1.04.2-1.43.59L10.3 9.45l-7.72 7.72c-.78.78-.78 2.05 0 2.83L4 21.41c.39.39.9.59 1.41.59.51 0 1.02-.2 1.41-.59l7.78-7.78 2.81-2.81c.8-.78.8-2.07 0-2.86zM5.41 20L4 18.59l7.72-7.72 1.47 1.35L5.41 20z\"/>\n",
              "  </svg>\n",
              "      </button>\n",
              "      \n",
              "  <style>\n",
              "    .colab-df-container {\n",
              "      display:flex;\n",
              "      flex-wrap:wrap;\n",
              "      gap: 12px;\n",
              "    }\n",
              "\n",
              "    .colab-df-convert {\n",
              "      background-color: #E8F0FE;\n",
              "      border: none;\n",
              "      border-radius: 50%;\n",
              "      cursor: pointer;\n",
              "      display: none;\n",
              "      fill: #1967D2;\n",
              "      height: 32px;\n",
              "      padding: 0 0 0 0;\n",
              "      width: 32px;\n",
              "    }\n",
              "\n",
              "    .colab-df-convert:hover {\n",
              "      background-color: #E2EBFA;\n",
              "      box-shadow: 0px 1px 2px rgba(60, 64, 67, 0.3), 0px 1px 3px 1px rgba(60, 64, 67, 0.15);\n",
              "      fill: #174EA6;\n",
              "    }\n",
              "\n",
              "    [theme=dark] .colab-df-convert {\n",
              "      background-color: #3B4455;\n",
              "      fill: #D2E3FC;\n",
              "    }\n",
              "\n",
              "    [theme=dark] .colab-df-convert:hover {\n",
              "      background-color: #434B5C;\n",
              "      box-shadow: 0px 1px 3px 1px rgba(0, 0, 0, 0.15);\n",
              "      filter: drop-shadow(0px 1px 2px rgba(0, 0, 0, 0.3));\n",
              "      fill: #FFFFFF;\n",
              "    }\n",
              "  </style>\n",
              "\n",
              "      <script>\n",
              "        const buttonEl =\n",
              "          document.querySelector('#df-a32bb5a4-8bd2-4073-b83b-a9c5244a88da button.colab-df-convert');\n",
              "        buttonEl.style.display =\n",
              "          google.colab.kernel.accessAllowed ? 'block' : 'none';\n",
              "\n",
              "        async function convertToInteractive(key) {\n",
              "          const element = document.querySelector('#df-a32bb5a4-8bd2-4073-b83b-a9c5244a88da');\n",
              "          const dataTable =\n",
              "            await google.colab.kernel.invokeFunction('convertToInteractive',\n",
              "                                                     [key], {});\n",
              "          if (!dataTable) return;\n",
              "\n",
              "          const docLinkHtml = 'Like what you see? Visit the ' +\n",
              "            '<a target=\"_blank\" href=https://colab.research.google.com/notebooks/data_table.ipynb>data table notebook</a>'\n",
              "            + ' to learn more about interactive tables.';\n",
              "          element.innerHTML = '';\n",
              "          dataTable['output_type'] = 'display_data';\n",
              "          await google.colab.output.renderOutput(dataTable, element);\n",
              "          const docLink = document.createElement('div');\n",
              "          docLink.innerHTML = docLinkHtml;\n",
              "          element.appendChild(docLink);\n",
              "        }\n",
              "      </script>\n",
              "    </div>\n",
              "  </div>\n",
              "  "
            ]
          },
          "metadata": {},
          "execution_count": 380
        }
      ]
    },
    {
      "cell_type": "markdown",
      "source": [
        "- จังหวัดที่มีจำนวนผู้ติดเชื้อมากที่สุด 10 อันดับแรก จากในข้อมูลทั้งสองชุด จะเห็นว่า จังหวัดที่มีจำนวนผู้ติดเชื้อที่เริ่มแสดงอาการและพักรักษาตัวเหมือนกันใน 5 อันดับแรก คือ \n",
        "1.   กรุงเทพมหานคร\n",
        "2.   สมุทรปราการ\n",
        "3.   ชลบุรี\n",
        "4.   สมุทรสาคร\n",
        "5.   นนทบุรี"
      ],
      "metadata": {
        "id": "_uQ4Uw80-51D"
      }
    },
    {
      "cell_type": "markdown",
      "source": [
        "## Explore Risk"
      ],
      "metadata": {
        "id": "UdgqRNZsMkYj"
      }
    },
    {
      "cell_type": "markdown",
      "source": [
        "สร้าง DataFrame ใหม่ชื่อ covid_risk เพื่อเก็บค่าจำนวนผู้ติดเชื้อ ในแต่ละสถานที่ที่ได้รับเชื้อมา"
      ],
      "metadata": {
        "id": "YaiPTCM6NHZV"
      }
    },
    {
      "cell_type": "code",
      "source": [
        "covid_risk = df_cleaned.groupby('risk')[['count']].count().sort_values('count', ascending = False)\n",
        "covid_risk['percent'] = (covid_risk['count']/(covid_risk['count'].sum()))*100\n",
        "covid_risk = covid_risk.reset_index()"
      ],
      "metadata": {
        "id": "A3dYZaG6MmFa"
      },
      "execution_count": null,
      "outputs": []
    },
    {
      "cell_type": "code",
      "source": [
        "covid_risk.head(10)"
      ],
      "metadata": {
        "colab": {
          "base_uri": "https://localhost:8080/",
          "height": 363
        },
        "id": "2ev0WZaJMxY_",
        "outputId": "c0dafe74-a63f-48ce-8d80-cf59a89286f9"
      },
      "execution_count": null,
      "outputs": [
        {
          "output_type": "execute_result",
          "data": {
            "text/plain": [
              "                                               risk    count    percent\n",
              "0       สัมผัสใกล้ชิดกับผู้ป่วยยืนยันรายก่อนหน้านี้  1365955  42.332918\n",
              "1                                             อื่นๆ   924429  28.649390\n",
              "2                              อยู่ระหว่างการสอบสวน   285822   8.858037\n",
              "3  การค้นหาผู้ป่วยเชิงรุกและค้นหาผู้ติดเชื้อในชุมชน   250966   7.777799\n",
              "4                                  ทัณฑสถาน/เรือนจำ    92800   2.876006\n",
              "5                                      สถานที่ทำงาน    90437   2.802773\n",
              "6     ไปสถานที่ชุมชน เช่น ตลาดนัด สถานที่ท่องเที่ยว    76103   2.358542\n",
              "7                                        ระบุไม่ได้    35523   1.100909\n",
              "8                   บุคลากรด้านการแพทย์และสาธารณสุข    19203   0.595129\n",
              "9                                 cluster สมุทรสาคร    17900   0.554747"
            ],
            "text/html": [
              "\n",
              "  <div id=\"df-8c2f52cc-1b1e-490f-9ed1-3b72ee3d33c9\">\n",
              "    <div class=\"colab-df-container\">\n",
              "      <div>\n",
              "<style scoped>\n",
              "    .dataframe tbody tr th:only-of-type {\n",
              "        vertical-align: middle;\n",
              "    }\n",
              "\n",
              "    .dataframe tbody tr th {\n",
              "        vertical-align: top;\n",
              "    }\n",
              "\n",
              "    .dataframe thead th {\n",
              "        text-align: right;\n",
              "    }\n",
              "</style>\n",
              "<table border=\"1\" class=\"dataframe\">\n",
              "  <thead>\n",
              "    <tr style=\"text-align: right;\">\n",
              "      <th></th>\n",
              "      <th>risk</th>\n",
              "      <th>count</th>\n",
              "      <th>percent</th>\n",
              "    </tr>\n",
              "  </thead>\n",
              "  <tbody>\n",
              "    <tr>\n",
              "      <th>0</th>\n",
              "      <td>สัมผัสใกล้ชิดกับผู้ป่วยยืนยันรายก่อนหน้านี้</td>\n",
              "      <td>1365955</td>\n",
              "      <td>42.332918</td>\n",
              "    </tr>\n",
              "    <tr>\n",
              "      <th>1</th>\n",
              "      <td>อื่นๆ</td>\n",
              "      <td>924429</td>\n",
              "      <td>28.649390</td>\n",
              "    </tr>\n",
              "    <tr>\n",
              "      <th>2</th>\n",
              "      <td>อยู่ระหว่างการสอบสวน</td>\n",
              "      <td>285822</td>\n",
              "      <td>8.858037</td>\n",
              "    </tr>\n",
              "    <tr>\n",
              "      <th>3</th>\n",
              "      <td>การค้นหาผู้ป่วยเชิงรุกและค้นหาผู้ติดเชื้อในชุมชน</td>\n",
              "      <td>250966</td>\n",
              "      <td>7.777799</td>\n",
              "    </tr>\n",
              "    <tr>\n",
              "      <th>4</th>\n",
              "      <td>ทัณฑสถาน/เรือนจำ</td>\n",
              "      <td>92800</td>\n",
              "      <td>2.876006</td>\n",
              "    </tr>\n",
              "    <tr>\n",
              "      <th>5</th>\n",
              "      <td>สถานที่ทำงาน</td>\n",
              "      <td>90437</td>\n",
              "      <td>2.802773</td>\n",
              "    </tr>\n",
              "    <tr>\n",
              "      <th>6</th>\n",
              "      <td>ไปสถานที่ชุมชน เช่น ตลาดนัด สถานที่ท่องเที่ยว</td>\n",
              "      <td>76103</td>\n",
              "      <td>2.358542</td>\n",
              "    </tr>\n",
              "    <tr>\n",
              "      <th>7</th>\n",
              "      <td>ระบุไม่ได้</td>\n",
              "      <td>35523</td>\n",
              "      <td>1.100909</td>\n",
              "    </tr>\n",
              "    <tr>\n",
              "      <th>8</th>\n",
              "      <td>บุคลากรด้านการแพทย์และสาธารณสุข</td>\n",
              "      <td>19203</td>\n",
              "      <td>0.595129</td>\n",
              "    </tr>\n",
              "    <tr>\n",
              "      <th>9</th>\n",
              "      <td>cluster สมุทรสาคร</td>\n",
              "      <td>17900</td>\n",
              "      <td>0.554747</td>\n",
              "    </tr>\n",
              "  </tbody>\n",
              "</table>\n",
              "</div>\n",
              "      <button class=\"colab-df-convert\" onclick=\"convertToInteractive('df-8c2f52cc-1b1e-490f-9ed1-3b72ee3d33c9')\"\n",
              "              title=\"Convert this dataframe to an interactive table.\"\n",
              "              style=\"display:none;\">\n",
              "        \n",
              "  <svg xmlns=\"http://www.w3.org/2000/svg\" height=\"24px\"viewBox=\"0 0 24 24\"\n",
              "       width=\"24px\">\n",
              "    <path d=\"M0 0h24v24H0V0z\" fill=\"none\"/>\n",
              "    <path d=\"M18.56 5.44l.94 2.06.94-2.06 2.06-.94-2.06-.94-.94-2.06-.94 2.06-2.06.94zm-11 1L8.5 8.5l.94-2.06 2.06-.94-2.06-.94L8.5 2.5l-.94 2.06-2.06.94zm10 10l.94 2.06.94-2.06 2.06-.94-2.06-.94-.94-2.06-.94 2.06-2.06.94z\"/><path d=\"M17.41 7.96l-1.37-1.37c-.4-.4-.92-.59-1.43-.59-.52 0-1.04.2-1.43.59L10.3 9.45l-7.72 7.72c-.78.78-.78 2.05 0 2.83L4 21.41c.39.39.9.59 1.41.59.51 0 1.02-.2 1.41-.59l7.78-7.78 2.81-2.81c.8-.78.8-2.07 0-2.86zM5.41 20L4 18.59l7.72-7.72 1.47 1.35L5.41 20z\"/>\n",
              "  </svg>\n",
              "      </button>\n",
              "      \n",
              "  <style>\n",
              "    .colab-df-container {\n",
              "      display:flex;\n",
              "      flex-wrap:wrap;\n",
              "      gap: 12px;\n",
              "    }\n",
              "\n",
              "    .colab-df-convert {\n",
              "      background-color: #E8F0FE;\n",
              "      border: none;\n",
              "      border-radius: 50%;\n",
              "      cursor: pointer;\n",
              "      display: none;\n",
              "      fill: #1967D2;\n",
              "      height: 32px;\n",
              "      padding: 0 0 0 0;\n",
              "      width: 32px;\n",
              "    }\n",
              "\n",
              "    .colab-df-convert:hover {\n",
              "      background-color: #E2EBFA;\n",
              "      box-shadow: 0px 1px 2px rgba(60, 64, 67, 0.3), 0px 1px 3px 1px rgba(60, 64, 67, 0.15);\n",
              "      fill: #174EA6;\n",
              "    }\n",
              "\n",
              "    [theme=dark] .colab-df-convert {\n",
              "      background-color: #3B4455;\n",
              "      fill: #D2E3FC;\n",
              "    }\n",
              "\n",
              "    [theme=dark] .colab-df-convert:hover {\n",
              "      background-color: #434B5C;\n",
              "      box-shadow: 0px 1px 3px 1px rgba(0, 0, 0, 0.15);\n",
              "      filter: drop-shadow(0px 1px 2px rgba(0, 0, 0, 0.3));\n",
              "      fill: #FFFFFF;\n",
              "    }\n",
              "  </style>\n",
              "\n",
              "      <script>\n",
              "        const buttonEl =\n",
              "          document.querySelector('#df-8c2f52cc-1b1e-490f-9ed1-3b72ee3d33c9 button.colab-df-convert');\n",
              "        buttonEl.style.display =\n",
              "          google.colab.kernel.accessAllowed ? 'block' : 'none';\n",
              "\n",
              "        async function convertToInteractive(key) {\n",
              "          const element = document.querySelector('#df-8c2f52cc-1b1e-490f-9ed1-3b72ee3d33c9');\n",
              "          const dataTable =\n",
              "            await google.colab.kernel.invokeFunction('convertToInteractive',\n",
              "                                                     [key], {});\n",
              "          if (!dataTable) return;\n",
              "\n",
              "          const docLinkHtml = 'Like what you see? Visit the ' +\n",
              "            '<a target=\"_blank\" href=https://colab.research.google.com/notebooks/data_table.ipynb>data table notebook</a>'\n",
              "            + ' to learn more about interactive tables.';\n",
              "          element.innerHTML = '';\n",
              "          dataTable['output_type'] = 'display_data';\n",
              "          await google.colab.output.renderOutput(dataTable, element);\n",
              "          const docLink = document.createElement('div');\n",
              "          docLink.innerHTML = docLinkHtml;\n",
              "          element.appendChild(docLink);\n",
              "        }\n",
              "      </script>\n",
              "    </div>\n",
              "  </div>\n",
              "  "
            ]
          },
          "metadata": {},
          "execution_count": 397
        }
      ]
    },
    {
      "cell_type": "markdown",
      "source": [
        "- จากข้อมูล 10 อันดับความเสี่ยงหรือพื้นที่เสี่ยงที่ผู้ติดเชื้อได้รับเชื้อมา กว่า 42% เป็นการรับเชื้อต่อๆกันมาจากผู้ที่ติดเชื้อคนก่อนหน้า\n",
        "- สถานที่ที่คนติดเชื้อกันมากที่สุดคือตามชุมชน ซึ่งตรวจพบจากการค้นหาเชิงรุก คิดเป็นสัดส่วน 7.77%\n",
        "- รองลงมาคือ เรือนจำ สถานที่ทำงาน สถานที่ชุมชนต่างๆ ตามลำดับ คิดเป็นสัดส่วนประมาณ 2%"
      ],
      "metadata": {
        "id": "-EuHJE4Gvv20"
      }
    },
    {
      "cell_type": "markdown",
      "source": [
        "# Insight From Data"
      ],
      "metadata": {
        "id": "cBjx6XjV09Y6"
      }
    },
    {
      "cell_type": "markdown",
      "source": [
        "## Demographic Insights"
      ],
      "metadata": {
        "id": "AyQrQEzf1Z9-"
      }
    },
    {
      "cell_type": "code",
      "source": [
        "fig = plt.figure(figsize=(15,6))\n",
        "ax = sns.barplot(x='month',y='total_case',data=covid_count, palette='hls')\n",
        "#sns.lineplot(x='month',y='total_case', data=covid_count, marker='o', markerfacecolor='darkorange', markersize=6, color='lightslategray', linewidth=2)\n",
        "for p in ax.patches:\n",
        "        ax.annotate('{:.0f}'.format(p.get_height()), (p.get_x()+0.4, p.get_height()),\n",
        "                    ha='center', va='bottom',\n",
        "                    color= 'black')\n",
        "plt.xlabel(\"Month\")\n",
        "plt.ylabel(\"total_case\")\n",
        "plt.title(\"จำนวนผู้ติดเชื้อ Covid-19 ในแต่ละเดือน\")\n",
        "plt.xticks(rotation = 45)\n",
        "plt.show()"
      ],
      "metadata": {
        "colab": {
          "base_uri": "https://localhost:8080/",
          "height": 446
        },
        "id": "I2FmItfYKDqO",
        "outputId": "07207f8c-3e38-4efc-ce55-d6be6bc706e4"
      },
      "execution_count": null,
      "outputs": [
        {
          "output_type": "display_data",
          "data": {
            "text/plain": [
              "<Figure size 1080x432 with 1 Axes>"
            ],
            "image/png": "[encoded data removed]"
          },
          "metadata": {
            "needs_background": "light"
          }
        }
      ]
    },
    {
      "cell_type": "markdown",
      "source": [
        "- ข้อมูลจำนวนผู้ติดเชื้อ Covid-19 ตั้งแต่วันที่ 1 มกราคม 2020 ถึง 15 มีนาคม 2022 มีจำนวนทั้งหมด 3226697 records\n",
        "- จากตัวเลขจำนวนผู้ติดเชื้อตั้งแต่มีการบันทึกในประเทศไทย จะเห็นว่ามีแนวโน้วเพิ่มสูงขึ้นเรื่อยๆ จนพีคที่สุดในเดือนสิงหาคมปี 2021 \n",
        "- จากนั้นจำนวนผู้ติดเชื้อก็มีแนวโน้มลดลง อาจจะเนื่องมาจากการฉีดวัคซีนที่มากขึ้น และมีการเฝ้าระวังที่เข้มข้นขึ้น\n",
        "- แต่จากช่วงสิ้นปี 2021 แนวโน้มผู้ติดเชื้อก็กลับมาพุ่งสูงขึ้นอีก เนื่องจากเป็นช่วงที่มีการะบาดของสายพันธุ์ omicron ที่ติดง่ายกว่าสายพันธุ์เดิม และสายพันธุ์เดลต้า"
      ],
      "metadata": {
        "id": "Q_LHjfQZFYlu"
      }
    },
    {
      "cell_type": "code",
      "source": [
        "fig = plt.figure(figsize=(8,6))\n",
        "sexPlot = sns.barplot(x=\"sex\",y='count',data=covid_sex, palette=\"rocket\")\n",
        "for p in sexPlot.patches:\n",
        "        sexPlot.annotate('{:.0f}'.format(p.get_height()), (p.get_x()+0.4, p.get_height()),\n",
        "                    ha='center', va='bottom',\n",
        "                    color= 'black')\n",
        "plt.xlabel(\"Gender\")\n",
        "plt.ylabel(\"total_case (million)\")\n",
        "plt.title(\"จำนวนผู้ติดเชื้อ Covid-19 แยกตามเพศ\")\n",
        "plt.show()"
      ],
      "metadata": {
        "colab": {
          "base_uri": "https://localhost:8080/",
          "height": 424
        },
        "id": "QTY8L47LFvPx",
        "outputId": "1d683de0-ebae-4104-fe30-996d1c570cc5"
      },
      "execution_count": null,
      "outputs": [
        {
          "output_type": "display_data",
          "data": {
            "text/plain": [
              "<Figure size 576x432 with 1 Axes>"
            ],
            "image/png": "[encoded data removed]"
          },
          "metadata": {
            "needs_background": "light"
          }
        }
      ]
    },
    {
      "cell_type": "markdown",
      "source": [
        "จากจำนวนผู้ติดเชื้อทั้งหมด 3226697 คน สามารถจำแนกได้ดังนี้\n",
        "- เพศชาย มีจำนวนทั้งหมด 1440853 คน คิดเป็น 44.64%\n",
        "- เพศหญิง มีจำนวนทั้งหมด 1611148 คน คิดเป็น 49.93%\n",
        "- ไม่ระบุเพศ มีจำนวนทั้งหมด 174696 คน คิดเป็น 5.41%\n",
        "- จากข้อมูลที่ได้รับ จำนวนผู้ติดเชื้อในเพศชายและเพศหญิงมีสัดส่วนไม่ต่างกันมาก"
      ],
      "metadata": {
        "id": "YlOtXcWjM7GT"
      }
    },
    {
      "cell_type": "code",
      "source": [
        "fig = px.histogram(covid_age, x='age',y = 'count', title='Age Distribution of Covid-19 detected', nbins = 100,text_auto=True, color_discrete_sequence=['sandybrown'] )\n",
        "fig.update_layout(bargap=0.1)\n",
        "fig.show()"
      ],
      "metadata": {
        "colab": {
          "base_uri": "https://localhost:8080/",
          "height": 542
        },
        "id": "QD66ApRkOLUA",
        "outputId": "8aa356cf-437e-4562-fc21-adccaef4ae27"
      },
      "execution_count": null,
      "outputs": [
        {
          "output_type": "display_data",
          "data": {
            "text/html": [
              "<html>\n",
              "<head><meta charset=\"utf-8\" /></head>\n",
              "<body>\n",
              "    <div>            <script src=\"https://cdnjs.cloudflare.com/ajax/libs/mathjax/2.7.5/MathJax.js?config=TeX-AMS-MML_SVG\"></script><script type=\"text/javascript\">if (window.MathJax) {MathJax.Hub.Config({SVG: {font: \"STIX-Web\"}});}</script>                <script type=\"text/javascript\">window.PlotlyConfig = {MathJaxConfig: 'local'};</script>\n",
              "        <script src=\"https://cdn.plot.ly/plotly-2.8.3.min.js\"></script>                <div id=\"413f780d-27c2-4deb-b86b-647d857d2134\" class=\"plotly-graph-div\" style=\"height:525px; width:100%;\"></div>            <script type=\"text/javascript\">                                    window.PLOTLYENV=window.PLOTLYENV || {};                                    if (document.getElementById(\"413f780d-27c2-4deb-b86b-647d857d2134\")) {                    Plotly.newPlot(                        \"413f780d-27c2-4deb-b86b-647d857d2134\",                        [{\"alignmentgroup\":\"True\",\"bingroup\":\"x\",\"histfunc\":\"sum\",\"hovertemplate\":\"age=%{x}<br>sum of count=%{y}<extra></extra>\",\"legendgroup\":\"\",\"marker\":{\"color\":\"sandybrown\",\"pattern\":{\"shape\":\"\"}},\"name\":\"\",\"nbinsx\":100,\"offsetgroup\":\"\",\"orientation\":\"v\",\"showlegend\":false,\"texttemplate\":\"%{value}\",\"x\":[1,2,3,4,5,6,7,8,9,11,12,13,14,15,16,17,18,19,21,22,23,24,25,26,27,28,29,31,32,33,34,35,36,37,38,39,41,42,43,44,45,46,47,48,49,51,52,53,54,55,56,57,58,59,61,62,63,64,65,66,67,68,69,71,72,73,74,75,76,77,78,79,81,82,83,84,85,86,87,88,89,91,92,93,94,95,96,97,98,99,111,112,113,114,115,116,117,118],\"xaxis\":\"x\",\"y\":[44546,26023,24715,24242,23981,25263,27030,27916,30040,58052,26888,25844,27393,27602,29001,32536,37107,43502,107901,60821,66648,71436,73438,72214,70547,69879,68978,135745,62354,59017,59292,59591,58940,57321,57148,57332,109563,52316,48851,48542,46042,43662,42689,40904,40938,79815,37749,37572,34960,33011,32095,30921,28503,27650,49157,22022,20323,19735,18468,16778,15711,14751,13620,25092,11161,9499,8524,7625,6647,6509,5939,5638,10040,4544,4307,3647,3402,2783,2443,2020,1739,2517,867,742,527,388,241,183,129,107,126,29,17,21,10,9,7,6],\"yaxis\":\"y\",\"type\":\"histogram\"}],                        {\"template\":{\"data\":{\"bar\":[{\"error_x\":{\"color\":\"#2a3f5f\"},\"error_y\":{\"color\":\"#2a3f5f\"},\"marker\":{\"line\":{\"color\":\"#E5ECF6\",\"width\":0.5},\"pattern\":{\"fillmode\":\"overlay\",\"size\":10,\"solidity\":0.2}},\"type\":\"bar\"}],\"barpolar\":[{\"marker\":{\"line\":{\"color\":\"#E5ECF6\",\"width\":0.5},\"pattern\":{\"fillmode\":\"overlay\",\"size\":10,\"solidity\":0.2}},\"type\":\"barpolar\"}],\"carpet\":[{\"aaxis\":{\"endlinecolor\":\"#2a3f5f\",\"gridcolor\":\"white\",\"linecolor\":\"white\",\"minorgridcolor\":\"white\",\"startlinecolor\":\"#2a3f5f\"},\"baxis\":{\"endlinecolor\":\"#2a3f5f\",\"gridcolor\":\"white\",\"linecolor\":\"white\",\"minorgridcolor\":\"white\",\"startlinecolor\":\"#2a3f5f\"},\"type\":\"carpet\"}],\"choropleth\":[{\"colorbar\":{\"outlinewidth\":0,\"ticks\":\"\"},\"type\":\"choropleth\"}],\"contour\":[{\"colorbar\":{\"outlinewidth\":0,\"ticks\":\"\"},\"colorscale\":[[0.0,\"#0d0887\"],[0.1111111111111111,\"#46039f\"],[0.2222222222222222,\"#7201a8\"],[0.3333333333333333,\"#9c179e\"],[0.4444444444444444,\"#bd3786\"],[0.5555555555555556,\"#d8576b\"],[0.6666666666666666,\"#ed7953\"],[0.7777777777777778,\"#fb9f3a\"],[0.8888888888888888,\"#fdca26\"],[1.0,\"#f0f921\"]],\"type\":\"contour\"}],\"contourcarpet\":[{\"colorbar\":{\"outlinewidth\":0,\"ticks\":\"\"},\"type\":\"contourcarpet\"}],\"heatmap\":[{\"colorbar\":{\"outlinewidth\":0,\"ticks\":\"\"},\"colorscale\":[[0.0,\"#0d0887\"],[0.1111111111111111,\"#46039f\"],[0.2222222222222222,\"#7201a8\"],[0.3333333333333333,\"#9c179e\"],[0.4444444444444444,\"#bd3786\"],[0.5555555555555556,\"#d8576b\"],[0.6666666666666666,\"#ed7953\"],[0.7777777777777778,\"#fb9f3a\"],[0.8888888888888888,\"#fdca26\"],[1.0,\"#f0f921\"]],\"type\":\"heatmap\"}],\"heatmapgl\":[{\"colorbar\":{\"outlinewidth\":0,\"ticks\":\"\"},\"colorscale\":[[0.0,\"#0d0887\"],[0.1111111111111111,\"#46039f\"],[0.2222222222222222,\"#7201a8\"],[0.3333333333333333,\"#9c179e\"],[0.4444444444444444,\"#bd3786\"],[0.5555555555555556,\"#d8576b\"],[0.6666666666666666,\"#ed7953\"],[0.7777777777777778,\"#fb9f3a\"],[0.8888888888888888,\"#fdca26\"],[1.0,\"#f0f921\"]],\"type\":\"heatmapgl\"}],\"histogram\":[{\"marker\":{\"pattern\":{\"fillmode\":\"overlay\",\"size\":10,\"solidity\":0.2}},\"type\":\"histogram\"}],\"histogram2d\":[{\"colorbar\":{\"outlinewidth\":0,\"ticks\":\"\"},\"colorscale\":[[0.0,\"#0d0887\"],[0.1111111111111111,\"#46039f\"],[0.2222222222222222,\"#7201a8\"],[0.3333333333333333,\"#9c179e\"],[0.4444444444444444,\"#bd3786\"],[0.5555555555555556,\"#d8576b\"],[0.6666666666666666,\"#ed7953\"],[0.7777777777777778,\"#fb9f3a\"],[0.8888888888888888,\"#fdca26\"],[1.0,\"#f0f921\"]],\"type\":\"histogram2d\"}],\"histogram2dcontour\":[{\"colorbar\":{\"outlinewidth\":0,\"ticks\":\"\"},\"colorscale\":[[0.0,\"#0d0887\"],[0.1111111111111111,\"#46039f\"],[0.2222222222222222,\"#7201a8\"],[0.3333333333333333,\"#9c179e\"],[0.4444444444444444,\"#bd3786\"],[0.5555555555555556,\"#d8576b\"],[0.6666666666666666,\"#ed7953\"],[0.7777777777777778,\"#fb9f3a\"],[0.8888888888888888,\"#fdca26\"],[1.0,\"#f0f921\"]],\"type\":\"histogram2dcontour\"}],\"mesh3d\":[{\"colorbar\":{\"outlinewidth\":0,\"ticks\":\"\"},\"type\":\"mesh3d\"}],\"parcoords\":[{\"line\":{\"colorbar\":{\"outlinewidth\":0,\"ticks\":\"\"}},\"type\":\"parcoords\"}],\"pie\":[{\"automargin\":true,\"type\":\"pie\"}],\"scatter\":[{\"marker\":{\"colorbar\":{\"outlinewidth\":0,\"ticks\":\"\"}},\"type\":\"scatter\"}],\"scatter3d\":[{\"line\":{\"colorbar\":{\"outlinewidth\":0,\"ticks\":\"\"}},\"marker\":{\"colorbar\":{\"outlinewidth\":0,\"ticks\":\"\"}},\"type\":\"scatter3d\"}],\"scattercarpet\":[{\"marker\":{\"colorbar\":{\"outlinewidth\":0,\"ticks\":\"\"}},\"type\":\"scattercarpet\"}],\"scattergeo\":[{\"marker\":{\"colorbar\":{\"outlinewidth\":0,\"ticks\":\"\"}},\"type\":\"scattergeo\"}],\"scattergl\":[{\"marker\":{\"colorbar\":{\"outlinewidth\":0,\"ticks\":\"\"}},\"type\":\"scattergl\"}],\"scattermapbox\":[{\"marker\":{\"colorbar\":{\"outlinewidth\":0,\"ticks\":\"\"}},\"type\":\"scattermapbox\"}],\"scatterpolar\":[{\"marker\":{\"colorbar\":{\"outlinewidth\":0,\"ticks\":\"\"}},\"type\":\"scatterpolar\"}],\"scatterpolargl\":[{\"marker\":{\"colorbar\":{\"outlinewidth\":0,\"ticks\":\"\"}},\"type\":\"scatterpolargl\"}],\"scatterternary\":[{\"marker\":{\"colorbar\":{\"outlinewidth\":0,\"ticks\":\"\"}},\"type\":\"scatterternary\"}],\"surface\":[{\"colorbar\":{\"outlinewidth\":0,\"ticks\":\"\"},\"colorscale\":[[0.0,\"#0d0887\"],[0.1111111111111111,\"#46039f\"],[0.2222222222222222,\"#7201a8\"],[0.3333333333333333,\"#9c179e\"],[0.4444444444444444,\"#bd3786\"],[0.5555555555555556,\"#d8576b\"],[0.6666666666666666,\"#ed7953\"],[0.7777777777777778,\"#fb9f3a\"],[0.8888888888888888,\"#fdca26\"],[1.0,\"#f0f921\"]],\"type\":\"surface\"}],\"table\":[{\"cells\":{\"fill\":{\"color\":\"#EBF0F8\"},\"line\":{\"color\":\"white\"}},\"header\":{\"fill\":{\"color\":\"#C8D4E3\"},\"line\":{\"color\":\"white\"}},\"type\":\"table\"}]},\"layout\":{\"annotationdefaults\":{\"arrowcolor\":\"#2a3f5f\",\"arrowhead\":0,\"arrowwidth\":1},\"autotypenumbers\":\"strict\",\"coloraxis\":{\"colorbar\":{\"outlinewidth\":0,\"ticks\":\"\"}},\"colorscale\":{\"diverging\":[[0,\"#8e0152\"],[0.1,\"#c51b7d\"],[0.2,\"#de77ae\"],[0.3,\"#f1b6da\"],[0.4,\"#fde0ef\"],[0.5,\"#f7f7f7\"],[0.6,\"#e6f5d0\"],[0.7,\"#b8e186\"],[0.8,\"#7fbc41\"],[0.9,\"#4d9221\"],[1,\"#276419\"]],\"sequential\":[[0.0,\"#0d0887\"],[0.1111111111111111,\"#46039f\"],[0.2222222222222222,\"#7201a8\"],[0.3333333333333333,\"#9c179e\"],[0.4444444444444444,\"#bd3786\"],[0.5555555555555556,\"#d8576b\"],[0.6666666666666666,\"#ed7953\"],[0.7777777777777778,\"#fb9f3a\"],[0.8888888888888888,\"#fdca26\"],[1.0,\"#f0f921\"]],\"sequentialminus\":[[0.0,\"#0d0887\"],[0.1111111111111111,\"#46039f\"],[0.2222222222222222,\"#7201a8\"],[0.3333333333333333,\"#9c179e\"],[0.4444444444444444,\"#bd3786\"],[0.5555555555555556,\"#d8576b\"],[0.6666666666666666,\"#ed7953\"],[0.7777777777777778,\"#fb9f3a\"],[0.8888888888888888,\"#fdca26\"],[1.0,\"#f0f921\"]]},\"colorway\":[\"#636efa\",\"#EF553B\",\"#00cc96\",\"#ab63fa\",\"#FFA15A\",\"#19d3f3\",\"#FF6692\",\"#B6E880\",\"#FF97FF\",\"#FECB52\"],\"font\":{\"color\":\"#2a3f5f\"},\"geo\":{\"bgcolor\":\"white\",\"lakecolor\":\"white\",\"landcolor\":\"#E5ECF6\",\"showlakes\":true,\"showland\":true,\"subunitcolor\":\"white\"},\"hoverlabel\":{\"align\":\"left\"},\"hovermode\":\"closest\",\"mapbox\":{\"style\":\"light\"},\"paper_bgcolor\":\"white\",\"plot_bgcolor\":\"#E5ECF6\",\"polar\":{\"angularaxis\":{\"gridcolor\":\"white\",\"linecolor\":\"white\",\"ticks\":\"\"},\"bgcolor\":\"#E5ECF6\",\"radialaxis\":{\"gridcolor\":\"white\",\"linecolor\":\"white\",\"ticks\":\"\"}},\"scene\":{\"xaxis\":{\"backgroundcolor\":\"#E5ECF6\",\"gridcolor\":\"white\",\"gridwidth\":2,\"linecolor\":\"white\",\"showbackground\":true,\"ticks\":\"\",\"zerolinecolor\":\"white\"},\"yaxis\":{\"backgroundcolor\":\"#E5ECF6\",\"gridcolor\":\"white\",\"gridwidth\":2,\"linecolor\":\"white\",\"showbackground\":true,\"ticks\":\"\",\"zerolinecolor\":\"white\"},\"zaxis\":{\"backgroundcolor\":\"#E5ECF6\",\"gridcolor\":\"white\",\"gridwidth\":2,\"linecolor\":\"white\",\"showbackground\":true,\"ticks\":\"\",\"zerolinecolor\":\"white\"}},\"shapedefaults\":{\"line\":{\"color\":\"#2a3f5f\"}},\"ternary\":{\"aaxis\":{\"gridcolor\":\"white\",\"linecolor\":\"white\",\"ticks\":\"\"},\"baxis\":{\"gridcolor\":\"white\",\"linecolor\":\"white\",\"ticks\":\"\"},\"bgcolor\":\"#E5ECF6\",\"caxis\":{\"gridcolor\":\"white\",\"linecolor\":\"white\",\"ticks\":\"\"}},\"title\":{\"x\":0.05},\"xaxis\":{\"automargin\":true,\"gridcolor\":\"white\",\"linecolor\":\"white\",\"ticks\":\"\",\"title\":{\"standoff\":15},\"zerolinecolor\":\"white\",\"zerolinewidth\":2},\"yaxis\":{\"automargin\":true,\"gridcolor\":\"white\",\"linecolor\":\"white\",\"ticks\":\"\",\"title\":{\"standoff\":15},\"zerolinecolor\":\"white\",\"zerolinewidth\":2}}},\"xaxis\":{\"anchor\":\"y\",\"domain\":[0.0,1.0],\"title\":{\"text\":\"age\"}},\"yaxis\":{\"anchor\":\"x\",\"domain\":[0.0,1.0],\"title\":{\"text\":\"sum of count\"}},\"legend\":{\"tracegroupgap\":0},\"title\":{\"text\":\"Age Distribution of Covid-19 detected\"},\"barmode\":\"relative\",\"bargap\":0.1},                        {\"responsive\": true}                    ).then(function(){\n",
              "                            \n",
              "var gd = document.getElementById('413f780d-27c2-4deb-b86b-647d857d2134');\n",
              "var x = new MutationObserver(function (mutations, observer) {{\n",
              "        var display = window.getComputedStyle(gd).display;\n",
              "        if (!display || display === 'none') {{\n",
              "            console.log([gd, 'removed!']);\n",
              "            Plotly.purge(gd);\n",
              "            observer.disconnect();\n",
              "        }}\n",
              "}});\n",
              "\n",
              "// Listen for the removal of the full notebook cells\n",
              "var notebookContainer = gd.closest('#notebook-container');\n",
              "if (notebookContainer) {{\n",
              "    x.observe(notebookContainer, {childList: true});\n",
              "}}\n",
              "\n",
              "// Listen for the clearing of the current output cell\n",
              "var outputEl = gd.closest('.output');\n",
              "if (outputEl) {{\n",
              "    x.observe(outputEl, {childList: true});\n",
              "}}\n",
              "\n",
              "                        })                };                            </script>        </div>\n",
              "</body>\n",
              "</html>"
            ]
          },
          "metadata": {}
        }
      ]
    },
    {
      "cell_type": "markdown",
      "source": [
        "- ผู้ติดเชื้อที่มีอายุน้อยที่สุดคือ น้อยกว่าหรือเท่ากับ 1 ปี\n",
        "- ผู้ติดเชื้อที่มีอายุมากที่สุดคือ 118 ปี\n",
        "- ค่าเฉลี่ยของอายุอยู่ที่ 55.26 ปี\n",
        "- ค่า standard deviation คือ 32.97\n",
        "- การกระจายตัวของข้อมูลในแต่ละช่วงอายุมีลักษณะเป็น positive skew\n",
        "- จำนวนผู้ติดเชื้อมีความหนาแน่นที่สุดในช่วงอายุประมาณ 20-40 ปี ซึ่งเป็นวัยทำงาน ซึ่งอาจจะต้องมีการเดินทางและมีโอกาสพบปะชุมชนสูง\n",
        "- การกระจายตัวของข้อมูลในแต่ละช่วงอายุของเพศชายและเพศหญิง ไม่แตกต่างกัน"
      ],
      "metadata": {
        "id": "tp8XlQ7aN6yV"
      }
    },
    {
      "cell_type": "code",
      "source": [
        "covid_nation.sort_values('count', ascending = False).head(10)"
      ],
      "metadata": {
        "colab": {
          "base_uri": "https://localhost:8080/",
          "height": 363
        },
        "id": "XVioH1QHONRr",
        "outputId": "32f2e939-1f01-4bb3-9aee-2666c2e35e45"
      },
      "execution_count": null,
      "outputs": [
        {
          "output_type": "execute_result",
          "data": {
            "text/plain": [
              "           nationality    count    percent\n",
              "226               thai  2719792  92.267714\n",
              "38             burmese   152161   5.161993\n",
              "39           cambodian    39637   1.344667\n",
              "129      laotian / lao     9762   0.331171\n",
              "191            russian     3581   0.121484\n",
              "44             chinese     2089   0.070868\n",
              "30   british / english     1528   0.051837\n",
              "81              german     1264   0.042881\n",
              "7             american     1235   0.041897\n",
              "76              french     1224   0.041524"
            ],
            "text/html": [
              "\n",
              "  <div id=\"df-d33e8e34-17b4-4ec9-b95b-905824de8729\">\n",
              "    <div class=\"colab-df-container\">\n",
              "      <div>\n",
              "<style scoped>\n",
              "    .dataframe tbody tr th:only-of-type {\n",
              "        vertical-align: middle;\n",
              "    }\n",
              "\n",
              "    .dataframe tbody tr th {\n",
              "        vertical-align: top;\n",
              "    }\n",
              "\n",
              "    .dataframe thead th {\n",
              "        text-align: right;\n",
              "    }\n",
              "</style>\n",
              "<table border=\"1\" class=\"dataframe\">\n",
              "  <thead>\n",
              "    <tr style=\"text-align: right;\">\n",
              "      <th></th>\n",
              "      <th>nationality</th>\n",
              "      <th>count</th>\n",
              "      <th>percent</th>\n",
              "    </tr>\n",
              "  </thead>\n",
              "  <tbody>\n",
              "    <tr>\n",
              "      <th>226</th>\n",
              "      <td>thai</td>\n",
              "      <td>2719792</td>\n",
              "      <td>92.267714</td>\n",
              "    </tr>\n",
              "    <tr>\n",
              "      <th>38</th>\n",
              "      <td>burmese</td>\n",
              "      <td>152161</td>\n",
              "      <td>5.161993</td>\n",
              "    </tr>\n",
              "    <tr>\n",
              "      <th>39</th>\n",
              "      <td>cambodian</td>\n",
              "      <td>39637</td>\n",
              "      <td>1.344667</td>\n",
              "    </tr>\n",
              "    <tr>\n",
              "      <th>129</th>\n",
              "      <td>laotian / lao</td>\n",
              "      <td>9762</td>\n",
              "      <td>0.331171</td>\n",
              "    </tr>\n",
              "    <tr>\n",
              "      <th>191</th>\n",
              "      <td>russian</td>\n",
              "      <td>3581</td>\n",
              "      <td>0.121484</td>\n",
              "    </tr>\n",
              "    <tr>\n",
              "      <th>44</th>\n",
              "      <td>chinese</td>\n",
              "      <td>2089</td>\n",
              "      <td>0.070868</td>\n",
              "    </tr>\n",
              "    <tr>\n",
              "      <th>30</th>\n",
              "      <td>british / english</td>\n",
              "      <td>1528</td>\n",
              "      <td>0.051837</td>\n",
              "    </tr>\n",
              "    <tr>\n",
              "      <th>81</th>\n",
              "      <td>german</td>\n",
              "      <td>1264</td>\n",
              "      <td>0.042881</td>\n",
              "    </tr>\n",
              "    <tr>\n",
              "      <th>7</th>\n",
              "      <td>american</td>\n",
              "      <td>1235</td>\n",
              "      <td>0.041897</td>\n",
              "    </tr>\n",
              "    <tr>\n",
              "      <th>76</th>\n",
              "      <td>french</td>\n",
              "      <td>1224</td>\n",
              "      <td>0.041524</td>\n",
              "    </tr>\n",
              "  </tbody>\n",
              "</table>\n",
              "</div>\n",
              "      <button class=\"colab-df-convert\" onclick=\"convertToInteractive('df-d33e8e34-17b4-4ec9-b95b-905824de8729')\"\n",
              "              title=\"Convert this dataframe to an interactive table.\"\n",
              "              style=\"display:none;\">\n",
              "        \n",
              "  <svg xmlns=\"http://www.w3.org/2000/svg\" height=\"24px\"viewBox=\"0 0 24 24\"\n",
              "       width=\"24px\">\n",
              "    <path d=\"M0 0h24v24H0V0z\" fill=\"none\"/>\n",
              "    <path d=\"M18.56 5.44l.94 2.06.94-2.06 2.06-.94-2.06-.94-.94-2.06-.94 2.06-2.06.94zm-11 1L8.5 8.5l.94-2.06 2.06-.94-2.06-.94L8.5 2.5l-.94 2.06-2.06.94zm10 10l.94 2.06.94-2.06 2.06-.94-2.06-.94-.94-2.06-.94 2.06-2.06.94z\"/><path d=\"M17.41 7.96l-1.37-1.37c-.4-.4-.92-.59-1.43-.59-.52 0-1.04.2-1.43.59L10.3 9.45l-7.72 7.72c-.78.78-.78 2.05 0 2.83L4 21.41c.39.39.9.59 1.41.59.51 0 1.02-.2 1.41-.59l7.78-7.78 2.81-2.81c.8-.78.8-2.07 0-2.86zM5.41 20L4 18.59l7.72-7.72 1.47 1.35L5.41 20z\"/>\n",
              "  </svg>\n",
              "      </button>\n",
              "      \n",
              "  <style>\n",
              "    .colab-df-container {\n",
              "      display:flex;\n",
              "      flex-wrap:wrap;\n",
              "      gap: 12px;\n",
              "    }\n",
              "\n",
              "    .colab-df-convert {\n",
              "      background-color: #E8F0FE;\n",
              "      border: none;\n",
              "      border-radius: 50%;\n",
              "      cursor: pointer;\n",
              "      display: none;\n",
              "      fill: #1967D2;\n",
              "      height: 32px;\n",
              "      padding: 0 0 0 0;\n",
              "      width: 32px;\n",
              "    }\n",
              "\n",
              "    .colab-df-convert:hover {\n",
              "      background-color: #E2EBFA;\n",
              "      box-shadow: 0px 1px 2px rgba(60, 64, 67, 0.3), 0px 1px 3px 1px rgba(60, 64, 67, 0.15);\n",
              "      fill: #174EA6;\n",
              "    }\n",
              "\n",
              "    [theme=dark] .colab-df-convert {\n",
              "      background-color: #3B4455;\n",
              "      fill: #D2E3FC;\n",
              "    }\n",
              "\n",
              "    [theme=dark] .colab-df-convert:hover {\n",
              "      background-color: #434B5C;\n",
              "      box-shadow: 0px 1px 3px 1px rgba(0, 0, 0, 0.15);\n",
              "      filter: drop-shadow(0px 1px 2px rgba(0, 0, 0, 0.3));\n",
              "      fill: #FFFFFF;\n",
              "    }\n",
              "  </style>\n",
              "\n",
              "      <script>\n",
              "        const buttonEl =\n",
              "          document.querySelector('#df-d33e8e34-17b4-4ec9-b95b-905824de8729 button.colab-df-convert');\n",
              "        buttonEl.style.display =\n",
              "          google.colab.kernel.accessAllowed ? 'block' : 'none';\n",
              "\n",
              "        async function convertToInteractive(key) {\n",
              "          const element = document.querySelector('#df-d33e8e34-17b4-4ec9-b95b-905824de8729');\n",
              "          const dataTable =\n",
              "            await google.colab.kernel.invokeFunction('convertToInteractive',\n",
              "                                                     [key], {});\n",
              "          if (!dataTable) return;\n",
              "\n",
              "          const docLinkHtml = 'Like what you see? Visit the ' +\n",
              "            '<a target=\"_blank\" href=https://colab.research.google.com/notebooks/data_table.ipynb>data table notebook</a>'\n",
              "            + ' to learn more about interactive tables.';\n",
              "          element.innerHTML = '';\n",
              "          dataTable['output_type'] = 'display_data';\n",
              "          await google.colab.output.renderOutput(dataTable, element);\n",
              "          const docLink = document.createElement('div');\n",
              "          docLink.innerHTML = docLinkHtml;\n",
              "          element.appendChild(docLink);\n",
              "        }\n",
              "      </script>\n",
              "    </div>\n",
              "  </div>\n",
              "  "
            ]
          },
          "metadata": {},
          "execution_count": 431
        }
      ]
    },
    {
      "cell_type": "markdown",
      "source": [
        "- ในส่วนของเชื้อชาติที่มีการติดเชื้อมากที่สุดคือ คนไทย ที่จำนวน 2719792 คน คิดเป็นสัดส่วนประมาณ 92%\n",
        "- รองลงมาเป็นชาวพม่า กัมพูชา และลาว ซึ่งเป็นบุคคลจากประเทศเพื่อนบ้าน ซึ่งน่าจะเป็นคนที่เข้ามาทำงานในประเทศไทย\n",
        "- ในส่วนของชาวต่างชาติที่เป็นนักท่องเที่ยวนั้น คิดเป็นสัดส่วนค่อนข้างน้อย"
      ],
      "metadata": {
        "id": "IMocLCqPQpSB"
      }
    },
    {
      "cell_type": "markdown",
      "source": [
        "## Geographic Insights"
      ],
      "metadata": {
        "id": "pZKFkTNZRQ87"
      }
    },
    {
      "cell_type": "code",
      "source": [
        "covid_iso10"
      ],
      "metadata": {
        "colab": {
          "base_uri": "https://localhost:8080/",
          "height": 363
        },
        "id": "1LphMHsFS2JL",
        "outputId": "7edc1d38-1237-4d09-cd4a-fa801884c99d"
      },
      "execution_count": null,
      "outputs": [
        {
          "output_type": "execute_result",
          "data": {
            "text/plain": [
              "  province_of_isolation   count    percent\n",
              "0         กรุงเทพมหานคร  614764  19.052424\n",
              "1           สมุทรปราการ  194725   6.034809\n",
              "2                ชลบุรี  173656   5.381850\n",
              "3             สมุทรสาคร  137175   4.251251\n",
              "4               นนทบุรี  109449   3.391983\n",
              "5         นครศรีธรรมราช   83217   2.579015\n",
              "6                 สงขลา   79692   2.469770\n",
              "7              ปทุมธานี   66620   2.064650\n",
              "8                 ระยอง   66606   2.064216\n",
              "9               ราชบุรี   64473   1.998111"
            ],
            "text/html": [
              "\n",
              "  <div id=\"df-0d416bb2-c973-4ef5-a4c6-3ed27136162a\">\n",
              "    <div class=\"colab-df-container\">\n",
              "      <div>\n",
              "<style scoped>\n",
              "    .dataframe tbody tr th:only-of-type {\n",
              "        vertical-align: middle;\n",
              "    }\n",
              "\n",
              "    .dataframe tbody tr th {\n",
              "        vertical-align: top;\n",
              "    }\n",
              "\n",
              "    .dataframe thead th {\n",
              "        text-align: right;\n",
              "    }\n",
              "</style>\n",
              "<table border=\"1\" class=\"dataframe\">\n",
              "  <thead>\n",
              "    <tr style=\"text-align: right;\">\n",
              "      <th></th>\n",
              "      <th>province_of_isolation</th>\n",
              "      <th>count</th>\n",
              "      <th>percent</th>\n",
              "    </tr>\n",
              "  </thead>\n",
              "  <tbody>\n",
              "    <tr>\n",
              "      <th>0</th>\n",
              "      <td>กรุงเทพมหานคร</td>\n",
              "      <td>614764</td>\n",
              "      <td>19.052424</td>\n",
              "    </tr>\n",
              "    <tr>\n",
              "      <th>1</th>\n",
              "      <td>สมุทรปราการ</td>\n",
              "      <td>194725</td>\n",
              "      <td>6.034809</td>\n",
              "    </tr>\n",
              "    <tr>\n",
              "      <th>2</th>\n",
              "      <td>ชลบุรี</td>\n",
              "      <td>173656</td>\n",
              "      <td>5.381850</td>\n",
              "    </tr>\n",
              "    <tr>\n",
              "      <th>3</th>\n",
              "      <td>สมุทรสาคร</td>\n",
              "      <td>137175</td>\n",
              "      <td>4.251251</td>\n",
              "    </tr>\n",
              "    <tr>\n",
              "      <th>4</th>\n",
              "      <td>นนทบุรี</td>\n",
              "      <td>109449</td>\n",
              "      <td>3.391983</td>\n",
              "    </tr>\n",
              "    <tr>\n",
              "      <th>5</th>\n",
              "      <td>นครศรีธรรมราช</td>\n",
              "      <td>83217</td>\n",
              "      <td>2.579015</td>\n",
              "    </tr>\n",
              "    <tr>\n",
              "      <th>6</th>\n",
              "      <td>สงขลา</td>\n",
              "      <td>79692</td>\n",
              "      <td>2.469770</td>\n",
              "    </tr>\n",
              "    <tr>\n",
              "      <th>7</th>\n",
              "      <td>ปทุมธานี</td>\n",
              "      <td>66620</td>\n",
              "      <td>2.064650</td>\n",
              "    </tr>\n",
              "    <tr>\n",
              "      <th>8</th>\n",
              "      <td>ระยอง</td>\n",
              "      <td>66606</td>\n",
              "      <td>2.064216</td>\n",
              "    </tr>\n",
              "    <tr>\n",
              "      <th>9</th>\n",
              "      <td>ราชบุรี</td>\n",
              "      <td>64473</td>\n",
              "      <td>1.998111</td>\n",
              "    </tr>\n",
              "  </tbody>\n",
              "</table>\n",
              "</div>\n",
              "      <button class=\"colab-df-convert\" onclick=\"convertToInteractive('df-0d416bb2-c973-4ef5-a4c6-3ed27136162a')\"\n",
              "              title=\"Convert this dataframe to an interactive table.\"\n",
              "              style=\"display:none;\">\n",
              "        \n",
              "  <svg xmlns=\"http://www.w3.org/2000/svg\" height=\"24px\"viewBox=\"0 0 24 24\"\n",
              "       width=\"24px\">\n",
              "    <path d=\"M0 0h24v24H0V0z\" fill=\"none\"/>\n",
              "    <path d=\"M18.56 5.44l.94 2.06.94-2.06 2.06-.94-2.06-.94-.94-2.06-.94 2.06-2.06.94zm-11 1L8.5 8.5l.94-2.06 2.06-.94-2.06-.94L8.5 2.5l-.94 2.06-2.06.94zm10 10l.94 2.06.94-2.06 2.06-.94-2.06-.94-.94-2.06-.94 2.06-2.06.94z\"/><path d=\"M17.41 7.96l-1.37-1.37c-.4-.4-.92-.59-1.43-.59-.52 0-1.04.2-1.43.59L10.3 9.45l-7.72 7.72c-.78.78-.78 2.05 0 2.83L4 21.41c.39.39.9.59 1.41.59.51 0 1.02-.2 1.41-.59l7.78-7.78 2.81-2.81c.8-.78.8-2.07 0-2.86zM5.41 20L4 18.59l7.72-7.72 1.47 1.35L5.41 20z\"/>\n",
              "  </svg>\n",
              "      </button>\n",
              "      \n",
              "  <style>\n",
              "    .colab-df-container {\n",
              "      display:flex;\n",
              "      flex-wrap:wrap;\n",
              "      gap: 12px;\n",
              "    }\n",
              "\n",
              "    .colab-df-convert {\n",
              "      background-color: #E8F0FE;\n",
              "      border: none;\n",
              "      border-radius: 50%;\n",
              "      cursor: pointer;\n",
              "      display: none;\n",
              "      fill: #1967D2;\n",
              "      height: 32px;\n",
              "      padding: 0 0 0 0;\n",
              "      width: 32px;\n",
              "    }\n",
              "\n",
              "    .colab-df-convert:hover {\n",
              "      background-color: #E2EBFA;\n",
              "      box-shadow: 0px 1px 2px rgba(60, 64, 67, 0.3), 0px 1px 3px 1px rgba(60, 64, 67, 0.15);\n",
              "      fill: #174EA6;\n",
              "    }\n",
              "\n",
              "    [theme=dark] .colab-df-convert {\n",
              "      background-color: #3B4455;\n",
              "      fill: #D2E3FC;\n",
              "    }\n",
              "\n",
              "    [theme=dark] .colab-df-convert:hover {\n",
              "      background-color: #434B5C;\n",
              "      box-shadow: 0px 1px 3px 1px rgba(0, 0, 0, 0.15);\n",
              "      filter: drop-shadow(0px 1px 2px rgba(0, 0, 0, 0.3));\n",
              "      fill: #FFFFFF;\n",
              "    }\n",
              "  </style>\n",
              "\n",
              "      <script>\n",
              "        const buttonEl =\n",
              "          document.querySelector('#df-0d416bb2-c973-4ef5-a4c6-3ed27136162a button.colab-df-convert');\n",
              "        buttonEl.style.display =\n",
              "          google.colab.kernel.accessAllowed ? 'block' : 'none';\n",
              "\n",
              "        async function convertToInteractive(key) {\n",
              "          const element = document.querySelector('#df-0d416bb2-c973-4ef5-a4c6-3ed27136162a');\n",
              "          const dataTable =\n",
              "            await google.colab.kernel.invokeFunction('convertToInteractive',\n",
              "                                                     [key], {});\n",
              "          if (!dataTable) return;\n",
              "\n",
              "          const docLinkHtml = 'Like what you see? Visit the ' +\n",
              "            '<a target=\"_blank\" href=https://colab.research.google.com/notebooks/data_table.ipynb>data table notebook</a>'\n",
              "            + ' to learn more about interactive tables.';\n",
              "          element.innerHTML = '';\n",
              "          dataTable['output_type'] = 'display_data';\n",
              "          await google.colab.output.renderOutput(dataTable, element);\n",
              "          const docLink = document.createElement('div');\n",
              "          docLink.innerHTML = docLinkHtml;\n",
              "          element.appendChild(docLink);\n",
              "        }\n",
              "      </script>\n",
              "    </div>\n",
              "  </div>\n",
              "  "
            ]
          },
          "metadata": {},
          "execution_count": 434
        }
      ]
    },
    {
      "cell_type": "markdown",
      "source": [
        "- จังหวัดที่มีจำนวนผู้ติดเชื้อมากที่สุด 10 อันดับแรก จากในข้อมูลทั้งสองชุด จะเห็นว่า จังหวัดที่มีจำนวนผู้ติดเชื้อที่เริ่มแสดงอาการและพักรักษาตัวเหมือนกันใน 5 อันดับแรก คือ \n",
        "1.   กรุงเทพมหานคร\n",
        "2.   สมุทรปราการ\n",
        "3.   ชลบุรี\n",
        "4.   สมุทรสาคร\n",
        "5.   นนทบุรี\n",
        "- จากข้อมูลพบว่า 5 อันดับแรกซึ่งคิดเป็นเปอเซ็นต์ค่อนข้างสูงจากผู้ติดเชื้อทั้งหมด ถ้าไม่นับชลบุรี จะเป็น กรุงเทพและจังหวัดปริมณฑลทั้งหมด\n",
        "- และจากข้อมูล เมื่อผู้ติดเชื้อเริ่มมีการแสดงอาการป่วยที่จังหวัดใด ส่วนใหญ่ก็จะทำการพักรักษาตัวในสถานพยาบาลหรือในที่พัก ที่จังหวัดนั้นๆ"
      ],
      "metadata": {
        "id": "CaOr_DEfRlDs"
      }
    },
    {
      "cell_type": "code",
      "source": [
        "covid_risk.head(10)"
      ],
      "metadata": {
        "colab": {
          "base_uri": "https://localhost:8080/",
          "height": 363
        },
        "id": "xT5K7s1oTOsP",
        "outputId": "ffff6740-c7ab-4050-b0b2-a1dbeabd38ad"
      },
      "execution_count": null,
      "outputs": [
        {
          "output_type": "execute_result",
          "data": {
            "text/plain": [
              "                                               risk    count    percent\n",
              "0       สัมผัสใกล้ชิดกับผู้ป่วยยืนยันรายก่อนหน้านี้  1365955  42.332918\n",
              "1                                             อื่นๆ   924429  28.649390\n",
              "2                              อยู่ระหว่างการสอบสวน   285822   8.858037\n",
              "3  การค้นหาผู้ป่วยเชิงรุกและค้นหาผู้ติดเชื้อในชุมชน   250966   7.777799\n",
              "4                                  ทัณฑสถาน/เรือนจำ    92800   2.876006\n",
              "5                                      สถานที่ทำงาน    90437   2.802773\n",
              "6     ไปสถานที่ชุมชน เช่น ตลาดนัด สถานที่ท่องเที่ยว    76103   2.358542\n",
              "7                                        ระบุไม่ได้    35523   1.100909\n",
              "8                   บุคลากรด้านการแพทย์และสาธารณสุข    19203   0.595129\n",
              "9                                 cluster สมุทรสาคร    17900   0.554747"
            ],
            "text/html": [
              "\n",
              "  <div id=\"df-5c977975-15d8-4798-8075-5184004ab12e\">\n",
              "    <div class=\"colab-df-container\">\n",
              "      <div>\n",
              "<style scoped>\n",
              "    .dataframe tbody tr th:only-of-type {\n",
              "        vertical-align: middle;\n",
              "    }\n",
              "\n",
              "    .dataframe tbody tr th {\n",
              "        vertical-align: top;\n",
              "    }\n",
              "\n",
              "    .dataframe thead th {\n",
              "        text-align: right;\n",
              "    }\n",
              "</style>\n",
              "<table border=\"1\" class=\"dataframe\">\n",
              "  <thead>\n",
              "    <tr style=\"text-align: right;\">\n",
              "      <th></th>\n",
              "      <th>risk</th>\n",
              "      <th>count</th>\n",
              "      <th>percent</th>\n",
              "    </tr>\n",
              "  </thead>\n",
              "  <tbody>\n",
              "    <tr>\n",
              "      <th>0</th>\n",
              "      <td>สัมผัสใกล้ชิดกับผู้ป่วยยืนยันรายก่อนหน้านี้</td>\n",
              "      <td>1365955</td>\n",
              "      <td>42.332918</td>\n",
              "    </tr>\n",
              "    <tr>\n",
              "      <th>1</th>\n",
              "      <td>อื่นๆ</td>\n",
              "      <td>924429</td>\n",
              "      <td>28.649390</td>\n",
              "    </tr>\n",
              "    <tr>\n",
              "      <th>2</th>\n",
              "      <td>อยู่ระหว่างการสอบสวน</td>\n",
              "      <td>285822</td>\n",
              "      <td>8.858037</td>\n",
              "    </tr>\n",
              "    <tr>\n",
              "      <th>3</th>\n",
              "      <td>การค้นหาผู้ป่วยเชิงรุกและค้นหาผู้ติดเชื้อในชุมชน</td>\n",
              "      <td>250966</td>\n",
              "      <td>7.777799</td>\n",
              "    </tr>\n",
              "    <tr>\n",
              "      <th>4</th>\n",
              "      <td>ทัณฑสถาน/เรือนจำ</td>\n",
              "      <td>92800</td>\n",
              "      <td>2.876006</td>\n",
              "    </tr>\n",
              "    <tr>\n",
              "      <th>5</th>\n",
              "      <td>สถานที่ทำงาน</td>\n",
              "      <td>90437</td>\n",
              "      <td>2.802773</td>\n",
              "    </tr>\n",
              "    <tr>\n",
              "      <th>6</th>\n",
              "      <td>ไปสถานที่ชุมชน เช่น ตลาดนัด สถานที่ท่องเที่ยว</td>\n",
              "      <td>76103</td>\n",
              "      <td>2.358542</td>\n",
              "    </tr>\n",
              "    <tr>\n",
              "      <th>7</th>\n",
              "      <td>ระบุไม่ได้</td>\n",
              "      <td>35523</td>\n",
              "      <td>1.100909</td>\n",
              "    </tr>\n",
              "    <tr>\n",
              "      <th>8</th>\n",
              "      <td>บุคลากรด้านการแพทย์และสาธารณสุข</td>\n",
              "      <td>19203</td>\n",
              "      <td>0.595129</td>\n",
              "    </tr>\n",
              "    <tr>\n",
              "      <th>9</th>\n",
              "      <td>cluster สมุทรสาคร</td>\n",
              "      <td>17900</td>\n",
              "      <td>0.554747</td>\n",
              "    </tr>\n",
              "  </tbody>\n",
              "</table>\n",
              "</div>\n",
              "      <button class=\"colab-df-convert\" onclick=\"convertToInteractive('df-5c977975-15d8-4798-8075-5184004ab12e')\"\n",
              "              title=\"Convert this dataframe to an interactive table.\"\n",
              "              style=\"display:none;\">\n",
              "        \n",
              "  <svg xmlns=\"http://www.w3.org/2000/svg\" height=\"24px\"viewBox=\"0 0 24 24\"\n",
              "       width=\"24px\">\n",
              "    <path d=\"M0 0h24v24H0V0z\" fill=\"none\"/>\n",
              "    <path d=\"M18.56 5.44l.94 2.06.94-2.06 2.06-.94-2.06-.94-.94-2.06-.94 2.06-2.06.94zm-11 1L8.5 8.5l.94-2.06 2.06-.94-2.06-.94L8.5 2.5l-.94 2.06-2.06.94zm10 10l.94 2.06.94-2.06 2.06-.94-2.06-.94-.94-2.06-.94 2.06-2.06.94z\"/><path d=\"M17.41 7.96l-1.37-1.37c-.4-.4-.92-.59-1.43-.59-.52 0-1.04.2-1.43.59L10.3 9.45l-7.72 7.72c-.78.78-.78 2.05 0 2.83L4 21.41c.39.39.9.59 1.41.59.51 0 1.02-.2 1.41-.59l7.78-7.78 2.81-2.81c.8-.78.8-2.07 0-2.86zM5.41 20L4 18.59l7.72-7.72 1.47 1.35L5.41 20z\"/>\n",
              "  </svg>\n",
              "      </button>\n",
              "      \n",
              "  <style>\n",
              "    .colab-df-container {\n",
              "      display:flex;\n",
              "      flex-wrap:wrap;\n",
              "      gap: 12px;\n",
              "    }\n",
              "\n",
              "    .colab-df-convert {\n",
              "      background-color: #E8F0FE;\n",
              "      border: none;\n",
              "      border-radius: 50%;\n",
              "      cursor: pointer;\n",
              "      display: none;\n",
              "      fill: #1967D2;\n",
              "      height: 32px;\n",
              "      padding: 0 0 0 0;\n",
              "      width: 32px;\n",
              "    }\n",
              "\n",
              "    .colab-df-convert:hover {\n",
              "      background-color: #E2EBFA;\n",
              "      box-shadow: 0px 1px 2px rgba(60, 64, 67, 0.3), 0px 1px 3px 1px rgba(60, 64, 67, 0.15);\n",
              "      fill: #174EA6;\n",
              "    }\n",
              "\n",
              "    [theme=dark] .colab-df-convert {\n",
              "      background-color: #3B4455;\n",
              "      fill: #D2E3FC;\n",
              "    }\n",
              "\n",
              "    [theme=dark] .colab-df-convert:hover {\n",
              "      background-color: #434B5C;\n",
              "      box-shadow: 0px 1px 3px 1px rgba(0, 0, 0, 0.15);\n",
              "      filter: drop-shadow(0px 1px 2px rgba(0, 0, 0, 0.3));\n",
              "      fill: #FFFFFF;\n",
              "    }\n",
              "  </style>\n",
              "\n",
              "      <script>\n",
              "        const buttonEl =\n",
              "          document.querySelector('#df-5c977975-15d8-4798-8075-5184004ab12e button.colab-df-convert');\n",
              "        buttonEl.style.display =\n",
              "          google.colab.kernel.accessAllowed ? 'block' : 'none';\n",
              "\n",
              "        async function convertToInteractive(key) {\n",
              "          const element = document.querySelector('#df-5c977975-15d8-4798-8075-5184004ab12e');\n",
              "          const dataTable =\n",
              "            await google.colab.kernel.invokeFunction('convertToInteractive',\n",
              "                                                     [key], {});\n",
              "          if (!dataTable) return;\n",
              "\n",
              "          const docLinkHtml = 'Like what you see? Visit the ' +\n",
              "            '<a target=\"_blank\" href=https://colab.research.google.com/notebooks/data_table.ipynb>data table notebook</a>'\n",
              "            + ' to learn more about interactive tables.';\n",
              "          element.innerHTML = '';\n",
              "          dataTable['output_type'] = 'display_data';\n",
              "          await google.colab.output.renderOutput(dataTable, element);\n",
              "          const docLink = document.createElement('div');\n",
              "          docLink.innerHTML = docLinkHtml;\n",
              "          element.appendChild(docLink);\n",
              "        }\n",
              "      </script>\n",
              "    </div>\n",
              "  </div>\n",
              "  "
            ]
          },
          "metadata": {},
          "execution_count": 435
        }
      ]
    },
    {
      "cell_type": "markdown",
      "source": [
        "- จากข้อมูล 10 อันดับความเสี่ยงหรือพื้นที่เสี่ยงที่ผู้ติดเชื้อได้รับเชื้อมา กว่า 42% เป็นการรับเชื้อต่อๆกันมาจากผู้ที่ติดเชื้อคนก่อนหน้า\n",
        "- สถานที่ที่คนติดเชื้อกันมากที่สุดคือตามชุมชน ซึ่งตรวจพบจากการค้นหาเชิงรุก คิดเป็นสัดส่วน 7.77%\n",
        "- รองลงมาคือ เรือนจำ สถานที่ทำงาน สถานที่ชุมชนต่างๆ ตามลำดับ คิดเป็นสัดส่วนประมาณ 2%\n",
        "- บุคลากรด้านการแพทย์และสาธารณสุข มีสัดส่วนการติดเชื้อเพียง 0.59% แต่ก็เป็นจำนวนมากถึง 19203 คน เนื่องจากการเผชิญกับผู้ติดเชื้อต่อวันค่อนข้างมาก"
      ],
      "metadata": {
        "id": "0Rj8OJWqR2uz"
      }
    }
  ]
}